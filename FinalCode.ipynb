{
  "cells": [
    {
      "cell_type": "markdown",
      "metadata": {
        "id": "giu0YCRLMnGP"
      },
      "source": [
        "# **Final Project**\n",
        "### Machine Learning Applications\n",
        "\n",
        "---\n",
        "\n",
        "**Marta Balairón García 100451724**\n",
        "\n",
        "**Gracia Estrán Buyo 100452014**\n",
        "\n",
        "**Marta Almagro Fuello 100451979**\n",
        "\n",
        "\n",
        "---"
      ]
    },
    {
      "cell_type": "markdown",
      "metadata": {
        "id": "wov1xMHUMxVK"
      },
      "source": [
        "## **1. Task 1: Text Preprocessing and vectorization**\n",
        "\n",
        "---"
      ]
    },
    {
      "cell_type": "markdown",
      "metadata": {
        "id": "34oVw0FcNEHq"
      },
      "source": [
        "Upload the dataset from Google Drive created before and import the necessary libraries:"
      ]
    },
    {
      "cell_type": "code",
      "execution_count": 1,
      "metadata": {
        "colab": {
          "base_uri": "https://localhost:8080/"
        },
        "id": "OnG9Ux-0NCz_",
        "outputId": "a6296fa2-9294-4755-f594-4fe78760a8e6"
      },
      "outputs": [
        {
          "output_type": "stream",
          "name": "stdout",
          "text": [
            "Mounted at /content/drive\n"
          ]
        }
      ],
      "source": [
        "import pandas as pd\n",
        "import numpy as np\n",
        "import pickle\n",
        "import re\n",
        "import os\n",
        "import seaborn as sns\n",
        "import matplotlib.pyplot as plt\n",
        "import gensim\n",
        "\n",
        "from gensim.models.phrases import Phrases\n",
        "from gensim.corpora import Dictionary\n",
        "from gensim.models import TfidfModel\n",
        "from gensim.matutils import corpus2dense, corpus2csc\n",
        "from gensim.models import Word2Vec\n",
        "from gensim.models import KeyedVectors\n",
        "from gensim.models import FastText\n",
        "from gensim.models.doc2vec import Doc2Vec, TaggedDocument\n",
        "\n",
        "from sklearn.feature_extraction.text import CountVectorizer, TfidfVectorizer\n",
        "from sklearn.model_selection import train_test_split, GridSearchCV\n",
        "from sklearn.svm import SVC\n",
        "from sklearn.metrics import r2_score, accuracy_score\n",
        "from sklearn.manifold import TSNE\n",
        "from sklearn.naive_bayes import MultinomialNB \n",
        "from sklearn.linear_model import LogisticRegression\n",
        "\n",
        "from google.colab import drive\n",
        "\n",
        "drive.mount('/content/drive')\n",
        "\n",
        "# MARTA ALMG\n",
        "# Change to assignment directory \n",
        "# os.chdir('/content/drive/My Drive/AML') \n",
        "\n",
        "# with open('/content/drive/My Drive/AML/Biblia/Dataset.pkl', 'rb') as f:\n",
        "#     dataset = pickle.load(f)\n",
        "\n",
        "# MARTA BALAIRON\n",
        "#drive.mount('/content/drive')\n",
        "#path = '/content/drive/My Drive/Colab Notebooks/machine learning final project/Dataset.pkl'\n",
        "#with open(path, 'rb') as f:\n",
        "   #dataset = pickle.load(f)\n",
        "\n",
        "# GRACIA\n",
        "path = '/content/drive/My Drive/ColabNotebooks/MLapps/project/Dataset.pkl'\n",
        "with open(path, 'rb') as f:\n",
        "    dataset = pickle.load(f)\n"
      ]
    },
    {
      "cell_type": "code",
      "execution_count": 2,
      "metadata": {
        "colab": {
          "base_uri": "https://localhost:8080/",
          "height": 206
        },
        "id": "iCixTt5JWCfI",
        "outputId": "f763f4a0-a8fc-4f4a-e8bd-9ef00e57f994"
      },
      "outputs": [
        {
          "output_type": "execute_result",
          "data": {
            "text/plain": [
              "      Chapter   Book Testament  \\\n",
              "0  Capítulo 1  exodo       Old   \n",
              "1  Capítulo 2  exodo       Old   \n",
              "2  Capítulo 3  exodo       Old   \n",
              "3  Capítulo 4  exodo       Old   \n",
              "4  Capítulo 5  exodo       Old   \n",
              "\n",
              "                                                Text  \n",
              "0   Aflicción de los israelitas en Egipto 1:1 Est...  \n",
              "1   Nacimiento de Moisés é2:1 Un varón de la fami...  \n",
              "2   Llamamiento de Moisésé3:1 Apacentando Moisés ...  \n",
              "3    é4:1 Entonces Moisés respondió diciendo: He ...  \n",
              "4   Moisés y Aarón ante Faraón é5:1 Después Moisé...  "
            ],
            "text/html": [
              "\n",
              "  <div id=\"df-4a96201d-6140-4e93-90ba-201add189d7d\">\n",
              "    <div class=\"colab-df-container\">\n",
              "      <div>\n",
              "<style scoped>\n",
              "    .dataframe tbody tr th:only-of-type {\n",
              "        vertical-align: middle;\n",
              "    }\n",
              "\n",
              "    .dataframe tbody tr th {\n",
              "        vertical-align: top;\n",
              "    }\n",
              "\n",
              "    .dataframe thead th {\n",
              "        text-align: right;\n",
              "    }\n",
              "</style>\n",
              "<table border=\"1\" class=\"dataframe\">\n",
              "  <thead>\n",
              "    <tr style=\"text-align: right;\">\n",
              "      <th></th>\n",
              "      <th>Chapter</th>\n",
              "      <th>Book</th>\n",
              "      <th>Testament</th>\n",
              "      <th>Text</th>\n",
              "    </tr>\n",
              "  </thead>\n",
              "  <tbody>\n",
              "    <tr>\n",
              "      <th>0</th>\n",
              "      <td>Capítulo 1</td>\n",
              "      <td>exodo</td>\n",
              "      <td>Old</td>\n",
              "      <td>Aflicción de los israelitas en Egipto 1:1 Est...</td>\n",
              "    </tr>\n",
              "    <tr>\n",
              "      <th>1</th>\n",
              "      <td>Capítulo 2</td>\n",
              "      <td>exodo</td>\n",
              "      <td>Old</td>\n",
              "      <td>Nacimiento de Moisés é2:1 Un varón de la fami...</td>\n",
              "    </tr>\n",
              "    <tr>\n",
              "      <th>2</th>\n",
              "      <td>Capítulo 3</td>\n",
              "      <td>exodo</td>\n",
              "      <td>Old</td>\n",
              "      <td>Llamamiento de Moisésé3:1 Apacentando Moisés ...</td>\n",
              "    </tr>\n",
              "    <tr>\n",
              "      <th>3</th>\n",
              "      <td>Capítulo 4</td>\n",
              "      <td>exodo</td>\n",
              "      <td>Old</td>\n",
              "      <td>é4:1 Entonces Moisés respondió diciendo: He ...</td>\n",
              "    </tr>\n",
              "    <tr>\n",
              "      <th>4</th>\n",
              "      <td>Capítulo 5</td>\n",
              "      <td>exodo</td>\n",
              "      <td>Old</td>\n",
              "      <td>Moisés y Aarón ante Faraón é5:1 Después Moisé...</td>\n",
              "    </tr>\n",
              "  </tbody>\n",
              "</table>\n",
              "</div>\n",
              "      <button class=\"colab-df-convert\" onclick=\"convertToInteractive('df-4a96201d-6140-4e93-90ba-201add189d7d')\"\n",
              "              title=\"Convert this dataframe to an interactive table.\"\n",
              "              style=\"display:none;\">\n",
              "        \n",
              "  <svg xmlns=\"http://www.w3.org/2000/svg\" height=\"24px\"viewBox=\"0 0 24 24\"\n",
              "       width=\"24px\">\n",
              "    <path d=\"M0 0h24v24H0V0z\" fill=\"none\"/>\n",
              "    <path d=\"M18.56 5.44l.94 2.06.94-2.06 2.06-.94-2.06-.94-.94-2.06-.94 2.06-2.06.94zm-11 1L8.5 8.5l.94-2.06 2.06-.94-2.06-.94L8.5 2.5l-.94 2.06-2.06.94zm10 10l.94 2.06.94-2.06 2.06-.94-2.06-.94-.94-2.06-.94 2.06-2.06.94z\"/><path d=\"M17.41 7.96l-1.37-1.37c-.4-.4-.92-.59-1.43-.59-.52 0-1.04.2-1.43.59L10.3 9.45l-7.72 7.72c-.78.78-.78 2.05 0 2.83L4 21.41c.39.39.9.59 1.41.59.51 0 1.02-.2 1.41-.59l7.78-7.78 2.81-2.81c.8-.78.8-2.07 0-2.86zM5.41 20L4 18.59l7.72-7.72 1.47 1.35L5.41 20z\"/>\n",
              "  </svg>\n",
              "      </button>\n",
              "      \n",
              "  <style>\n",
              "    .colab-df-container {\n",
              "      display:flex;\n",
              "      flex-wrap:wrap;\n",
              "      gap: 12px;\n",
              "    }\n",
              "\n",
              "    .colab-df-convert {\n",
              "      background-color: #E8F0FE;\n",
              "      border: none;\n",
              "      border-radius: 50%;\n",
              "      cursor: pointer;\n",
              "      display: none;\n",
              "      fill: #1967D2;\n",
              "      height: 32px;\n",
              "      padding: 0 0 0 0;\n",
              "      width: 32px;\n",
              "    }\n",
              "\n",
              "    .colab-df-convert:hover {\n",
              "      background-color: #E2EBFA;\n",
              "      box-shadow: 0px 1px 2px rgba(60, 64, 67, 0.3), 0px 1px 3px 1px rgba(60, 64, 67, 0.15);\n",
              "      fill: #174EA6;\n",
              "    }\n",
              "\n",
              "    [theme=dark] .colab-df-convert {\n",
              "      background-color: #3B4455;\n",
              "      fill: #D2E3FC;\n",
              "    }\n",
              "\n",
              "    [theme=dark] .colab-df-convert:hover {\n",
              "      background-color: #434B5C;\n",
              "      box-shadow: 0px 1px 3px 1px rgba(0, 0, 0, 0.15);\n",
              "      filter: drop-shadow(0px 1px 2px rgba(0, 0, 0, 0.3));\n",
              "      fill: #FFFFFF;\n",
              "    }\n",
              "  </style>\n",
              "\n",
              "      <script>\n",
              "        const buttonEl =\n",
              "          document.querySelector('#df-4a96201d-6140-4e93-90ba-201add189d7d button.colab-df-convert');\n",
              "        buttonEl.style.display =\n",
              "          google.colab.kernel.accessAllowed ? 'block' : 'none';\n",
              "\n",
              "        async function convertToInteractive(key) {\n",
              "          const element = document.querySelector('#df-4a96201d-6140-4e93-90ba-201add189d7d');\n",
              "          const dataTable =\n",
              "            await google.colab.kernel.invokeFunction('convertToInteractive',\n",
              "                                                     [key], {});\n",
              "          if (!dataTable) return;\n",
              "\n",
              "          const docLinkHtml = 'Like what you see? Visit the ' +\n",
              "            '<a target=\"_blank\" href=https://colab.research.google.com/notebooks/data_table.ipynb>data table notebook</a>'\n",
              "            + ' to learn more about interactive tables.';\n",
              "          element.innerHTML = '';\n",
              "          dataTable['output_type'] = 'display_data';\n",
              "          await google.colab.output.renderOutput(dataTable, element);\n",
              "          const docLink = document.createElement('div');\n",
              "          docLink.innerHTML = docLinkHtml;\n",
              "          element.appendChild(docLink);\n",
              "        }\n",
              "      </script>\n",
              "    </div>\n",
              "  </div>\n",
              "  "
            ]
          },
          "metadata": {},
          "execution_count": 2
        }
      ],
      "source": [
        "dataset.head()"
      ]
    },
    {
      "cell_type": "markdown",
      "metadata": {
        "id": "U3pIQ721P19f"
      },
      "source": [
        "###**• Step 1: Implementation of a pipeline for the preprocessing of the texts. For this task you can use the usual libraries (NLTK, Spacy), or any other library that you consider appropriate.**\n"
      ]
    },
    {
      "cell_type": "code",
      "execution_count": 3,
      "metadata": {
        "colab": {
          "base_uri": "https://localhost:8080/"
        },
        "id": "yeVeWeoKQlyA",
        "outputId": "fd23cd90-e082-4fe5-cfdf-54f60b3d0f93"
      },
      "outputs": [
        {
          "output_type": "stream",
          "name": "stdout",
          "text": [
            "2023-05-07 19:41:51.051801: W tensorflow/compiler/tf2tensorrt/utils/py_utils.cc:38] TF-TRT Warning: Could not find TensorRT\n",
            "Looking in indexes: https://pypi.org/simple, https://us-python.pkg.dev/colab-wheels/public/simple/\n",
            "Collecting es-core-news-md==3.5.0\n",
            "  Downloading https://github.com/explosion/spacy-models/releases/download/es_core_news_md-3.5.0/es_core_news_md-3.5.0-py3-none-any.whl (42.3 MB)\n",
            "\u001b[2K     \u001b[90m━━━━━━━━━━━━━━━━━━━━━━━━━━━━━━━━━━━━━━━━\u001b[0m \u001b[32m42.3/42.3 MB\u001b[0m \u001b[31m12.0 MB/s\u001b[0m eta \u001b[36m0:00:00\u001b[0m\n",
            "\u001b[?25hRequirement already satisfied: spacy<3.6.0,>=3.5.0 in /usr/local/lib/python3.10/dist-packages (from es-core-news-md==3.5.0) (3.5.2)\n",
            "Requirement already satisfied: srsly<3.0.0,>=2.4.3 in /usr/local/lib/python3.10/dist-packages (from spacy<3.6.0,>=3.5.0->es-core-news-md==3.5.0) (2.4.6)\n",
            "Requirement already satisfied: pathy>=0.10.0 in /usr/local/lib/python3.10/dist-packages (from spacy<3.6.0,>=3.5.0->es-core-news-md==3.5.0) (0.10.1)\n",
            "Requirement already satisfied: spacy-legacy<3.1.0,>=3.0.11 in /usr/local/lib/python3.10/dist-packages (from spacy<3.6.0,>=3.5.0->es-core-news-md==3.5.0) (3.0.12)\n",
            "Requirement already satisfied: wasabi<1.2.0,>=0.9.1 in /usr/local/lib/python3.10/dist-packages (from spacy<3.6.0,>=3.5.0->es-core-news-md==3.5.0) (1.1.1)\n",
            "Requirement already satisfied: numpy>=1.15.0 in /usr/local/lib/python3.10/dist-packages (from spacy<3.6.0,>=3.5.0->es-core-news-md==3.5.0) (1.22.4)\n",
            "Requirement already satisfied: thinc<8.2.0,>=8.1.8 in /usr/local/lib/python3.10/dist-packages (from spacy<3.6.0,>=3.5.0->es-core-news-md==3.5.0) (8.1.9)\n",
            "Requirement already satisfied: pydantic!=1.8,!=1.8.1,<1.11.0,>=1.7.4 in /usr/local/lib/python3.10/dist-packages (from spacy<3.6.0,>=3.5.0->es-core-news-md==3.5.0) (1.10.7)\n",
            "Requirement already satisfied: tqdm<5.0.0,>=4.38.0 in /usr/local/lib/python3.10/dist-packages (from spacy<3.6.0,>=3.5.0->es-core-news-md==3.5.0) (4.65.0)\n",
            "Requirement already satisfied: langcodes<4.0.0,>=3.2.0 in /usr/local/lib/python3.10/dist-packages (from spacy<3.6.0,>=3.5.0->es-core-news-md==3.5.0) (3.3.0)\n",
            "Requirement already satisfied: catalogue<2.1.0,>=2.0.6 in /usr/local/lib/python3.10/dist-packages (from spacy<3.6.0,>=3.5.0->es-core-news-md==3.5.0) (2.0.8)\n",
            "Requirement already satisfied: murmurhash<1.1.0,>=0.28.0 in /usr/local/lib/python3.10/dist-packages (from spacy<3.6.0,>=3.5.0->es-core-news-md==3.5.0) (1.0.9)\n",
            "Requirement already satisfied: setuptools in /usr/local/lib/python3.10/dist-packages (from spacy<3.6.0,>=3.5.0->es-core-news-md==3.5.0) (67.7.2)\n",
            "Requirement already satisfied: spacy-loggers<2.0.0,>=1.0.0 in /usr/local/lib/python3.10/dist-packages (from spacy<3.6.0,>=3.5.0->es-core-news-md==3.5.0) (1.0.4)\n",
            "Requirement already satisfied: typer<0.8.0,>=0.3.0 in /usr/local/lib/python3.10/dist-packages (from spacy<3.6.0,>=3.5.0->es-core-news-md==3.5.0) (0.7.0)\n",
            "Requirement already satisfied: requests<3.0.0,>=2.13.0 in /usr/local/lib/python3.10/dist-packages (from spacy<3.6.0,>=3.5.0->es-core-news-md==3.5.0) (2.27.1)\n",
            "Requirement already satisfied: jinja2 in /usr/local/lib/python3.10/dist-packages (from spacy<3.6.0,>=3.5.0->es-core-news-md==3.5.0) (3.1.2)\n",
            "Requirement already satisfied: packaging>=20.0 in /usr/local/lib/python3.10/dist-packages (from spacy<3.6.0,>=3.5.0->es-core-news-md==3.5.0) (23.1)\n",
            "Requirement already satisfied: cymem<2.1.0,>=2.0.2 in /usr/local/lib/python3.10/dist-packages (from spacy<3.6.0,>=3.5.0->es-core-news-md==3.5.0) (2.0.7)\n",
            "Requirement already satisfied: smart-open<7.0.0,>=5.2.1 in /usr/local/lib/python3.10/dist-packages (from spacy<3.6.0,>=3.5.0->es-core-news-md==3.5.0) (6.3.0)\n",
            "Requirement already satisfied: preshed<3.1.0,>=3.0.2 in /usr/local/lib/python3.10/dist-packages (from spacy<3.6.0,>=3.5.0->es-core-news-md==3.5.0) (3.0.8)\n",
            "Requirement already satisfied: typing-extensions>=4.2.0 in /usr/local/lib/python3.10/dist-packages (from pydantic!=1.8,!=1.8.1,<1.11.0,>=1.7.4->spacy<3.6.0,>=3.5.0->es-core-news-md==3.5.0) (4.5.0)\n",
            "Requirement already satisfied: urllib3<1.27,>=1.21.1 in /usr/local/lib/python3.10/dist-packages (from requests<3.0.0,>=2.13.0->spacy<3.6.0,>=3.5.0->es-core-news-md==3.5.0) (1.26.15)\n",
            "Requirement already satisfied: charset-normalizer~=2.0.0 in /usr/local/lib/python3.10/dist-packages (from requests<3.0.0,>=2.13.0->spacy<3.6.0,>=3.5.0->es-core-news-md==3.5.0) (2.0.12)\n",
            "Requirement already satisfied: certifi>=2017.4.17 in /usr/local/lib/python3.10/dist-packages (from requests<3.0.0,>=2.13.0->spacy<3.6.0,>=3.5.0->es-core-news-md==3.5.0) (2022.12.7)\n",
            "Requirement already satisfied: idna<4,>=2.5 in /usr/local/lib/python3.10/dist-packages (from requests<3.0.0,>=2.13.0->spacy<3.6.0,>=3.5.0->es-core-news-md==3.5.0) (3.4)\n",
            "Requirement already satisfied: blis<0.8.0,>=0.7.8 in /usr/local/lib/python3.10/dist-packages (from thinc<8.2.0,>=8.1.8->spacy<3.6.0,>=3.5.0->es-core-news-md==3.5.0) (0.7.9)\n",
            "Requirement already satisfied: confection<1.0.0,>=0.0.1 in /usr/local/lib/python3.10/dist-packages (from thinc<8.2.0,>=8.1.8->spacy<3.6.0,>=3.5.0->es-core-news-md==3.5.0) (0.0.4)\n",
            "Requirement already satisfied: click<9.0.0,>=7.1.1 in /usr/local/lib/python3.10/dist-packages (from typer<0.8.0,>=0.3.0->spacy<3.6.0,>=3.5.0->es-core-news-md==3.5.0) (8.1.3)\n",
            "Requirement already satisfied: MarkupSafe>=2.0 in /usr/local/lib/python3.10/dist-packages (from jinja2->spacy<3.6.0,>=3.5.0->es-core-news-md==3.5.0) (2.1.2)\n",
            "Installing collected packages: es-core-news-md\n",
            "Successfully installed es-core-news-md-3.5.0\n",
            "\u001b[38;5;2m✔ Download and installation successful\u001b[0m\n",
            "You can now load the package via spacy.load('es_core_news_md')\n"
          ]
        }
      ],
      "source": [
        "#!pip install --upgrade spacy\n",
        "import spacy\n",
        "!python -m spacy download es_core_news_md # Spanish pipeline optimized for CPU"
      ]
    },
    {
      "cell_type": "code",
      "execution_count": 4,
      "metadata": {
        "colab": {
          "base_uri": "https://localhost:8080/"
        },
        "id": "jF6anA4pTyyo",
        "outputId": "2832fd14-8bf3-4abd-aa75-e856369b2bf3"
      },
      "outputs": [
        {
          "output_type": "stream",
          "name": "stdout",
          "text": [
            "Looking in indexes: https://pypi.org/simple, https://us-python.pkg.dev/colab-wheels/public/simple/\n",
            "Collecting pyLDAvis==2.1.2\n",
            "  Downloading pyLDAvis-2.1.2.tar.gz (1.6 MB)\n",
            "\u001b[2K     \u001b[90m━━━━━━━━━━━━━━━━━━━━━━━━━━━━━━━━━━━━━━━━\u001b[0m \u001b[32m1.6/1.6 MB\u001b[0m \u001b[31m7.6 MB/s\u001b[0m eta \u001b[36m0:00:00\u001b[0m\n",
            "\u001b[?25h  Preparing metadata (setup.py) ... \u001b[?25l\u001b[?25hdone\n",
            "Requirement already satisfied: wheel>=0.23.0 in /usr/local/lib/python3.10/dist-packages (from pyLDAvis==2.1.2) (0.40.0)\n",
            "Requirement already satisfied: numpy>=1.9.2 in /usr/local/lib/python3.10/dist-packages (from pyLDAvis==2.1.2) (1.22.4)\n",
            "Requirement already satisfied: scipy>=0.18.0 in /usr/local/lib/python3.10/dist-packages (from pyLDAvis==2.1.2) (1.10.1)\n",
            "Requirement already satisfied: pandas>=0.17.0 in /usr/local/lib/python3.10/dist-packages (from pyLDAvis==2.1.2) (1.5.3)\n",
            "Requirement already satisfied: joblib>=0.8.4 in /usr/local/lib/python3.10/dist-packages (from pyLDAvis==2.1.2) (1.2.0)\n",
            "Requirement already satisfied: jinja2>=2.7.2 in /usr/local/lib/python3.10/dist-packages (from pyLDAvis==2.1.2) (3.1.2)\n",
            "Requirement already satisfied: numexpr in /usr/local/lib/python3.10/dist-packages (from pyLDAvis==2.1.2) (2.8.4)\n",
            "Requirement already satisfied: pytest in /usr/local/lib/python3.10/dist-packages (from pyLDAvis==2.1.2) (7.2.2)\n",
            "Requirement already satisfied: future in /usr/local/lib/python3.10/dist-packages (from pyLDAvis==2.1.2) (0.18.3)\n",
            "Collecting funcy\n",
            "  Downloading funcy-2.0-py2.py3-none-any.whl (30 kB)\n",
            "Requirement already satisfied: MarkupSafe>=2.0 in /usr/local/lib/python3.10/dist-packages (from jinja2>=2.7.2->pyLDAvis==2.1.2) (2.1.2)\n",
            "Requirement already satisfied: pytz>=2020.1 in /usr/local/lib/python3.10/dist-packages (from pandas>=0.17.0->pyLDAvis==2.1.2) (2022.7.1)\n",
            "Requirement already satisfied: python-dateutil>=2.8.1 in /usr/local/lib/python3.10/dist-packages (from pandas>=0.17.0->pyLDAvis==2.1.2) (2.8.2)\n",
            "Requirement already satisfied: attrs>=19.2.0 in /usr/local/lib/python3.10/dist-packages (from pytest->pyLDAvis==2.1.2) (23.1.0)\n",
            "Requirement already satisfied: packaging in /usr/local/lib/python3.10/dist-packages (from pytest->pyLDAvis==2.1.2) (23.1)\n",
            "Requirement already satisfied: tomli>=1.0.0 in /usr/local/lib/python3.10/dist-packages (from pytest->pyLDAvis==2.1.2) (2.0.1)\n",
            "Requirement already satisfied: iniconfig in /usr/local/lib/python3.10/dist-packages (from pytest->pyLDAvis==2.1.2) (2.0.0)\n",
            "Requirement already satisfied: exceptiongroup>=1.0.0rc8 in /usr/local/lib/python3.10/dist-packages (from pytest->pyLDAvis==2.1.2) (1.1.1)\n",
            "Requirement already satisfied: pluggy<2.0,>=0.12 in /usr/local/lib/python3.10/dist-packages (from pytest->pyLDAvis==2.1.2) (1.0.0)\n",
            "Requirement already satisfied: six>=1.5 in /usr/local/lib/python3.10/dist-packages (from python-dateutil>=2.8.1->pandas>=0.17.0->pyLDAvis==2.1.2) (1.16.0)\n",
            "Building wheels for collected packages: pyLDAvis\n",
            "  Building wheel for pyLDAvis (setup.py) ... \u001b[?25l\u001b[?25hdone\n",
            "  Created wheel for pyLDAvis: filename=pyLDAvis-2.1.2-py2.py3-none-any.whl size=97736 sha256=535edfbd59cfda66988e2e9cf21356c69cb5eb2eac303b849085d41e689fe8fe\n",
            "  Stored in directory: /root/.cache/pip/wheels/d9/93/d6/16c95da19c32f037fd75135ea152d0df37254c25cd1a8b4b6c\n",
            "Successfully built pyLDAvis\n",
            "Installing collected packages: funcy, pyLDAvis\n",
            "Successfully installed funcy-2.0 pyLDAvis-2.1.2\n"
          ]
        }
      ],
      "source": [
        "# Install of a visualizer for LDA\n",
        "!pip install pyLDAvis==2.1.2"
      ]
    },
    {
      "cell_type": "code",
      "execution_count": 5,
      "metadata": {
        "id": "B0wOv1qsWXat"
      },
      "outputs": [],
      "source": [
        "nlp = spacy.load('es_core_news_md')\n",
        "nlp.disable_pipe(\"parser\")\n",
        "\n",
        "# Tokenization, Homogeneization and cleaning\n",
        "def text_preprocessing(text):\n",
        "\n",
        "  # Delete the numbers (versiculos)\n",
        "  text = re.sub(r\"\\d+:\\d+\\s*\", \" \", text)\n",
        "\n",
        "  # Create the pipeline\n",
        "  #nlp.tokenizer.add_special_case(\"Dios\", [{\"LOWER\": \"Dios\"}])\n",
        "  #nlp.tokenizer.add_special_case(\"Señor\", [{\"LOWER\": \"Señor\"}])\n",
        "\n",
        "  doc = nlp(text)\n",
        "\n",
        "  tokens = [] # For tokenization\n",
        "  pos_tags = []\n",
        "\n",
        "  for token in doc:\n",
        "    # Removal of special characters and punctuation \n",
        "    if token.is_alpha: \n",
        "      # Stopword and number removal\n",
        "      if not token.is_stop and not token.like_num: \n",
        "        # Lemmatization and lowercasing\n",
        "        tokens.append(token.lemma_.lower())\n",
        "        # Part-of-Speech (POS) Tagging\n",
        "        pos_tags.append(token.pos_)\n",
        "\n",
        "  # Named Entity Recognition (NER)\n",
        "  entities = [ent.text for ent in doc.ents]\n",
        "  entities_labs = [ent.label_ for ent in doc.ents]\n",
        "\n",
        "  tokens = \" \".join(tokens)\n",
        "  entities = \" \".join(entities)\n",
        "  entities_labs = \" \".join(entities_labs)\n",
        "  pos_tags = \" \".join(pos_tags)\n",
        "\n",
        "  return tokens, entities, entities_labs, pos_tags"
      ]
    },
    {
      "cell_type": "code",
      "execution_count": 6,
      "metadata": {
        "colab": {
          "base_uri": "https://localhost:8080/",
          "height": 424
        },
        "id": "xHTq-uxoWXX8",
        "outputId": "e2786a12-831b-4112-ae32-f2a0f98852c0"
      },
      "outputs": [
        {
          "output_type": "execute_result",
          "data": {
            "text/plain": [
              "      Chapter   Book Testament  \\\n",
              "0  Capítulo 1  exodo       Old   \n",
              "1  Capítulo 2  exodo       Old   \n",
              "2  Capítulo 3  exodo       Old   \n",
              "3  Capítulo 4  exodo       Old   \n",
              "4  Capítulo 5  exodo       Old   \n",
              "\n",
              "                                                Text  \\\n",
              "0   Aflicción de los israelitas en Egipto 1:1 Est...   \n",
              "1   Nacimiento de Moisés é2:1 Un varón de la fami...   \n",
              "2   Llamamiento de Moisésé3:1 Apacentando Moisés ...   \n",
              "3    é4:1 Entonces Moisés respondió diciendo: He ...   \n",
              "4   Moisés y Aarón ante Faraón é5:1 Después Moisé...   \n",
              "\n",
              "                                          Clean_text  \\\n",
              "0  aflicción israelita egipto nombre hijo israel ...   \n",
              "1  nacimiento moisés é varón familia leví tomar m...   \n",
              "2  llamamiento moisésé apacentando moisés oveja j...   \n",
              "3  é moisés responder decir creer oier voz decir ...   \n",
              "4  moisés aarón faraón é moisés aarón entrar pres...   \n",
              "\n",
              "                                            Entities  \\\n",
              "0  Egipto Israel Egipto Jacob Rubén Simeón Leví J...   \n",
              "1  Nacimiento de Moisés é Un varón de la familia ...   \n",
              "2  Llamamiento de Moisésé Apacentando Moisés Jetr...   \n",
              "3  Moisés Jehová Jehová Una vara.  El Echala Mois...   \n",
              "4  Moisés Aarón Faraón Moisés Aarón Faraón Jehová...   \n",
              "\n",
              "                                       Entities_labs  \\\n",
              "0  LOC LOC LOC PER PER PER MISC ORG PER PER LOC P...   \n",
              "1  MISC PER PER PER LOC PER PER PER PER PER MISC ...   \n",
              "2  ORG PER PER LOC LOC PER PER LOC LOC PER MISC M...   \n",
              "3  PER LOC LOC MISC PER PER PER PER MISC MISC MIS...   \n",
              "4  MISC LOC LOC MISC MISC PER MISC LOC PER LOC LO...   \n",
              "\n",
              "                                            Pos_tags  \n",
              "0  PROPN NOUN PROPN NOUN NOUN PROPN VERB PROPN PR...  \n",
              "1  NOUN PROPN CCONJ NOUN NOUN PROPN VERB NOUN NOU...  \n",
              "2  NOUN PROPN NUM PROPN NOUN PROPN NOUN NOUN PROP...  \n",
              "3  CCONJ PROPN VERB VERB VERB VERB NOUN VERB VERB...  \n",
              "4  PROPN PROPN PROPN CCONJ PROPN PROPN VERB NOUN ...  "
            ],
            "text/html": [
              "\n",
              "  <div id=\"df-8c433481-0972-432d-8dbd-9e3288613876\">\n",
              "    <div class=\"colab-df-container\">\n",
              "      <div>\n",
              "<style scoped>\n",
              "    .dataframe tbody tr th:only-of-type {\n",
              "        vertical-align: middle;\n",
              "    }\n",
              "\n",
              "    .dataframe tbody tr th {\n",
              "        vertical-align: top;\n",
              "    }\n",
              "\n",
              "    .dataframe thead th {\n",
              "        text-align: right;\n",
              "    }\n",
              "</style>\n",
              "<table border=\"1\" class=\"dataframe\">\n",
              "  <thead>\n",
              "    <tr style=\"text-align: right;\">\n",
              "      <th></th>\n",
              "      <th>Chapter</th>\n",
              "      <th>Book</th>\n",
              "      <th>Testament</th>\n",
              "      <th>Text</th>\n",
              "      <th>Clean_text</th>\n",
              "      <th>Entities</th>\n",
              "      <th>Entities_labs</th>\n",
              "      <th>Pos_tags</th>\n",
              "    </tr>\n",
              "  </thead>\n",
              "  <tbody>\n",
              "    <tr>\n",
              "      <th>0</th>\n",
              "      <td>Capítulo 1</td>\n",
              "      <td>exodo</td>\n",
              "      <td>Old</td>\n",
              "      <td>Aflicción de los israelitas en Egipto 1:1 Est...</td>\n",
              "      <td>aflicción israelita egipto nombre hijo israel ...</td>\n",
              "      <td>Egipto Israel Egipto Jacob Rubén Simeón Leví J...</td>\n",
              "      <td>LOC LOC LOC PER PER PER MISC ORG PER PER LOC P...</td>\n",
              "      <td>PROPN NOUN PROPN NOUN NOUN PROPN VERB PROPN PR...</td>\n",
              "    </tr>\n",
              "    <tr>\n",
              "      <th>1</th>\n",
              "      <td>Capítulo 2</td>\n",
              "      <td>exodo</td>\n",
              "      <td>Old</td>\n",
              "      <td>Nacimiento de Moisés é2:1 Un varón de la fami...</td>\n",
              "      <td>nacimiento moisés é varón familia leví tomar m...</td>\n",
              "      <td>Nacimiento de Moisés é Un varón de la familia ...</td>\n",
              "      <td>MISC PER PER PER LOC PER PER PER PER PER MISC ...</td>\n",
              "      <td>NOUN PROPN CCONJ NOUN NOUN PROPN VERB NOUN NOU...</td>\n",
              "    </tr>\n",
              "    <tr>\n",
              "      <th>2</th>\n",
              "      <td>Capítulo 3</td>\n",
              "      <td>exodo</td>\n",
              "      <td>Old</td>\n",
              "      <td>Llamamiento de Moisésé3:1 Apacentando Moisés ...</td>\n",
              "      <td>llamamiento moisésé apacentando moisés oveja j...</td>\n",
              "      <td>Llamamiento de Moisésé Apacentando Moisés Jetr...</td>\n",
              "      <td>ORG PER PER LOC LOC PER PER LOC LOC PER MISC M...</td>\n",
              "      <td>NOUN PROPN NUM PROPN NOUN PROPN NOUN NOUN PROP...</td>\n",
              "    </tr>\n",
              "    <tr>\n",
              "      <th>3</th>\n",
              "      <td>Capítulo 4</td>\n",
              "      <td>exodo</td>\n",
              "      <td>Old</td>\n",
              "      <td>é4:1 Entonces Moisés respondió diciendo: He ...</td>\n",
              "      <td>é moisés responder decir creer oier voz decir ...</td>\n",
              "      <td>Moisés Jehová Jehová Una vara.  El Echala Mois...</td>\n",
              "      <td>PER LOC LOC MISC PER PER PER PER MISC MISC MIS...</td>\n",
              "      <td>CCONJ PROPN VERB VERB VERB VERB NOUN VERB VERB...</td>\n",
              "    </tr>\n",
              "    <tr>\n",
              "      <th>4</th>\n",
              "      <td>Capítulo 5</td>\n",
              "      <td>exodo</td>\n",
              "      <td>Old</td>\n",
              "      <td>Moisés y Aarón ante Faraón é5:1 Después Moisé...</td>\n",
              "      <td>moisés aarón faraón é moisés aarón entrar pres...</td>\n",
              "      <td>Moisés Aarón Faraón Moisés Aarón Faraón Jehová...</td>\n",
              "      <td>MISC LOC LOC MISC MISC PER MISC LOC PER LOC LO...</td>\n",
              "      <td>PROPN PROPN PROPN CCONJ PROPN PROPN VERB NOUN ...</td>\n",
              "    </tr>\n",
              "  </tbody>\n",
              "</table>\n",
              "</div>\n",
              "      <button class=\"colab-df-convert\" onclick=\"convertToInteractive('df-8c433481-0972-432d-8dbd-9e3288613876')\"\n",
              "              title=\"Convert this dataframe to an interactive table.\"\n",
              "              style=\"display:none;\">\n",
              "        \n",
              "  <svg xmlns=\"http://www.w3.org/2000/svg\" height=\"24px\"viewBox=\"0 0 24 24\"\n",
              "       width=\"24px\">\n",
              "    <path d=\"M0 0h24v24H0V0z\" fill=\"none\"/>\n",
              "    <path d=\"M18.56 5.44l.94 2.06.94-2.06 2.06-.94-2.06-.94-.94-2.06-.94 2.06-2.06.94zm-11 1L8.5 8.5l.94-2.06 2.06-.94-2.06-.94L8.5 2.5l-.94 2.06-2.06.94zm10 10l.94 2.06.94-2.06 2.06-.94-2.06-.94-.94-2.06-.94 2.06-2.06.94z\"/><path d=\"M17.41 7.96l-1.37-1.37c-.4-.4-.92-.59-1.43-.59-.52 0-1.04.2-1.43.59L10.3 9.45l-7.72 7.72c-.78.78-.78 2.05 0 2.83L4 21.41c.39.39.9.59 1.41.59.51 0 1.02-.2 1.41-.59l7.78-7.78 2.81-2.81c.8-.78.8-2.07 0-2.86zM5.41 20L4 18.59l7.72-7.72 1.47 1.35L5.41 20z\"/>\n",
              "  </svg>\n",
              "      </button>\n",
              "      \n",
              "  <style>\n",
              "    .colab-df-container {\n",
              "      display:flex;\n",
              "      flex-wrap:wrap;\n",
              "      gap: 12px;\n",
              "    }\n",
              "\n",
              "    .colab-df-convert {\n",
              "      background-color: #E8F0FE;\n",
              "      border: none;\n",
              "      border-radius: 50%;\n",
              "      cursor: pointer;\n",
              "      display: none;\n",
              "      fill: #1967D2;\n",
              "      height: 32px;\n",
              "      padding: 0 0 0 0;\n",
              "      width: 32px;\n",
              "    }\n",
              "\n",
              "    .colab-df-convert:hover {\n",
              "      background-color: #E2EBFA;\n",
              "      box-shadow: 0px 1px 2px rgba(60, 64, 67, 0.3), 0px 1px 3px 1px rgba(60, 64, 67, 0.15);\n",
              "      fill: #174EA6;\n",
              "    }\n",
              "\n",
              "    [theme=dark] .colab-df-convert {\n",
              "      background-color: #3B4455;\n",
              "      fill: #D2E3FC;\n",
              "    }\n",
              "\n",
              "    [theme=dark] .colab-df-convert:hover {\n",
              "      background-color: #434B5C;\n",
              "      box-shadow: 0px 1px 3px 1px rgba(0, 0, 0, 0.15);\n",
              "      filter: drop-shadow(0px 1px 2px rgba(0, 0, 0, 0.3));\n",
              "      fill: #FFFFFF;\n",
              "    }\n",
              "  </style>\n",
              "\n",
              "      <script>\n",
              "        const buttonEl =\n",
              "          document.querySelector('#df-8c433481-0972-432d-8dbd-9e3288613876 button.colab-df-convert');\n",
              "        buttonEl.style.display =\n",
              "          google.colab.kernel.accessAllowed ? 'block' : 'none';\n",
              "\n",
              "        async function convertToInteractive(key) {\n",
              "          const element = document.querySelector('#df-8c433481-0972-432d-8dbd-9e3288613876');\n",
              "          const dataTable =\n",
              "            await google.colab.kernel.invokeFunction('convertToInteractive',\n",
              "                                                     [key], {});\n",
              "          if (!dataTable) return;\n",
              "\n",
              "          const docLinkHtml = 'Like what you see? Visit the ' +\n",
              "            '<a target=\"_blank\" href=https://colab.research.google.com/notebooks/data_table.ipynb>data table notebook</a>'\n",
              "            + ' to learn more about interactive tables.';\n",
              "          element.innerHTML = '';\n",
              "          dataTable['output_type'] = 'display_data';\n",
              "          await google.colab.output.renderOutput(dataTable, element);\n",
              "          const docLink = document.createElement('div');\n",
              "          docLink.innerHTML = docLinkHtml;\n",
              "          element.appendChild(docLink);\n",
              "        }\n",
              "      </script>\n",
              "    </div>\n",
              "  </div>\n",
              "  "
            ]
          },
          "metadata": {},
          "execution_count": 6
        }
      ],
      "source": [
        "clean_text_array = np.array([])\n",
        "clean_entities_array = np.array([])\n",
        "clean_entities_labs_array = np.array([])\n",
        "clean_posTags_array = np.array([])\n",
        "\n",
        "for text in dataset['Text']:\n",
        "  clean_text, entities, entities_labs, pos_tags = text_preprocessing(text)\n",
        "  clean_text_array = np.append(clean_text_array, clean_text)\n",
        "  clean_entities_array = np.append(clean_entities_array, entities)\n",
        "  clean_entities_labs_array = np.append(clean_entities_labs_array, entities_labs)\n",
        "  clean_posTags_array = np.append(clean_posTags_array, pos_tags)\n",
        "\n",
        "dataset['Clean_text'] = clean_text_array\n",
        "dataset['Entities'] = clean_entities_array\n",
        "dataset['Entities_labs'] = clean_entities_labs_array\n",
        "dataset['Pos_tags'] = clean_posTags_array\n",
        "\n",
        "dataset.head()"
      ]
    },
    {
      "cell_type": "markdown",
      "metadata": {
        "id": "ExjDr7TA65oQ"
      },
      "source": [
        "- **Create de corpus and dectect the N-grams**"
      ]
    },
    {
      "cell_type": "code",
      "execution_count": 7,
      "metadata": {
        "id": "FPX7910z69jZ"
      },
      "outputs": [],
      "source": [
        "corpus = []\n",
        "for i in dataset.index:\n",
        "  doc = dataset[\"Clean_text\"][i]\n",
        "  corpus.append(doc.split()) # 1184      277.229\n",
        "\n",
        "# N-grams detection:\n",
        "phrase_model = Phrases(corpus, min_count=2, threshold=20)\n",
        "corpus = [el for el in phrase_model[corpus]] # We populate corpus again now lenght = 255426"
      ]
    },
    {
      "cell_type": "markdown",
      "metadata": {
        "id": "bCL4YtOM65d1"
      },
      "source": [
        "- **Calculate the dictionary**\n",
        "\n",
        "Create the dictionary and filter out terms that appear in too few or too many of the documents in the dataset. "
      ]
    },
    {
      "cell_type": "code",
      "execution_count": 8,
      "metadata": {
        "colab": {
          "base_uri": "https://localhost:8080/"
        },
        "id": "L1SBm7mt7Mul",
        "outputId": "2989f4fb-659d-4270-f902-c830e712ef3d"
      },
      "outputs": [
        {
          "output_type": "stream",
          "name": "stdout",
          "text": [
            "The dictionary contains 20745 terms\n",
            "The dictionary contains 11798 terms\n"
          ]
        }
      ],
      "source": [
        "D = Dictionary(corpus)\n",
        "print('The dictionary contains', len(D), 'terms') # 20745 terms\n",
        "\n",
        "# Filter out terms that appear in too few or too many of the documents \n",
        "D.filter_extremes(no_below=2, no_above=.5)\n",
        "print('The dictionary contains', len(D), 'terms') # 11798 terms"
      ]
    },
    {
      "cell_type": "code",
      "execution_count": 9,
      "metadata": {
        "colab": {
          "base_uri": "https://localhost:8080/",
          "height": 657
        },
        "id": "PknVa3oG7Qn5",
        "outputId": "7f8e0bf5-439e-449d-8ade-60fb0cf2a43c"
      },
      "outputs": [
        {
          "output_type": "stream",
          "name": "stdout",
          "text": [
            "Average number of tokens per review: 215.7314189189189\n"
          ]
        },
        {
          "output_type": "execute_result",
          "data": {
            "text/plain": [
              "       token  ndocs\n",
              "37     poner    588\n",
              "4     israel    578\n",
              "110      ver    568\n",
              "287  palabra    525\n",
              "63    hablar    514"
            ],
            "text/html": [
              "\n",
              "  <div id=\"df-cf167df7-30cb-4b18-8692-c8d8ed7b0d54\">\n",
              "    <div class=\"colab-df-container\">\n",
              "      <div>\n",
              "<style scoped>\n",
              "    .dataframe tbody tr th:only-of-type {\n",
              "        vertical-align: middle;\n",
              "    }\n",
              "\n",
              "    .dataframe tbody tr th {\n",
              "        vertical-align: top;\n",
              "    }\n",
              "\n",
              "    .dataframe thead th {\n",
              "        text-align: right;\n",
              "    }\n",
              "</style>\n",
              "<table border=\"1\" class=\"dataframe\">\n",
              "  <thead>\n",
              "    <tr style=\"text-align: right;\">\n",
              "      <th></th>\n",
              "      <th>token</th>\n",
              "      <th>ndocs</th>\n",
              "    </tr>\n",
              "  </thead>\n",
              "  <tbody>\n",
              "    <tr>\n",
              "      <th>37</th>\n",
              "      <td>poner</td>\n",
              "      <td>588</td>\n",
              "    </tr>\n",
              "    <tr>\n",
              "      <th>4</th>\n",
              "      <td>israel</td>\n",
              "      <td>578</td>\n",
              "    </tr>\n",
              "    <tr>\n",
              "      <th>110</th>\n",
              "      <td>ver</td>\n",
              "      <td>568</td>\n",
              "    </tr>\n",
              "    <tr>\n",
              "      <th>287</th>\n",
              "      <td>palabra</td>\n",
              "      <td>525</td>\n",
              "    </tr>\n",
              "    <tr>\n",
              "      <th>63</th>\n",
              "      <td>hablar</td>\n",
              "      <td>514</td>\n",
              "    </tr>\n",
              "  </tbody>\n",
              "</table>\n",
              "</div>\n",
              "      <button class=\"colab-df-convert\" onclick=\"convertToInteractive('df-cf167df7-30cb-4b18-8692-c8d8ed7b0d54')\"\n",
              "              title=\"Convert this dataframe to an interactive table.\"\n",
              "              style=\"display:none;\">\n",
              "        \n",
              "  <svg xmlns=\"http://www.w3.org/2000/svg\" height=\"24px\"viewBox=\"0 0 24 24\"\n",
              "       width=\"24px\">\n",
              "    <path d=\"M0 0h24v24H0V0z\" fill=\"none\"/>\n",
              "    <path d=\"M18.56 5.44l.94 2.06.94-2.06 2.06-.94-2.06-.94-.94-2.06-.94 2.06-2.06.94zm-11 1L8.5 8.5l.94-2.06 2.06-.94-2.06-.94L8.5 2.5l-.94 2.06-2.06.94zm10 10l.94 2.06.94-2.06 2.06-.94-2.06-.94-.94-2.06-.94 2.06-2.06.94z\"/><path d=\"M17.41 7.96l-1.37-1.37c-.4-.4-.92-.59-1.43-.59-.52 0-1.04.2-1.43.59L10.3 9.45l-7.72 7.72c-.78.78-.78 2.05 0 2.83L4 21.41c.39.39.9.59 1.41.59.51 0 1.02-.2 1.41-.59l7.78-7.78 2.81-2.81c.8-.78.8-2.07 0-2.86zM5.41 20L4 18.59l7.72-7.72 1.47 1.35L5.41 20z\"/>\n",
              "  </svg>\n",
              "      </button>\n",
              "      \n",
              "  <style>\n",
              "    .colab-df-container {\n",
              "      display:flex;\n",
              "      flex-wrap:wrap;\n",
              "      gap: 12px;\n",
              "    }\n",
              "\n",
              "    .colab-df-convert {\n",
              "      background-color: #E8F0FE;\n",
              "      border: none;\n",
              "      border-radius: 50%;\n",
              "      cursor: pointer;\n",
              "      display: none;\n",
              "      fill: #1967D2;\n",
              "      height: 32px;\n",
              "      padding: 0 0 0 0;\n",
              "      width: 32px;\n",
              "    }\n",
              "\n",
              "    .colab-df-convert:hover {\n",
              "      background-color: #E2EBFA;\n",
              "      box-shadow: 0px 1px 2px rgba(60, 64, 67, 0.3), 0px 1px 3px 1px rgba(60, 64, 67, 0.15);\n",
              "      fill: #174EA6;\n",
              "    }\n",
              "\n",
              "    [theme=dark] .colab-df-convert {\n",
              "      background-color: #3B4455;\n",
              "      fill: #D2E3FC;\n",
              "    }\n",
              "\n",
              "    [theme=dark] .colab-df-convert:hover {\n",
              "      background-color: #434B5C;\n",
              "      box-shadow: 0px 1px 3px 1px rgba(0, 0, 0, 0.15);\n",
              "      filter: drop-shadow(0px 1px 2px rgba(0, 0, 0, 0.3));\n",
              "      fill: #FFFFFF;\n",
              "    }\n",
              "  </style>\n",
              "\n",
              "      <script>\n",
              "        const buttonEl =\n",
              "          document.querySelector('#df-cf167df7-30cb-4b18-8692-c8d8ed7b0d54 button.colab-df-convert');\n",
              "        buttonEl.style.display =\n",
              "          google.colab.kernel.accessAllowed ? 'block' : 'none';\n",
              "\n",
              "        async function convertToInteractive(key) {\n",
              "          const element = document.querySelector('#df-cf167df7-30cb-4b18-8692-c8d8ed7b0d54');\n",
              "          const dataTable =\n",
              "            await google.colab.kernel.invokeFunction('convertToInteractive',\n",
              "                                                     [key], {});\n",
              "          if (!dataTable) return;\n",
              "\n",
              "          const docLinkHtml = 'Like what you see? Visit the ' +\n",
              "            '<a target=\"_blank\" href=https://colab.research.google.com/notebooks/data_table.ipynb>data table notebook</a>'\n",
              "            + ' to learn more about interactive tables.';\n",
              "          element.innerHTML = '';\n",
              "          dataTable['output_type'] = 'display_data';\n",
              "          await google.colab.output.renderOutput(dataTable, element);\n",
              "          const docLink = document.createElement('div');\n",
              "          docLink.innerHTML = docLinkHtml;\n",
              "          element.appendChild(docLink);\n",
              "        }\n",
              "      </script>\n",
              "    </div>\n",
              "  </div>\n",
              "  "
            ]
          },
          "metadata": {},
          "execution_count": 9
        },
        {
          "output_type": "display_data",
          "data": {
            "text/plain": [
              "<Figure size 640x480 with 1 Axes>"
            ],
            "image/png": "[encoded data removed]"
          },
          "metadata": {}
        }
      ],
      "source": [
        "total_tokens = 0\n",
        "for doc in corpus:\n",
        "  total_tokens += len(doc)\n",
        "\n",
        "print(\"Average number of tokens per review:\", total_tokens / len(corpus))\n",
        "num_tokens_per_doc = [len(doc) for doc in corpus]\n",
        "\n",
        "sns.histplot(num_tokens_per_doc)\n",
        "plt.xlabel(\"Num tokens per doc\")\n",
        "# La mayoria de los docs tienen alrededor de 200 token por doc\n",
        "# Hay 120 docs con 190 tokens\n",
        "\n",
        "\n",
        "\n",
        "#-----------------------------\n",
        "\n",
        "tfidf_model = TfidfModel(dictionary=D)\n",
        "\n",
        "# Create list of tuples with token id and ndocs\n",
        "token_ndocs = [(D[id], ndocs) for id, ndocs in tfidf_model.dfs.items()]\n",
        "\n",
        "# Create dataframe\n",
        "df = pd.DataFrame(token_ndocs, columns=['token', 'ndocs'])\n",
        "df_sorted = df.sort_values(by='ndocs', ascending=False)\n",
        "\n",
        "# Remove the one that appear exactly one time\n",
        "df_filtered = df[df['ndocs'] > 1].sort_values(by='ndocs', ascending=False)\n",
        "\n",
        "most_common = df_filtered.nlargest(10, 'ndocs')\n",
        "most_common.head()"
      ]
    },
    {
      "cell_type": "markdown",
      "metadata": {
        "id": "2xoPlPfS7IwF"
      },
      "source": [
        "- **Update the column clean_text with the new corpus and save it in a text file**"
      ]
    },
    {
      "cell_type": "code",
      "execution_count": 10,
      "metadata": {
        "id": "TS4pDm0G7ThS"
      },
      "outputs": [],
      "source": [
        "# Update it \n",
        "corpus_def = []\n",
        "for sent in corpus:\n",
        "  aux = [token for token in sent if token in D.token2id.keys()]\n",
        "  corpus_def.append(aux)\n",
        "\n",
        "dataset['Clean_text'] = [' '.join(x) for x in corpus_def]\n",
        "\n",
        "# Save it\n",
        "with open(\"clean_text.txt\", 'w', encoding='utf-8') as fout:\n",
        "  for el in dataset['Clean_text'].values.tolist():\n",
        "    fout.write(''.join(el) + '\\n')"
      ]
    },
    {
      "cell_type": "markdown",
      "metadata": {
        "id": "G_i_vKoeQXI6"
      },
      "source": [
        "###**• Step 2: Text vectorization. In this stage you will analyze the following vectorization schemes:**\n"
      ]
    },
    {
      "cell_type": "markdown",
      "metadata": {
        "id": "GT3P9E5DFoIp"
      },
      "source": [
        "#### **1. Classical BoW or TF-IDF representation.** "
      ]
    },
    {
      "cell_type": "markdown",
      "metadata": {
        "id": "LtYdD-DT2JlH"
      },
      "source": [
        "- **Transform the documents using the dictionary**"
      ]
    },
    {
      "cell_type": "code",
      "execution_count": 11,
      "metadata": {
        "id": "Q3cYfHIa5Xcl"
      },
      "outputs": [],
      "source": [
        "def get_binary_label(testament): #New=1 Old=0\n",
        "  return 1 if testament == \"New\" else 0\n",
        "\n",
        "dataset['Binary_testament'] = dataset['Testament'].apply(get_binary_label)\n",
        "\n",
        "Y = dataset['Binary_testament'].values"
      ]
    },
    {
      "cell_type": "code",
      "execution_count": 12,
      "metadata": {
        "colab": {
          "base_uri": "https://localhost:8080/"
        },
        "id": "qAI23vrekJLK",
        "outputId": "55e3c1a2-b299-42d6-a6dd-e26bf1015c09"
      },
      "outputs": [
        {
          "output_type": "stream",
          "name": "stdout",
          "text": [
            "Results when analyzing how does it predict the testament:\n",
            "Accuracy (BoW) SVM: 0.9662921348314607\n",
            "Accuracy (TF-IDF) SVM: 0.9662921348314607\n",
            "Accuracy (BoW) NB: 0.9971910112359551\n",
            "Accuracy (TF-IDF) NP: 0.9129213483146067\n"
          ]
        }
      ],
      "source": [
        "# Split the dataset into training and testing sets\n",
        "X_train, X_test, y_train, y_test = train_test_split(dataset['Clean_text'],Y, test_size=0.3, random_state=42)\n",
        "\n",
        "# Create a BoW representation of the text data\n",
        "vectorizer_bow = CountVectorizer(vocabulary=D.token2id)\n",
        "X_train_bow = vectorizer_bow.fit_transform(X_train)\n",
        "X_test_bow = vectorizer_bow.transform(X_test)\n",
        "\n",
        "# Create a TF-IDF representation of the text data\n",
        "vectorizer_tfidf = TfidfVectorizer(vocabulary=D.token2id)\n",
        "X_train_tfidf = vectorizer_tfidf.fit_transform(X_train)\n",
        "X_test_tfidf = vectorizer_tfidf.transform(X_test)\n",
        "\n",
        "# Train an SVM classifier with the BoW representation\n",
        "svm_bow = SVC()\n",
        "svm_bow.fit(X_train_bow, y_train)\n",
        "y_pred_bow_svm = svm_bow.predict(X_test_bow)\n",
        "acc_bow_svm = accuracy_score(y_test, y_pred_bow_svm)\n",
        "\n",
        "# Train an SVM classifier with the TF-IDF representation\n",
        "svm_tfidf = SVC()\n",
        "svm_tfidf.fit(X_train_tfidf, y_train)\n",
        "y_pred_tfidf_svm = svm_tfidf.predict(X_test_tfidf)\n",
        "acc_tfidf_svm = accuracy_score(y_test, y_pred_tfidf_svm)\n",
        "\n",
        "# Train a Naive Bayes classifier on the BoW representation\n",
        "nb_bow = MultinomialNB()\n",
        "nb_bow.fit(X_train_bow, y_train)\n",
        "y_pred_bow_nb = nb_bow.predict(X_test_bow)\n",
        "\n",
        "# Train a Naive Bayes classifier on the TF-IDF representation\n",
        "nb_tfidf = MultinomialNB()\n",
        "nb_tfidf.fit(X_train_tfidf, y_train)\n",
        "y_pred_tfidf_nb = nb_tfidf.predict(X_test_tfidf)\n",
        "\n",
        "print(\"Results when analyzing how does it predict the testament:\")\n",
        "print(\"Accuracy (BoW) SVM:\", acc_bow_svm)\n",
        "print(\"Accuracy (TF-IDF) SVM:\", acc_tfidf_svm)\n",
        "print(\"Accuracy (BoW) NB:\", accuracy_score(y_test, y_pred_bow_nb))\n",
        "print(\"Accuracy (TF-IDF) NP:\", accuracy_score(y_test, y_pred_tfidf_nb))\n"
      ]
    },
    {
      "cell_type": "code",
      "execution_count": 13,
      "metadata": {
        "colab": {
          "base_uri": "https://localhost:8080/"
        },
        "id": "DkugET-9PtRy",
        "outputId": "ebc81ab0-1a70-4f95-e326-cd1d4257c81e"
      },
      "outputs": [
        {
          "output_type": "stream",
          "name": "stdout",
          "text": [
            "Results when analyzing how does it predict the book:\n",
            "Accuracy (BoW) SVM: 0.43820224719101125\n",
            "Accuracy (TF-IDF) SVM: 0.42134831460674155\n",
            "Accuracy (BoW) NB: 0.5674157303370787\n",
            "Accuracy (TF-IDF) NP: 0.3651685393258427\n"
          ]
        }
      ],
      "source": [
        "Y = dataset['Book']\n",
        "# Split the dataset into training and testing sets\n",
        "X_train, X_test, y_train, y_test = train_test_split(dataset['Clean_text'],Y, test_size=0.3, random_state=42)\n",
        "\n",
        "# Create a BoW representation of the text data\n",
        "vectorizer_bow = CountVectorizer(vocabulary=D.token2id)\n",
        "X_train_bow = vectorizer_bow.fit_transform(X_train)\n",
        "X_test_bow = vectorizer_bow.transform(X_test)\n",
        "\n",
        "# Create a TF-IDF representation of the text data\n",
        "vectorizer_tfidf = TfidfVectorizer(vocabulary=D.token2id)\n",
        "X_train_tfidf = vectorizer_tfidf.fit_transform(X_train)\n",
        "X_test_tfidf = vectorizer_tfidf.transform(X_test)\n",
        "\n",
        "# Train an SVM classifier with the BoW representation\n",
        "svm_bow = SVC()\n",
        "svm_bow.fit(X_train_bow, y_train)\n",
        "y_pred_bow_svm = svm_bow.predict(X_test_bow)\n",
        "acc_bow_svm = accuracy_score(y_test, y_pred_bow_svm)\n",
        "\n",
        "# Train an SVM classifier with the TF-IDF representation\n",
        "svm_tfidf = SVC()\n",
        "svm_tfidf.fit(X_train_tfidf, y_train)\n",
        "y_pred_tfidf_svm = svm_tfidf.predict(X_test_tfidf)\n",
        "acc_tfidf_svm = accuracy_score(y_test, y_pred_tfidf_svm)\n",
        "\n",
        "# Train a Naive Bayes classifier on the BoW representation\n",
        "nb_bow = MultinomialNB()\n",
        "nb_bow.fit(X_train_bow, y_train)\n",
        "y_pred_bow_nb = nb_bow.predict(X_test_bow)\n",
        "\n",
        "# Train a Naive Bayes classifier on the TF-IDF representation\n",
        "nb_tfidf = MultinomialNB()\n",
        "nb_tfidf.fit(X_train_tfidf, y_train)\n",
        "y_pred_tfidf_nb = nb_tfidf.predict(X_test_tfidf)\n",
        "\n",
        "print(\"Results when analyzing how does it predict the book:\")\n",
        "print(\"Accuracy (BoW) SVM:\", acc_bow_svm)\n",
        "print(\"Accuracy (TF-IDF) SVM:\", acc_tfidf_svm)\n",
        "print(\"Accuracy (BoW) NB:\", accuracy_score(y_test, y_pred_bow_nb))\n",
        "print(\"Accuracy (TF-IDF) NP:\", accuracy_score(y_test, y_pred_tfidf_nb))\n"
      ]
    },
    {
      "cell_type": "markdown",
      "metadata": {
        "id": "7oHagHjYaWVb"
      },
      "source": [
        "- **Add a column to our dataset to each of the representations**"
      ]
    },
    {
      "cell_type": "code",
      "execution_count": 14,
      "metadata": {
        "id": "ufy0FBmeclYW"
      },
      "outputs": [],
      "source": [
        "tfidf_matrix = vectorizer_tfidf.fit_transform(dataset[\"Clean_text\"])\n",
        "tfidf_df = pd.DataFrame(tfidf_matrix.toarray(), columns=vectorizer_tfidf.vocabulary_.keys())\n",
        "dataset[\"TF-IDF\"] = tfidf_df.values.tolist()\n",
        "\n",
        "bow_matrix = vectorizer_bow.fit_transform(dataset[\"Clean_text\"])\n",
        "bow_df = pd.DataFrame(bow_matrix.toarray(), columns=vectorizer_bow.vocabulary_.keys())\n",
        "dataset[\"BoW\"] = bow_df.values.tolist()"
      ]
    },
    {
      "cell_type": "code",
      "execution_count": 15,
      "metadata": {
        "colab": {
          "base_uri": "https://localhost:8080/"
        },
        "id": "R3TP1gP3ASLa",
        "outputId": "7bb41767-f30c-420c-b0ef-e1be83a150d3"
      },
      "outputs": [
        {
          "output_type": "execute_result",
          "data": {
            "text/plain": [
              "scipy.sparse._csr.csr_matrix"
            ]
          },
          "metadata": {},
          "execution_count": 15
        }
      ],
      "source": [
        "type(tfidf_matrix)"
      ]
    },
    {
      "cell_type": "code",
      "execution_count": 16,
      "metadata": {
        "colab": {
          "base_uri": "https://localhost:8080/"
        },
        "id": "RL0kF5rTAbTj",
        "outputId": "501d0e48-39a3-4601-98bc-cfd30ea4bbf4"
      },
      "outputs": [
        {
          "output_type": "execute_result",
          "data": {
            "text/plain": [
              "pandas.core.frame.DataFrame"
            ]
          },
          "metadata": {},
          "execution_count": 16
        }
      ],
      "source": [
        "type(tfidf_df)"
      ]
    },
    {
      "cell_type": "code",
      "execution_count": 17,
      "metadata": {
        "colab": {
          "base_uri": "https://localhost:8080/",
          "height": 944
        },
        "id": "4qEorINYMmF1",
        "outputId": "8e4e2bb1-24e8-4e93-aa91-465f8eebe26c"
      },
      "outputs": [
        {
          "output_type": "execute_result",
          "data": {
            "text/plain": [
              "      Chapter   Book Testament  \\\n",
              "0  Capítulo 1  exodo       Old   \n",
              "1  Capítulo 2  exodo       Old   \n",
              "2  Capítulo 3  exodo       Old   \n",
              "3  Capítulo 4  exodo       Old   \n",
              "4  Capítulo 5  exodo       Old   \n",
              "\n",
              "                                                Text  \\\n",
              "0   Aflicción de los israelitas en Egipto 1:1 Est...   \n",
              "1   Nacimiento de Moisés é2:1 Un varón de la fami...   \n",
              "2   Llamamiento de Moisésé3:1 Apacentando Moisés ...   \n",
              "3    é4:1 Entonces Moisés respondió diciendo: He ...   \n",
              "4   Moisés y Aarón ante Faraón é5:1 Después Moisé...   \n",
              "\n",
              "                                          Clean_text  \\\n",
              "0  aflicción israelita egipto nombre israel entra...   \n",
              "1  nacimiento moisés varón familia leví tomar muj...   \n",
              "2  llamamiento moisésé moisés oveja jetro_suegro ...   \n",
              "3  moisés responder creer oier_voz aparecer tener...   \n",
              "4  moisés_aarón faraón moisés_aarón entrar presen...   \n",
              "\n",
              "                                            Entities  \\\n",
              "0  Egipto Israel Egipto Jacob Rubén Simeón Leví J...   \n",
              "1  Nacimiento de Moisés é Un varón de la familia ...   \n",
              "2  Llamamiento de Moisésé Apacentando Moisés Jetr...   \n",
              "3  Moisés Jehová Jehová Una vara.  El Echala Mois...   \n",
              "4  Moisés Aarón Faraón Moisés Aarón Faraón Jehová...   \n",
              "\n",
              "                                       Entities_labs  \\\n",
              "0  LOC LOC LOC PER PER PER MISC ORG PER PER LOC P...   \n",
              "1  MISC PER PER PER LOC PER PER PER PER PER MISC ...   \n",
              "2  ORG PER PER LOC LOC PER PER LOC LOC PER MISC M...   \n",
              "3  PER LOC LOC MISC PER PER PER PER MISC MISC MIS...   \n",
              "4  MISC LOC LOC MISC MISC PER MISC LOC PER LOC LO...   \n",
              "\n",
              "                                            Pos_tags  Binary_testament  \\\n",
              "0  PROPN NOUN PROPN NOUN NOUN PROPN VERB PROPN PR...                 0   \n",
              "1  NOUN PROPN CCONJ NOUN NOUN PROPN VERB NOUN NOU...                 0   \n",
              "2  NOUN PROPN NUM PROPN NOUN PROPN NOUN NOUN PROP...                 0   \n",
              "3  CCONJ PROPN VERB VERB VERB VERB NOUN VERB VERB...                 0   \n",
              "4  PROPN PROPN PROPN CCONJ PROPN PROPN VERB NOUN ...                 0   \n",
              "\n",
              "                                              TF-IDF  \\\n",
              "0  [0.03611773378849263, 0.052319994336570294, 0....   \n",
              "1  [0.06341435350321382, 0.0, 0.0, 0.0, 0.0, 0.0,...   \n",
              "2  [0.0, 0.09712090059455612, 0.0, 0.0, 0.0, 0.0,...   \n",
              "3  [0.03082591152021846, 0.04465428328372308, 0.0...   \n",
              "4  [0.0, 0.04149096468105849, 0.0, 0.0, 0.0, 0.0,...   \n",
              "\n",
              "                                                 BoW  \n",
              "0  [1, 1, 1, 1, 1, 1, 1, 1, 1, 1, 1, 1, 1, 1, 1, ...  \n",
              "1  [2, 0, 0, 0, 0, 0, 0, 0, 0, 0, 0, 0, 0, 0, 0, ...  \n",
              "2  [0, 2, 0, 0, 0, 0, 0, 0, 0, 1, 0, 0, 0, 0, 0, ...  \n",
              "3  [1, 1, 0, 0, 0, 0, 0, 0, 0, 1, 0, 0, 0, 0, 0, ...  \n",
              "4  [0, 1, 0, 0, 0, 0, 0, 0, 0, 1, 0, 0, 0, 0, 0, ...  "
            ],
            "text/html": [
              "\n",
              "  <div id=\"df-fdda8e08-f4d7-4482-b34b-3d5c72ab5ab0\">\n",
              "    <div class=\"colab-df-container\">\n",
              "      <div>\n",
              "<style scoped>\n",
              "    .dataframe tbody tr th:only-of-type {\n",
              "        vertical-align: middle;\n",
              "    }\n",
              "\n",
              "    .dataframe tbody tr th {\n",
              "        vertical-align: top;\n",
              "    }\n",
              "\n",
              "    .dataframe thead th {\n",
              "        text-align: right;\n",
              "    }\n",
              "</style>\n",
              "<table border=\"1\" class=\"dataframe\">\n",
              "  <thead>\n",
              "    <tr style=\"text-align: right;\">\n",
              "      <th></th>\n",
              "      <th>Chapter</th>\n",
              "      <th>Book</th>\n",
              "      <th>Testament</th>\n",
              "      <th>Text</th>\n",
              "      <th>Clean_text</th>\n",
              "      <th>Entities</th>\n",
              "      <th>Entities_labs</th>\n",
              "      <th>Pos_tags</th>\n",
              "      <th>Binary_testament</th>\n",
              "      <th>TF-IDF</th>\n",
              "      <th>BoW</th>\n",
              "    </tr>\n",
              "  </thead>\n",
              "  <tbody>\n",
              "    <tr>\n",
              "      <th>0</th>\n",
              "      <td>Capítulo 1</td>\n",
              "      <td>exodo</td>\n",
              "      <td>Old</td>\n",
              "      <td>Aflicción de los israelitas en Egipto 1:1 Est...</td>\n",
              "      <td>aflicción israelita egipto nombre israel entra...</td>\n",
              "      <td>Egipto Israel Egipto Jacob Rubén Simeón Leví J...</td>\n",
              "      <td>LOC LOC LOC PER PER PER MISC ORG PER PER LOC P...</td>\n",
              "      <td>PROPN NOUN PROPN NOUN NOUN PROPN VERB PROPN PR...</td>\n",
              "      <td>0</td>\n",
              "      <td>[0.03611773378849263, 0.052319994336570294, 0....</td>\n",
              "      <td>[1, 1, 1, 1, 1, 1, 1, 1, 1, 1, 1, 1, 1, 1, 1, ...</td>\n",
              "    </tr>\n",
              "    <tr>\n",
              "      <th>1</th>\n",
              "      <td>Capítulo 2</td>\n",
              "      <td>exodo</td>\n",
              "      <td>Old</td>\n",
              "      <td>Nacimiento de Moisés é2:1 Un varón de la fami...</td>\n",
              "      <td>nacimiento moisés varón familia leví tomar muj...</td>\n",
              "      <td>Nacimiento de Moisés é Un varón de la familia ...</td>\n",
              "      <td>MISC PER PER PER LOC PER PER PER PER PER MISC ...</td>\n",
              "      <td>NOUN PROPN CCONJ NOUN NOUN PROPN VERB NOUN NOU...</td>\n",
              "      <td>0</td>\n",
              "      <td>[0.06341435350321382, 0.0, 0.0, 0.0, 0.0, 0.0,...</td>\n",
              "      <td>[2, 0, 0, 0, 0, 0, 0, 0, 0, 0, 0, 0, 0, 0, 0, ...</td>\n",
              "    </tr>\n",
              "    <tr>\n",
              "      <th>2</th>\n",
              "      <td>Capítulo 3</td>\n",
              "      <td>exodo</td>\n",
              "      <td>Old</td>\n",
              "      <td>Llamamiento de Moisésé3:1 Apacentando Moisés ...</td>\n",
              "      <td>llamamiento moisésé moisés oveja jetro_suegro ...</td>\n",
              "      <td>Llamamiento de Moisésé Apacentando Moisés Jetr...</td>\n",
              "      <td>ORG PER PER LOC LOC PER PER LOC LOC PER MISC M...</td>\n",
              "      <td>NOUN PROPN NUM PROPN NOUN PROPN NOUN NOUN PROP...</td>\n",
              "      <td>0</td>\n",
              "      <td>[0.0, 0.09712090059455612, 0.0, 0.0, 0.0, 0.0,...</td>\n",
              "      <td>[0, 2, 0, 0, 0, 0, 0, 0, 0, 1, 0, 0, 0, 0, 0, ...</td>\n",
              "    </tr>\n",
              "    <tr>\n",
              "      <th>3</th>\n",
              "      <td>Capítulo 4</td>\n",
              "      <td>exodo</td>\n",
              "      <td>Old</td>\n",
              "      <td>é4:1 Entonces Moisés respondió diciendo: He ...</td>\n",
              "      <td>moisés responder creer oier_voz aparecer tener...</td>\n",
              "      <td>Moisés Jehová Jehová Una vara.  El Echala Mois...</td>\n",
              "      <td>PER LOC LOC MISC PER PER PER PER MISC MISC MIS...</td>\n",
              "      <td>CCONJ PROPN VERB VERB VERB VERB NOUN VERB VERB...</td>\n",
              "      <td>0</td>\n",
              "      <td>[0.03082591152021846, 0.04465428328372308, 0.0...</td>\n",
              "      <td>[1, 1, 0, 0, 0, 0, 0, 0, 0, 1, 0, 0, 0, 0, 0, ...</td>\n",
              "    </tr>\n",
              "    <tr>\n",
              "      <th>4</th>\n",
              "      <td>Capítulo 5</td>\n",
              "      <td>exodo</td>\n",
              "      <td>Old</td>\n",
              "      <td>Moisés y Aarón ante Faraón é5:1 Después Moisé...</td>\n",
              "      <td>moisés_aarón faraón moisés_aarón entrar presen...</td>\n",
              "      <td>Moisés Aarón Faraón Moisés Aarón Faraón Jehová...</td>\n",
              "      <td>MISC LOC LOC MISC MISC PER MISC LOC PER LOC LO...</td>\n",
              "      <td>PROPN PROPN PROPN CCONJ PROPN PROPN VERB NOUN ...</td>\n",
              "      <td>0</td>\n",
              "      <td>[0.0, 0.04149096468105849, 0.0, 0.0, 0.0, 0.0,...</td>\n",
              "      <td>[0, 1, 0, 0, 0, 0, 0, 0, 0, 1, 0, 0, 0, 0, 0, ...</td>\n",
              "    </tr>\n",
              "  </tbody>\n",
              "</table>\n",
              "</div>\n",
              "      <button class=\"colab-df-convert\" onclick=\"convertToInteractive('df-fdda8e08-f4d7-4482-b34b-3d5c72ab5ab0')\"\n",
              "              title=\"Convert this dataframe to an interactive table.\"\n",
              "              style=\"display:none;\">\n",
              "        \n",
              "  <svg xmlns=\"http://www.w3.org/2000/svg\" height=\"24px\"viewBox=\"0 0 24 24\"\n",
              "       width=\"24px\">\n",
              "    <path d=\"M0 0h24v24H0V0z\" fill=\"none\"/>\n",
              "    <path d=\"M18.56 5.44l.94 2.06.94-2.06 2.06-.94-2.06-.94-.94-2.06-.94 2.06-2.06.94zm-11 1L8.5 8.5l.94-2.06 2.06-.94-2.06-.94L8.5 2.5l-.94 2.06-2.06.94zm10 10l.94 2.06.94-2.06 2.06-.94-2.06-.94-.94-2.06-.94 2.06-2.06.94z\"/><path d=\"M17.41 7.96l-1.37-1.37c-.4-.4-.92-.59-1.43-.59-.52 0-1.04.2-1.43.59L10.3 9.45l-7.72 7.72c-.78.78-.78 2.05 0 2.83L4 21.41c.39.39.9.59 1.41.59.51 0 1.02-.2 1.41-.59l7.78-7.78 2.81-2.81c.8-.78.8-2.07 0-2.86zM5.41 20L4 18.59l7.72-7.72 1.47 1.35L5.41 20z\"/>\n",
              "  </svg>\n",
              "      </button>\n",
              "      \n",
              "  <style>\n",
              "    .colab-df-container {\n",
              "      display:flex;\n",
              "      flex-wrap:wrap;\n",
              "      gap: 12px;\n",
              "    }\n",
              "\n",
              "    .colab-df-convert {\n",
              "      background-color: #E8F0FE;\n",
              "      border: none;\n",
              "      border-radius: 50%;\n",
              "      cursor: pointer;\n",
              "      display: none;\n",
              "      fill: #1967D2;\n",
              "      height: 32px;\n",
              "      padding: 0 0 0 0;\n",
              "      width: 32px;\n",
              "    }\n",
              "\n",
              "    .colab-df-convert:hover {\n",
              "      background-color: #E2EBFA;\n",
              "      box-shadow: 0px 1px 2px rgba(60, 64, 67, 0.3), 0px 1px 3px 1px rgba(60, 64, 67, 0.15);\n",
              "      fill: #174EA6;\n",
              "    }\n",
              "\n",
              "    [theme=dark] .colab-df-convert {\n",
              "      background-color: #3B4455;\n",
              "      fill: #D2E3FC;\n",
              "    }\n",
              "\n",
              "    [theme=dark] .colab-df-convert:hover {\n",
              "      background-color: #434B5C;\n",
              "      box-shadow: 0px 1px 3px 1px rgba(0, 0, 0, 0.15);\n",
              "      filter: drop-shadow(0px 1px 2px rgba(0, 0, 0, 0.3));\n",
              "      fill: #FFFFFF;\n",
              "    }\n",
              "  </style>\n",
              "\n",
              "      <script>\n",
              "        const buttonEl =\n",
              "          document.querySelector('#df-fdda8e08-f4d7-4482-b34b-3d5c72ab5ab0 button.colab-df-convert');\n",
              "        buttonEl.style.display =\n",
              "          google.colab.kernel.accessAllowed ? 'block' : 'none';\n",
              "\n",
              "        async function convertToInteractive(key) {\n",
              "          const element = document.querySelector('#df-fdda8e08-f4d7-4482-b34b-3d5c72ab5ab0');\n",
              "          const dataTable =\n",
              "            await google.colab.kernel.invokeFunction('convertToInteractive',\n",
              "                                                     [key], {});\n",
              "          if (!dataTable) return;\n",
              "\n",
              "          const docLinkHtml = 'Like what you see? Visit the ' +\n",
              "            '<a target=\"_blank\" href=https://colab.research.google.com/notebooks/data_table.ipynb>data table notebook</a>'\n",
              "            + ' to learn more about interactive tables.';\n",
              "          element.innerHTML = '';\n",
              "          dataTable['output_type'] = 'display_data';\n",
              "          await google.colab.output.renderOutput(dataTable, element);\n",
              "          const docLink = document.createElement('div');\n",
              "          docLink.innerHTML = docLinkHtml;\n",
              "          element.appendChild(docLink);\n",
              "        }\n",
              "      </script>\n",
              "    </div>\n",
              "  </div>\n",
              "  "
            ]
          },
          "metadata": {},
          "execution_count": 17
        }
      ],
      "source": [
        "dataset.head()"
      ]
    },
    {
      "cell_type": "markdown",
      "metadata": {
        "id": "xS03vSfmmo3h"
      },
      "source": [
        "####  **2. Word2vec/FastText based representation or Doc2Vec vectorization.** \n"
      ]
    },
    {
      "cell_type": "code",
      "execution_count": 18,
      "metadata": {
        "colab": {
          "base_uri": "https://localhost:8080/"
        },
        "id": "tEyOJnECQCUz",
        "outputId": "0f190e86-8792-450f-ebf6-c1b220b840e2"
      },
      "outputs": [
        {
          "output_type": "stream",
          "name": "stdout",
          "text": [
            "CPU times: user 12.9 s, sys: 142 ms, total: 13.1 s\n",
            "Wall time: 7.02 s\n"
          ]
        }
      ],
      "source": [
        "%%time\n",
        "class IterableSentence_fromfile(object):\n",
        "    def __init__(self, filename):\n",
        "        self.__filename = filename\n",
        "    \n",
        "    def __iter__(self):\n",
        "        for line in open(self.__filename):\n",
        "            # assume there's one sentence per line, tokens separated by whitespace\n",
        "            yield line.split()\n",
        "\n",
        "sentences = IterableSentence_fromfile(\"clean_text.txt\") # a memory-friendly iterator\n",
        "\n",
        "# Train a Word2Vec \n",
        "model_w2v = Word2Vec(sentences, vector_size=200, window=5, sg=1, seed=42)\n",
        "model_w2v.save(\"model_w2v_text.model\")\n",
        "\n",
        "word_vectors = model_w2v.wv\n",
        "word_vectors.save(\"model_w2v_text.wordvectors\")\n",
        "#model_w2v = Word2Vec.load(\"model_w2v_text.model\")\n",
        "\n",
        "wv = KeyedVectors.load(\"model_w2v_text.wordvectors\", mmap='r')"
      ]
    },
    {
      "cell_type": "code",
      "execution_count": 19,
      "metadata": {
        "colab": {
          "base_uri": "https://localhost:8080/"
        },
        "id": "OwE15wxCzddm",
        "outputId": "16b246ed-fefe-4e00-fa90-888437f9a70e"
      },
      "outputs": [
        {
          "output_type": "stream",
          "name": "stderr",
          "text": [
            "/usr/local/lib/python3.10/dist-packages/sklearn/model_selection/_split.py:700: UserWarning: The least populated class in y has only 1 members, which is less than n_splits=5.\n",
            "  warnings.warn(\n"
          ]
        },
        {
          "output_type": "stream",
          "name": "stdout",
          "text": [
            "Best hyperparameters: {'C': 10, 'kernel': 'poly'}\n",
            "Accuracy on test set: 0.5365168539325843\n"
          ]
        }
      ],
      "source": [
        "# Load pre-trained Word2Vec model\n",
        "wv = KeyedVectors.load(\"model_w2v_text.wordvectors\", mmap='r')\n",
        "\n",
        "# Read data and labels\n",
        "with open('clean_text.txt', 'r') as f:\n",
        "    data = [line.split(' ') for line in f.readlines()]\n",
        "\n",
        "labels = dataset['Book'].values\n",
        "#labels = dataset['Testament'].values\n",
        "\n",
        "# Split data into train and test sets\n",
        "train_data, test_data, train_labels, test_labels = train_test_split(data, labels, test_size=0.3, random_state=42)\n",
        "\n",
        "# Convert each sentence to its embedding representation using Word2Vec model\n",
        "train_embeddings = []\n",
        "for sentence in train_data:\n",
        "    embeddings = []\n",
        "    for word in sentence:\n",
        "        if word in wv:\n",
        "            embeddings.append(wv[word])\n",
        "    if len(embeddings) > 0:\n",
        "        train_embeddings.append(sum(embeddings) / len(embeddings))\n",
        "    else:\n",
        "        train_embeddings.append([0] * wv.vector_size)\n",
        "\n",
        "test_embeddings = []\n",
        "for sentence in test_data:\n",
        "    embeddings = []\n",
        "    for word in sentence:\n",
        "        if word in wv:\n",
        "            embeddings.append(wv[word])\n",
        "    if len(embeddings) > 0:\n",
        "        test_embeddings.append(sum(embeddings) / len(embeddings))\n",
        "    else:\n",
        "        test_embeddings.append([0] * wv.vector_size)\n",
        "\n",
        "# Train SVM classifier using GridSearchCV for hyperparameter tuning\n",
        "svm = SVC()\n",
        "param_grid = {'C': [0.1, 1, 10], 'kernel': ['linear', 'rbf', \"poly\"]}\n",
        "grid_search = GridSearchCV(svm, param_grid, cv=5)\n",
        "grid_search.fit(train_embeddings, train_labels)\n",
        "\n",
        "# Print the best hyperparameters\n",
        "print(\"Best hyperparameters:\", grid_search.best_params_)\n",
        "\n",
        "# Evaluate the performance of the classifier on the test set\n",
        "svm = SVC(C=grid_search.best_params_['C'], kernel=grid_search.best_params_['kernel'])\n",
        "svm.fit(train_embeddings, train_labels)\n",
        "test_predictions = svm.predict(test_embeddings)\n",
        "accuracy = accuracy_score(test_labels, test_predictions)\n",
        "print(\"Accuracy on test set:\", accuracy)"
      ]
    },
    {
      "cell_type": "code",
      "execution_count": 20,
      "metadata": {
        "colab": {
          "base_uri": "https://localhost:8080/"
        },
        "id": "g1Bnmc5HHoIQ",
        "outputId": "15d6e6fd-a501-4a43-d475-af572e74c417"
      },
      "outputs": [
        {
          "output_type": "stream",
          "name": "stderr",
          "text": [
            "<ipython-input-20-88de64ad184a>:14: DeprecationWarning: Call to deprecated `docvecs` (The `docvecs` property has been renamed `dv`.).\n",
            "  vector = model.docvecs[i]\n",
            "/usr/local/lib/python3.10/dist-packages/sklearn/model_selection/_split.py:700: UserWarning: The least populated class in y has only 1 members, which is less than n_splits=5.\n",
            "  warnings.warn(\n"
          ]
        },
        {
          "output_type": "stream",
          "name": "stdout",
          "text": [
            "Best hyperparameters: {'C': 10, 'kernel': 'rbf'}\n",
            "Accuracy on test set: 0.5393258426966292\n"
          ]
        }
      ],
      "source": [
        "#Doc2Vec\n",
        "tagged_docs = []\n",
        "for i, doc in enumerate(corpus_def):\n",
        "    tagged_doc = TaggedDocument(words=doc, tags=[i])\n",
        "    tagged_docs.append(tagged_doc)\n",
        "\n",
        "\n",
        "# train doc2vec model\n",
        "model = Doc2Vec(tagged_docs, vector_size=100, window=5, min_count=1, epochs=20)\n",
        "\n",
        "# get document vectors\n",
        "doc_vectors = []\n",
        "for i in range(len(corpus_def)):\n",
        "    vector = model.docvecs[i]\n",
        "    doc_vectors.append(vector)\n",
        "\n",
        "labels = dataset['Book'].values\n",
        "\n",
        "# Split data into train and test sets\n",
        "train_data, test_data, train_labels, test_labels = train_test_split(doc_vectors, labels, test_size=0.3, random_state=42)\n",
        "\n",
        "svm = SVC()\n",
        "param_grid = {'C': [0.1, 1, 10], 'kernel': ['linear', 'rbf']}\n",
        "grid_search = GridSearchCV(svm, param_grid, cv=5)\n",
        "grid_search.fit(train_data, train_labels)\n",
        "\n",
        "# Print the best hyperparameters\n",
        "print(\"Best hyperparameters:\", grid_search.best_params_)\n",
        "\n",
        "# Evaluate the performance of the classifier on the test set\n",
        "svm = SVC(C=grid_search.best_params_['C'], kernel=grid_search.best_params_['kernel'])\n",
        "svm.fit(train_data, train_labels)\n",
        "test_predictions = svm.predict(test_data)\n",
        "accuracy = accuracy_score(test_labels, test_predictions)\n",
        "print(\"Accuracy on test set:\", accuracy)"
      ]
    },
    {
      "cell_type": "markdown",
      "metadata": {
        "id": "TyiLHOAqek2p"
      },
      "source": [
        "- **Add a column to our dataset to each of the vectorizations**"
      ]
    },
    {
      "cell_type": "code",
      "execution_count": 21,
      "metadata": {
        "id": "TqyuEmCFek22"
      },
      "outputs": [],
      "source": [
        "vectors = []\n",
        "for sentence in dataset[\"Clean_text\"]:\n",
        "    embeddings = []\n",
        "    for word in sentence:\n",
        "        if word in wv:\n",
        "            embeddings.append(wv[word])\n",
        "    if len(embeddings) > 0:\n",
        "        vectors.append(sum(embeddings) / len(embeddings))\n",
        "    else:\n",
        "        vectors.append([0] * wv.vector_size)\n",
        "\n",
        "dataset[\"word2vec\"] = vectors\n",
        "\n",
        "vectors = [model.infer_vector(text.split()) for text in dataset['Clean_text']]\n",
        "dataset[\"doc2vec\"] = vectors"
      ]
    },
    {
      "cell_type": "code",
      "execution_count": 22,
      "metadata": {
        "id": "n2jJCEs7NW9l",
        "colab": {
          "base_uri": "https://localhost:8080/",
          "height": 1000
        },
        "outputId": "edec85d2-a31b-4c84-cb09-7c3504f3415a"
      },
      "outputs": [
        {
          "output_type": "execute_result",
          "data": {
            "text/plain": [
              "      Chapter   Book Testament  \\\n",
              "0  Capítulo 1  exodo       Old   \n",
              "1  Capítulo 2  exodo       Old   \n",
              "2  Capítulo 3  exodo       Old   \n",
              "3  Capítulo 4  exodo       Old   \n",
              "4  Capítulo 5  exodo       Old   \n",
              "\n",
              "                                                Text  \\\n",
              "0   Aflicción de los israelitas en Egipto 1:1 Est...   \n",
              "1   Nacimiento de Moisés é2:1 Un varón de la fami...   \n",
              "2   Llamamiento de Moisésé3:1 Apacentando Moisés ...   \n",
              "3    é4:1 Entonces Moisés respondió diciendo: He ...   \n",
              "4   Moisés y Aarón ante Faraón é5:1 Después Moisé...   \n",
              "\n",
              "                                          Clean_text  \\\n",
              "0  aflicción israelita egipto nombre israel entra...   \n",
              "1  nacimiento moisés varón familia leví tomar muj...   \n",
              "2  llamamiento moisésé moisés oveja jetro_suegro ...   \n",
              "3  moisés responder creer oier_voz aparecer tener...   \n",
              "4  moisés_aarón faraón moisés_aarón entrar presen...   \n",
              "\n",
              "                                            Entities  \\\n",
              "0  Egipto Israel Egipto Jacob Rubén Simeón Leví J...   \n",
              "1  Nacimiento de Moisés é Un varón de la familia ...   \n",
              "2  Llamamiento de Moisésé Apacentando Moisés Jetr...   \n",
              "3  Moisés Jehová Jehová Una vara.  El Echala Mois...   \n",
              "4  Moisés Aarón Faraón Moisés Aarón Faraón Jehová...   \n",
              "\n",
              "                                       Entities_labs  \\\n",
              "0  LOC LOC LOC PER PER PER MISC ORG PER PER LOC P...   \n",
              "1  MISC PER PER PER LOC PER PER PER PER PER MISC ...   \n",
              "2  ORG PER PER LOC LOC PER PER LOC LOC PER MISC M...   \n",
              "3  PER LOC LOC MISC PER PER PER PER MISC MISC MIS...   \n",
              "4  MISC LOC LOC MISC MISC PER MISC LOC PER LOC LO...   \n",
              "\n",
              "                                            Pos_tags  Binary_testament  \\\n",
              "0  PROPN NOUN PROPN NOUN NOUN PROPN VERB PROPN PR...                 0   \n",
              "1  NOUN PROPN CCONJ NOUN NOUN PROPN VERB NOUN NOU...                 0   \n",
              "2  NOUN PROPN NUM PROPN NOUN PROPN NOUN NOUN PROP...                 0   \n",
              "3  CCONJ PROPN VERB VERB VERB VERB NOUN VERB VERB...                 0   \n",
              "4  PROPN PROPN PROPN CCONJ PROPN PROPN VERB NOUN ...                 0   \n",
              "\n",
              "                                              TF-IDF  \\\n",
              "0  [0.03611773378849263, 0.052319994336570294, 0....   \n",
              "1  [0.06341435350321382, 0.0, 0.0, 0.0, 0.0, 0.0,...   \n",
              "2  [0.0, 0.09712090059455612, 0.0, 0.0, 0.0, 0.0,...   \n",
              "3  [0.03082591152021846, 0.04465428328372308, 0.0...   \n",
              "4  [0.0, 0.04149096468105849, 0.0, 0.0, 0.0, 0.0,...   \n",
              "\n",
              "                                                 BoW  \\\n",
              "0  [1, 1, 1, 1, 1, 1, 1, 1, 1, 1, 1, 1, 1, 1, 1, ...   \n",
              "1  [2, 0, 0, 0, 0, 0, 0, 0, 0, 0, 0, 0, 0, 0, 0, ...   \n",
              "2  [0, 2, 0, 0, 0, 0, 0, 0, 0, 1, 0, 0, 0, 0, 0, ...   \n",
              "3  [1, 1, 0, 0, 0, 0, 0, 0, 0, 1, 0, 0, 0, 0, 0, ...   \n",
              "4  [0, 1, 0, 0, 0, 0, 0, 0, 0, 1, 0, 0, 0, 0, 0, ...   \n",
              "\n",
              "                                            word2vec  \\\n",
              "0  [0.008967561, -0.010941909, -0.1033726, 0.0623...   \n",
              "1  [0.009525042, -0.0149832, -0.09827053, 0.06070...   \n",
              "2  [0.009035833, -0.011436829, -0.10274766, 0.062...   \n",
              "3  [0.009024978, -0.0113581065, -0.1028471, 0.062...   \n",
              "4  [0.009405379, -0.014115686, -0.09936573, 0.061...   \n",
              "\n",
              "                                             doc2vec  \n",
              "0  [-0.9271143, -0.57347894, -0.32177782, 0.08499...  \n",
              "1  [-1.8490782, -0.53745496, 0.19697489, 0.617187...  \n",
              "2  [-1.1196737, -0.63924783, 0.29954413, 0.072529...  \n",
              "3  [-0.72505957, -0.30992976, -0.02808709, 1.0109...  \n",
              "4  [-0.75561833, -0.47295246, -0.23102781, 0.1600...  "
            ],
            "text/html": [
              "\n",
              "  <div id=\"df-adf1325d-902a-4c89-b284-58de6740494a\">\n",
              "    <div class=\"colab-df-container\">\n",
              "      <div>\n",
              "<style scoped>\n",
              "    .dataframe tbody tr th:only-of-type {\n",
              "        vertical-align: middle;\n",
              "    }\n",
              "\n",
              "    .dataframe tbody tr th {\n",
              "        vertical-align: top;\n",
              "    }\n",
              "\n",
              "    .dataframe thead th {\n",
              "        text-align: right;\n",
              "    }\n",
              "</style>\n",
              "<table border=\"1\" class=\"dataframe\">\n",
              "  <thead>\n",
              "    <tr style=\"text-align: right;\">\n",
              "      <th></th>\n",
              "      <th>Chapter</th>\n",
              "      <th>Book</th>\n",
              "      <th>Testament</th>\n",
              "      <th>Text</th>\n",
              "      <th>Clean_text</th>\n",
              "      <th>Entities</th>\n",
              "      <th>Entities_labs</th>\n",
              "      <th>Pos_tags</th>\n",
              "      <th>Binary_testament</th>\n",
              "      <th>TF-IDF</th>\n",
              "      <th>BoW</th>\n",
              "      <th>word2vec</th>\n",
              "      <th>doc2vec</th>\n",
              "    </tr>\n",
              "  </thead>\n",
              "  <tbody>\n",
              "    <tr>\n",
              "      <th>0</th>\n",
              "      <td>Capítulo 1</td>\n",
              "      <td>exodo</td>\n",
              "      <td>Old</td>\n",
              "      <td>Aflicción de los israelitas en Egipto 1:1 Est...</td>\n",
              "      <td>aflicción israelita egipto nombre israel entra...</td>\n",
              "      <td>Egipto Israel Egipto Jacob Rubén Simeón Leví J...</td>\n",
              "      <td>LOC LOC LOC PER PER PER MISC ORG PER PER LOC P...</td>\n",
              "      <td>PROPN NOUN PROPN NOUN NOUN PROPN VERB PROPN PR...</td>\n",
              "      <td>0</td>\n",
              "      <td>[0.03611773378849263, 0.052319994336570294, 0....</td>\n",
              "      <td>[1, 1, 1, 1, 1, 1, 1, 1, 1, 1, 1, 1, 1, 1, 1, ...</td>\n",
              "      <td>[0.008967561, -0.010941909, -0.1033726, 0.0623...</td>\n",
              "      <td>[-0.9271143, -0.57347894, -0.32177782, 0.08499...</td>\n",
              "    </tr>\n",
              "    <tr>\n",
              "      <th>1</th>\n",
              "      <td>Capítulo 2</td>\n",
              "      <td>exodo</td>\n",
              "      <td>Old</td>\n",
              "      <td>Nacimiento de Moisés é2:1 Un varón de la fami...</td>\n",
              "      <td>nacimiento moisés varón familia leví tomar muj...</td>\n",
              "      <td>Nacimiento de Moisés é Un varón de la familia ...</td>\n",
              "      <td>MISC PER PER PER LOC PER PER PER PER PER MISC ...</td>\n",
              "      <td>NOUN PROPN CCONJ NOUN NOUN PROPN VERB NOUN NOU...</td>\n",
              "      <td>0</td>\n",
              "      <td>[0.06341435350321382, 0.0, 0.0, 0.0, 0.0, 0.0,...</td>\n",
              "      <td>[2, 0, 0, 0, 0, 0, 0, 0, 0, 0, 0, 0, 0, 0, 0, ...</td>\n",
              "      <td>[0.009525042, -0.0149832, -0.09827053, 0.06070...</td>\n",
              "      <td>[-1.8490782, -0.53745496, 0.19697489, 0.617187...</td>\n",
              "    </tr>\n",
              "    <tr>\n",
              "      <th>2</th>\n",
              "      <td>Capítulo 3</td>\n",
              "      <td>exodo</td>\n",
              "      <td>Old</td>\n",
              "      <td>Llamamiento de Moisésé3:1 Apacentando Moisés ...</td>\n",
              "      <td>llamamiento moisésé moisés oveja jetro_suegro ...</td>\n",
              "      <td>Llamamiento de Moisésé Apacentando Moisés Jetr...</td>\n",
              "      <td>ORG PER PER LOC LOC PER PER LOC LOC PER MISC M...</td>\n",
              "      <td>NOUN PROPN NUM PROPN NOUN PROPN NOUN NOUN PROP...</td>\n",
              "      <td>0</td>\n",
              "      <td>[0.0, 0.09712090059455612, 0.0, 0.0, 0.0, 0.0,...</td>\n",
              "      <td>[0, 2, 0, 0, 0, 0, 0, 0, 0, 1, 0, 0, 0, 0, 0, ...</td>\n",
              "      <td>[0.009035833, -0.011436829, -0.10274766, 0.062...</td>\n",
              "      <td>[-1.1196737, -0.63924783, 0.29954413, 0.072529...</td>\n",
              "    </tr>\n",
              "    <tr>\n",
              "      <th>3</th>\n",
              "      <td>Capítulo 4</td>\n",
              "      <td>exodo</td>\n",
              "      <td>Old</td>\n",
              "      <td>é4:1 Entonces Moisés respondió diciendo: He ...</td>\n",
              "      <td>moisés responder creer oier_voz aparecer tener...</td>\n",
              "      <td>Moisés Jehová Jehová Una vara.  El Echala Mois...</td>\n",
              "      <td>PER LOC LOC MISC PER PER PER PER MISC MISC MIS...</td>\n",
              "      <td>CCONJ PROPN VERB VERB VERB VERB NOUN VERB VERB...</td>\n",
              "      <td>0</td>\n",
              "      <td>[0.03082591152021846, 0.04465428328372308, 0.0...</td>\n",
              "      <td>[1, 1, 0, 0, 0, 0, 0, 0, 0, 1, 0, 0, 0, 0, 0, ...</td>\n",
              "      <td>[0.009024978, -0.0113581065, -0.1028471, 0.062...</td>\n",
              "      <td>[-0.72505957, -0.30992976, -0.02808709, 1.0109...</td>\n",
              "    </tr>\n",
              "    <tr>\n",
              "      <th>4</th>\n",
              "      <td>Capítulo 5</td>\n",
              "      <td>exodo</td>\n",
              "      <td>Old</td>\n",
              "      <td>Moisés y Aarón ante Faraón é5:1 Después Moisé...</td>\n",
              "      <td>moisés_aarón faraón moisés_aarón entrar presen...</td>\n",
              "      <td>Moisés Aarón Faraón Moisés Aarón Faraón Jehová...</td>\n",
              "      <td>MISC LOC LOC MISC MISC PER MISC LOC PER LOC LO...</td>\n",
              "      <td>PROPN PROPN PROPN CCONJ PROPN PROPN VERB NOUN ...</td>\n",
              "      <td>0</td>\n",
              "      <td>[0.0, 0.04149096468105849, 0.0, 0.0, 0.0, 0.0,...</td>\n",
              "      <td>[0, 1, 0, 0, 0, 0, 0, 0, 0, 1, 0, 0, 0, 0, 0, ...</td>\n",
              "      <td>[0.009405379, -0.014115686, -0.09936573, 0.061...</td>\n",
              "      <td>[-0.75561833, -0.47295246, -0.23102781, 0.1600...</td>\n",
              "    </tr>\n",
              "  </tbody>\n",
              "</table>\n",
              "</div>\n",
              "      <button class=\"colab-df-convert\" onclick=\"convertToInteractive('df-adf1325d-902a-4c89-b284-58de6740494a')\"\n",
              "              title=\"Convert this dataframe to an interactive table.\"\n",
              "              style=\"display:none;\">\n",
              "        \n",
              "  <svg xmlns=\"http://www.w3.org/2000/svg\" height=\"24px\"viewBox=\"0 0 24 24\"\n",
              "       width=\"24px\">\n",
              "    <path d=\"M0 0h24v24H0V0z\" fill=\"none\"/>\n",
              "    <path d=\"M18.56 5.44l.94 2.06.94-2.06 2.06-.94-2.06-.94-.94-2.06-.94 2.06-2.06.94zm-11 1L8.5 8.5l.94-2.06 2.06-.94-2.06-.94L8.5 2.5l-.94 2.06-2.06.94zm10 10l.94 2.06.94-2.06 2.06-.94-2.06-.94-.94-2.06-.94 2.06-2.06.94z\"/><path d=\"M17.41 7.96l-1.37-1.37c-.4-.4-.92-.59-1.43-.59-.52 0-1.04.2-1.43.59L10.3 9.45l-7.72 7.72c-.78.78-.78 2.05 0 2.83L4 21.41c.39.39.9.59 1.41.59.51 0 1.02-.2 1.41-.59l7.78-7.78 2.81-2.81c.8-.78.8-2.07 0-2.86zM5.41 20L4 18.59l7.72-7.72 1.47 1.35L5.41 20z\"/>\n",
              "  </svg>\n",
              "      </button>\n",
              "      \n",
              "  <style>\n",
              "    .colab-df-container {\n",
              "      display:flex;\n",
              "      flex-wrap:wrap;\n",
              "      gap: 12px;\n",
              "    }\n",
              "\n",
              "    .colab-df-convert {\n",
              "      background-color: #E8F0FE;\n",
              "      border: none;\n",
              "      border-radius: 50%;\n",
              "      cursor: pointer;\n",
              "      display: none;\n",
              "      fill: #1967D2;\n",
              "      height: 32px;\n",
              "      padding: 0 0 0 0;\n",
              "      width: 32px;\n",
              "    }\n",
              "\n",
              "    .colab-df-convert:hover {\n",
              "      background-color: #E2EBFA;\n",
              "      box-shadow: 0px 1px 2px rgba(60, 64, 67, 0.3), 0px 1px 3px 1px rgba(60, 64, 67, 0.15);\n",
              "      fill: #174EA6;\n",
              "    }\n",
              "\n",
              "    [theme=dark] .colab-df-convert {\n",
              "      background-color: #3B4455;\n",
              "      fill: #D2E3FC;\n",
              "    }\n",
              "\n",
              "    [theme=dark] .colab-df-convert:hover {\n",
              "      background-color: #434B5C;\n",
              "      box-shadow: 0px 1px 3px 1px rgba(0, 0, 0, 0.15);\n",
              "      filter: drop-shadow(0px 1px 2px rgba(0, 0, 0, 0.3));\n",
              "      fill: #FFFFFF;\n",
              "    }\n",
              "  </style>\n",
              "\n",
              "      <script>\n",
              "        const buttonEl =\n",
              "          document.querySelector('#df-adf1325d-902a-4c89-b284-58de6740494a button.colab-df-convert');\n",
              "        buttonEl.style.display =\n",
              "          google.colab.kernel.accessAllowed ? 'block' : 'none';\n",
              "\n",
              "        async function convertToInteractive(key) {\n",
              "          const element = document.querySelector('#df-adf1325d-902a-4c89-b284-58de6740494a');\n",
              "          const dataTable =\n",
              "            await google.colab.kernel.invokeFunction('convertToInteractive',\n",
              "                                                     [key], {});\n",
              "          if (!dataTable) return;\n",
              "\n",
              "          const docLinkHtml = 'Like what you see? Visit the ' +\n",
              "            '<a target=\"_blank\" href=https://colab.research.google.com/notebooks/data_table.ipynb>data table notebook</a>'\n",
              "            + ' to learn more about interactive tables.';\n",
              "          element.innerHTML = '';\n",
              "          dataTable['output_type'] = 'display_data';\n",
              "          await google.colab.output.renderOutput(dataTable, element);\n",
              "          const docLink = document.createElement('div');\n",
              "          docLink.innerHTML = docLinkHtml;\n",
              "          element.appendChild(docLink);\n",
              "        }\n",
              "      </script>\n",
              "    </div>\n",
              "  </div>\n",
              "  "
            ]
          },
          "metadata": {},
          "execution_count": 22
        }
      ],
      "source": [
        "dataset.head()"
      ]
    },
    {
      "cell_type": "markdown",
      "metadata": {
        "id": "J01gH3JPtC-3"
      },
      "source": [
        "####  **3. Extraction of themes and vector representation of the documents using the LDA algorithm.**"
      ]
    },
    {
      "cell_type": "code",
      "execution_count": 23,
      "metadata": {
        "id": "YeJ9uMw_oNuZ"
      },
      "outputs": [],
      "source": [
        "from gensim.models.ldamodel import LdaModel\n",
        "import pyLDAvis.gensim as gensimvis\n",
        "import pyLDAvis\n",
        "from gensim.models.coherencemodel import CoherenceModel"
      ]
    },
    {
      "cell_type": "code",
      "execution_count": 24,
      "metadata": {
        "colab": {
          "base_uri": "https://localhost:8080/"
        },
        "id": "-iuNfxo95msG",
        "outputId": "b46de216-6619-465f-b2f5-36e2477b17b1"
      },
      "outputs": [
        {
          "output_type": "stream",
          "name": "stderr",
          "text": [
            "/usr/local/lib/python3.10/dist-packages/ipykernel/ipkernel.py:283: DeprecationWarning: `should_run_async` will not call `transform_cell` automatically in the future. Please pass the result to `transformed_cell` argument and any exception that happen during thetransform in `preprocessing_exc_tuple` in IPython 7.17 and above.\n",
            "  and should_run_async(code)\n"
          ]
        }
      ],
      "source": [
        "# create the corpus BoW representation (LDA is based on BoW representation)\n",
        "# list of tuples (token, frequency at each doc)\n",
        "mycorpus_bow = [D.doc2bow(doc) for doc in corpus_def]"
      ]
    },
    {
      "cell_type": "code",
      "execution_count": 25,
      "metadata": {
        "colab": {
          "base_uri": "https://localhost:8080/"
        },
        "id": "ypPixc-gVaz_",
        "outputId": "e301d901-e65f-49f9-f743-4eb306f543bf"
      },
      "outputs": [
        {
          "output_type": "stream",
          "name": "stderr",
          "text": [
            "/usr/local/lib/python3.10/dist-packages/ipykernel/ipkernel.py:283: DeprecationWarning: `should_run_async` will not call `transform_cell` automatically in the future. Please pass the result to `transformed_cell` argument and any exception that happen during thetransform in `preprocessing_exc_tuple` in IPython 7.17 and above.\n",
            "  and should_run_async(code)\n",
            "WARNING:gensim.models.ldamodel:too few updates, training might not converge; consider increasing the number of passes or iterations to improve accuracy\n",
            "WARNING:gensim.models.ldamodel:too few updates, training might not converge; consider increasing the number of passes or iterations to improve accuracy\n",
            "WARNING:gensim.models.ldamodel:too few updates, training might not converge; consider increasing the number of passes or iterations to improve accuracy\n",
            "WARNING:gensim.models.ldamodel:too few updates, training might not converge; consider increasing the number of passes or iterations to improve accuracy\n",
            "WARNING:gensim.models.ldamodel:too few updates, training might not converge; consider increasing the number of passes or iterations to improve accuracy\n",
            "WARNING:gensim.models.ldamodel:too few updates, training might not converge; consider increasing the number of passes or iterations to improve accuracy\n",
            "WARNING:gensim.models.ldamodel:too few updates, training might not converge; consider increasing the number of passes or iterations to improve accuracy\n",
            "WARNING:gensim.models.ldamodel:too few updates, training might not converge; consider increasing the number of passes or iterations to improve accuracy\n",
            "WARNING:gensim.models.ldamodel:too few updates, training might not converge; consider increasing the number of passes or iterations to improve accuracy\n",
            "WARNING:gensim.models.ldamodel:too few updates, training might not converge; consider increasing the number of passes or iterations to improve accuracy\n",
            "WARNING:gensim.models.ldamodel:too few updates, training might not converge; consider increasing the number of passes or iterations to improve accuracy\n",
            "WARNING:gensim.models.ldamodel:too few updates, training might not converge; consider increasing the number of passes or iterations to improve accuracy\n",
            "WARNING:gensim.models.ldamodel:too few updates, training might not converge; consider increasing the number of passes or iterations to improve accuracy\n",
            "WARNING:gensim.models.ldamodel:too few updates, training might not converge; consider increasing the number of passes or iterations to improve accuracy\n",
            "WARNING:gensim.models.ldamodel:too few updates, training might not converge; consider increasing the number of passes or iterations to improve accuracy\n",
            "WARNING:gensim.models.ldamodel:too few updates, training might not converge; consider increasing the number of passes or iterations to improve accuracy\n",
            "WARNING:gensim.models.ldamodel:too few updates, training might not converge; consider increasing the number of passes or iterations to improve accuracy\n",
            "WARNING:gensim.models.ldamodel:too few updates, training might not converge; consider increasing the number of passes or iterations to improve accuracy\n",
            "WARNING:gensim.models.ldamodel:too few updates, training might not converge; consider increasing the number of passes or iterations to improve accuracy\n",
            "WARNING:gensim.models.ldamodel:too few updates, training might not converge; consider increasing the number of passes or iterations to improve accuracy\n",
            "WARNING:gensim.models.ldamodel:too few updates, training might not converge; consider increasing the number of passes or iterations to improve accuracy\n"
          ]
        }
      ],
      "source": [
        "# Use a coherence model to get the most optimal number of topics \n",
        "results_df = pd.DataFrame(columns=[\"n_topics\", \"coherence\"])\n",
        "for n_topics in range(5, 26):\n",
        "  ldag = LdaModel(corpus=mycorpus_bow, id2word=D, num_topics=n_topics)\n",
        "  coherencemodel = CoherenceModel(ldag, texts=corpus_def, dictionary=D, coherence='c_v')\n",
        "  results = pd.DataFrame(data=[[n_topics, coherencemodel.get_coherence()]], columns=[\"n_topics\", \"coherence\"])\n",
        "  results_df = pd.concat([results_df, results])\n"
      ]
    },
    {
      "cell_type": "code",
      "execution_count": 26,
      "metadata": {
        "colab": {
          "base_uri": "https://localhost:8080/",
          "height": 508
        },
        "id": "bGsKXqerWZMo",
        "outputId": "7706e3ee-64f7-4f9d-f108-ff91af72c8a0"
      },
      "outputs": [
        {
          "output_type": "stream",
          "name": "stderr",
          "text": [
            "/usr/local/lib/python3.10/dist-packages/ipykernel/ipkernel.py:283: DeprecationWarning: `should_run_async` will not call `transform_cell` automatically in the future. Please pass the result to `transformed_cell` argument and any exception that happen during thetransform in `preprocessing_exc_tuple` in IPython 7.17 and above.\n",
            "  and should_run_async(code)\n"
          ]
        },
        {
          "output_type": "execute_result",
          "data": {
            "text/plain": [
              "<BarContainer object of 21 artists>"
            ]
          },
          "metadata": {},
          "execution_count": 26
        },
        {
          "output_type": "display_data",
          "data": {
            "text/plain": [
              "<Figure size 640x480 with 1 Axes>"
            ],
            "image/png": "[encoded data removed]"
          },
          "metadata": {}
        }
      ],
      "source": [
        "plt.bar(results_df[\"n_topics\"], results_df[\"coherence\"])"
      ]
    },
    {
      "cell_type": "code",
      "execution_count": 27,
      "metadata": {
        "colab": {
          "base_uri": "https://localhost:8080/"
        },
        "id": "kozpUiO7Ycg8",
        "outputId": "6cf4dcdb-50c4-4ad0-ecca-1bd23218a741"
      },
      "outputs": [
        {
          "output_type": "stream",
          "name": "stdout",
          "text": [
            "The best number of topics is 6 with the maximum coherence 0.335463101711619\n"
          ]
        },
        {
          "output_type": "stream",
          "name": "stderr",
          "text": [
            "/usr/local/lib/python3.10/dist-packages/ipykernel/ipkernel.py:283: DeprecationWarning: `should_run_async` will not call `transform_cell` automatically in the future. Please pass the result to `transformed_cell` argument and any exception that happen during thetransform in `preprocessing_exc_tuple` in IPython 7.17 and above.\n",
            "  and should_run_async(code)\n"
          ]
        }
      ],
      "source": [
        "max = results_df.loc[results_df[\"coherence\"] == results_df[\"coherence\"].max()]\n",
        "n = max[\"n_topics\"][0]\n",
        "coherence = max[\"coherence\"][0]\n",
        "print(\"The best number of topics is\", n, \"with the maximum coherence\", coherence )"
      ]
    },
    {
      "cell_type": "code",
      "execution_count": 28,
      "metadata": {
        "colab": {
          "base_uri": "https://localhost:8080/"
        },
        "id": "43-taW1H57JX",
        "outputId": "441a4c40-9024-4433-f33f-4ce60d5d5ae1"
      },
      "outputs": [
        {
          "output_type": "stream",
          "name": "stderr",
          "text": [
            "/usr/local/lib/python3.10/dist-packages/ipykernel/ipkernel.py:283: DeprecationWarning: `should_run_async` will not call `transform_cell` automatically in the future. Please pass the result to `transformed_cell` argument and any exception that happen during thetransform in `preprocessing_exc_tuple` in IPython 7.17 and above.\n",
            "  and should_run_async(code)\n",
            "WARNING:gensim.models.ldamodel:too few updates, training might not converge; consider increasing the number of passes or iterations to improve accuracy\n"
          ]
        }
      ],
      "source": [
        "# create the LDA object for best number of topics\n",
        "ldag = LdaModel(corpus=mycorpus_bow, id2word=D, num_topics=n)"
      ]
    },
    {
      "cell_type": "code",
      "execution_count": 29,
      "metadata": {
        "colab": {
          "base_uri": "https://localhost:8080/"
        },
        "id": "h2mcQB-OTY6n",
        "outputId": "d28072bb-3f00-400e-9b1f-71aed4de9fa9"
      },
      "outputs": [
        {
          "output_type": "stream",
          "name": "stderr",
          "text": [
            "/usr/local/lib/python3.10/dist-packages/ipykernel/ipkernel.py:283: DeprecationWarning: `should_run_async` will not call `transform_cell` automatically in the future. Please pass the result to `transformed_cell` argument and any exception that happen during thetransform in `preprocessing_exc_tuple` in IPython 7.17 and above.\n",
            "  and should_run_async(code)\n"
          ]
        }
      ],
      "source": [
        "# CHECK HOW MANY GRAPHS PER ROW AND COLUMN\n",
        "for i in [5, 4, 3, 2]:\n",
        "  if n%i==0:\n",
        "    cols = i\n",
        "    rows = int(n/i)\n",
        "    break\n",
        "  else:\n",
        "    cols = n\n",
        "    rows = 1"
      ]
    },
    {
      "cell_type": "code",
      "execution_count": 30,
      "metadata": {
        "colab": {
          "base_uri": "https://localhost:8080/",
          "height": 638
        },
        "id": "1Br2FxdtTN8r",
        "outputId": "655c406d-f4fd-4e4b-e41d-70e78b0dba8d"
      },
      "outputs": [
        {
          "output_type": "stream",
          "name": "stderr",
          "text": [
            "/usr/local/lib/python3.10/dist-packages/ipykernel/ipkernel.py:283: DeprecationWarning: `should_run_async` will not call `transform_cell` automatically in the future. Please pass the result to `transformed_cell` argument and any exception that happen during thetransform in `preprocessing_exc_tuple` in IPython 7.17 and above.\n",
            "  and should_run_async(code)\n"
          ]
        },
        {
          "output_type": "display_data",
          "data": {
            "text/plain": [
              "<Figure size 2000x1000 with 6 Axes>"
            ],
            "image/png": "[encoded data removed]"
          },
          "metadata": {}
        }
      ],
      "source": [
        "# Plot the topics\n",
        "counter = 0\n",
        "col = 0\n",
        "row = 0\n",
        "\n",
        "fig, axes = plt.subplots(rows, cols, figsize=(20, 10), sharex=True)\n",
        "\n",
        "for i in range(n):\n",
        "  topic_tokens = ldag.show_topic(i, topn=10)\n",
        "  tokens = []\n",
        "  weights = []\n",
        "\n",
        "  for j in range(10):\n",
        "    tokens.append(topic_tokens[j][0])\n",
        "    weights.append(topic_tokens[j][1])\n",
        "\n",
        "  df = pd.DataFrame({'token': tokens, 'weight': weights})\n",
        "  \n",
        "  if rows==1:\n",
        "    sns.barplot(x='weight', y='token', data=df, color='c', orient='h', ax=axes[i])\n",
        "    axes[i].set_title(\"Topic \"+ str(i+1))\n",
        "    \n",
        "  \n",
        "  else:\n",
        "    sns.barplot(x='weight', y='token', data=df, color='c', orient='h', ax=axes[row][col])\n",
        "    axes[row][col].set_title(\"Topic \"+ str(i+1))\n",
        "  \n",
        "  # update parameters\n",
        "  col += 1\n",
        "  counter += 1\n",
        "\n",
        "  # check if we must change of row\n",
        "  if counter == cols:\n",
        "    row += 1\n",
        "    col = 0\n",
        "    counter = 0\n",
        "  \n",
        "\n"
      ]
    },
    {
      "cell_type": "code",
      "execution_count": 31,
      "metadata": {
        "colab": {
          "base_uri": "https://localhost:8080/",
          "height": 956
        },
        "id": "N_RBt2wQ57GX",
        "outputId": "993fec45-ed9c-449e-c2dd-abbb1ec1b2e5"
      },
      "outputs": [
        {
          "output_type": "stream",
          "name": "stderr",
          "text": [
            "/usr/local/lib/python3.10/dist-packages/ipykernel/ipkernel.py:283: DeprecationWarning: `should_run_async` will not call `transform_cell` automatically in the future. Please pass the result to `transformed_cell` argument and any exception that happen during thetransform in `preprocessing_exc_tuple` in IPython 7.17 and above.\n",
            "  and should_run_async(code)\n",
            "/usr/local/lib/python3.10/dist-packages/pyLDAvis/_prepare.py:232: FutureWarning: In a future version of pandas all arguments of DataFrame.drop except for the argument 'labels' will be keyword-only.\n",
            "  head(R).drop('saliency', 1)\n"
          ]
        },
        {
          "output_type": "execute_result",
          "data": {
            "text/plain": [
              "<IPython.core.display.HTML object>"
            ],
            "text/html": [
              "\n",
              "<link rel=\"stylesheet\" type=\"text/css\" href=\"https://cdn.rawgit.com/bmabey/pyLDAvis/files/ldavis.v1.0.0.css\">\n",
              "\n",
              "\n",
              "<div id=\"ldavis_el7821405460572955049527753594\"></div>\n",
              "<script type=\"text/javascript\">\n",
              "\n",
              "var ldavis_el7821405460572955049527753594_data = {\"mdsDat\": {\"x\": [0.009580691176958958, 0.02078813614589946, -0.008209922740887355, 0.004182977159693931, -0.01895025807690272, -0.007391623664762277], \"y\": [-0.00843649234078474, 0.005989322339417301, -0.021632951464272968, 0.004269662828282741, 0.008021079702800093, 0.011789378934557582], \"topics\": [1, 2, 3, 4, 5, 6], \"cluster\": [1, 1, 1, 1, 1, 1], \"Freq\": [31.54957491591887, 22.550719611775126, 17.859151093813875, 11.04425987007578, 8.611472634265407, 8.384821874150942]}, \"tinfo\": {\"Term\": [\"israel\", \"rey\", \"mois\\u00e9s\", \"tomar\", \"hermano\", \"familia\", \"se\\u00f1or\", \"padre\", \"david\", \"morir\", \"sacerdote\", \"sa\\u00fal\", \"a\\u00f1o\", \"palabra\", \"fara\\u00f3n\", \"salir\", \"volver\", \"responder\", \"coraz\\u00f3n\", \"dar\", \"fe\", \"cosa\", \"subir\", \"jos\\u00e9\", \"camino\", \"ley\", \"poner\", \"monte\", \"oh\", \"ver\", \"mundo_mundo\", \"candelabro\", \"verbo\", \"sarai\", \"enviastar\", \"salom\\u00f3n_hiram\", \"himno\", \"edificar\\u00e1\", \"israelal\", \"felipe\", \"difunto\", \"meditad\", \"booz\", \"leva\", \"maridos\", \"plomada\", \"vengativo\", \"blasfemir\", \"ame\", \"conocieseis\", \"perfeccionar\", \"eh\", \"noem\\u00ed\", \"deshonesta\", \"desmedidamente\", \"bautizar_agua\", \"cu\\u00f1ada\", \"conocer\\u00edais\", \"anticristo\", \"dar\\u00e1s_luz\", \"ca\\u00edn\", \"manoa\", \"zorobabel\", \"tar\\u00e9\", \"hijito\", \"jeft\\u00e9\", \"ciego\", \"restaurar\", \"\\u00e1ngel\", \"sans\\u00f3n\", \"cristo\", \"sierva\", \"satan\\u00e1s\", \"se\\u00f1or_jesucristo\", \"hablar\", \"profeta\", \"ej\\u00e9rcito\", \"conocer\", \"marido\", \"mundo\", \"responder\", \"se\\u00f1or\", \"naci\\u00f3n\", \"ver\", \"esp\\u00edritu\", \"mujer\", \"palabra\", \"nombre\", \"oir\", \"jes\\u00fas\", \"saber\", \"haber\", \"poner\", \"padre\", \"luz\", \"amar\", \"amor\", \"hija\", \"siervo\", \"enviar\", \"ciudad\", \"david\", \"volver\", \"israel\", \"dar\", \"cosa\", \"rey\", \"jerusal\\u00e9n\", \"tiempo\", \"salir\", \"hermano\", \"levantar\", \"tomar\", \"var\\u00f3n\", \"oh\", \"jud\\u00e1\", \"reinado_asa\", \"asa\", \"a\\u00f1o_asa\", \"ij\\u00f3n\", \"baasa_edificar\", \"alabadle\", \"baasa\", \"refa\\u00edta\", \"astarot_edrei\", \"edificaron\", \"abiam\", \"meriba\", \"agagueo\", \"tart\\u00e1n\", \"remal\\u00edas\", \"endurezc\\u00e1is_coraz\\u00f3n\", \"jareb\", \"orilla_arroyo\", \"indocto\", \"gesur_maaca\", \"conquista\", \"peka_hijo\", \"evi\", \"egl\\u00f3n\", \"am\\u00e1n_mardoqueo\", \"medeba\", \"pul\", \"abram\", \"jord\\u00e1n_l\\u00edmite\", \"repartir\\u00e1s\", \"pecado_jeroboam\", \"monte_herm\\u00f3n\", \"cr\\u00f3nica_rey\", \"siclo_peso\", \"lleno_incienso\", \"reinado\", \"reino_og\", \"hija_zelofehad\", \"escrito_libro\", \"rey_asiria\", \"rey\", \"joacaz\", \"acaz\", \"israel\", \"mois\\u00e9s\", \"comenzar_reinar\", \"heredad_tribu\", \"jes\\u00fas\", \"reinar_lugar\", \"jud\\u00e1\", \"agua\", \"jerusal\\u00e9n\", \"jud\\u00edo\", \"cielo\", \"coraz\\u00f3n\", \"bestia\", \"lugar\", \"lengua\", \"disc\\u00edpulo\", \"ciudad\", \"ezequ\\u00edas\", \"padre\", \"cosa\", \"mandamiento\", \"salir\", \"mandar\", \"camino\", \"pr\\u00edncipe\", \"tiempo\", \"entrar\", \"palabra\", \"obra\", \"mujer\", \"pasar\", \"reino\", \"hablar\", \"se\\u00f1or\", \"tomar\", \"ver\", \"poner\", \"enviar\", \"siervo\", \"haber\", \"dar\", \"oh\", \"hermano\", \"david\", \"aar\\u00f3n_rociar\", \"hacer_arder\", \"quitar_grosura\", \"expiaci\\u00f3n_degollacer\", \"entra\\u00f1a_ri\\u00f1\\u00f3n\", \"ri\\u00f1\\u00f3n_quitar\", \"le\\u00f1a_fuego\", \"ofrecier\", \"grosura_ijar\", \"derramar_resto\", \"descendiente_gigante\", \"macho_defecto\", \"ganado_vacuno\", \"vianda_ofrenda\", \"a\\u00f1o_jubileo\", \"angustiador\", \"amn\\u00f3n\", \"tebas\", \"contado_quiniento\", \"simea_hermano\", \"justoal\", \"abrir_libro\", \"persiga\", \"clamare\", \"regoc\\u00edjese\", \"degollacer\", \"lisiado_pie\", \"ofrendo\", \"grosura_intestino\", \"postracer\", \"sangre_rociar\", \"cuerpo_ej\\u00e9rcito\", \"absal\\u00f3n\", \"grosura_cubrir\", \"ofrenda\", \"david\", \"sacerdote\", \"zeba_zalmuna\", \"abiatar\", \"ofrecer\", \"expiaci\\u00f3n\", \"sa\\u00fal\", \"salom\\u00f3n\", \"holocausto\", \"jacob\", \"cabeza\", \"espada\", \"oh\", \"justo\", \"hermano\", \"tomar\", \"rey\", \"poner\", \"volver\", \"levantar\", \"malo\", \"enemigo\", \"matar\", \"santo\", \"alma\", \"traer\", \"a\\u00f1o\", \"ciudad\", \"altar\", \"ver\", \"responder\", \"sangre\", \"dar\", \"jud\\u00e1\", \"israel\", \"salir\", \"padre\", \"siervo\", \"se\\u00f1or\", \"haber\", \"cosa\", \"nombre\", \"lugar\", \"coraz\\u00f3n\", \"hablar\", \"palabra\", \"enviar\", \"c\\u00e1mara_atrio\", \"espacio_abierto\", \"codo_ancho\", \"ariel\", \"ca\\u00f1a_ca\\u00f1a\", \"ca\\u00f1a_medir\", \"contristar\", \"hai\", \"glor\\u00edo\", \"vanidad_aflicci\\u00f3n\", \"suceso\", \"quinientos_ca\\u00f1a\", \"edificio_codo\", \"portal\", \"ala_extendido\", \"no\\u00e9_arca\", \"contrist\\u00e9\", \"esclavitud\", \"dag\\u00f3n\", \"querub\\u00edn_palmera\", \"ala_querub\\u00edn\", \"animal_limpio\", \"levantar_baluart\", \"longitud_codo\", \"deteneos\", \"corredor\", \"ancho_codo\", \"ser_viviente\", \"cubrir_oro\", \"sujeto_ley\", \"atrio_exterior\", \"codo_medir\", \"piso\", \"edificio\", \"codo\", \"arca\", \"acampar\", \"no\\u00e9\", \"carne\", \"josu\\u00e9\", \"campo_moab\", \"subir\", \"mois\\u00e9s\", \"reposo\", \"morir\", \"cosa\", \"salir\", \"israel\", \"ezequ\\u00edas\", \"ver\", \"aar\\u00f3n\", \"santo\", \"c\\u00e1mara\", \"obra\", \"ley\", \"conforme\", \"rey\", \"libre\", \"haber\", \"dar\", \"a\\u00f1o\", \"volver\", \"palabra\", \"tomar\", \"hablar\", \"esp\\u00edritu\", \"traer\", \"ciudad\", \"se\\u00f1or\", \"david\", \"siervo\", \"mujer\", \"coraz\\u00f3n\", \"poner\", \"padre\", \"lugar\", \"nombre\", \"jud\\u00e1\", \"flujo\", \"barac\", \"ard\", \"abimelec\", \"jezer\", \"sutela\", \"coatita\", \"bienaventuranza\", \"nemuel\", \"coat_familia\", \"musita\", \"testificado\", \"noa_hogla\", \"sesbasar\", \"merari_familia\", \"areli\", \"milca_tirsa\", \"jahleel\", \"mahlita\", \"s\\u00edsara\", \"tah\\u00e1n\", \"amram\", \"jahzeel\", \"jab\\u00edn_rey\", \"inculpar\", \"semida\", \"hagui\", \"helec\", \"eri\", \"er_on\\u00e1n\", \"malquiel\", \"familia\", \"subael\", \"heber_ceneo\", \"lavar_agua\", \"escudero\", \"inmundo_noche\", \"ciro_rey\", \"fe\", \"monte_gilboa\", \"sa\\u00fal\", \"suegro_mois\\u00e9s\", \"hermano\", \"babilonia\", \"promesa\", \"tabern\\u00e1culo\", \"isaac\", \"tierra_egipto\", \"jos\\u00e9\", \"abraham\", \"lavar_vestido\", \"mois\\u00e9s\", \"tomar\", \"a\\u00f1o\", \"ley\", \"padre\", \"morir\", \"llamar\", \"primog\\u00e9nito\", \"hija\", \"responder\", \"esa\\u00fa\", \"palabra\", \"israel\", \"mujer\", \"se\\u00f1or\", \"salir\", \"poner\", \"conforme\", \"sacar\", \"var\\u00f3n\", \"sacerdote\", \"siervo\", \"jerusal\\u00e9n\", \"hablar\", \"camino\", \"rey\", \"dar\", \"levantar\", \"ver\", \"nombre\", \"david\", \"ciudad\", \"hijo_het\", \"efr\\u00f3n\", \"reposo_profanar\", \"israelde\", \"perdonador\", \"sepulta\", \"jord\\u00e1n_dividir\", \"gozar_alegrar\", \"n\\u00ednive\", \"copero\", \"ayuda_escudo\", \"lazada\", \"jefe_copero\", \"rana\", \"israel\\u00e9\", \"basas_tabla\", \"enardece\\u00edr\", \"macpela_oriente\", \"hombres\", \"pondr\\u00e1s_mesa\", \"jurado\", \"jefe_panadero\", \"embriagu\\u00e9mono\", \"comenzar\\u00e9\", \"sitim\", \"beban\", \"hatifa\", \"ebal\", \"medida_cortina\", \"mesar\", \"presencia_fara\\u00f3n\", \"extranjero_hu\\u00e9rfano\", \"sadrac_mesac\", \"gidel\", \"fara\\u00f3n\", \"proseguir\", \"inter\\u00e9s\", \"oriente_mar\", \"joct\\u00e1n\", \"prenda\", \"jah\", \"pa\\u00eds_egipto\", \"eliseo\", \"llevar_arca\", \"endurecer_coraz\\u00f3n\", \"jord\\u00e1n\", \"monte\", \"habitar\", \"pasar\", \"cortina\", \"jos\\u00e9\", \"samuel\", \"se\\u00f1or\", \"guardar\", \"dejar\", \"oh\", \"rey\", \"coraz\\u00f3n\", \"camino\", \"justicia\", \"dar\", \"volver\", \"puerta\", \"israel\", \"tomar\", \"mois\\u00e9s\", \"siervo\", \"padre\", \"egipto\", \"sacerdote\", \"morir\", \"palabra\", \"hermano\", \"nombre\", \"responder\", \"ciudad\", \"poner\", \"cosa\", \"ver\", \"var\\u00f3n\", \"lugar\", \"mujer\", \"hablar\", \"haber\"], \"Freq\": [2488.0, 2267.0, 613.0, 965.0, 827.0, 271.0, 1314.0, 1449.0, 1098.0, 555.0, 547.0, 358.0, 564.0, 1146.0, 217.0, 879.0, 874.0, 827.0, 794.0, 822.0, 228.0, 961.0, 466.0, 247.0, 669.0, 432.0, 1145.0, 368.0, 670.0, 1247.0, 12.790818836158822, 5.22759494528093, 7.761283087202849, 9.297835442354918, 9.08093387959256, 5.763191461199914, 2.2944594732870502, 2.254473999505009, 2.2338253942018396, 25.542749102770454, 2.9095067902979226, 2.882082732855086, 17.228698859779996, 3.6915518498144286, 2.1707906577010063, 2.954039311961312, 2.1943523251770576, 2.858417036084596, 2.867066467095714, 2.162823223389943, 8.93375613696346, 2.8736033776439465, 17.69114439513544, 4.274844829519296, 2.7388000405526527, 4.902245988137679, 3.4174668354705413, 2.1057837193204847, 4.886808040842941, 2.763758845645878, 14.210997732408117, 5.424930775116649, 17.258446399417696, 9.33192801949988, 7.372347554441055, 18.578054612375265, 40.56419019857676, 34.78516644647761, 147.33362980103144, 23.87546627836867, 144.41147304852976, 37.887972246129834, 32.775521762505754, 44.373617158062764, 440.49432070988547, 172.99609871898534, 235.00107294316933, 177.38006156894176, 70.95828302993014, 99.67593458811366, 361.5830823112489, 544.6868724333666, 251.58034256219779, 515.6345078299688, 234.84386967969942, 381.9338212614371, 471.1153425602708, 325.0297081736195, 188.52580856084728, 350.29953279350053, 115.61896684863981, 330.1931533335204, 443.3606751811358, 540.8211554645883, 144.0619036523552, 120.27252717949236, 105.21387746627975, 182.9126162135131, 304.95689678959747, 245.63825119756547, 400.20151245749736, 383.00849516185275, 317.9667868041292, 719.5224181043355, 291.98552954858224, 318.83810133663246, 546.0984038340335, 258.4570137537821, 212.89138539289158, 261.4270607548717, 249.91455775963593, 213.1523121530605, 245.17396506948424, 204.00259603941365, 209.88973671143742, 210.94510277480515, 2.8877233329958143, 40.11825046446566, 7.127464495988704, 2.749328828292546, 2.6775491359564567, 5.952263741332763, 18.032617793364402, 3.698506425691156, 3.022496127304385, 1.8176120113271959, 4.403296387035793, 1.7502553570199257, 3.531807797735208, 1.7625211687902034, 5.995785135151399, 2.8699480046630144, 1.7751490824305394, 2.2643101469320395, 2.776152034441511, 2.2002672262140357, 1.6262233618779829, 5.722467392669192, 1.6410717865562443, 7.6610006777722965, 2.7600834613415066, 3.428645424556829, 2.202380524663883, 32.69915320332744, 3.738028098280354, 1.5980959664721035, 9.075534513724905, 4.240826085214831, 19.258984545216023, 7.224455228411412, 7.709544462571815, 27.926245223209243, 4.244418744456629, 4.205999286442289, 32.807442067451255, 34.7099190674895, 834.0521586644751, 14.045395476613583, 18.05220242058279, 859.6631238388387, 240.1098039876719, 28.4923304550393, 8.678699223600002, 301.9394667722573, 23.6186979776568, 286.92368393569967, 179.0697460053188, 262.9439658975832, 89.47561418429909, 212.71398024763906, 250.8000970332916, 62.359135263433735, 215.67274886674264, 63.5795492957176, 93.53614639369552, 308.6376333898392, 46.19223507797316, 367.47703057202597, 256.35405770958397, 67.23665229497526, 216.95354502863222, 123.49114982842872, 170.53970775634818, 114.21668270337153, 154.64143389802376, 136.82104722707805, 246.05607143270757, 145.8576047773306, 199.40788819370783, 120.56761887440297, 111.14120038580354, 209.0277486257417, 248.28177709344908, 200.1657636034218, 226.42466355782503, 202.28261321086384, 147.2999364164425, 156.76307556230583, 149.33771155247092, 149.85761098474507, 135.33411515132556, 139.48243164445228, 143.4683272918874, 3.841541311775958, 13.474742192807364, 6.0076210397132055, 2.9291625620319497, 2.7981406632244625, 2.7858750863691393, 5.477514870372702, 4.061774726367798, 2.675693328952565, 4.05312757959232, 5.114553274208056, 2.563983509964917, 2.4640533776682103, 2.997369873173718, 9.180797697076725, 2.4848811937731043, 18.315234789427457, 3.6100864090022013, 2.8045421428873323, 2.8088866692613026, 1.6612078014009475, 4.309003256293045, 1.7126621729432274, 2.6501134303493488, 2.1621253653395804, 9.413358862744472, 2.1534502812491274, 1.5797221857359853, 3.1848330911942746, 3.1509922381108337, 3.8189756303424263, 11.886712901242396, 48.56878763097188, 4.021935019631431, 103.29360972682733, 377.25912076859385, 184.33809080599886, 6.075486255694144, 9.836586177426168, 46.495050041467735, 38.34513707583338, 116.9114183618349, 99.98059913894345, 42.068087772280315, 99.2489613962254, 101.34858537311175, 80.78204122903247, 170.24306462564277, 91.51976029134394, 188.59530814055572, 210.25163106720814, 402.21154727745545, 234.1180300627702, 188.9426861928688, 146.2097253827575, 64.81291422524585, 98.0397818161889, 96.33649521442487, 95.62319311497873, 95.04341166065893, 122.79876378267271, 125.51142228776683, 206.52819831513025, 82.61919029718845, 205.56463046138862, 150.55210880033215, 84.13372144316669, 143.88006445878005, 140.08456000755066, 268.48779020216966, 144.292353492963, 187.13623968608064, 138.3951127847189, 169.682144693465, 128.9090818444462, 137.44044104853032, 124.02923269230168, 117.02109916484864, 122.2362486845889, 126.56225974000677, 127.22585752157767, 111.74556998616946, 1.6314172444484634, 2.7699815869509528, 6.279185530691117, 3.1870467436375036, 1.1574854484762251, 3.9066776759285062, 2.6255437395455057, 15.492588054827943, 1.1078231877426343, 2.9796817814024914, 1.881987305585301, 2.858638939742394, 1.4435473298979078, 4.088418262255412, 1.4740791318602269, 2.153496880957878, 1.0231011932828669, 3.6835682315396503, 5.13741941154476, 2.3307692417192523, 3.4471953727787517, 2.4276945055997867, 1.3429767697130297, 6.571444068602647, 0.9940021707010948, 2.34839230953448, 1.343403944272403, 10.777790287448022, 9.368584438413873, 1.7243504079365033, 3.436205705942406, 1.9914881345573014, 3.0960307842880628, 5.711770342620163, 18.78191617412889, 40.49289343623667, 29.737991710468762, 13.07286945042813, 63.991190735311314, 48.760220505551665, 6.1349577136003495, 88.51547934642639, 105.44437800115652, 40.08159174851594, 95.4130266443584, 141.51839351057168, 129.2730678906, 289.4854494003355, 26.03489980614532, 163.92141388437867, 41.63186750723207, 63.8355840177849, 16.890651456909747, 82.55653719928506, 67.92809651614229, 65.29101008639154, 211.8886845848531, 16.19467874577459, 97.72113784960582, 97.85304230736203, 75.45570223729142, 100.04336309199975, 118.61365272105706, 105.22641260568446, 103.79371859229764, 67.10109198933256, 67.9851271992665, 108.12991503691822, 113.1284522416394, 100.8686223346462, 84.72356223443904, 87.67868605191829, 80.5960790111703, 94.63573561551628, 97.76224416977442, 73.62152782470517, 71.18863964205777, 71.12827015444729, 8.250075099266203, 4.477491058669238, 1.4679754038749688, 24.019303843368082, 1.73791612250238, 1.697947796899401, 1.0137838765167908, 1.7459939948595022, 1.3810511104522984, 0.9977996895193716, 0.9748954796670682, 1.0016370883031094, 1.3023218346483547, 1.7032108812513675, 0.9274591106195464, 0.963989084121919, 1.295121032959005, 0.9402438584568802, 0.909170384453734, 6.774103969993209, 0.9059354187148757, 2.4138051895158243, 1.2438524818558552, 1.7208085560289672, 0.9300700500212227, 1.2104063870807564, 0.9140537042062155, 0.9134752416968276, 0.9140967587217543, 0.9099557991896539, 1.2006406720592562, 86.90252738402945, 1.232126993962938, 1.4346199084791944, 6.499727315574629, 3.4428841826778127, 6.992328027176294, 4.031155725740783, 58.19299457381361, 1.8072686266844005, 65.69131405933857, 1.9540383004989565, 122.5822048445319, 36.24457383542351, 14.659616675831558, 27.160134449865364, 19.44286769695152, 35.52134249857212, 43.18638174689407, 34.57146162639862, 6.88018765489976, 84.49646144178534, 120.41683847313472, 78.85361724482017, 59.845007428843104, 150.61516367755766, 70.86872996263163, 65.39400440401128, 19.42669610394935, 53.418399887560156, 83.32117776627345, 14.961270875156291, 100.7830073590658, 172.88257452916113, 83.66643377534689, 108.18585675810988, 78.90195663610695, 92.4276124623712, 48.235599792581525, 37.47296829344117, 56.23356296886354, 54.01777791080337, 65.83737610709711, 63.92076446302462, 71.04196654142481, 57.60626559744234, 86.26361739137755, 58.58959058335494, 52.78075775794253, 61.04116858231939, 54.81243219858556, 58.25861493825755, 54.52894225033187, 4.390343921019133, 3.8155681892876063, 1.795114201237778, 1.0734345323799708, 1.091095502872571, 1.3495455586769405, 1.2671347689962924, 1.6366079555146216, 7.332790198143642, 1.5372669896861342, 1.6855983097486893, 1.4455247162078595, 1.9900225696276397, 4.2994936975795, 0.8861085893185708, 1.4217036238973073, 0.8980758450121259, 1.154687984544721, 0.8398255047203026, 1.0848160466974242, 0.8567142096071557, 1.650186482216421, 0.8677627964992025, 0.8339671908078854, 1.6458536677430142, 1.1466708503859826, 0.8475944542784098, 1.0719352016281252, 1.0846688076467905, 0.857295064447079, 3.3206281712638557, 3.5248678948582866, 4.150615857023326, 1.419774470851363, 55.66124356072479, 2.3208955923504595, 4.038916841200082, 4.608739682735795, 1.7968913572899678, 4.89615339580608, 5.064564521769462, 2.335684308314716, 13.750006058110484, 5.487387752944246, 3.476205710106504, 20.79611449486612, 52.844203804961815, 45.33804393256445, 57.32544758634071, 7.523982355769956, 36.4718386211737, 21.455683717037413, 130.1706492941354, 38.623297172149464, 44.96420231129584, 74.39767997023145, 187.19527965585505, 84.39707610758829, 73.78942040667607, 41.30112722777796, 80.72449131029533, 84.11599843163837, 44.459640189164915, 178.2650535193182, 83.95158037729095, 60.31416010237297, 73.15881651348045, 105.7240433179687, 41.7066171435702, 52.7258858472921, 52.80374945787278, 82.26839807390323, 67.11953101963283, 64.50548723541387, 66.63767123021375, 80.92535983829902, 78.43825077533481, 70.59998338686434, 74.89905709951861, 51.90098093071634, 54.62767634812718, 58.653873535655315, 59.58686657500472, 55.21529106788785], \"Total\": [2488.0, 2267.0, 613.0, 965.0, 827.0, 271.0, 1314.0, 1449.0, 1098.0, 555.0, 547.0, 358.0, 564.0, 1146.0, 217.0, 879.0, 874.0, 827.0, 794.0, 822.0, 228.0, 961.0, 466.0, 247.0, 669.0, 432.0, 1145.0, 368.0, 670.0, 1247.0, 15.919738760580787, 6.663353553446702, 10.038664385128998, 12.120279846618667, 12.178261464525754, 7.789451858846995, 3.2309206442492804, 3.2011787153888376, 3.1858158704441286, 36.78950659468914, 4.234727153751183, 4.204479291580253, 25.194285181548107, 5.428812789661258, 3.1933750780064907, 4.363176206100501, 3.24718657020171, 4.238932373791455, 4.257445033809615, 3.217079433686682, 13.387946799778344, 4.308308261809099, 26.70833121857967, 6.456419785645033, 4.1412948285350035, 7.452588533306144, 5.197407033808765, 3.2108356472880693, 7.455814719902678, 4.222690401172041, 21.795088836121284, 8.301317355391145, 27.068671968856442, 14.593324418510127, 11.508411535082377, 30.696673816951833, 71.00460021824766, 60.745718892105444, 284.2089503797139, 40.78268915880865, 290.0677703957209, 67.81896574365341, 58.674832402851955, 81.79136895988155, 1010.5068807843611, 363.2211626021494, 509.5206016804161, 374.3488234432303, 137.2205031951565, 200.49341639041913, 827.8453425481673, 1314.1357525141652, 559.1443979575888, 1247.485441415399, 521.5884765767879, 901.103580686131, 1146.0623296685822, 776.6075462060976, 418.422051294505, 847.1161898218223, 242.3468090642346, 811.8452443298156, 1145.2629173079922, 1449.5358768879955, 319.94672087394144, 261.3284242389524, 223.9889646272939, 438.4831649975023, 823.8348399916388, 636.1130034192274, 1158.951561288016, 1098.5498072760256, 874.9984831280452, 2488.306409594159, 822.8903291931197, 961.3856807356728, 2267.70969140805, 799.7440769605854, 593.0955807569334, 879.42220678877, 827.8386503690815, 633.9041907707017, 965.1861911962243, 572.3881152984075, 670.3187698947913, 808.6034011185574, 3.9209581536466134, 54.76444407393648, 9.89150770255582, 3.9408306237145445, 3.945286203705719, 8.819609978251897, 27.104500081363188, 5.6135994119493775, 4.671107442017227, 2.846487005939805, 6.9013232742900765, 2.7841480267908567, 5.65611307381619, 2.8379414896772666, 9.696667311069564, 4.661946701397159, 2.8880341233021127, 3.7656894292245173, 4.62524713853034, 3.693962900455349, 2.7453201052908214, 9.676542993019412, 2.7832941570338225, 13.021368343957652, 4.700592388402158, 5.867376143980916, 3.773482452673705, 56.05575165427234, 6.419195091087817, 2.748759785702217, 15.651505447705855, 7.3063693161467, 33.80039557627935, 12.61923594660866, 13.516328723371602, 51.90895469518859, 7.328102248016355, 7.265800273665878, 65.85729313222598, 70.9935032693193, 2267.70969140805, 26.910333772237585, 35.37899097699676, 2488.306409594159, 613.6434123549274, 59.20722948199742, 16.040838151884792, 847.1161898218223, 48.81703300823516, 808.6034011185574, 476.4469165533165, 799.7440769605854, 233.06979301018572, 646.2711653900327, 794.9062115846053, 154.7778319154579, 675.9767899649348, 165.90133617930906, 265.9446769135587, 1158.951561288016, 114.34471347321718, 1449.5358768879955, 961.3856807356728, 192.08627163748625, 879.42220678877, 425.13396416209855, 669.117758581425, 392.1914075840733, 593.0955807569334, 502.9180898344115, 1146.0623296685822, 561.6025118083014, 901.103580686131, 433.9352310494379, 388.25021711459374, 1010.5068807843611, 1314.1357525141652, 965.1861911962243, 1247.485441415399, 1145.2629173079922, 636.1130034192274, 823.8348399916388, 811.8452443298156, 822.8903291931197, 670.3187698947913, 827.8386503690815, 1098.5498072760256, 4.812849898973239, 17.25276009295185, 7.715189543894909, 3.861789607538252, 3.8042648210179233, 3.8003148502664788, 7.716759936964168, 5.723988757282712, 3.770715669207795, 5.872118727480018, 7.532404042054224, 3.8260369739575157, 3.7824555958725457, 4.698999252364377, 14.417877771430005, 3.968249761304609, 29.419091579322572, 5.951702266657884, 4.627817931228352, 4.670010500299907, 2.800706776544662, 7.420908283715944, 2.9555770859755492, 4.616159682846785, 3.7722570003460776, 16.465768770267754, 3.779689623085048, 2.784086218649843, 5.623460220832483, 5.571789475521955, 6.766021662746356, 21.857392236483705, 98.8829296193797, 7.303070830130738, 252.04886630247213, 1098.5498072760256, 547.7791488710119, 11.654179201198323, 20.17301033914792, 121.80787633763971, 97.47791961763326, 358.37101353460633, 304.7510920541862, 116.36817601445571, 335.2282718972344, 348.95419155461525, 264.89119225258054, 670.3187698947913, 321.45836532317617, 827.8386503690815, 965.1861911962243, 2267.70969140805, 1145.2629173079922, 874.9984831280452, 633.9041907707017, 218.49897591029375, 378.5536788961637, 376.7829045424313, 374.029481592315, 371.0799579452164, 534.3518548429386, 564.9042372927422, 1158.951561288016, 318.364457928461, 1247.485441415399, 827.8453425481673, 340.9758971529592, 822.8903291931197, 808.6034011185574, 2488.306409594159, 879.42220678877, 1449.5358768879955, 823.8348399916388, 1314.1357525141652, 811.8452443298156, 961.3856807356728, 776.6075462060976, 675.9767899649348, 794.9062115846053, 1010.5068807843611, 1146.0623296685822, 636.1130034192274, 3.145516889310839, 5.5379919875192956, 12.696869693653992, 6.554695676100466, 2.4066292113697223, 8.134551143805544, 5.531837075806415, 33.011532756110334, 2.376356406220123, 6.425862414651842, 4.1011744745478715, 6.238083488544895, 3.2272992815526886, 9.326920552661617, 3.369351517564356, 4.949076851261552, 2.3516860339692442, 8.550097544750317, 12.066327985571315, 5.499321656585007, 8.283170378365664, 5.896119082072812, 3.293457828873379, 16.275229729341497, 2.4688416272577522, 5.856722337213447, 3.357846037125856, 27.06718660294677, 23.694379211811366, 4.378580212806651, 9.002949881131032, 5.099209429669022, 8.265359230148489, 16.178826236077473, 61.57149517199878, 149.88542239220448, 108.30704638567376, 42.83004915662168, 277.14041514641127, 209.56821665138233, 18.121909672884573, 466.979393464471, 613.6434123549274, 186.43329218491098, 555.8057341943934, 961.3856807356728, 879.42220678877, 2488.306409594159, 114.34471347321718, 1247.485441415399, 213.043925724998, 374.029481592315, 65.96887930839365, 561.6025118083014, 432.13086972670345, 423.36243253944525, 2267.70969140805, 64.31415414595344, 811.8452443298156, 822.8903291931197, 564.9042372927422, 874.9984831280452, 1146.0623296685822, 965.1861911962243, 1010.5068807843611, 521.5884765767879, 534.3518548429386, 1158.951561288016, 1314.1357525141652, 1098.5498072760256, 823.8348399916388, 901.103580686131, 794.9062115846053, 1145.2629173079922, 1449.5358768879955, 675.9767899649348, 776.6075462060976, 808.6034011185574, 16.724098805562996, 9.172184787235729, 3.212644516316928, 54.95588061095224, 3.9855081815657374, 3.9401555835994198, 2.3899971578843315, 4.134409032613087, 3.307729612545735, 2.3968286889239363, 2.394372338706969, 2.5559150768584087, 3.3232593183109636, 4.362938698510647, 2.3809430819713757, 2.47623427213196, 3.347426686202726, 2.463200101570763, 2.39205517567514, 17.951998394406427, 2.4093341904903878, 6.4247405809474065, 3.312475447637912, 4.642935375525534, 2.511506007562994, 3.270908941515866, 2.4897940411656325, 2.4893977480397362, 2.491544268442994, 2.4816014521613203, 3.277629217480569, 271.89735805492944, 3.3868007719197393, 3.9878989831656266, 20.06183036739107, 10.176794561715349, 22.19289777754399, 12.215609561371672, 228.81931012989398, 5.129488540763124, 358.37101353460633, 5.743055740780239, 827.8386503690815, 191.5318367888597, 64.4393976934183, 138.30375528845158, 92.03101287351666, 192.2540762190049, 247.67862548186403, 194.871615025745, 26.400892113602424, 613.6434123549274, 965.1861911962243, 564.9042372927422, 432.13086972670345, 1449.5358768879955, 555.8057341943934, 506.4879584008679, 108.82722000858668, 438.4831649975023, 827.8453425481673, 78.10165324067133, 1146.0623296685822, 2488.306409594159, 901.103580686131, 1314.1357525141652, 879.42220678877, 1145.2629173079922, 423.36243253944525, 291.4515395961685, 572.3881152984075, 547.7791488710119, 823.8348399916388, 799.7440769605854, 1010.5068807843611, 669.117758581425, 2267.70969140805, 822.8903291931197, 633.9041907707017, 1247.485441415399, 776.6075462060976, 1098.5498072760256, 1158.951561288016, 8.815918168408578, 8.102950165946659, 4.214131536359857, 2.5357868203343186, 2.596492765812453, 3.238757451196167, 3.100677754016258, 4.3452248180593305, 19.514489150418164, 4.195300579718627, 4.645033248401291, 4.050992251406145, 5.57854426356985, 12.116612888285957, 2.5365395972184026, 4.109576657573271, 2.6298944463836325, 3.3880882879400858, 2.4928548163923145, 3.235334416788982, 2.570753080971885, 4.988307614435209, 2.629093985015764, 2.534198217177347, 5.007477524151356, 3.503985457225471, 2.5942337635582313, 3.28445524885044, 3.3270014315785983, 2.6472013974353072, 10.403140788181911, 11.162193059257442, 13.465346561846058, 4.416140577340653, 217.78380056143794, 7.4262012185713, 13.435407409482337, 15.565991515287035, 5.764667565098474, 17.575786902154338, 18.862775706003525, 7.873999276913118, 62.26492274994169, 21.862454645658758, 12.690391521242846, 116.20263029506788, 368.7687417272281, 309.33965578587083, 433.9352310494379, 33.56832076934332, 247.67862548186403, 128.39251113635765, 1314.1357525141652, 278.70264762439007, 340.6125719043196, 670.3187698947913, 2267.70969140805, 794.9062115846053, 669.117758581425, 332.00685641189773, 822.8903291931197, 874.9984831280452, 369.61397281546977, 2488.306409594159, 965.1861911962243, 613.6434123549274, 823.8348399916388, 1449.5358768879955, 380.1336119970666, 547.7791488710119, 555.8057341943934, 1146.0623296685822, 827.8386503690815, 776.6075462060976, 827.8453425481673, 1158.951561288016, 1145.2629173079922, 961.3856807356728, 1247.485441415399, 572.3881152984075, 675.9767899649348, 901.103580686131, 1010.5068807843611, 811.8452443298156], \"Category\": [\"Default\", \"Default\", \"Default\", \"Default\", \"Default\", \"Default\", \"Default\", \"Default\", \"Default\", \"Default\", \"Default\", \"Default\", \"Default\", \"Default\", \"Default\", \"Default\", \"Default\", \"Default\", \"Default\", \"Default\", \"Default\", \"Default\", \"Default\", \"Default\", \"Default\", \"Default\", \"Default\", \"Default\", \"Default\", \"Default\", \"Topic1\", \"Topic1\", \"Topic1\", \"Topic1\", \"Topic1\", \"Topic1\", \"Topic1\", \"Topic1\", \"Topic1\", \"Topic1\", \"Topic1\", \"Topic1\", \"Topic1\", \"Topic1\", \"Topic1\", \"Topic1\", \"Topic1\", \"Topic1\", \"Topic1\", \"Topic1\", \"Topic1\", \"Topic1\", \"Topic1\", \"Topic1\", \"Topic1\", \"Topic1\", \"Topic1\", \"Topic1\", \"Topic1\", \"Topic1\", \"Topic1\", \"Topic1\", \"Topic1\", \"Topic1\", \"Topic1\", \"Topic1\", \"Topic1\", \"Topic1\", \"Topic1\", \"Topic1\", \"Topic1\", \"Topic1\", \"Topic1\", \"Topic1\", \"Topic1\", \"Topic1\", \"Topic1\", \"Topic1\", \"Topic1\", \"Topic1\", \"Topic1\", \"Topic1\", \"Topic1\", \"Topic1\", \"Topic1\", \"Topic1\", \"Topic1\", \"Topic1\", \"Topic1\", \"Topic1\", \"Topic1\", \"Topic1\", \"Topic1\", \"Topic1\", \"Topic1\", \"Topic1\", \"Topic1\", \"Topic1\", \"Topic1\", \"Topic1\", \"Topic1\", \"Topic1\", \"Topic1\", \"Topic1\", \"Topic1\", \"Topic1\", \"Topic1\", \"Topic1\", \"Topic1\", \"Topic1\", \"Topic1\", \"Topic1\", \"Topic1\", \"Topic1\", \"Topic1\", \"Topic1\", \"Topic2\", \"Topic2\", \"Topic2\", \"Topic2\", \"Topic2\", \"Topic2\", \"Topic2\", \"Topic2\", \"Topic2\", \"Topic2\", \"Topic2\", \"Topic2\", \"Topic2\", \"Topic2\", \"Topic2\", \"Topic2\", \"Topic2\", \"Topic2\", \"Topic2\", \"Topic2\", \"Topic2\", \"Topic2\", \"Topic2\", \"Topic2\", \"Topic2\", \"Topic2\", \"Topic2\", \"Topic2\", \"Topic2\", \"Topic2\", \"Topic2\", \"Topic2\", \"Topic2\", \"Topic2\", \"Topic2\", \"Topic2\", \"Topic2\", \"Topic2\", \"Topic2\", \"Topic2\", \"Topic2\", \"Topic2\", \"Topic2\", \"Topic2\", \"Topic2\", \"Topic2\", \"Topic2\", \"Topic2\", \"Topic2\", \"Topic2\", \"Topic2\", \"Topic2\", \"Topic2\", \"Topic2\", \"Topic2\", \"Topic2\", \"Topic2\", \"Topic2\", \"Topic2\", \"Topic2\", \"Topic2\", \"Topic2\", \"Topic2\", \"Topic2\", \"Topic2\", \"Topic2\", \"Topic2\", \"Topic2\", \"Topic2\", \"Topic2\", \"Topic2\", \"Topic2\", \"Topic2\", \"Topic2\", \"Topic2\", \"Topic2\", \"Topic2\", \"Topic2\", \"Topic2\", \"Topic2\", \"Topic2\", \"Topic2\", \"Topic2\", \"Topic2\", \"Topic2\", \"Topic2\", \"Topic2\", \"Topic3\", \"Topic3\", \"Topic3\", \"Topic3\", \"Topic3\", \"Topic3\", \"Topic3\", \"Topic3\", \"Topic3\", \"Topic3\", \"Topic3\", \"Topic3\", \"Topic3\", \"Topic3\", \"Topic3\", \"Topic3\", \"Topic3\", \"Topic3\", \"Topic3\", \"Topic3\", \"Topic3\", \"Topic3\", \"Topic3\", \"Topic3\", \"Topic3\", \"Topic3\", \"Topic3\", \"Topic3\", \"Topic3\", \"Topic3\", \"Topic3\", \"Topic3\", \"Topic3\", \"Topic3\", \"Topic3\", \"Topic3\", \"Topic3\", \"Topic3\", \"Topic3\", \"Topic3\", \"Topic3\", \"Topic3\", \"Topic3\", \"Topic3\", \"Topic3\", \"Topic3\", \"Topic3\", \"Topic3\", \"Topic3\", \"Topic3\", \"Topic3\", \"Topic3\", \"Topic3\", \"Topic3\", \"Topic3\", \"Topic3\", \"Topic3\", \"Topic3\", \"Topic3\", \"Topic3\", \"Topic3\", \"Topic3\", \"Topic3\", \"Topic3\", \"Topic3\", \"Topic3\", \"Topic3\", \"Topic3\", \"Topic3\", \"Topic3\", \"Topic3\", \"Topic3\", \"Topic3\", \"Topic3\", \"Topic3\", \"Topic3\", \"Topic3\", \"Topic3\", \"Topic3\", \"Topic3\", \"Topic3\", \"Topic3\", \"Topic4\", \"Topic4\", \"Topic4\", \"Topic4\", \"Topic4\", \"Topic4\", \"Topic4\", \"Topic4\", \"Topic4\", \"Topic4\", \"Topic4\", \"Topic4\", \"Topic4\", \"Topic4\", \"Topic4\", \"Topic4\", \"Topic4\", \"Topic4\", \"Topic4\", \"Topic4\", \"Topic4\", \"Topic4\", \"Topic4\", \"Topic4\", \"Topic4\", \"Topic4\", \"Topic4\", \"Topic4\", \"Topic4\", \"Topic4\", \"Topic4\", \"Topic4\", \"Topic4\", \"Topic4\", \"Topic4\", \"Topic4\", \"Topic4\", \"Topic4\", \"Topic4\", \"Topic4\", \"Topic4\", \"Topic4\", \"Topic4\", \"Topic4\", \"Topic4\", \"Topic4\", \"Topic4\", \"Topic4\", \"Topic4\", \"Topic4\", \"Topic4\", \"Topic4\", \"Topic4\", \"Topic4\", \"Topic4\", \"Topic4\", \"Topic4\", \"Topic4\", \"Topic4\", \"Topic4\", \"Topic4\", \"Topic4\", \"Topic4\", \"Topic4\", \"Topic4\", \"Topic4\", \"Topic4\", \"Topic4\", \"Topic4\", \"Topic4\", \"Topic4\", \"Topic4\", \"Topic4\", \"Topic4\", \"Topic4\", \"Topic4\", \"Topic4\", \"Topic4\", \"Topic5\", \"Topic5\", \"Topic5\", \"Topic5\", \"Topic5\", \"Topic5\", \"Topic5\", \"Topic5\", \"Topic5\", \"Topic5\", \"Topic5\", \"Topic5\", \"Topic5\", \"Topic5\", \"Topic5\", \"Topic5\", \"Topic5\", \"Topic5\", \"Topic5\", \"Topic5\", \"Topic5\", \"Topic5\", \"Topic5\", \"Topic5\", \"Topic5\", \"Topic5\", \"Topic5\", \"Topic5\", \"Topic5\", \"Topic5\", \"Topic5\", \"Topic5\", \"Topic5\", \"Topic5\", \"Topic5\", \"Topic5\", \"Topic5\", \"Topic5\", \"Topic5\", \"Topic5\", \"Topic5\", \"Topic5\", \"Topic5\", \"Topic5\", \"Topic5\", \"Topic5\", \"Topic5\", \"Topic5\", \"Topic5\", \"Topic5\", \"Topic5\", \"Topic5\", \"Topic5\", \"Topic5\", \"Topic5\", \"Topic5\", \"Topic5\", \"Topic5\", \"Topic5\", \"Topic5\", \"Topic5\", \"Topic5\", \"Topic5\", \"Topic5\", \"Topic5\", \"Topic5\", \"Topic5\", \"Topic5\", \"Topic5\", \"Topic5\", \"Topic5\", \"Topic5\", \"Topic5\", \"Topic5\", \"Topic5\", \"Topic5\", \"Topic5\", \"Topic5\", \"Topic5\", \"Topic5\", \"Topic5\", \"Topic5\", \"Topic5\", \"Topic6\", \"Topic6\", \"Topic6\", \"Topic6\", \"Topic6\", \"Topic6\", \"Topic6\", \"Topic6\", \"Topic6\", \"Topic6\", \"Topic6\", \"Topic6\", \"Topic6\", \"Topic6\", \"Topic6\", \"Topic6\", \"Topic6\", \"Topic6\", \"Topic6\", \"Topic6\", \"Topic6\", \"Topic6\", \"Topic6\", \"Topic6\", \"Topic6\", \"Topic6\", \"Topic6\", \"Topic6\", \"Topic6\", \"Topic6\", \"Topic6\", \"Topic6\", \"Topic6\", \"Topic6\", \"Topic6\", \"Topic6\", \"Topic6\", \"Topic6\", \"Topic6\", \"Topic6\", \"Topic6\", \"Topic6\", \"Topic6\", \"Topic6\", \"Topic6\", \"Topic6\", \"Topic6\", \"Topic6\", \"Topic6\", \"Topic6\", \"Topic6\", \"Topic6\", \"Topic6\", \"Topic6\", \"Topic6\", \"Topic6\", \"Topic6\", \"Topic6\", \"Topic6\", \"Topic6\", \"Topic6\", \"Topic6\", \"Topic6\", \"Topic6\", \"Topic6\", \"Topic6\", \"Topic6\", \"Topic6\", \"Topic6\", \"Topic6\", \"Topic6\", \"Topic6\", \"Topic6\", \"Topic6\", \"Topic6\", \"Topic6\", \"Topic6\", \"Topic6\", \"Topic6\", \"Topic6\", \"Topic6\", \"Topic6\", \"Topic6\", \"Topic6\"], \"logprob\": [30.0, 29.0, 28.0, 27.0, 26.0, 25.0, 24.0, 23.0, 22.0, 21.0, 20.0, 19.0, 18.0, 17.0, 16.0, 15.0, 14.0, 13.0, 12.0, 11.0, 10.0, 9.0, 8.0, 7.0, 6.0, 5.0, 4.0, 3.0, 2.0, 1.0, -8.55620002746582, -9.451000213623047, -9.055800437927246, -8.875200271606445, -8.898799896240234, -9.353500366210938, -10.274499893188477, -10.292099952697754, -10.301300048828125, -7.86460018157959, -10.036999702453613, -10.046500205993652, -8.258399963378906, -9.79889965057373, -10.329899787902832, -10.02180004119873, -10.319100379943848, -10.054699897766113, -10.0516996383667, -10.333600044250488, -8.91510009765625, -10.049400329589844, -8.231900215148926, -9.652199745178223, -10.097399711608887, -9.515299797058105, -9.876099586486816, -10.360300064086914, -9.518400192260742, -10.088399887084961, -8.451000213623047, -9.413999557495117, -8.256699562072754, -8.871500015258789, -9.107199668884277, -8.182999610900879, -7.402100086212158, -7.555799961090088, -6.112299919128418, -7.93209981918335, -6.132299900054932, -7.470300197601318, -7.615300178527832, -7.312300205230713, -5.017099857330322, -5.951700210571289, -5.645400047302246, -5.926700115203857, -6.842899799346924, -6.502999782562256, -5.2144999504089355, -4.804800033569336, -5.577199935913086, -4.859600067138672, -5.645999908447266, -5.1596999168396, -4.949900150299072, -5.321100234985352, -5.865699768066406, -5.246200084686279, -6.354700088500977, -5.305300235748291, -5.0106000900268555, -4.8119001388549805, -6.134699821472168, -6.315199851989746, -6.448999881744385, -5.895999908447266, -5.384799957275391, -5.601099967956543, -5.11299991607666, -5.156899929046631, -5.3429999351501465, -4.526400089263916, -5.428299903869629, -5.3403000831604, -4.802199840545654, -5.55019998550415, -5.744200229644775, -5.53879976272583, -5.583899974822998, -5.743000030517578, -5.603000164031982, -5.786799907684326, -5.758399963378906, -5.753399848937988, -9.708700180053711, -7.077300071716309, -8.80519962310791, -9.757800102233887, -9.784299850463867, -8.985400199890137, -7.876999855041504, -9.461199760437012, -9.663100242614746, -10.171699523925781, -9.286800384521484, -10.209400177001953, -9.507399559020996, -10.202400207519531, -8.978099822998047, -9.714900016784668, -10.195300102233887, -9.951899528503418, -9.748100280761719, -9.980600357055664, -10.282899856567383, -9.024800300598145, -10.273799896240234, -8.732999801635742, -9.753899574279785, -9.536999702453613, -9.979599952697754, -7.281799793243408, -9.450599670410156, -10.300399780273438, -8.563599586486816, -9.324399948120117, -7.811200141906738, -8.79170036315918, -8.726699829101562, -7.439599990844727, -9.323599815368652, -9.3326997756958, -7.278500080108643, -7.2221999168396, -4.042900085449219, -8.126899719238281, -7.875899791717529, -4.012599945068359, -5.288099765777588, -7.41949987411499, -8.60830020904541, -5.059000015258789, -7.607100009918213, -5.110000133514404, -5.581399917602539, -5.197199821472168, -6.275199890136719, -5.409200191497803, -5.244500160217285, -6.636300086975098, -5.395400047302246, -6.6168999671936035, -6.230800151824951, -5.0370001792907715, -6.936399936676025, -4.862500190734863, -5.222599983215332, -6.560999870300293, -5.389500141143799, -5.953000068664551, -5.630199909210205, -6.031099796295166, -5.728099822998047, -5.850500106811523, -5.263599872589111, -5.786499977111816, -5.473800182342529, -5.9770002365112305, -6.0584001541137695, -5.426700115203857, -5.2546000480651855, -5.46999979019165, -5.346799850463867, -5.459499835968018, -5.776700019836426, -5.714399814605713, -5.763000011444092, -5.759500026702881, -5.861400127410889, -5.831200122833252, -5.803100109100342, -9.190099716186523, -7.935100078582764, -8.742899894714355, -9.461199760437012, -9.506999969482422, -9.51140022277832, -8.83530044555664, -9.134300231933594, -9.5516996383667, -9.13640022277832, -8.903800010681152, -9.594400405883789, -9.634099960327148, -9.438199996948242, -8.31879997253418, -9.625699996948242, -7.628200054168701, -9.25220012664795, -9.50469970703125, -9.503100395202637, -10.028400421142578, -9.075200080871582, -9.997900009155273, -9.561300277709961, -9.764800071716309, -8.293800354003906, -9.768899917602539, -10.078700065612793, -9.3774995803833, -9.388199806213379, -9.195899963378906, -8.060500144958496, -6.652900218963623, -9.144200325012207, -5.898399829864502, -4.603000164031982, -5.319200038909912, -8.73169994354248, -8.249799728393555, -6.696599960327148, -6.8892998695373535, -5.774499893188477, -5.9309000968933105, -6.796599864959717, -5.938300132751465, -5.917399883270264, -6.144199848175049, -5.39870023727417, -6.019400119781494, -5.296299934387207, -5.187600135803223, -4.538899898529053, -5.080100059509277, -5.29449987411499, -5.550899982452393, -6.3643999099731445, -5.9506001472473145, -5.968100070953369, -5.975500106811523, -5.981599807739258, -5.725399971008301, -5.703499794006348, -5.20550012588501, -6.121699810028076, -5.21019983291626, -5.521599769592285, -6.103499889373779, -5.56689977645874, -5.593699932098389, -4.9430999755859375, -5.5640997886657715, -5.304100036621094, -5.605800151824951, -5.4019999504089355, -5.676799774169922, -5.61269998550415, -5.715400218963623, -5.773600101470947, -5.730000019073486, -5.695199966430664, -5.690000057220459, -5.819699764251709, -9.565899848937988, -9.036499977111816, -8.218099594116211, -8.896200180053711, -9.909099578857422, -8.69260025024414, -9.09000015258789, -7.315000057220459, -9.952899932861328, -8.963500022888184, -9.42300033569336, -9.005000114440918, -9.688199996948242, -8.647199630737305, -9.6673002243042, -9.288200378417969, -10.032500267028809, -8.751399993896484, -8.418800354003906, -9.209099769592285, -8.81779956817627, -9.168399810791016, -9.76039981842041, -8.172599792480469, -10.061300277709961, -9.201600074768066, -9.760100364685059, -7.677800178527832, -7.817999839782715, -9.510499954223633, -8.821000099182129, -9.366399765014648, -8.925200462341309, -8.312800407409668, -7.122399806976318, -6.3541998863220215, -6.662899971008301, -7.484799861907959, -5.896599769592285, -6.168399810791016, -8.241299629211426, -5.5721001625061035, -5.39709997177124, -6.3643999099731445, -5.497099876403809, -5.10290002822876, -5.193399906158447, -4.387199878692627, -6.795899868011475, -4.955900192260742, -6.326499938964844, -5.89900016784668, -7.228600025177002, -5.6417999267578125, -5.836900234222412, -5.876500129699707, -4.6992998123168945, -7.270599842071533, -5.473199844360352, -5.47189998626709, -5.731800079345703, -5.449699878692627, -5.279399871826172, -5.399199962615967, -5.412899971008301, -5.849100112915039, -5.835999965667725, -5.372000217437744, -5.3267998695373535, -5.441500186920166, -5.615900039672852, -5.581600189208984, -5.665900230407715, -5.505300045013428, -5.472799777984619, -5.756400108337402, -5.789999961853027, -5.790800094604492, -7.696300029754639, -8.30739974975586, -9.422599792480469, -6.627600193023682, -9.253800392150879, -9.277099609375, -9.792799949645996, -9.249199867248535, -9.483699798583984, -9.808699607849121, -9.831899642944336, -9.804900169372559, -9.542400360107422, -9.27400016784668, -9.881799697875977, -9.843199729919434, -9.547900199890137, -9.8681001663208, -9.901700019836426, -7.893400192260742, -9.90530014038086, -8.925299644470215, -9.588299751281738, -9.263699531555176, -9.878999710083008, -9.615500450134277, -9.896400451660156, -9.897000312805176, -9.896300315856934, -9.900899887084961, -9.623600006103516, -5.341700077056885, -9.597800254821777, -9.445599555969238, -7.934700012207031, -8.570199966430664, -7.861700057983398, -8.412500381469727, -5.742700099945068, -9.214699745178223, -5.621500015258789, -9.13659954071045, -4.997700214385986, -6.21619987487793, -7.121399879455566, -6.504799842834473, -6.839000225067139, -6.236400127410889, -6.040999889373779, -6.263500213623047, -7.877900123596191, -5.369800090789795, -5.015500068664551, -5.438899993896484, -5.714700222015381, -4.791800022125244, -5.5457000732421875, -5.626100063323975, -6.839900016784668, -5.8282999992370605, -5.383800029754639, -7.10099983215332, -5.19350004196167, -4.653900146484375, -5.379700183868408, -5.122700214385986, -5.438300132751465, -5.280099868774414, -5.9303998947143555, -6.1828999519348145, -5.7769999504089355, -5.817200183868408, -5.61929988861084, -5.648900032043457, -5.5432000160217285, -5.752900123596191, -5.349100112915039, -5.735899925231934, -5.840400218963623, -5.695000171661377, -5.802599906921387, -5.741600036621094, -5.807799816131592, -8.300399780273438, -8.440699577331543, -9.19480037689209, -9.708999633789062, -9.692700386047363, -9.48009967803955, -9.543100357055664, -9.287199974060059, -7.787499904632568, -9.349800109863281, -9.257699966430664, -9.411399841308594, -9.091699600219727, -8.32129955291748, -9.900699615478516, -9.428000450134277, -9.887299537658691, -9.63599967956543, -9.954400062561035, -9.698399543762207, -9.934499740600586, -9.278900146484375, -9.921699523925781, -9.961400032043457, -9.281599998474121, -9.642999649047852, -9.945199966430664, -9.710399627685547, -9.698599815368652, -9.933799743652344, -8.579700469970703, -8.520000457763672, -8.356599807739258, -9.429300308227539, -5.760499954223633, -8.937899589538574, -8.383899688720703, -8.251899719238281, -9.19379997253418, -8.191399574279785, -8.157600402832031, -8.931500434875488, -7.15880012512207, -8.077400207519531, -8.533900260925293, -6.745100021362305, -5.8125, -5.965700149536133, -5.731100082397461, -7.76170015335083, -6.183300018310547, -6.713799953460693, -4.910999774932861, -6.125999927520752, -5.973999977111816, -5.470399856567383, -4.547699928283691, -5.344299793243408, -5.478600025177002, -6.058899879455566, -5.388800144195557, -5.347599983215332, -5.985300064086914, -4.59660005569458, -5.349599838256836, -5.680300235748291, -5.487199783325195, -5.11899995803833, -6.049200057983398, -5.814700126647949, -5.813300132751465, -5.369800090789795, -5.573400020599365, -5.613100051879883, -5.580599784851074, -5.386300086975098, -5.417500019073486, -5.522799968719482, -5.463699817657471, -5.83050012588501, -5.779300212860107, -5.708199977874756, -5.692399978637695, -5.768599987030029], \"loglift\": [30.0, 29.0, 28.0, 27.0, 26.0, 25.0, 24.0, 23.0, 22.0, 21.0, 20.0, 19.0, 18.0, 17.0, 16.0, 15.0, 14.0, 13.0, 12.0, 11.0, 10.0, 9.0, 8.0, 7.0, 6.0, 5.0, 4.0, 3.0, 2.0, 1.0, 0.9348, 0.9109, 0.8963, 0.8885, 0.8601, 0.8523, 0.8113, 0.803, 0.7986, 0.7888, 0.7783, 0.776, 0.7736, 0.7679, 0.7676, 0.7636, 0.7617, 0.7596, 0.7582, 0.7566, 0.7491, 0.7486, 0.7417, 0.7413, 0.7401, 0.7347, 0.7343, 0.7318, 0.7312, 0.7297, 0.7259, 0.7282, 0.7035, 0.7065, 0.7083, 0.6514, 0.5938, 0.5961, 0.4966, 0.6182, 0.4562, 0.5714, 0.5713, 0.5421, 0.3233, 0.4119, 0.3797, 0.4067, 0.4941, 0.4548, 0.3253, 0.2729, 0.355, 0.2701, 0.3557, 0.2952, 0.2646, 0.2826, 0.3564, 0.2706, 0.4135, 0.254, 0.2046, 0.1677, 0.3557, 0.3776, 0.398, 0.2793, 0.1598, 0.2021, 0.0903, 0.0999, 0.1413, -0.0872, 0.1175, 0.0499, -0.2701, 0.024, 0.129, -0.0595, -0.0441, 0.0637, -0.2167, 0.1219, -0.0076, -0.1901, 1.1835, 1.1782, 1.1617, 1.1294, 1.1018, 1.0962, 1.0819, 1.0721, 1.0541, 1.0408, 1.04, 1.0252, 1.0185, 1.0131, 1.0087, 1.0043, 1.0027, 0.9807, 0.9789, 0.9713, 0.9658, 0.9641, 0.9611, 0.959, 0.957, 0.9522, 0.9509, 0.9504, 0.9487, 0.9471, 0.9444, 0.9454, 0.9269, 0.9317, 0.928, 0.8695, 0.9433, 0.9427, 0.7926, 0.7738, 0.4892, 0.8392, 0.8166, 0.4266, 0.5511, 0.758, 0.8751, 0.4578, 0.7634, 0.4533, 0.5108, 0.3771, 0.532, 0.3781, 0.3358, 0.5803, 0.347, 0.5303, 0.4445, 0.1663, 0.583, 0.1171, 0.1676, 0.4397, 0.0898, 0.2532, 0.1224, 0.2558, 0.1452, 0.1876, -0.0491, 0.1412, -0.0189, 0.2087, 0.2386, -0.0863, -0.177, -0.0838, -0.2171, -0.2443, 0.0265, -0.1698, -0.2037, -0.2137, -0.1106, -0.2915, -0.5462, 1.4972, 1.4755, 1.4725, 1.4462, 1.4155, 1.4121, 1.3799, 1.3796, 1.3796, 1.3519, 1.3355, 1.3224, 1.2941, 1.273, 1.2713, 1.2546, 1.2487, 1.2227, 1.2218, 1.2143, 1.2003, 1.1791, 1.177, 1.1677, 1.1661, 1.1635, 1.1601, 1.156, 1.1541, 1.1527, 1.1507, 1.1135, 1.0117, 1.1261, 0.8306, 0.6538, 0.6336, 1.0713, 1.0044, 0.7596, 0.7897, 0.6025, 0.6081, 0.7052, 0.5055, 0.4863, 0.5351, 0.3521, 0.4663, 0.2434, 0.1986, -0.0069, 0.1351, 0.1899, 0.2558, 0.5074, 0.3717, 0.3588, 0.3587, 0.3606, 0.2521, 0.2184, -0.0022, 0.3737, -0.0805, 0.0181, 0.3232, -0.0212, -0.0304, -0.5039, -0.0848, -0.3245, -0.0612, -0.3244, -0.1175, -0.2225, -0.1118, -0.0312, -0.1496, -0.3548, -0.4755, -0.0165, 1.5467, 1.5105, 1.4991, 1.4822, 1.4713, 1.4698, 1.458, 1.4468, 1.4401, 1.4347, 1.4243, 1.4229, 1.3987, 1.3785, 1.3766, 1.3712, 1.371, 1.3612, 1.3494, 1.3448, 1.3266, 1.3159, 1.3062, 1.2963, 1.2935, 1.2894, 1.2872, 1.2824, 1.2754, 1.2714, 1.2401, 1.2631, 1.2213, 1.1621, 1.016, 0.8945, 0.9107, 1.0166, 0.7375, 0.7451, 1.1201, 0.5402, 0.442, 0.6661, 0.4411, 0.2873, 0.2859, 0.052, 0.7235, 0.1738, 0.5706, 0.4352, 0.8408, 0.2859, 0.353, 0.3339, -0.1672, 0.8242, 0.0861, 0.0739, 0.1901, 0.0346, -0.065, -0.0129, -0.0725, 0.1526, 0.1415, -0.1687, -0.2492, -0.1847, -0.0713, -0.1267, -0.0855, -0.2901, -0.4932, -0.014, -0.1863, -0.2276, 1.7454, 1.735, 1.6689, 1.6244, 1.6221, 1.6103, 1.5945, 1.5901, 1.5787, 1.5757, 1.5535, 1.5153, 1.5153, 1.5114, 1.5093, 1.5087, 1.5025, 1.489, 1.4847, 1.4775, 1.4739, 1.4731, 1.4726, 1.4595, 1.4587, 1.458, 1.45, 1.4495, 1.4494, 1.4488, 1.4478, 1.3114, 1.4409, 1.4297, 1.325, 1.3683, 1.2971, 1.3434, 1.0829, 1.4089, 0.7555, 1.374, 0.542, 0.7873, 0.9714, 0.8244, 0.8974, 0.7634, 0.7055, 0.7228, 1.1073, 0.4694, 0.3707, 0.483, 0.4751, 0.1878, 0.3925, 0.405, 0.729, 0.3469, 0.156, 0.7995, 0.021, -0.2147, 0.0753, -0.045, 0.041, -0.0649, 0.2799, 0.4008, 0.1318, 0.1355, -0.0747, -0.0746, -0.2029, -0.0003, -0.817, -0.1902, -0.0337, -0.5653, -0.1989, -0.4848, -0.6045, 1.7816, 1.7256, 1.6254, 1.6191, 1.6118, 1.6033, 1.5839, 1.5023, 1.4999, 1.4748, 1.4651, 1.4483, 1.448, 1.4427, 1.427, 1.4173, 1.4043, 1.4023, 1.3908, 1.386, 1.3799, 1.3725, 1.3703, 1.3673, 1.3661, 1.3617, 1.3601, 1.359, 1.358, 1.3513, 1.3368, 1.3261, 1.3019, 1.344, 1.1145, 1.3157, 1.2768, 1.2616, 1.3131, 1.2007, 1.1638, 1.2635, 0.9684, 1.0964, 1.1838, 0.7582, 0.5359, 0.5585, 0.4546, 0.9833, 0.5632, 0.6896, 0.1667, 0.5025, 0.4539, 0.2804, -0.0156, 0.2361, 0.274, 0.3945, 0.157, 0.1367, 0.3609, -0.1573, 0.0367, 0.1589, 0.0574, -0.1394, 0.2689, 0.138, 0.1249, -0.1554, -0.0336, -0.0094, -0.0408, -0.183, -0.2023, -0.1326, -0.334, 0.0783, -0.0369, -0.2532, -0.352, -0.2093]}, \"token.table\": {\"Topic\": [1, 2, 3, 4, 5, 6, 3, 1, 2, 1, 2, 3, 4, 5, 6, 1, 2, 3, 4, 5, 6, 1, 2, 3, 4, 5, 6, 1, 2, 3, 4, 5, 6, 1, 3, 4, 1, 2, 3, 4, 5, 6, 1, 2, 3, 4, 5, 6, 1, 2, 3, 4, 5, 6, 2, 1, 2, 3, 4, 5, 6, 1, 4, 1, 2, 3, 4, 5, 6, 1, 2, 6, 1, 2, 3, 4, 5, 6, 1, 2, 3, 4, 5, 6, 1, 2, 3, 4, 5, 6, 1, 2, 1, 2, 3, 4, 1, 2, 3, 4, 5, 6, 1, 2, 4, 5, 6, 2, 3, 1, 2, 4, 1, 3, 1, 2, 4, 1, 2, 6, 1, 2, 3, 4, 5, 6, 3, 5, 5, 1, 3, 4, 1, 2, 3, 4, 5, 6, 2, 1, 2, 3, 4, 6, 1, 6, 1, 2, 3, 4, 5, 6, 1, 2, 4, 2, 3, 4, 5, 1, 2, 3, 4, 6, 1, 2, 1, 2, 3, 4, 5, 6, 1, 2, 4, 5, 6, 2, 5, 6, 1, 2, 1, 2, 6, 1, 2, 3, 4, 5, 6, 2, 5, 1, 1, 2, 3, 4, 5, 1, 2, 3, 4, 5, 6, 1, 2, 3, 4, 5, 6, 1, 2, 3, 4, 5, 6, 1, 1, 2, 3, 4, 5, 6, 1, 3, 4, 5, 4, 1, 2, 4, 6, 1, 2, 3, 4, 5, 6, 1, 2, 3, 4, 5, 6, 1, 2, 3, 4, 5, 1, 2, 3, 4, 5, 6, 2, 3, 6, 5, 5, 1, 2, 3, 4, 5, 6, 1, 2, 3, 4, 5, 6, 1, 2, 4, 6, 1, 2, 3, 4, 5, 6, 6, 1, 2, 3, 4, 5, 6, 1, 2, 3, 4, 5, 6, 1, 1, 2, 3, 5, 1, 3, 4, 6, 4, 6, 1, 2, 4, 6, 1, 2, 3, 4, 5, 6, 1, 2, 4, 6, 1, 2, 3, 4, 5, 6, 1, 2, 3, 4, 5, 6, 1, 2, 3, 4, 5, 6, 1, 2, 3, 4, 5, 6, 1, 2, 3, 4, 5, 6, 2, 3, 4, 5, 6, 1, 1, 2, 3, 4, 5, 6, 4, 1, 2, 3, 4, 5, 1, 2, 3, 4, 5, 6, 1, 1, 2, 3, 4, 5, 6, 1, 2, 3, 4, 5, 1, 2, 3, 4, 5, 6, 1, 2, 3, 2, 3, 5, 1, 3, 1, 4, 1, 1, 2, 3, 4, 5, 6, 5, 6, 2, 1, 1, 2, 3, 4, 5, 6, 1, 4, 1, 3, 5, 6, 1, 2, 3, 4, 5, 6, 1, 2, 4, 5, 6, 1, 3, 1, 2, 3, 4, 5, 6, 1, 2, 3, 4, 5, 6, 1, 2, 6, 1, 2, 6, 1, 2, 3, 4, 5, 6, 1, 2, 4, 1, 2, 3, 4, 5, 6, 1, 2, 3, 4, 5, 6, 3, 1, 2, 3, 4, 5, 6, 1, 3, 4, 3, 5, 3, 5, 1, 2, 3, 4, 5, 6, 1, 3, 4, 5, 1, 2, 3, 4, 5, 6, 1, 2, 3, 4, 5, 1, 4, 6, 1, 2, 3, 4, 5, 6, 1, 2, 3, 4, 5, 6, 2, 1, 2, 3, 4, 5, 6, 3, 1, 2, 3, 4, 5, 6, 1, 2, 3, 4, 5, 6, 1, 2, 3, 4, 5, 6, 1, 2, 3, 4, 5, 6, 1, 2, 3, 4, 5, 6, 1, 2, 3, 4, 5, 6, 1, 2, 3, 4, 5, 6, 3, 2, 1, 2, 6, 4, 1, 3, 6, 1, 2, 3, 4, 3, 1, 2, 3, 4, 1, 2, 3, 4, 5, 6, 1, 2, 3, 4, 5, 6, 1, 2, 3, 4, 5, 6, 1, 2, 3, 4, 5, 6, 2, 3, 4, 6, 3, 5, 1, 2, 3, 4, 5, 6, 1, 6, 2, 4, 5, 5, 1, 2, 3, 4, 5, 1, 2, 3, 4, 5, 6, 1, 2, 3, 4, 5, 6, 1, 2, 5, 1, 2, 3, 4, 6, 1, 3, 5, 6, 1, 1, 2, 3, 4, 5, 6, 3, 6, 2, 5, 2, 1, 2, 3, 4, 5, 6, 1, 2, 3, 5, 6, 1, 2, 3, 4, 5, 6, 1, 2, 3, 4, 5, 6, 1, 3, 6, 6, 4, 5, 6, 1, 2, 3, 4, 5, 6, 1, 2, 3, 4, 5, 6, 5, 3, 5, 2, 1, 4, 6, 1, 3, 4, 6, 1, 2, 4, 5, 6, 1, 2, 3, 4, 5, 6, 1, 2, 3, 4, 5, 6, 3, 4, 5, 1, 2, 3, 4, 5, 6, 1, 2, 3, 5, 6, 1, 2, 3, 4, 5, 6, 4, 5, 6, 1, 2, 5, 6, 1, 2, 3, 4, 5, 6, 1, 2, 3, 4, 5, 6, 1, 2, 3, 4, 5, 6, 1, 2, 3, 4, 5, 6, 2, 3, 6, 1, 2, 3, 4, 5, 6, 1, 2, 3, 4, 5, 6, 3, 1, 2, 3, 4, 5, 6, 1, 2, 3, 4, 5, 6, 2, 5, 6, 1, 2, 3, 4, 5, 6, 1, 3, 1, 2, 3, 4, 5, 6, 1, 4, 1, 2, 3, 4, 5, 6, 1, 3, 1, 2, 3, 4, 5, 6, 2, 3, 1, 2, 3, 4, 5, 6, 1, 2, 3, 6, 1, 2, 3, 4, 5, 6, 1, 2, 3, 4, 5, 6, 1, 2, 3, 4, 5, 6, 1, 2, 3, 4, 5, 6, 3, 1, 3, 5, 6, 4, 5, 1, 2, 3, 4, 5, 6, 3, 5, 1, 2, 3, 4, 5, 6, 1, 2, 3, 4, 5, 6, 1, 3, 4, 1, 2, 3, 4, 5, 6, 1, 1, 2, 3, 4, 5, 6, 1, 2, 3, 2, 6, 1, 4, 5, 2, 1, 6, 1, 2, 5, 1, 2, 3, 4, 5, 6, 1, 2, 3, 4, 5, 6, 1, 3, 5, 1, 2, 4, 5, 6, 1, 2, 3, 4, 5, 6, 1, 2, 3, 4, 5, 6, 1, 2, 3, 4, 5, 6, 1, 2, 5, 1, 2, 3, 4, 5, 6, 1, 5, 1, 2, 5, 1, 3, 4, 6, 1, 2, 3, 4, 5, 6, 1, 2, 3, 4, 5, 6, 1, 2, 4, 1, 2, 3, 4, 5, 6, 1, 2, 3, 4, 5, 6, 1, 2, 3, 4, 5, 6, 3, 1, 2, 3, 4, 5, 6, 3, 1, 2, 3, 4, 5, 6, 1, 2, 3, 4, 5, 6, 1, 2, 3, 4, 6, 2, 1, 2, 3, 4, 5, 6, 1, 2, 3, 4, 5, 6, 1, 2, 3, 4, 5, 6, 2, 3, 4, 5, 6, 1, 2, 3, 4, 5, 6, 1, 2, 3, 4, 6, 1, 6, 1, 2, 3, 4, 5, 6, 1, 3, 1, 2, 3, 4, 6, 1, 2, 4, 6, 1, 2, 3, 4, 5, 6, 1, 2, 4, 6, 1, 2, 3, 4, 1, 2, 3, 4, 5, 6, 1, 2, 3, 4, 5, 6, 1, 2, 3, 4, 5, 6, 1, 2, 3, 4, 5, 6, 1, 2, 3, 4, 5, 6, 1, 2, 3, 4, 6, 1, 2, 3, 4, 5, 6, 1, 2, 3, 4, 5, 6, 2, 1, 3, 4, 6, 1, 3, 4, 6, 3, 1, 2, 3, 4, 5, 6, 2, 3, 1, 2, 3, 4, 5, 6, 2, 1, 2, 3, 4, 5, 6, 1, 2, 3, 4, 5, 6, 1, 2, 3, 4, 5, 1, 2, 3, 4, 2, 1, 2, 3, 4, 5, 6, 1, 3, 6, 1, 2, 3, 4, 5, 6, 1, 2, 3, 4, 5, 6, 1, 2, 3, 4, 5, 6, 1, 2, 3, 4, 5, 6, 3, 1, 2, 3, 4, 5, 6, 1, 2, 3, 4, 5, 6, 1, 2, 3, 4, 5, 6, 1, 2, 3, 6, 1, 2, 3, 4, 5, 6, 1, 2, 3, 4, 5, 6, 1, 3, 1, 2, 3, 4, 5, 6, 1, 2, 3, 4, 5, 6, 1, 2, 3, 1, 2, 3, 4, 5, 1, 2, 3, 4, 5, 6, 1, 2, 6, 1, 2, 3, 4, 5, 6, 1, 2, 3, 4, 5, 6, 1, 5, 3, 6, 1, 2, 3, 4, 5, 1, 2, 5, 1, 2, 3, 4, 5, 6, 1, 2, 3, 4, 5, 6, 1, 2, 3, 6, 1, 2, 3, 4, 5, 6, 1, 2, 3, 4, 5, 6, 2, 3, 1, 2, 3, 5, 6, 1, 3, 5, 1, 2, 3, 4, 5, 6, 1, 2, 4, 2, 3, 5, 6, 1, 2, 4, 4, 5, 1, 2, 3, 4, 5, 6, 1, 2, 3, 4, 5, 6, 5, 2, 1, 2, 3, 5, 6, 1, 3, 1, 5, 1, 2, 3, 4, 5, 6, 1, 2, 3, 4, 5, 6, 1, 2, 3, 4, 5, 6, 1, 2, 3, 4, 5, 6, 2, 3, 4, 6, 1, 2, 3, 4, 5, 6, 1, 1, 2, 3, 4, 5, 6, 1, 2, 4, 2, 3, 1, 2, 3, 4, 5, 6, 1, 2, 3, 5, 6, 1, 2, 3, 4, 5, 6, 1, 2, 3, 4, 5, 6], \"Freq\": [0.19714244307633802, 0.19244857538404425, 0.17836697230716297, 0.19714244307633802, 0.12204055999963782, 0.11265282461505029, 0.8311084043683452, 0.14489974752021273, 0.5795989900808509, 0.1982847345414564, 0.0991423672707282, 0.49571183635364097, 0.0495711836353641, 0.0991423672707282, 0.0495711836353641, 0.20016056294088014, 0.07278565925122914, 0.14557131850245827, 0.1091784888768437, 0.4367139555073748, 0.03639282962561457, 0.22578968206419928, 0.11289484103209964, 0.28736868626352635, 0.06671058788260432, 0.17960542891470396, 0.12828959208193141, 0.24975135622738504, 0.5886996253931219, 0.05351814776301108, 0.01783938258767036, 0.01783938258767036, 0.0891969129383518, 0.13475439417494867, 0.5390175766997947, 0.13475439417494867, 0.1719204726785141, 0.2022593796217813, 0.4955354800733642, 0.07079078286762346, 0.030338906943267196, 0.030338906943267196, 0.0830970864808891, 0.18466019217975357, 0.3231553363145687, 0.27699028826963035, 0.09233009608987679, 0.046165048044938393, 0.11306144945176022, 0.5087765225329209, 0.14132681181470028, 0.11306144945176022, 0.028265362362940055, 0.08479608708882017, 0.7071994402865063, 0.2182824494958442, 0.3756976774976549, 0.16371183712188314, 0.09235026709439562, 0.0671638306141059, 0.08185591856094157, 0.29679301633772015, 0.29679301633772015, 0.12072672108880464, 0.12072672108880464, 0.24145344217760928, 0.36218016326641395, 0.12072672108880464, 0.12072672108880464, 0.11338369865174087, 0.6803021919104453, 0.11338369865174087, 0.34493913578295976, 0.2101972858677411, 0.25600951483891543, 0.061981250961000586, 0.07545543595252245, 0.053896739966087466, 0.24186116911738467, 0.2826948729943457, 0.2607074939836744, 0.11936005748650153, 0.05968002874325076, 0.03769264973257943, 0.4591922993048583, 0.1836769197219433, 0.16454390725090753, 0.0803586523783502, 0.05357243491890013, 0.06122563990731444, 0.7046479698918302, 0.2348826566306101, 0.1359661289749487, 0.06798306448747435, 0.6118475803872692, 0.16995766121868588, 0.46877309413307294, 0.09821912448502482, 0.1473286867275372, 0.05803857355933285, 0.13393516975230657, 0.0937546188266146, 0.15564830788117795, 0.15564830788117795, 0.15564830788117795, 0.3112966157623559, 0.15564830788117795, 0.6382174313607675, 0.21273914378692246, 0.2978099617860826, 0.2978099617860826, 0.2978099617860826, 0.25200026715839535, 0.5040005343167907, 0.16960308740040655, 0.3392061748008131, 0.3392061748008131, 0.6706175230793914, 0.13412350461587827, 0.13412350461587827, 0.26687051590202143, 0.14677878374611178, 0.19348112402896553, 0.26687051590202143, 0.06004586607795482, 0.06004586607795482, 0.31127004401546116, 0.31127004401546116, 0.40383901121723487, 0.1525623841921708, 0.1525623841921708, 0.4576871525765124, 0.1460801827769738, 0.7304009138848689, 0.05478006854136517, 0.018260022847121724, 0.018260022847121724, 0.018260022847121724, 0.6422459849702031, 0.1110747047582554, 0.1110747047582554, 0.1110747047582554, 0.3332241142747662, 0.2221494095165108, 0.4305674239658784, 0.4305674239658784, 0.22658707715387236, 0.21065517329149072, 0.22304665407334312, 0.1327658655198471, 0.1398467116809056, 0.06726803853005586, 0.10109682265541932, 0.7076777585879352, 0.10109682265541932, 0.06935833524553574, 0.6242250172098217, 0.20807500573660723, 0.06935833524553574, 0.18447121271341785, 0.6640963657683042, 0.07378848508536714, 0.07378848508536714, 0.03689424254268357, 0.2534670359429748, 0.7604011078289243, 0.36025342395720883, 0.18795830815158723, 0.10442128230643735, 0.10442128230643735, 0.18795830815158723, 0.052210641153218676, 0.1090252784038573, 0.1090252784038573, 0.1090252784038573, 0.4361011136154292, 0.1090252784038573, 0.2433340665776766, 0.2433340665776766, 0.2433340665776766, 0.6709078298975782, 0.13418156597951564, 0.28538931231518894, 0.28538931231518894, 0.28538931231518894, 0.19382620643236864, 0.40057415996022855, 0.20674795352785988, 0.08399135612069308, 0.05168698838196497, 0.05168698838196497, 0.24187253658546842, 0.48374507317093685, 0.707725374093829, 0.6747561948076435, 0.03969154087103785, 0.1587661634841514, 0.03969154087103785, 0.03969154087103785, 0.29803338809794133, 0.18053945625163753, 0.2894362711335776, 0.11462822619151589, 0.05158270178618215, 0.06591123006012163, 0.3138461015370661, 0.25556039696589666, 0.15692305076853305, 0.07771427276155922, 0.08668130423404682, 0.11059338816068043, 0.27590911169154503, 0.11036364467661801, 0.11036364467661801, 0.331090934029854, 0.11036364467661801, 0.055181822338309004, 0.7503729105614827, 0.3030954541784294, 0.20928019455177269, 0.1407228894399851, 0.23092986985023192, 0.05773246746255798, 0.05773246746255798, 0.642346544456273, 0.13764568809777278, 0.04588189603259093, 0.13764568809777278, 0.4155189321544279, 0.12293241290412188, 0.12293241290412188, 0.4917296516164875, 0.12293241290412188, 0.5774273761696823, 0.1408359454072396, 0.09858516178506771, 0.05633437816289584, 0.08450156724434375, 0.04225078362217188, 0.27852085879673705, 0.3295830162428055, 0.14854445802492644, 0.0990296386832843, 0.06653553849033163, 0.07891424332574216, 0.16372494470717375, 0.3274498894143475, 0.08186247235358687, 0.08186247235358687, 0.3274498894143475, 0.34513953245419055, 0.2666202888208622, 0.1786097080450436, 0.09318767376263146, 0.0474566857124512, 0.06989075532197359, 0.2166302876644207, 0.649890862993262, 0.2166302876644207, 0.41721796998723054, 0.4184105394021548, 0.29234307124940445, 0.2111366625690143, 0.08120640868039013, 0.3085843529854825, 0.03248256347215605, 0.08120640868039013, 0.15751914040667975, 0.15751914040667975, 0.07875957020333987, 0.47255742122003924, 0.07875957020333987, 0.15751914040667975, 0.19610883094576245, 0.19610883094576245, 0.3922176618915249, 0.19610883094576245, 0.2195677810587774, 0.47291522074198206, 0.11822880518549551, 0.08444914656106822, 0.06755931724885458, 0.03377965862442729, 0.3946021243412541, 0.22439402435913755, 0.2645487445076148, 0.18187726184898517, 0.15353275350888357, 0.11337803336040633, 0.06141310140355343, 0.4728210399380136, 0.165620929243824, 0.10685221241537031, 0.11219482303613883, 0.082810464621912, 0.05876871682845367, 0.622890804669257, 0.621681882970498, 0.7285124951897487, 0.6482536790732639, 0.21608455969108797, 0.18077177369765957, 0.18077177369765957, 0.5423153210929786, 0.18077177369765957, 0.4252268311140883, 0.4252268311140883, 0.23836194355996979, 0.23836194355996979, 0.23836194355996979, 0.47672388711993957, 0.26418210971251016, 0.3157605216087621, 0.15347722564250588, 0.10189881374625391, 0.05912647217375227, 0.10567284388500406, 0.17074396606546097, 0.17074396606546097, 0.34148793213092193, 0.17074396606546097, 0.17873995071804644, 0.17873995071804644, 0.08936997535902322, 0.14894995893170535, 0.17873995071804644, 0.23831993429072856, 0.3318127223986677, 0.26628231013811576, 0.14250264253485104, 0.1477034689047361, 0.03848611513714954, 0.07385173445236805, 0.4964357115702651, 0.144793749207994, 0.10687157679637652, 0.11721398745409038, 0.08618675548094881, 0.04826458306933133, 0.1775127153899559, 0.5621235987348603, 0.08875635769497794, 0.08875635769497794, 0.059170905129985296, 0.029585452564992648, 0.12661230636945894, 0.08440820424630596, 0.16881640849261192, 0.37983691910837686, 0.08440820424630596, 0.12661230636945894, 0.09150222397810384, 0.5490133438686231, 0.13725333596715578, 0.18300444795620768, 0.04575111198905192, 0.5772109016063611, 0.2576972684427122, 0.16674529134528435, 0.13642796564614174, 0.2576972684427122, 0.045475988548713916, 0.13642796564614174, 0.6358255480351868, 0.24862576283251564, 0.16575050855501045, 0.08287525427750522, 0.4143762713875261, 0.08287525427750522, 0.3548467999208581, 0.18228431502783807, 0.17499294242672456, 0.11909241915152087, 0.07169849724428297, 0.09843353011503256, 0.7104475381778702, 0.3486414520882675, 0.13017161265958813, 0.34317970610255055, 0.09193939075956924, 0.05279687786193085, 0.032770475914301905, 0.060732056544222854, 0.12146411308844571, 0.5465885088980057, 0.12146411308844571, 0.060732056544222854, 0.29065280663747717, 0.2701015980873525, 0.17321732920819347, 0.049910077907445574, 0.0822048342004986, 0.13211491210794415, 0.17029628425601395, 0.17029628425601395, 0.6811851370240558, 0.13275973970818508, 0.6637986985409254, 0.13275973970818508, 0.6195384025204578, 0.15488460063011444, 0.7244111139658366, 0.40504825783853243, 0.7084281681152838, 0.368497693344896, 0.35345697116755337, 0.07520361088671347, 0.12784613850741292, 0.05264252762069943, 0.026321263810349715, 0.30446449235379297, 0.30446449235379297, 0.7026204566634492, 0.6247698669198062, 0.24723672419945544, 0.12361836209972772, 0.12361836209972772, 0.3708550862991832, 0.12361836209972772, 0.06180918104986386, 0.3098566054025486, 0.3098566054025486, 0.12341184130720506, 0.24682368261441012, 0.12341184130720506, 0.49364736522882025, 0.25254278224873417, 0.2656960521575224, 0.20782166455885417, 0.07891961945272943, 0.08681158139800237, 0.1104874672338212, 0.15359368901718123, 0.6143747560687249, 0.15359368901718123, 0.07679684450859062, 0.07679684450859062, 0.6963290037979483, 0.23210966793264942, 0.4612178569913799, 0.20018817622604573, 0.14719718840150423, 0.07850516714746891, 0.056916246181914966, 0.05299098782454152, 0.3372685465994522, 0.24090610471389443, 0.08030203490463148, 0.09636244188555777, 0.03212081396185259, 0.22484569773296814, 0.380359167720664, 0.380359167720664, 0.380359167720664, 0.38024339774362426, 0.38024339774362426, 0.38024339774362426, 0.15759955054594943, 0.15759955054594943, 0.07879977527297471, 0.15759955054594943, 0.15759955054594943, 0.23639932581892414, 0.21450266681519667, 0.64350800044559, 0.21450266681519667, 0.3777535603853543, 0.17170616381152468, 0.25888006236199107, 0.08453226526105831, 0.05283266578816144, 0.05283266578816144, 0.2883173282705779, 0.2724101653315115, 0.1491296525537472, 0.09941976836916479, 0.0954429776343982, 0.0934545822670149, 0.7885886343730606, 0.38672374040100355, 0.23109101560547773, 0.17606934522322112, 0.10061105441326922, 0.0597378135578786, 0.04558938403101261, 0.7390217418320537, 0.08211352687022819, 0.08211352687022819, 0.40296559269380755, 0.40296559269380755, 0.40135750854024205, 0.40135750854024205, 0.2304688729767698, 0.05121530510594884, 0.26888035180623143, 0.10243061021189769, 0.19205739414730816, 0.15364591531784652, 0.35087318996050204, 0.11695772998683401, 0.46783091994733605, 0.11695772998683401, 0.21258085982810268, 0.5010834553090991, 0.12147477704463011, 0.07592173565289381, 0.060737388522315056, 0.04555304139173629, 0.19652553541012918, 0.09826276770506459, 0.2947883031151938, 0.09826276770506459, 0.2947883031151938, 0.18057086435907665, 0.54171259307723, 0.18057086435907665, 0.36618809094833177, 0.12080431866336719, 0.3057859316166482, 0.09437837395575562, 0.060402159331683594, 0.05662702437345337, 0.45054676349891226, 0.19555646756123, 0.11119877567207197, 0.1284537581039452, 0.07285437026790921, 0.04217884594457902, 0.7185729883942324, 0.10258733505214293, 0.20517467010428586, 0.38983187319814316, 0.1538810025782144, 0.09232860154692864, 0.06155240103128576, 0.7768419061835916, 0.179176259484357, 0.179176259484357, 0.179176259484357, 0.0895881297421785, 0.0895881297421785, 0.358352518968714, 0.13118227808156108, 0.4022923194501206, 0.11369130767068626, 0.22738261534137252, 0.05247291123262443, 0.06996388164349925, 0.16918148940125766, 0.1765372063317471, 0.1287250462835656, 0.14711433860978926, 0.31997368647629165, 0.0588457354439157, 0.17907668017299522, 0.11938445344866348, 0.18366838992102075, 0.13315958269274003, 0.12856787294471453, 0.25713574588942906, 0.3627316241486933, 0.14421859755309493, 0.11799703436162313, 0.08740521063823936, 0.25347511085089414, 0.03496208425529574, 0.7067232590652168, 0.16308998286120388, 0.027181663810200648, 0.054363327620401296, 0.054363327620401296, 0.027181663810200648, 0.23917581727449888, 0.11958790863724944, 0.05979395431862472, 0.05979395431862472, 0.47835163454899776, 0.05979395431862472, 0.52875703344209, 0.5414239541370226, 0.22644206688777738, 0.22644206688777738, 0.22644206688777738, 0.42081229792908836, 0.23013768950316849, 0.23013768950316849, 0.46027537900633697, 0.13692870071507962, 0.13692870071507962, 0.5477148028603185, 0.13692870071507962, 0.7956049363515871, 0.17782645572834915, 0.17782645572834915, 0.5334793671850474, 0.17782645572834915, 0.32651286514737915, 0.15428629891579454, 0.1973429404736907, 0.08970133657895031, 0.09328939004210833, 0.1399340850631625, 0.4064814104717919, 0.18353251563726364, 0.1588972786389732, 0.12071266129162306, 0.061588092495726054, 0.06774690174529865, 0.30064040694600075, 0.23598655598987156, 0.16486731993812945, 0.07758462114735502, 0.07435192859954858, 0.14547116465129067, 0.4354250410036491, 0.20682689447673333, 0.1256795004715078, 0.10291864605540797, 0.07026176798013428, 0.05937614195504306, 0.05796174030197772, 0.7535026239257103, 0.05796174030197772, 0.05796174030197772, 0.4016396470817465, 0.4016396470817465, 0.21204710643750163, 0.1817546626607157, 0.03029244377678595, 0.45438665665178923, 0.0605848875535719, 0.0605848875535719, 0.38547027413150603, 0.38547027413150603, 0.250758608535814, 0.250758608535814, 0.250758608535814, 0.4017035850488115, 0.12468176419852481, 0.5610679388933616, 0.12468176419852481, 0.12468176419852481, 0.062340882099262404, 0.3019912151825004, 0.1679071156414702, 0.2283053586779703, 0.0724778916438001, 0.1485796778697902, 0.0809336456689101, 0.41734783592214403, 0.10718769556470366, 0.19156949845606613, 0.0889429814260307, 0.12087123116870839, 0.07297885655469186, 0.137631088432804, 0.550524353731216, 0.275262176865608, 0.6082507545599249, 0.08689296493713214, 0.08689296493713214, 0.08689296493713214, 0.08689296493713214, 0.11343117992898939, 0.22686235985797878, 0.11343117992898939, 0.45372471971595757, 0.6190186080737707, 0.13749463597343328, 0.2921761014435458, 0.3609234194302624, 0.09452756223173539, 0.07734073273505623, 0.03437365899335832, 0.4011465061760839, 0.4011465061760839, 0.7612608321573239, 0.39816747281856457, 0.6486139897279612, 0.13517838139350902, 0.27035676278701803, 0.090118920929006, 0.090118920929006, 0.315416223251521, 0.090118920929006, 0.22329058647545613, 0.22329058647545613, 0.14886039098363743, 0.07443019549181872, 0.29772078196727486, 0.18472034012451918, 0.07606131652186084, 0.34770887552850666, 0.11952492596292418, 0.20645214484505084, 0.06519541416159501, 0.28935343220750354, 0.3456165995811848, 0.10770377754390409, 0.11614325264995627, 0.06952519968319182, 0.07153459851796615, 0.6277826721106715, 0.394354916580945, 0.394354916580945, 0.39423788262426934, 0.21538098619061868, 0.43076197238123737, 0.21538098619061868, 0.2744398599775707, 0.1193216782511177, 0.2953211536715163, 0.11037255238228387, 0.10142342651345004, 0.09844038455717209, 0.26507233494848964, 0.10602893397939586, 0.21205786795879172, 0.10602893397939586, 0.05301446698969793, 0.26507233494848964, 0.4059759494822642, 0.3018890300645363, 0.3018890300645363, 0.6925125932076056, 0.17925823525868645, 0.3585164705173729, 0.3585164705173729, 0.20046879168120887, 0.20046879168120887, 0.20046879168120887, 0.40093758336241775, 0.6189595691474397, 0.09773045828643785, 0.09773045828643785, 0.09773045828643785, 0.09773045828643785, 0.3226032019899727, 0.3288552020285381, 0.13879440085615105, 0.07002240043193206, 0.08002560049363663, 0.0587688003625144, 0.41316646311955985, 0.3565036338917345, 0.08263329262391196, 0.07791139018825985, 0.04131664631195598, 0.0295118902228257, 0.2509090320339381, 0.2509090320339381, 0.5018180640678762, 0.222962674888484, 0.5202462414064627, 0.07432089162949466, 0.03716044581474733, 0.111481337444242, 0.03716044581474733, 0.17347054079135224, 0.17347054079135224, 0.17347054079135224, 0.17347054079135224, 0.3469410815827045, 0.2237470867395981, 0.258169715468767, 0.0774509146406301, 0.12047920055209127, 0.13769051491667575, 0.1807188008281369, 0.3225101346648216, 0.3225101346648216, 0.3225101346648216, 0.15578277117459238, 0.6231310846983695, 0.15578277117459238, 0.15578277117459238, 0.2815312404845567, 0.25290094484205944, 0.019086863761664862, 0.23381408108039456, 0.10020603474874053, 0.10974946662957295, 0.2947367777820026, 0.0807498021320555, 0.2099494855433443, 0.09286227245186382, 0.17361207458391933, 0.1453496438376999, 0.26094374536159437, 0.3549329617003677, 0.17313803009774034, 0.08780571526385403, 0.0643084111791607, 0.059361610319225266, 0.3389542633547004, 0.38185986631099156, 0.07723008532132414, 0.07293952502569502, 0.055777283843178545, 0.0686489647300659, 0.38899107323910914, 0.38899107323910914, 0.38899107323910914, 0.3042105849606201, 0.1626472434442919, 0.20782703328992855, 0.0963835516706915, 0.10240752365010973, 0.1234914255780735, 0.3484121493848869, 0.12443291049460246, 0.28619569413758567, 0.08399221458385667, 0.07465974629676148, 0.08399221458385667, 0.714105459646681, 0.19938360193203936, 0.1495377014490295, 0.19938360193203936, 0.04984590048300984, 0.299075402898059, 0.04984590048300984, 0.11363252374545034, 0.2651425554060508, 0.15151003166060045, 0.15151003166060045, 0.2651425554060508, 0.07575501583030023, 0.246853101151425, 0.246853101151425, 0.246853101151425, 0.2893285919537186, 0.38577145593829143, 0.1265812589797519, 0.054249110991322236, 0.06630446898939384, 0.07835982698746545, 0.7368093457961347, 0.18420233644903367, 0.33601292293246127, 0.17826037695477992, 0.23031871712741475, 0.10411668034526968, 0.0836088493681711, 0.06783359477040297, 0.3036322467022687, 0.3036322467022687, 0.2892642223848875, 0.2360396054660682, 0.1342185991865878, 0.15735973697737882, 0.138846826744746, 0.046282275581582, 0.12958806651608856, 0.6479403325804428, 0.2954248602396562, 0.1554867685471875, 0.1554867685471875, 0.24877882967549997, 0.07774338427359374, 0.04664603056415624, 0.2645719886342897, 0.5291439772685794, 0.3218240380573689, 0.1757198735405266, 0.1875661571500003, 0.11648845549315807, 0.12833473910263177, 0.06910332105526326, 0.07398458712171313, 0.591876696973705, 0.22195376136513942, 0.07398458712171313, 0.0914810359776843, 0.1829620719553686, 0.22870258994421075, 0.0914810359776843, 0.1829620719553686, 0.22870258994421075, 0.2457722604547126, 0.18432919534103445, 0.06144306511367815, 0.43010145579574705, 0.06144306511367815, 0.06144306511367815, 0.2500085838875719, 0.3195375983415121, 0.17308286576831902, 0.10947121424662913, 0.06804967372087757, 0.08136374031844057, 0.45007493624770045, 0.12814633601497027, 0.17502914187410573, 0.10626769328070705, 0.05938488742157159, 0.0812635301558348, 0.784101152294121, 0.29515169470627556, 0.29515169470627556, 0.29515169470627556, 0.29515169470627556, 0.41805055759959947, 0.41805055759959947, 0.32952099523596895, 0.10984033174532298, 0.29748423181024974, 0.11899369272409989, 0.09153360978776916, 0.05034348538327303, 0.3050985738919776, 0.3050985738919776, 0.2863296764060185, 0.34880160580369524, 0.11453187056240739, 0.07808991174709594, 0.08329590586356901, 0.08850189998004207, 0.3081381659500892, 0.2893205680294731, 0.14583638388477504, 0.10584898830346576, 0.09408798960308068, 0.054100594021771385, 0.6023140407652091, 0.12046280815304182, 0.12046280815304182, 0.5174153887121593, 0.17490097646608202, 0.08016294754695426, 0.12388819166347476, 0.05101278480260725, 0.05101278480260725, 0.6262966144423373, 0.34237222136354306, 0.22824814757569536, 0.254788629851939, 0.058389061007736026, 0.06369715746298475, 0.05042691632486293, 0.17043393425967007, 0.5113018027790103, 0.17043393425967007, 0.3005709557286001, 0.3005709557286001, 0.7135247415792242, 0.4200016403466558, 0.4200016403466558, 0.7183526093996145, 0.3777574312890707, 0.3777574312890707, 0.29873693847329214, 0.29873693847329214, 0.29873693847329214, 0.10266548736868246, 0.3911066185473618, 0.09777665463684045, 0.17110914561447077, 0.13688731649157662, 0.09777665463684045, 0.2765961114877997, 0.2386319393228076, 0.11118078991176264, 0.1410097823271136, 0.08948697724605285, 0.1437215089103273, 0.19495121044782138, 0.38990242089564275, 0.38990242089564275, 0.13686688377359346, 0.5474675350943738, 0.13686688377359346, 0.13686688377359346, 0.13686688377359346, 0.31305902277565095, 0.18531654796489683, 0.10795138716401757, 0.17092302967636117, 0.12774247481075413, 0.09535705866154885, 0.4239246277427199, 0.22084031654660013, 0.09987753009645232, 0.09765802942764228, 0.09321902809002217, 0.06547526972989652, 0.4987694947811695, 0.17955701812122102, 0.14464315348653917, 0.06982772926936373, 0.06982772926936373, 0.03990155958249356, 0.8165963145192799, 0.1256302022337354, 0.41764598756600624, 0.4506885894242908, 0.1842100186932617, 0.18599846547669144, 0.07153787133718902, 0.041134276018883684, 0.06796097777032957, 0.3023221717419544, 0.3023221717419544, 0.3009094097743317, 0.3009094097743317, 0.3009094097743317, 0.6739470112411324, 0.11232450187352207, 0.18720750312253678, 0.03744150062450736, 0.41848679115686943, 0.1764082781184342, 0.15966880647215942, 0.09142326822196224, 0.07082084158039328, 0.08369735823137389, 0.09339237471740294, 0.2801771241522088, 0.0700442810380522, 0.30352521783155956, 0.09339237471740294, 0.16343665575545516, 0.2020578847437161, 0.2020578847437161, 0.4041157694874322, 0.20497590119669037, 0.10248795059834519, 0.15373192589751777, 0.10248795059834519, 0.051243975299172594, 0.3587078270942082, 0.28846024829621386, 0.25997034722992113, 0.14601074296475022, 0.14779136178139352, 0.078347227932305, 0.0801278467489483, 0.18061229422486702, 0.21345089317484284, 0.3776438879247219, 0.09030614711243351, 0.09030614711243351, 0.04925789842496373, 0.6988133921316221, 0.16266686933159147, 0.1983742308921847, 0.4086509156379005, 0.08728466159256126, 0.05951226926765541, 0.08728466159256126, 0.7183685571957288, 0.31328378292757664, 0.20139671759629926, 0.25361068141756204, 0.07906685950076935, 0.04027934351925985, 0.110395237793527, 0.45169703512344994, 0.22704348326310975, 0.15773547258279202, 0.06691807927754814, 0.05257849086093068, 0.04540869665262195, 0.38545568999620267, 0.1284852299987342, 0.1284852299987342, 0.0642426149993671, 0.32121307499683555, 0.5311112447241481, 0.37322291129590485, 0.25318448880886707, 0.12900681037400039, 0.06760784714787185, 0.10417127468702704, 0.07312685507831038, 0.4109724120643627, 0.2146480113966735, 0.11081421726576234, 0.10383379413091116, 0.08812784207749604, 0.0715493371322245, 0.2650165088505988, 0.27884345713845615, 0.14287846564119241, 0.10600660354023952, 0.07374372420190575, 0.13135600873464462, 0.12700026566322406, 0.12700026566322406, 0.12700026566322406, 0.2540005313264481, 0.2540005313264481, 0.19167485262190737, 0.5750245578657222, 0.12778323508127157, 0.06389161754063578, 0.06389161754063578, 0.06389161754063578, 0.10334269177756898, 0.620056150665414, 0.20668538355513796, 0.10334269177756898, 0.10334269177756898, 0.3851349070433847, 0.3851349070433847, 0.6722464717404619, 0.07469405241560688, 0.07469405241560688, 0.07469405241560688, 0.07469405241560688, 0.07469405241560688, 0.3383433999218225, 0.676686799843645, 0.241973753869627, 0.1209868769348135, 0.1209868769348135, 0.36296063080444047, 0.1209868769348135, 0.6875725064244399, 0.22919083547481328, 0.3090870590720832, 0.3090870590720832, 0.38681074302248214, 0.1763787135226668, 0.20431989586289126, 0.08295038507254132, 0.08033089922814528, 0.06810663195429709, 0.21443304772541044, 0.21443304772541044, 0.4288660954508209, 0.10721652386270522, 0.17947555348119498, 0.17947555348119498, 0.538426660443585, 0.17947555348119498, 0.2275858271534746, 0.17068937036510595, 0.17068937036510595, 0.05689645678836865, 0.1137929135767373, 0.2844822839418433, 0.09612481656847435, 0.09612481656847435, 0.09612481656847435, 0.1922496331369487, 0.1922496331369487, 0.2883744497054231, 0.3216107146469278, 0.11026653073608952, 0.1286442858587711, 0.11945540829743032, 0.1745886736654751, 0.1378331634201119, 0.47629383365388817, 0.22575777086484872, 0.10186631124389516, 0.04955658384838143, 0.07433487577257214, 0.06882858867830753, 0.32588758976164195, 0.13966610989784656, 0.13966610989784656, 0.0931107399318977, 0.23277684982974425, 0.07759228327658142, 0.13465834961476933, 0.13465834961476933, 0.13465834961476933, 0.26931669922953866, 0.26931669922953866, 0.29067439468459555, 0.29067439468459555, 0.12493899420653667, 0.10709056646274571, 0.09179191411092491, 0.09689146489486518, 0.3192519998666599, 0.21914755923050386, 0.13798179655253945, 0.14339284739773708, 0.059521559297173884, 0.11904311859434777, 0.5300143899126648, 0.181840609159964, 0.181840609159964, 0.363681218319928, 0.181840609159964, 0.160305645449651, 0.160305645449651, 0.48091693634895305, 0.160305645449651, 0.7776866615996295, 0.1650626308226411, 0.08253131541132055, 0.08253131541132055, 0.1650626308226411, 0.1650626308226411, 0.3301252616452822, 0.7125552976732554, 0.5301865699544104, 0.2119094877674272, 0.539405968862542, 0.09632249443973964, 0.057793496663843785, 0.07705799555179171, 0.03852899777589586, 0.7651191067188275, 0.14339257362935473, 0.4916316810149305, 0.12290792025373262, 0.06145396012686631, 0.10242326687811053, 0.08193861350248842, 0.3451382487197665, 0.28589810155144835, 0.17256912435988325, 0.06954278145846042, 0.06696712288592484, 0.05924014716831813, 0.1364609780479919, 0.5458439121919676, 0.1364609780479919, 0.1364609780479919, 0.1364609780479919, 0.10312821590345948, 0.6187692954207569, 0.20625643180691897, 0.10312821590345948, 0.7276008658170421, 0.25746474482890075, 0.26282859367950284, 0.16091546551806296, 0.21455395402408395, 0.037546941954214694, 0.06436618620722519, 0.23729681700058997, 0.23729681700058997, 0.47459363400117993, 0.4372797446510215, 0.13408301562503697, 0.18240121945387913, 0.06643753026465796, 0.10026027294484746, 0.0809329914133106, 0.5761722906294986, 0.13169652357245681, 0.06584826178622841, 0.049386196339671305, 0.11523445812589972, 0.06584826178622841, 0.240771559987902, 0.36777194327822393, 0.17727136834274104, 0.09348639325537587, 0.037923725565860024, 0.08246205442809097, 0.18311534719851058, 0.49300285784214387, 0.1690295512601636, 0.0845147756300818, 0.028171591876693935, 0.0422573878150409, 0.789408277524595, 0.4786528877681815, 0.16917903791806416, 0.13204217593605008, 0.094905313954036, 0.0701474059660266, 0.05364213397402034, 0.2573326601874158, 0.20243502601410046, 0.21615943455742928, 0.08577755339580527, 0.1269507790257918, 0.11322637048246297, 0.17890421751536315, 0.1697764513155997, 0.33590179615129406, 0.12048651383687722, 0.098579874957445, 0.0967543217174923, 0.07426470573237909, 0.22279411719713726, 0.29705882292951635, 0.29705882292951635, 0.2967857736422729, 0.24675292291330733, 0.16374387511297814, 0.14668722145537624, 0.08983170926336995, 0.05571840194816617, 0.30188571066266096, 0.14766148891108416, 0.32813664202463144, 0.12797329038960625, 0.03281366420246314, 0.062345961984679975, 0.7702724285002678, 0.12837873808337796, 0.3738535805178092, 0.16356094147654152, 0.16356094147654152, 0.04673169756472615, 0.0856747788686646, 0.16356094147654152, 0.3138051718418109, 0.19356206861270578, 0.24635172368889827, 0.12317586184444913, 0.05278965507619249, 0.07038620676825665, 0.14779733938866757, 0.14779733938866757, 0.5911893575546703, 0.5884849796575085, 0.22068186737156567, 0.049040414971459036, 0.07356062245718856, 0.07356062245718856, 0.2219076412015789, 0.15774157627582117, 0.25666425970303103, 0.17110950646868736, 0.08822833927291691, 0.10426985550435636, 0.7425571120382037, 0.08250634578202264, 0.08250634578202264, 0.5624217172607723, 0.11930157638864866, 0.15338774107111972, 0.05112924702370657, 0.05112924702370657, 0.08521541170617761, 0.23439395717725503, 0.1060353615801868, 0.3264772974968909, 0.10882576583229697, 0.1841666806392718, 0.041856063781652686, 0.3057254169651575, 0.3057254169651575, 0.3087603857555529, 0.3087603857555529, 0.2586157217846172, 0.11083530933626452, 0.18472551556044087, 0.4063961342329699, 0.03694510311208817, 0.22920331205693184, 0.22920331205693184, 0.4584066241138637, 0.4147212332952074, 0.18871718505910354, 0.12936258653245, 0.08598807222451088, 0.08218329026767413, 0.09892433087775589, 0.5379540721659993, 0.07335737347718173, 0.1100360602157726, 0.09780983130290898, 0.09780983130290898, 0.07335737347718173, 0.07924410037429752, 0.5547087026200826, 0.15848820074859504, 0.07924410037429752, 0.5603152390090245, 0.07372568934329268, 0.14745137868658537, 0.08847082721195122, 0.05898055147463415, 0.07372568934329268, 0.3702198367856056, 0.19057217827980352, 0.16750930320135596, 0.10317602008779173, 0.08011314500934416, 0.08860999372245641, 0.2141322808451459, 0.6423968425354377, 0.1997013456729345, 0.1997013456729345, 0.1997013456729345, 0.1997013456729345, 0.399402691345869, 0.29526389868901864, 0.29526389868901864, 0.29526389868901864, 0.29337482963351214, 0.19272799027019044, 0.14561670375969946, 0.19058656815607722, 0.09850541724920844, 0.0792326182221894, 0.24383259142132538, 0.24383259142132538, 0.48766518284265076, 0.1741233317481509, 0.1741233317481509, 0.3482466634963018, 0.1741233317481509, 0.2283845336611989, 0.2283845336611989, 0.4567690673223978, 0.2537970846030597, 0.5075941692061194, 0.05570410480381866, 0.167112314411456, 0.05570410480381866, 0.167112314411456, 0.38992873362673064, 0.167112314411456, 0.20968338813010895, 0.2530661580880625, 0.1446092331931786, 0.10122646323522501, 0.19522246481079109, 0.09399600157556608, 0.4150524256647283, 0.7047361643200903, 0.6167203401977707, 0.06852448224419674, 0.06852448224419674, 0.06852448224419674, 0.06852448224419674, 0.1680191574101605, 0.672076629640642, 0.3912493059938225, 0.3912493059938225, 0.359132670872645, 0.26134067598713606, 0.1534322678376089, 0.10453627039485441, 0.07924523723480899, 0.0438377908107454, 0.2548710589843723, 0.15084205531728154, 0.1872522066007633, 0.09882755348373619, 0.1872522066007633, 0.12483480440050887, 0.2538370339678751, 0.20721390527989805, 0.21757460054389297, 0.10878730027194648, 0.12432834316793884, 0.08702984021755719, 0.27135678240065186, 0.22644255634813018, 0.23018540851917366, 0.12725697381547812, 0.05988563473669559, 0.0860855999339999, 0.3112422692773078, 0.1556211346386539, 0.4668634039159617, 0.1556211346386539, 0.35640152991934, 0.1869360965753401, 0.15723596908206178, 0.11006517835744324, 0.0978357140955051, 0.09084744880296902, 0.6159177973798294, 0.41363208168148685, 0.18116443887600006, 0.16513218764803544, 0.13146446006930979, 0.04889836624529205, 0.06012094210486727, 0.796918762604613, 0.09961484532557663, 0.09961484532557663, 0.21281127029267644, 0.6384338108780293, 0.36342920145778657, 0.15085740437870385, 0.21600037445132597, 0.11428591240810898, 0.05942867445221667, 0.09600016642281155, 0.0858061286630273, 0.0858061286630273, 0.5148367719781638, 0.0858061286630273, 0.2574183859890819, 0.628032288379687, 0.03694307578704041, 0.11082922736112125, 0.07388615157408082, 0.03694307578704041, 0.07388615157408082, 0.517225090214796, 0.10203760283149037, 0.22166789580634116, 0.09500052677414621, 0.0387039183153929, 0.024629766200704572], \"Term\": [\"aar\\u00f3n\", \"aar\\u00f3n\", \"aar\\u00f3n\", \"aar\\u00f3n\", \"aar\\u00f3n\", \"aar\\u00f3n\", \"aar\\u00f3n_rociar\", \"abiam\", \"abiam\", \"abiatar\", \"abiatar\", \"abiatar\", \"abiatar\", \"abiatar\", \"abiatar\", \"abimelec\", \"abimelec\", \"abimelec\", \"abimelec\", \"abimelec\", \"abimelec\", \"abraham\", \"abraham\", \"abraham\", \"abraham\", \"abraham\", \"abraham\", \"abram\", \"abram\", \"abram\", \"abram\", \"abram\", \"abram\", \"abrir_libro\", \"abrir_libro\", \"abrir_libro\", \"absal\\u00f3n\", \"absal\\u00f3n\", \"absal\\u00f3n\", \"absal\\u00f3n\", \"absal\\u00f3n\", \"absal\\u00f3n\", \"acampar\", \"acampar\", \"acampar\", \"acampar\", \"acampar\", \"acampar\", \"acaz\", \"acaz\", \"acaz\", \"acaz\", \"acaz\", \"acaz\", \"agagueo\", \"agua\", \"agua\", \"agua\", \"agua\", \"agua\", \"agua\", \"ala_extendido\", \"ala_extendido\", \"ala_querub\\u00edn\", \"ala_querub\\u00edn\", \"ala_querub\\u00edn\", \"ala_querub\\u00edn\", \"ala_querub\\u00edn\", \"ala_querub\\u00edn\", \"alabadle\", \"alabadle\", \"alabadle\", \"alma\", \"alma\", \"alma\", \"alma\", \"alma\", \"alma\", \"altar\", \"altar\", \"altar\", \"altar\", \"altar\", \"altar\", \"amar\", \"amar\", \"amar\", \"amar\", \"amar\", \"amar\", \"ame\", \"ame\", \"amn\\u00f3n\", \"amn\\u00f3n\", \"amn\\u00f3n\", \"amn\\u00f3n\", \"amor\", \"amor\", \"amor\", \"amor\", \"amor\", \"amor\", \"amram\", \"amram\", \"amram\", \"amram\", \"amram\", \"am\\u00e1n_mardoqueo\", \"am\\u00e1n_mardoqueo\", \"ancho_codo\", \"ancho_codo\", \"ancho_codo\", \"angustiador\", \"angustiador\", \"animal_limpio\", \"animal_limpio\", \"animal_limpio\", \"anticristo\", \"anticristo\", \"anticristo\", \"arca\", \"arca\", \"arca\", \"arca\", \"arca\", \"arca\", \"ard\", \"ard\", \"areli\", \"ariel\", \"ariel\", \"ariel\", \"asa\", \"asa\", \"asa\", \"asa\", \"asa\", \"asa\", \"astarot_edrei\", \"atrio_exterior\", \"atrio_exterior\", \"atrio_exterior\", \"atrio_exterior\", \"atrio_exterior\", \"ayuda_escudo\", \"ayuda_escudo\", \"a\\u00f1o\", \"a\\u00f1o\", \"a\\u00f1o\", \"a\\u00f1o\", \"a\\u00f1o\", \"a\\u00f1o\", \"a\\u00f1o_asa\", \"a\\u00f1o_asa\", \"a\\u00f1o_asa\", \"a\\u00f1o_jubileo\", \"a\\u00f1o_jubileo\", \"a\\u00f1o_jubileo\", \"a\\u00f1o_jubileo\", \"baasa\", \"baasa\", \"baasa\", \"baasa\", \"baasa\", \"baasa_edificar\", \"baasa_edificar\", \"babilonia\", \"babilonia\", \"babilonia\", \"babilonia\", \"babilonia\", \"babilonia\", \"barac\", \"barac\", \"barac\", \"barac\", \"barac\", \"basas_tabla\", \"basas_tabla\", \"basas_tabla\", \"bautizar_agua\", \"bautizar_agua\", \"beban\", \"beban\", \"beban\", \"bestia\", \"bestia\", \"bestia\", \"bestia\", \"bestia\", \"bestia\", \"bienaventuranza\", \"bienaventuranza\", \"blasfemir\", \"booz\", \"booz\", \"booz\", \"booz\", \"booz\", \"cabeza\", \"cabeza\", \"cabeza\", \"cabeza\", \"cabeza\", \"cabeza\", \"camino\", \"camino\", \"camino\", \"camino\", \"camino\", \"camino\", \"campo_moab\", \"campo_moab\", \"campo_moab\", \"campo_moab\", \"campo_moab\", \"campo_moab\", \"candelabro\", \"carne\", \"carne\", \"carne\", \"carne\", \"carne\", \"carne\", \"ca\\u00edn\", \"ca\\u00edn\", \"ca\\u00edn\", \"ca\\u00edn\", \"ca\\u00f1a_ca\\u00f1a\", \"ca\\u00f1a_medir\", \"ca\\u00f1a_medir\", \"ca\\u00f1a_medir\", \"ca\\u00f1a_medir\", \"ciego\", \"ciego\", \"ciego\", \"ciego\", \"ciego\", \"ciego\", \"cielo\", \"cielo\", \"cielo\", \"cielo\", \"cielo\", \"cielo\", \"ciro_rey\", \"ciro_rey\", \"ciro_rey\", \"ciro_rey\", \"ciro_rey\", \"ciudad\", \"ciudad\", \"ciudad\", \"ciudad\", \"ciudad\", \"ciudad\", \"clamare\", \"clamare\", \"clamare\", \"coat_familia\", \"coatita\", \"codo\", \"codo\", \"codo\", \"codo\", \"codo\", \"codo\", \"codo_ancho\", \"codo_ancho\", \"codo_ancho\", \"codo_ancho\", \"codo_ancho\", \"codo_ancho\", \"codo_medir\", \"codo_medir\", \"codo_medir\", \"codo_medir\", \"comenzar_reinar\", \"comenzar_reinar\", \"comenzar_reinar\", \"comenzar_reinar\", \"comenzar_reinar\", \"comenzar_reinar\", \"comenzar\\u00e9\", \"conforme\", \"conforme\", \"conforme\", \"conforme\", \"conforme\", \"conforme\", \"conocer\", \"conocer\", \"conocer\", \"conocer\", \"conocer\", \"conocer\", \"conocer\\u00edais\", \"conocieseis\", \"conquista\", \"contado_quiniento\", \"contado_quiniento\", \"contristar\", \"contristar\", \"contristar\", \"contristar\", \"contrist\\u00e9\", \"contrist\\u00e9\", \"copero\", \"copero\", \"copero\", \"copero\", \"coraz\\u00f3n\", \"coraz\\u00f3n\", \"coraz\\u00f3n\", \"coraz\\u00f3n\", \"coraz\\u00f3n\", \"coraz\\u00f3n\", \"corredor\", \"corredor\", \"corredor\", \"corredor\", \"cortina\", \"cortina\", \"cortina\", \"cortina\", \"cortina\", \"cortina\", \"cosa\", \"cosa\", \"cosa\", \"cosa\", \"cosa\", \"cosa\", \"cristo\", \"cristo\", \"cristo\", \"cristo\", \"cristo\", \"cristo\", \"cr\\u00f3nica_rey\", \"cr\\u00f3nica_rey\", \"cr\\u00f3nica_rey\", \"cr\\u00f3nica_rey\", \"cr\\u00f3nica_rey\", \"cr\\u00f3nica_rey\", \"cubrir_oro\", \"cubrir_oro\", \"cubrir_oro\", \"cubrir_oro\", \"cubrir_oro\", \"cubrir_oro\", \"cuerpo_ej\\u00e9rcito\", \"cuerpo_ej\\u00e9rcito\", \"cuerpo_ej\\u00e9rcito\", \"cuerpo_ej\\u00e9rcito\", \"cuerpo_ej\\u00e9rcito\", \"cu\\u00f1ada\", \"c\\u00e1mara\", \"c\\u00e1mara\", \"c\\u00e1mara\", \"c\\u00e1mara\", \"c\\u00e1mara\", \"c\\u00e1mara\", \"c\\u00e1mara_atrio\", \"dag\\u00f3n\", \"dag\\u00f3n\", \"dag\\u00f3n\", \"dag\\u00f3n\", \"dag\\u00f3n\", \"dar\", \"dar\", \"dar\", \"dar\", \"dar\", \"dar\", \"dar\\u00e1s_luz\", \"david\", \"david\", \"david\", \"david\", \"david\", \"david\", \"degollacer\", \"degollacer\", \"degollacer\", \"degollacer\", \"degollacer\", \"dejar\", \"dejar\", \"dejar\", \"dejar\", \"dejar\", \"dejar\", \"derramar_resto\", \"derramar_resto\", \"derramar_resto\", \"descendiente_gigante\", \"descendiente_gigante\", \"descendiente_gigante\", \"deshonesta\", \"deshonesta\", \"desmedidamente\", \"deteneos\", \"difunto\", \"disc\\u00edpulo\", \"disc\\u00edpulo\", \"disc\\u00edpulo\", \"disc\\u00edpulo\", \"disc\\u00edpulo\", \"disc\\u00edpulo\", \"ebal\", \"ebal\", \"edificaron\", \"edificar\\u00e1\", \"edificio\", \"edificio\", \"edificio\", \"edificio\", \"edificio\", \"edificio\", \"edificio_codo\", \"edificio_codo\", \"efr\\u00f3n\", \"efr\\u00f3n\", \"efr\\u00f3n\", \"efr\\u00f3n\", \"egipto\", \"egipto\", \"egipto\", \"egipto\", \"egipto\", \"egipto\", \"egl\\u00f3n\", \"egl\\u00f3n\", \"egl\\u00f3n\", \"egl\\u00f3n\", \"egl\\u00f3n\", \"eh\", \"eh\", \"ej\\u00e9rcito\", \"ej\\u00e9rcito\", \"ej\\u00e9rcito\", \"ej\\u00e9rcito\", \"ej\\u00e9rcito\", \"ej\\u00e9rcito\", \"eliseo\", \"eliseo\", \"eliseo\", \"eliseo\", \"eliseo\", \"eliseo\", \"embriagu\\u00e9mono\", \"embriagu\\u00e9mono\", \"embriagu\\u00e9mono\", \"enardece\\u00edr\", \"enardece\\u00edr\", \"enardece\\u00edr\", \"endurecer_coraz\\u00f3n\", \"endurecer_coraz\\u00f3n\", \"endurecer_coraz\\u00f3n\", \"endurecer_coraz\\u00f3n\", \"endurecer_coraz\\u00f3n\", \"endurecer_coraz\\u00f3n\", \"endurezc\\u00e1is_coraz\\u00f3n\", \"endurezc\\u00e1is_coraz\\u00f3n\", \"endurezc\\u00e1is_coraz\\u00f3n\", \"enemigo\", \"enemigo\", \"enemigo\", \"enemigo\", \"enemigo\", \"enemigo\", \"entrar\", \"entrar\", \"entrar\", \"entrar\", \"entrar\", \"entrar\", \"entra\\u00f1a_ri\\u00f1\\u00f3n\", \"enviar\", \"enviar\", \"enviar\", \"enviar\", \"enviar\", \"enviar\", \"enviastar\", \"enviastar\", \"enviastar\", \"er_on\\u00e1n\", \"er_on\\u00e1n\", \"eri\", \"eri\", \"esa\\u00fa\", \"esa\\u00fa\", \"esa\\u00fa\", \"esa\\u00fa\", \"esa\\u00fa\", \"esa\\u00fa\", \"esclavitud\", \"esclavitud\", \"esclavitud\", \"esclavitud\", \"escrito_libro\", \"escrito_libro\", \"escrito_libro\", \"escrito_libro\", \"escrito_libro\", \"escrito_libro\", \"escudero\", \"escudero\", \"escudero\", \"escudero\", \"escudero\", \"espacio_abierto\", \"espacio_abierto\", \"espacio_abierto\", \"espada\", \"espada\", \"espada\", \"espada\", \"espada\", \"espada\", \"esp\\u00edritu\", \"esp\\u00edritu\", \"esp\\u00edritu\", \"esp\\u00edritu\", \"esp\\u00edritu\", \"esp\\u00edritu\", \"evi\", \"expiaci\\u00f3n\", \"expiaci\\u00f3n\", \"expiaci\\u00f3n\", \"expiaci\\u00f3n\", \"expiaci\\u00f3n\", \"expiaci\\u00f3n\", \"expiaci\\u00f3n_degollacer\", \"extranjero_hu\\u00e9rfano\", \"extranjero_hu\\u00e9rfano\", \"extranjero_hu\\u00e9rfano\", \"extranjero_hu\\u00e9rfano\", \"extranjero_hu\\u00e9rfano\", \"extranjero_hu\\u00e9rfano\", \"ezequ\\u00edas\", \"ezequ\\u00edas\", \"ezequ\\u00edas\", \"ezequ\\u00edas\", \"ezequ\\u00edas\", \"ezequ\\u00edas\", \"familia\", \"familia\", \"familia\", \"familia\", \"familia\", \"familia\", \"fara\\u00f3n\", \"fara\\u00f3n\", \"fara\\u00f3n\", \"fara\\u00f3n\", \"fara\\u00f3n\", \"fara\\u00f3n\", \"fe\", \"fe\", \"fe\", \"fe\", \"fe\", \"fe\", \"felipe\", \"felipe\", \"felipe\", \"felipe\", \"felipe\", \"felipe\", \"flujo\", \"flujo\", \"flujo\", \"flujo\", \"flujo\", \"flujo\", \"ganado_vacuno\", \"gesur_maaca\", \"gidel\", \"gidel\", \"gidel\", \"glor\\u00edo\", \"gozar_alegrar\", \"gozar_alegrar\", \"gozar_alegrar\", \"grosura_cubrir\", \"grosura_cubrir\", \"grosura_cubrir\", \"grosura_cubrir\", \"grosura_ijar\", \"grosura_intestino\", \"grosura_intestino\", \"grosura_intestino\", \"grosura_intestino\", \"guardar\", \"guardar\", \"guardar\", \"guardar\", \"guardar\", \"guardar\", \"haber\", \"haber\", \"haber\", \"haber\", \"haber\", \"haber\", \"habitar\", \"habitar\", \"habitar\", \"habitar\", \"habitar\", \"habitar\", \"hablar\", \"hablar\", \"hablar\", \"hablar\", \"hablar\", \"hablar\", \"hacer_arder\", \"hacer_arder\", \"hacer_arder\", \"hacer_arder\", \"hagui\", \"hagui\", \"hai\", \"hai\", \"hai\", \"hai\", \"hai\", \"hai\", \"hatifa\", \"hatifa\", \"heber_ceneo\", \"heber_ceneo\", \"heber_ceneo\", \"helec\", \"heredad_tribu\", \"heredad_tribu\", \"heredad_tribu\", \"heredad_tribu\", \"heredad_tribu\", \"hermano\", \"hermano\", \"hermano\", \"hermano\", \"hermano\", \"hermano\", \"hija\", \"hija\", \"hija\", \"hija\", \"hija\", \"hija\", \"hija_zelofehad\", \"hija_zelofehad\", \"hija_zelofehad\", \"hijito\", \"hijito\", \"hijito\", \"hijito\", \"hijito\", \"hijo_het\", \"hijo_het\", \"hijo_het\", \"hijo_het\", \"himno\", \"holocausto\", \"holocausto\", \"holocausto\", \"holocausto\", \"holocausto\", \"holocausto\", \"hombres\", \"hombres\", \"ij\\u00f3n\", \"inculpar\", \"indocto\", \"inmundo_noche\", \"inmundo_noche\", \"inmundo_noche\", \"inmundo_noche\", \"inmundo_noche\", \"inmundo_noche\", \"inter\\u00e9s\", \"inter\\u00e9s\", \"inter\\u00e9s\", \"inter\\u00e9s\", \"inter\\u00e9s\", \"isaac\", \"isaac\", \"isaac\", \"isaac\", \"isaac\", \"isaac\", \"israel\", \"israel\", \"israel\", \"israel\", \"israel\", \"israel\", \"israelal\", \"israelde\", \"israelde\", \"israel\\u00e9\", \"jab\\u00edn_rey\", \"jab\\u00edn_rey\", \"jab\\u00edn_rey\", \"jacob\", \"jacob\", \"jacob\", \"jacob\", \"jacob\", \"jacob\", \"jah\", \"jah\", \"jah\", \"jah\", \"jah\", \"jah\", \"jahleel\", \"jahzeel\", \"jahzeel\", \"jareb\", \"jefe_copero\", \"jefe_copero\", \"jefe_copero\", \"jefe_panadero\", \"jefe_panadero\", \"jefe_panadero\", \"jefe_panadero\", \"jeft\\u00e9\", \"jeft\\u00e9\", \"jeft\\u00e9\", \"jeft\\u00e9\", \"jeft\\u00e9\", \"jerusal\\u00e9n\", \"jerusal\\u00e9n\", \"jerusal\\u00e9n\", \"jerusal\\u00e9n\", \"jerusal\\u00e9n\", \"jerusal\\u00e9n\", \"jes\\u00fas\", \"jes\\u00fas\", \"jes\\u00fas\", \"jes\\u00fas\", \"jes\\u00fas\", \"jes\\u00fas\", \"jezer\", \"jezer\", \"jezer\", \"joacaz\", \"joacaz\", \"joacaz\", \"joacaz\", \"joacaz\", \"joacaz\", \"joct\\u00e1n\", \"joct\\u00e1n\", \"joct\\u00e1n\", \"joct\\u00e1n\", \"joct\\u00e1n\", \"jord\\u00e1n\", \"jord\\u00e1n\", \"jord\\u00e1n\", \"jord\\u00e1n\", \"jord\\u00e1n\", \"jord\\u00e1n\", \"jord\\u00e1n_dividir\", \"jord\\u00e1n_dividir\", \"jord\\u00e1n_dividir\", \"jord\\u00e1n_l\\u00edmite\", \"jord\\u00e1n_l\\u00edmite\", \"jord\\u00e1n_l\\u00edmite\", \"jord\\u00e1n_l\\u00edmite\", \"josu\\u00e9\", \"josu\\u00e9\", \"josu\\u00e9\", \"josu\\u00e9\", \"josu\\u00e9\", \"josu\\u00e9\", \"jos\\u00e9\", \"jos\\u00e9\", \"jos\\u00e9\", \"jos\\u00e9\", \"jos\\u00e9\", \"jos\\u00e9\", \"jud\\u00e1\", \"jud\\u00e1\", \"jud\\u00e1\", \"jud\\u00e1\", \"jud\\u00e1\", \"jud\\u00e1\", \"jud\\u00edo\", \"jud\\u00edo\", \"jud\\u00edo\", \"jud\\u00edo\", \"jud\\u00edo\", \"jud\\u00edo\", \"jurado\", \"jurado\", \"jurado\", \"justicia\", \"justicia\", \"justicia\", \"justicia\", \"justicia\", \"justicia\", \"justo\", \"justo\", \"justo\", \"justo\", \"justo\", \"justo\", \"justoal\", \"lavar_agua\", \"lavar_agua\", \"lavar_agua\", \"lavar_agua\", \"lavar_agua\", \"lavar_agua\", \"lavar_vestido\", \"lavar_vestido\", \"lavar_vestido\", \"lavar_vestido\", \"lavar_vestido\", \"lavar_vestido\", \"lazada\", \"lazada\", \"lazada\", \"lengua\", \"lengua\", \"lengua\", \"lengua\", \"lengua\", \"lengua\", \"leva\", \"leva\", \"levantar\", \"levantar\", \"levantar\", \"levantar\", \"levantar\", \"levantar\", \"levantar_baluart\", \"levantar_baluart\", \"ley\", \"ley\", \"ley\", \"ley\", \"ley\", \"ley\", \"le\\u00f1a_fuego\", \"le\\u00f1a_fuego\", \"libre\", \"libre\", \"libre\", \"libre\", \"libre\", \"libre\", \"lisiado_pie\", \"lisiado_pie\", \"llamar\", \"llamar\", \"llamar\", \"llamar\", \"llamar\", \"llamar\", \"lleno_incienso\", \"lleno_incienso\", \"lleno_incienso\", \"lleno_incienso\", \"llevar_arca\", \"llevar_arca\", \"llevar_arca\", \"llevar_arca\", \"llevar_arca\", \"llevar_arca\", \"longitud_codo\", \"longitud_codo\", \"longitud_codo\", \"longitud_codo\", \"longitud_codo\", \"longitud_codo\", \"lugar\", \"lugar\", \"lugar\", \"lugar\", \"lugar\", \"lugar\", \"luz\", \"luz\", \"luz\", \"luz\", \"luz\", \"luz\", \"macho_defecto\", \"macpela_oriente\", \"macpela_oriente\", \"macpela_oriente\", \"macpela_oriente\", \"mahlita\", \"mahlita\", \"malo\", \"malo\", \"malo\", \"malo\", \"malo\", \"malo\", \"malquiel\", \"malquiel\", \"mandamiento\", \"mandamiento\", \"mandamiento\", \"mandamiento\", \"mandamiento\", \"mandamiento\", \"mandar\", \"mandar\", \"mandar\", \"mandar\", \"mandar\", \"mandar\", \"manoa\", \"manoa\", \"manoa\", \"marido\", \"marido\", \"marido\", \"marido\", \"marido\", \"marido\", \"maridos\", \"matar\", \"matar\", \"matar\", \"matar\", \"matar\", \"matar\", \"medeba\", \"medeba\", \"medeba\", \"medida_cortina\", \"medida_cortina\", \"meditad\", \"merari_familia\", \"merari_familia\", \"meriba\", \"mesar\", \"mesar\", \"milca_tirsa\", \"milca_tirsa\", \"milca_tirsa\", \"mois\\u00e9s\", \"mois\\u00e9s\", \"mois\\u00e9s\", \"mois\\u00e9s\", \"mois\\u00e9s\", \"mois\\u00e9s\", \"monte\", \"monte\", \"monte\", \"monte\", \"monte\", \"monte\", \"monte_gilboa\", \"monte_gilboa\", \"monte_gilboa\", \"monte_herm\\u00f3n\", \"monte_herm\\u00f3n\", \"monte_herm\\u00f3n\", \"monte_herm\\u00f3n\", \"monte_herm\\u00f3n\", \"morir\", \"morir\", \"morir\", \"morir\", \"morir\", \"morir\", \"mujer\", \"mujer\", \"mujer\", \"mujer\", \"mujer\", \"mujer\", \"mundo\", \"mundo\", \"mundo\", \"mundo\", \"mundo\", \"mundo\", \"mundo_mundo\", \"mundo_mundo\", \"musita\", \"naci\\u00f3n\", \"naci\\u00f3n\", \"naci\\u00f3n\", \"naci\\u00f3n\", \"naci\\u00f3n\", \"naci\\u00f3n\", \"nemuel\", \"nemuel\", \"noa_hogla\", \"noa_hogla\", \"noa_hogla\", \"noem\\u00ed\", \"noem\\u00ed\", \"noem\\u00ed\", \"noem\\u00ed\", \"nombre\", \"nombre\", \"nombre\", \"nombre\", \"nombre\", \"nombre\", \"no\\u00e9\", \"no\\u00e9\", \"no\\u00e9\", \"no\\u00e9\", \"no\\u00e9\", \"no\\u00e9\", \"no\\u00e9_arca\", \"no\\u00e9_arca\", \"no\\u00e9_arca\", \"n\\u00ednive\", \"n\\u00ednive\", \"n\\u00ednive\", \"n\\u00ednive\", \"n\\u00ednive\", \"n\\u00ednive\", \"obra\", \"obra\", \"obra\", \"obra\", \"obra\", \"obra\", \"ofrecer\", \"ofrecer\", \"ofrecer\", \"ofrecer\", \"ofrecer\", \"ofrecer\", \"ofrecier\", \"ofrenda\", \"ofrenda\", \"ofrenda\", \"ofrenda\", \"ofrenda\", \"ofrenda\", \"ofrendo\", \"oh\", \"oh\", \"oh\", \"oh\", \"oh\", \"oh\", \"oir\", \"oir\", \"oir\", \"oir\", \"oir\", \"oir\", \"oriente_mar\", \"oriente_mar\", \"oriente_mar\", \"oriente_mar\", \"oriente_mar\", \"orilla_arroyo\", \"padre\", \"padre\", \"padre\", \"padre\", \"padre\", \"padre\", \"palabra\", \"palabra\", \"palabra\", \"palabra\", \"palabra\", \"palabra\", \"pasar\", \"pasar\", \"pasar\", \"pasar\", \"pasar\", \"pasar\", \"pa\\u00eds_egipto\", \"pa\\u00eds_egipto\", \"pa\\u00eds_egipto\", \"pa\\u00eds_egipto\", \"pa\\u00eds_egipto\", \"pecado_jeroboam\", \"pecado_jeroboam\", \"pecado_jeroboam\", \"pecado_jeroboam\", \"pecado_jeroboam\", \"pecado_jeroboam\", \"peka_hijo\", \"peka_hijo\", \"peka_hijo\", \"peka_hijo\", \"peka_hijo\", \"perdonador\", \"perdonador\", \"perfeccionar\", \"perfeccionar\", \"perfeccionar\", \"perfeccionar\", \"perfeccionar\", \"perfeccionar\", \"persiga\", \"persiga\", \"piso\", \"piso\", \"piso\", \"piso\", \"piso\", \"plomada\", \"plomada\", \"pondr\\u00e1s_mesa\", \"pondr\\u00e1s_mesa\", \"poner\", \"poner\", \"poner\", \"poner\", \"poner\", \"poner\", \"portal\", \"portal\", \"portal\", \"portal\", \"postracer\", \"postracer\", \"postracer\", \"postracer\", \"prenda\", \"prenda\", \"prenda\", \"prenda\", \"prenda\", \"prenda\", \"presencia_fara\\u00f3n\", \"presencia_fara\\u00f3n\", \"presencia_fara\\u00f3n\", \"presencia_fara\\u00f3n\", \"presencia_fara\\u00f3n\", \"presencia_fara\\u00f3n\", \"primog\\u00e9nito\", \"primog\\u00e9nito\", \"primog\\u00e9nito\", \"primog\\u00e9nito\", \"primog\\u00e9nito\", \"primog\\u00e9nito\", \"profeta\", \"profeta\", \"profeta\", \"profeta\", \"profeta\", \"profeta\", \"promesa\", \"promesa\", \"promesa\", \"promesa\", \"promesa\", \"promesa\", \"proseguir\", \"proseguir\", \"proseguir\", \"proseguir\", \"proseguir\", \"pr\\u00edncipe\", \"pr\\u00edncipe\", \"pr\\u00edncipe\", \"pr\\u00edncipe\", \"pr\\u00edncipe\", \"pr\\u00edncipe\", \"puerta\", \"puerta\", \"puerta\", \"puerta\", \"puerta\", \"puerta\", \"pul\", \"querub\\u00edn_palmera\", \"querub\\u00edn_palmera\", \"querub\\u00edn_palmera\", \"querub\\u00edn_palmera\", \"quinientos_ca\\u00f1a\", \"quinientos_ca\\u00f1a\", \"quinientos_ca\\u00f1a\", \"quinientos_ca\\u00f1a\", \"quitar_grosura\", \"rana\", \"rana\", \"rana\", \"rana\", \"rana\", \"rana\", \"refa\\u00edta\", \"regoc\\u00edjese\", \"reinado\", \"reinado\", \"reinado\", \"reinado\", \"reinado\", \"reinado\", \"reinado_asa\", \"reinar_lugar\", \"reinar_lugar\", \"reinar_lugar\", \"reinar_lugar\", \"reinar_lugar\", \"reinar_lugar\", \"reino\", \"reino\", \"reino\", \"reino\", \"reino\", \"reino\", \"reino_og\", \"reino_og\", \"reino_og\", \"reino_og\", \"reino_og\", \"remal\\u00edas\", \"remal\\u00edas\", \"remal\\u00edas\", \"remal\\u00edas\", \"repartir\\u00e1s\", \"reposo\", \"reposo\", \"reposo\", \"reposo\", \"reposo\", \"reposo\", \"reposo_profanar\", \"reposo_profanar\", \"reposo_profanar\", \"responder\", \"responder\", \"responder\", \"responder\", \"responder\", \"responder\", \"restaurar\", \"restaurar\", \"restaurar\", \"restaurar\", \"restaurar\", \"restaurar\", \"rey\", \"rey\", \"rey\", \"rey\", \"rey\", \"rey\", \"rey_asiria\", \"rey_asiria\", \"rey_asiria\", \"rey_asiria\", \"rey_asiria\", \"rey_asiria\", \"ri\\u00f1\\u00f3n_quitar\", \"saber\", \"saber\", \"saber\", \"saber\", \"saber\", \"saber\", \"sacar\", \"sacar\", \"sacar\", \"sacar\", \"sacar\", \"sacar\", \"sacerdote\", \"sacerdote\", \"sacerdote\", \"sacerdote\", \"sacerdote\", \"sacerdote\", \"sadrac_mesac\", \"sadrac_mesac\", \"sadrac_mesac\", \"sadrac_mesac\", \"salir\", \"salir\", \"salir\", \"salir\", \"salir\", \"salir\", \"salom\\u00f3n\", \"salom\\u00f3n\", \"salom\\u00f3n\", \"salom\\u00f3n\", \"salom\\u00f3n\", \"salom\\u00f3n\", \"salom\\u00f3n_hiram\", \"salom\\u00f3n_hiram\", \"samuel\", \"samuel\", \"samuel\", \"samuel\", \"samuel\", \"samuel\", \"sangre\", \"sangre\", \"sangre\", \"sangre\", \"sangre\", \"sangre\", \"sangre_rociar\", \"sangre_rociar\", \"sangre_rociar\", \"sans\\u00f3n\", \"sans\\u00f3n\", \"sans\\u00f3n\", \"sans\\u00f3n\", \"sans\\u00f3n\", \"santo\", \"santo\", \"santo\", \"santo\", \"santo\", \"santo\", \"sarai\", \"sarai\", \"sarai\", \"satan\\u00e1s\", \"satan\\u00e1s\", \"satan\\u00e1s\", \"satan\\u00e1s\", \"satan\\u00e1s\", \"satan\\u00e1s\", \"sa\\u00fal\", \"sa\\u00fal\", \"sa\\u00fal\", \"sa\\u00fal\", \"sa\\u00fal\", \"sa\\u00fal\", \"semida\", \"semida\", \"sepulta\", \"sepulta\", \"ser_viviente\", \"ser_viviente\", \"ser_viviente\", \"ser_viviente\", \"ser_viviente\", \"sesbasar\", \"sesbasar\", \"sesbasar\", \"se\\u00f1or\", \"se\\u00f1or\", \"se\\u00f1or\", \"se\\u00f1or\", \"se\\u00f1or\", \"se\\u00f1or\", \"se\\u00f1or_jesucristo\", \"se\\u00f1or_jesucristo\", \"se\\u00f1or_jesucristo\", \"se\\u00f1or_jesucristo\", \"se\\u00f1or_jesucristo\", \"se\\u00f1or_jesucristo\", \"siclo_peso\", \"siclo_peso\", \"siclo_peso\", \"siclo_peso\", \"sierva\", \"sierva\", \"sierva\", \"sierva\", \"sierva\", \"sierva\", \"siervo\", \"siervo\", \"siervo\", \"siervo\", \"siervo\", \"siervo\", \"simea_hermano\", \"simea_hermano\", \"sitim\", \"sitim\", \"sitim\", \"sitim\", \"sitim\", \"subael\", \"subael\", \"subael\", \"subir\", \"subir\", \"subir\", \"subir\", \"subir\", \"subir\", \"suceso\", \"suceso\", \"suceso\", \"suegro_mois\\u00e9s\", \"suegro_mois\\u00e9s\", \"suegro_mois\\u00e9s\", \"suegro_mois\\u00e9s\", \"sujeto_ley\", \"sujeto_ley\", \"sujeto_ley\", \"sutela\", \"sutela\", \"s\\u00edsara\", \"s\\u00edsara\", \"s\\u00edsara\", \"s\\u00edsara\", \"s\\u00edsara\", \"s\\u00edsara\", \"tabern\\u00e1culo\", \"tabern\\u00e1culo\", \"tabern\\u00e1culo\", \"tabern\\u00e1culo\", \"tabern\\u00e1culo\", \"tabern\\u00e1culo\", \"tah\\u00e1n\", \"tart\\u00e1n\", \"tar\\u00e9\", \"tar\\u00e9\", \"tar\\u00e9\", \"tar\\u00e9\", \"tar\\u00e9\", \"tebas\", \"tebas\", \"testificado\", \"testificado\", \"tiempo\", \"tiempo\", \"tiempo\", \"tiempo\", \"tiempo\", \"tiempo\", \"tierra_egipto\", \"tierra_egipto\", \"tierra_egipto\", \"tierra_egipto\", \"tierra_egipto\", \"tierra_egipto\", \"tomar\", \"tomar\", \"tomar\", \"tomar\", \"tomar\", \"tomar\", \"traer\", \"traer\", \"traer\", \"traer\", \"traer\", \"traer\", \"vanidad_aflicci\\u00f3n\", \"vanidad_aflicci\\u00f3n\", \"vanidad_aflicci\\u00f3n\", \"vanidad_aflicci\\u00f3n\", \"var\\u00f3n\", \"var\\u00f3n\", \"var\\u00f3n\", \"var\\u00f3n\", \"var\\u00f3n\", \"var\\u00f3n\", \"vengativo\", \"ver\", \"ver\", \"ver\", \"ver\", \"ver\", \"ver\", \"verbo\", \"verbo\", \"verbo\", \"vianda_ofrenda\", \"vianda_ofrenda\", \"volver\", \"volver\", \"volver\", \"volver\", \"volver\", \"volver\", \"zeba_zalmuna\", \"zeba_zalmuna\", \"zeba_zalmuna\", \"zeba_zalmuna\", \"zeba_zalmuna\", \"zorobabel\", \"zorobabel\", \"zorobabel\", \"zorobabel\", \"zorobabel\", \"zorobabel\", \"\\u00e1ngel\", \"\\u00e1ngel\", \"\\u00e1ngel\", \"\\u00e1ngel\", \"\\u00e1ngel\", \"\\u00e1ngel\"]}, \"R\": 30, \"lambda.step\": 0.01, \"plot.opts\": {\"xlab\": \"PC1\", \"ylab\": \"PC2\"}, \"topic.order\": [2, 3, 6, 5, 4, 1]};\n",
              "\n",
              "function LDAvis_load_lib(url, callback){\n",
              "  var s = document.createElement('script');\n",
              "  s.src = url;\n",
              "  s.async = true;\n",
              "  s.onreadystatechange = s.onload = callback;\n",
              "  s.onerror = function(){console.warn(\"failed to load library \" + url);};\n",
              "  document.getElementsByTagName(\"head\")[0].appendChild(s);\n",
              "}\n",
              "\n",
              "if(typeof(LDAvis) !== \"undefined\"){\n",
              "   // already loaded: just create the visualization\n",
              "   !function(LDAvis){\n",
              "       new LDAvis(\"#\" + \"ldavis_el7821405460572955049527753594\", ldavis_el7821405460572955049527753594_data);\n",
              "   }(LDAvis);\n",
              "}else if(typeof define === \"function\" && define.amd){\n",
              "   // require.js is available: use it to load d3/LDAvis\n",
              "   require.config({paths: {d3: \"https://cdnjs.cloudflare.com/ajax/libs/d3/3.5.5/d3.min\"}});\n",
              "   require([\"d3\"], function(d3){\n",
              "      window.d3 = d3;\n",
              "      LDAvis_load_lib(\"https://cdn.rawgit.com/bmabey/pyLDAvis/files/ldavis.v1.0.0.js\", function(){\n",
              "        new LDAvis(\"#\" + \"ldavis_el7821405460572955049527753594\", ldavis_el7821405460572955049527753594_data);\n",
              "      });\n",
              "    });\n",
              "}else{\n",
              "    // require.js not available: dynamically load d3 & LDAvis\n",
              "    LDAvis_load_lib(\"https://cdnjs.cloudflare.com/ajax/libs/d3/3.5.5/d3.min.js\", function(){\n",
              "         LDAvis_load_lib(\"https://cdn.rawgit.com/bmabey/pyLDAvis/files/ldavis.v1.0.0.js\", function(){\n",
              "                 new LDAvis(\"#\" + \"ldavis_el7821405460572955049527753594\", ldavis_el7821405460572955049527753594_data);\n",
              "            })\n",
              "         });\n",
              "}\n",
              "</script>"
            ]
          },
          "metadata": {},
          "execution_count": 31
        }
      ],
      "source": [
        "# Plot the topic representation using pyLDAvis\n",
        "vis_data = gensimvis.prepare(ldag, mycorpus_bow, D)\n",
        "pyLDAvis.display(vis_data)"
      ]
    },
    {
      "cell_type": "markdown",
      "metadata": {
        "id": "3Bq7J3HoivDI"
      },
      "source": [
        "- **Add a column with the predominant topic for each document**"
      ]
    },
    {
      "cell_type": "code",
      "execution_count": 32,
      "metadata": {
        "colab": {
          "base_uri": "https://localhost:8080/"
        },
        "id": "j9IamH5ai02K",
        "outputId": "ed324ff5-7d23-4895-9e04-8ff5b87382ef"
      },
      "outputs": [
        {
          "output_type": "stream",
          "name": "stderr",
          "text": [
            "/usr/local/lib/python3.10/dist-packages/ipykernel/ipkernel.py:283: DeprecationWarning: `should_run_async` will not call `transform_cell` automatically in the future. Please pass the result to `transformed_cell` argument and any exception that happen during thetransform in `preprocessing_exc_tuple` in IPython 7.17 and above.\n",
            "  and should_run_async(code)\n"
          ]
        }
      ],
      "source": [
        "def get_topic(lda_model, corpus, texts):\n",
        "    # get the principal topic of each of the documents\n",
        "    topics = []\n",
        "    topics_dominant = []\n",
        "    for i, text in enumerate(texts):\n",
        "        tokens = text.split()\n",
        "        bow = lda_model.id2word.doc2bow(tokens)\n",
        "        \n",
        "        # get the topic distribution\n",
        "        doc_topics = lda_model.get_document_topics(bow)\n",
        "        \n",
        "        # # get the maximum probability topic\n",
        "        max_prob = 0.0\n",
        "        dominant_topic = -1\n",
        "        for topic, prob in doc_topics:\n",
        "            if prob > max_prob:\n",
        "                max_prob = prob\n",
        "                dominant_topic = topic\n",
        "        \n",
        "        topics_dominant.append(dominant_topic)\n",
        "        topics.append(doc_topics)\n",
        "\n",
        "    \n",
        "    return topics, topics_dominant\n",
        "\n",
        "dataset['topic'], dataset[\"dominant_topic\"] = get_topic(ldag, mycorpus_bow, dataset['Clean_text'])\n"
      ]
    },
    {
      "cell_type": "code",
      "execution_count": 33,
      "metadata": {
        "id": "N579IEgvOAy6",
        "colab": {
          "base_uri": "https://localhost:8080/",
          "height": 1000
        },
        "outputId": "18130e2c-f6ce-4b08-c2cd-3e6db162cea6"
      },
      "outputs": [
        {
          "output_type": "stream",
          "name": "stderr",
          "text": [
            "/usr/local/lib/python3.10/dist-packages/ipykernel/ipkernel.py:283: DeprecationWarning: `should_run_async` will not call `transform_cell` automatically in the future. Please pass the result to `transformed_cell` argument and any exception that happen during thetransform in `preprocessing_exc_tuple` in IPython 7.17 and above.\n",
            "  and should_run_async(code)\n"
          ]
        },
        {
          "output_type": "execute_result",
          "data": {
            "text/plain": [
              "      Chapter   Book Testament  \\\n",
              "0  Capítulo 1  exodo       Old   \n",
              "1  Capítulo 2  exodo       Old   \n",
              "2  Capítulo 3  exodo       Old   \n",
              "3  Capítulo 4  exodo       Old   \n",
              "4  Capítulo 5  exodo       Old   \n",
              "\n",
              "                                                Text  \\\n",
              "0   Aflicción de los israelitas en Egipto 1:1 Est...   \n",
              "1   Nacimiento de Moisés é2:1 Un varón de la fami...   \n",
              "2   Llamamiento de Moisésé3:1 Apacentando Moisés ...   \n",
              "3    é4:1 Entonces Moisés respondió diciendo: He ...   \n",
              "4   Moisés y Aarón ante Faraón é5:1 Después Moisé...   \n",
              "\n",
              "                                          Clean_text  \\\n",
              "0  aflicción israelita egipto nombre israel entra...   \n",
              "1  nacimiento moisés varón familia leví tomar muj...   \n",
              "2  llamamiento moisésé moisés oveja jetro_suegro ...   \n",
              "3  moisés responder creer oier_voz aparecer tener...   \n",
              "4  moisés_aarón faraón moisés_aarón entrar presen...   \n",
              "\n",
              "                                            Entities  \\\n",
              "0  Egipto Israel Egipto Jacob Rubén Simeón Leví J...   \n",
              "1  Nacimiento de Moisés é Un varón de la familia ...   \n",
              "2  Llamamiento de Moisésé Apacentando Moisés Jetr...   \n",
              "3  Moisés Jehová Jehová Una vara.  El Echala Mois...   \n",
              "4  Moisés Aarón Faraón Moisés Aarón Faraón Jehová...   \n",
              "\n",
              "                                       Entities_labs  \\\n",
              "0  LOC LOC LOC PER PER PER MISC ORG PER PER LOC P...   \n",
              "1  MISC PER PER PER LOC PER PER PER PER PER MISC ...   \n",
              "2  ORG PER PER LOC LOC PER PER LOC LOC PER MISC M...   \n",
              "3  PER LOC LOC MISC PER PER PER PER MISC MISC MIS...   \n",
              "4  MISC LOC LOC MISC MISC PER MISC LOC PER LOC LO...   \n",
              "\n",
              "                                            Pos_tags  Binary_testament  \\\n",
              "0  PROPN NOUN PROPN NOUN NOUN PROPN VERB PROPN PR...                 0   \n",
              "1  NOUN PROPN CCONJ NOUN NOUN PROPN VERB NOUN NOU...                 0   \n",
              "2  NOUN PROPN NUM PROPN NOUN PROPN NOUN NOUN PROP...                 0   \n",
              "3  CCONJ PROPN VERB VERB VERB VERB NOUN VERB VERB...                 0   \n",
              "4  PROPN PROPN PROPN CCONJ PROPN PROPN VERB NOUN ...                 0   \n",
              "\n",
              "                                              TF-IDF  \\\n",
              "0  [0.03611773378849263, 0.052319994336570294, 0....   \n",
              "1  [0.06341435350321382, 0.0, 0.0, 0.0, 0.0, 0.0,...   \n",
              "2  [0.0, 0.09712090059455612, 0.0, 0.0, 0.0, 0.0,...   \n",
              "3  [0.03082591152021846, 0.04465428328372308, 0.0...   \n",
              "4  [0.0, 0.04149096468105849, 0.0, 0.0, 0.0, 0.0,...   \n",
              "\n",
              "                                                 BoW  \\\n",
              "0  [1, 1, 1, 1, 1, 1, 1, 1, 1, 1, 1, 1, 1, 1, 1, ...   \n",
              "1  [2, 0, 0, 0, 0, 0, 0, 0, 0, 0, 0, 0, 0, 0, 0, ...   \n",
              "2  [0, 2, 0, 0, 0, 0, 0, 0, 0, 1, 0, 0, 0, 0, 0, ...   \n",
              "3  [1, 1, 0, 0, 0, 0, 0, 0, 0, 1, 0, 0, 0, 0, 0, ...   \n",
              "4  [0, 1, 0, 0, 0, 0, 0, 0, 0, 1, 0, 0, 0, 0, 0, ...   \n",
              "\n",
              "                                            word2vec  \\\n",
              "0  [0.008967561, -0.010941909, -0.1033726, 0.0623...   \n",
              "1  [0.009525042, -0.0149832, -0.09827053, 0.06070...   \n",
              "2  [0.009035833, -0.011436829, -0.10274766, 0.062...   \n",
              "3  [0.009024978, -0.0113581065, -0.1028471, 0.062...   \n",
              "4  [0.009405379, -0.014115686, -0.09936573, 0.061...   \n",
              "\n",
              "                                             doc2vec  \\\n",
              "0  [-0.9271143, -0.57347894, -0.32177782, 0.08499...   \n",
              "1  [-1.8490782, -0.53745496, 0.19697489, 0.617187...   \n",
              "2  [-1.1196737, -0.63924783, 0.29954413, 0.072529...   \n",
              "3  [-0.72505957, -0.30992976, -0.02808709, 1.0109...   \n",
              "4  [-0.75561833, -0.47295246, -0.23102781, 0.1600...   \n",
              "\n",
              "                                               topic  dominant_topic  \n",
              "0  [(0, 0.034871917), (1, 0.80027), (3, 0.16087052)]               1  \n",
              "1  [(0, 0.45695105), (1, 0.15630718), (3, 0.30949...               0  \n",
              "2                 [(0, 0.9859744), (2, 0.010193204)]               0  \n",
              "3                 [(0, 0.9666379), (3, 0.030319676)]               0  \n",
              "4                    [(0, 0.5813463), (5, 0.414031)]               0  "
            ],
            "text/html": [
              "\n",
              "  <div id=\"df-2c882e4c-7fd3-41c9-a81e-4d5acdd006e3\">\n",
              "    <div class=\"colab-df-container\">\n",
              "      <div>\n",
              "<style scoped>\n",
              "    .dataframe tbody tr th:only-of-type {\n",
              "        vertical-align: middle;\n",
              "    }\n",
              "\n",
              "    .dataframe tbody tr th {\n",
              "        vertical-align: top;\n",
              "    }\n",
              "\n",
              "    .dataframe thead th {\n",
              "        text-align: right;\n",
              "    }\n",
              "</style>\n",
              "<table border=\"1\" class=\"dataframe\">\n",
              "  <thead>\n",
              "    <tr style=\"text-align: right;\">\n",
              "      <th></th>\n",
              "      <th>Chapter</th>\n",
              "      <th>Book</th>\n",
              "      <th>Testament</th>\n",
              "      <th>Text</th>\n",
              "      <th>Clean_text</th>\n",
              "      <th>Entities</th>\n",
              "      <th>Entities_labs</th>\n",
              "      <th>Pos_tags</th>\n",
              "      <th>Binary_testament</th>\n",
              "      <th>TF-IDF</th>\n",
              "      <th>BoW</th>\n",
              "      <th>word2vec</th>\n",
              "      <th>doc2vec</th>\n",
              "      <th>topic</th>\n",
              "      <th>dominant_topic</th>\n",
              "    </tr>\n",
              "  </thead>\n",
              "  <tbody>\n",
              "    <tr>\n",
              "      <th>0</th>\n",
              "      <td>Capítulo 1</td>\n",
              "      <td>exodo</td>\n",
              "      <td>Old</td>\n",
              "      <td>Aflicción de los israelitas en Egipto 1:1 Est...</td>\n",
              "      <td>aflicción israelita egipto nombre israel entra...</td>\n",
              "      <td>Egipto Israel Egipto Jacob Rubén Simeón Leví J...</td>\n",
              "      <td>LOC LOC LOC PER PER PER MISC ORG PER PER LOC P...</td>\n",
              "      <td>PROPN NOUN PROPN NOUN NOUN PROPN VERB PROPN PR...</td>\n",
              "      <td>0</td>\n",
              "      <td>[0.03611773378849263, 0.052319994336570294, 0....</td>\n",
              "      <td>[1, 1, 1, 1, 1, 1, 1, 1, 1, 1, 1, 1, 1, 1, 1, ...</td>\n",
              "      <td>[0.008967561, -0.010941909, -0.1033726, 0.0623...</td>\n",
              "      <td>[-0.9271143, -0.57347894, -0.32177782, 0.08499...</td>\n",
              "      <td>[(0, 0.034871917), (1, 0.80027), (3, 0.16087052)]</td>\n",
              "      <td>1</td>\n",
              "    </tr>\n",
              "    <tr>\n",
              "      <th>1</th>\n",
              "      <td>Capítulo 2</td>\n",
              "      <td>exodo</td>\n",
              "      <td>Old</td>\n",
              "      <td>Nacimiento de Moisés é2:1 Un varón de la fami...</td>\n",
              "      <td>nacimiento moisés varón familia leví tomar muj...</td>\n",
              "      <td>Nacimiento de Moisés é Un varón de la familia ...</td>\n",
              "      <td>MISC PER PER PER LOC PER PER PER PER PER MISC ...</td>\n",
              "      <td>NOUN PROPN CCONJ NOUN NOUN PROPN VERB NOUN NOU...</td>\n",
              "      <td>0</td>\n",
              "      <td>[0.06341435350321382, 0.0, 0.0, 0.0, 0.0, 0.0,...</td>\n",
              "      <td>[2, 0, 0, 0, 0, 0, 0, 0, 0, 0, 0, 0, 0, 0, 0, ...</td>\n",
              "      <td>[0.009525042, -0.0149832, -0.09827053, 0.06070...</td>\n",
              "      <td>[-1.8490782, -0.53745496, 0.19697489, 0.617187...</td>\n",
              "      <td>[(0, 0.45695105), (1, 0.15630718), (3, 0.30949...</td>\n",
              "      <td>0</td>\n",
              "    </tr>\n",
              "    <tr>\n",
              "      <th>2</th>\n",
              "      <td>Capítulo 3</td>\n",
              "      <td>exodo</td>\n",
              "      <td>Old</td>\n",
              "      <td>Llamamiento de Moisésé3:1 Apacentando Moisés ...</td>\n",
              "      <td>llamamiento moisésé moisés oveja jetro_suegro ...</td>\n",
              "      <td>Llamamiento de Moisésé Apacentando Moisés Jetr...</td>\n",
              "      <td>ORG PER PER LOC LOC PER PER LOC LOC PER MISC M...</td>\n",
              "      <td>NOUN PROPN NUM PROPN NOUN PROPN NOUN NOUN PROP...</td>\n",
              "      <td>0</td>\n",
              "      <td>[0.0, 0.09712090059455612, 0.0, 0.0, 0.0, 0.0,...</td>\n",
              "      <td>[0, 2, 0, 0, 0, 0, 0, 0, 0, 1, 0, 0, 0, 0, 0, ...</td>\n",
              "      <td>[0.009035833, -0.011436829, -0.10274766, 0.062...</td>\n",
              "      <td>[-1.1196737, -0.63924783, 0.29954413, 0.072529...</td>\n",
              "      <td>[(0, 0.9859744), (2, 0.010193204)]</td>\n",
              "      <td>0</td>\n",
              "    </tr>\n",
              "    <tr>\n",
              "      <th>3</th>\n",
              "      <td>Capítulo 4</td>\n",
              "      <td>exodo</td>\n",
              "      <td>Old</td>\n",
              "      <td>é4:1 Entonces Moisés respondió diciendo: He ...</td>\n",
              "      <td>moisés responder creer oier_voz aparecer tener...</td>\n",
              "      <td>Moisés Jehová Jehová Una vara.  El Echala Mois...</td>\n",
              "      <td>PER LOC LOC MISC PER PER PER PER MISC MISC MIS...</td>\n",
              "      <td>CCONJ PROPN VERB VERB VERB VERB NOUN VERB VERB...</td>\n",
              "      <td>0</td>\n",
              "      <td>[0.03082591152021846, 0.04465428328372308, 0.0...</td>\n",
              "      <td>[1, 1, 0, 0, 0, 0, 0, 0, 0, 1, 0, 0, 0, 0, 0, ...</td>\n",
              "      <td>[0.009024978, -0.0113581065, -0.1028471, 0.062...</td>\n",
              "      <td>[-0.72505957, -0.30992976, -0.02808709, 1.0109...</td>\n",
              "      <td>[(0, 0.9666379), (3, 0.030319676)]</td>\n",
              "      <td>0</td>\n",
              "    </tr>\n",
              "    <tr>\n",
              "      <th>4</th>\n",
              "      <td>Capítulo 5</td>\n",
              "      <td>exodo</td>\n",
              "      <td>Old</td>\n",
              "      <td>Moisés y Aarón ante Faraón é5:1 Después Moisé...</td>\n",
              "      <td>moisés_aarón faraón moisés_aarón entrar presen...</td>\n",
              "      <td>Moisés Aarón Faraón Moisés Aarón Faraón Jehová...</td>\n",
              "      <td>MISC LOC LOC MISC MISC PER MISC LOC PER LOC LO...</td>\n",
              "      <td>PROPN PROPN PROPN CCONJ PROPN PROPN VERB NOUN ...</td>\n",
              "      <td>0</td>\n",
              "      <td>[0.0, 0.04149096468105849, 0.0, 0.0, 0.0, 0.0,...</td>\n",
              "      <td>[0, 1, 0, 0, 0, 0, 0, 0, 0, 1, 0, 0, 0, 0, 0, ...</td>\n",
              "      <td>[0.009405379, -0.014115686, -0.09936573, 0.061...</td>\n",
              "      <td>[-0.75561833, -0.47295246, -0.23102781, 0.1600...</td>\n",
              "      <td>[(0, 0.5813463), (5, 0.414031)]</td>\n",
              "      <td>0</td>\n",
              "    </tr>\n",
              "  </tbody>\n",
              "</table>\n",
              "</div>\n",
              "      <button class=\"colab-df-convert\" onclick=\"convertToInteractive('df-2c882e4c-7fd3-41c9-a81e-4d5acdd006e3')\"\n",
              "              title=\"Convert this dataframe to an interactive table.\"\n",
              "              style=\"display:none;\">\n",
              "        \n",
              "  <svg xmlns=\"http://www.w3.org/2000/svg\" height=\"24px\"viewBox=\"0 0 24 24\"\n",
              "       width=\"24px\">\n",
              "    <path d=\"M0 0h24v24H0V0z\" fill=\"none\"/>\n",
              "    <path d=\"M18.56 5.44l.94 2.06.94-2.06 2.06-.94-2.06-.94-.94-2.06-.94 2.06-2.06.94zm-11 1L8.5 8.5l.94-2.06 2.06-.94-2.06-.94L8.5 2.5l-.94 2.06-2.06.94zm10 10l.94 2.06.94-2.06 2.06-.94-2.06-.94-.94-2.06-.94 2.06-2.06.94z\"/><path d=\"M17.41 7.96l-1.37-1.37c-.4-.4-.92-.59-1.43-.59-.52 0-1.04.2-1.43.59L10.3 9.45l-7.72 7.72c-.78.78-.78 2.05 0 2.83L4 21.41c.39.39.9.59 1.41.59.51 0 1.02-.2 1.41-.59l7.78-7.78 2.81-2.81c.8-.78.8-2.07 0-2.86zM5.41 20L4 18.59l7.72-7.72 1.47 1.35L5.41 20z\"/>\n",
              "  </svg>\n",
              "      </button>\n",
              "      \n",
              "  <style>\n",
              "    .colab-df-container {\n",
              "      display:flex;\n",
              "      flex-wrap:wrap;\n",
              "      gap: 12px;\n",
              "    }\n",
              "\n",
              "    .colab-df-convert {\n",
              "      background-color: #E8F0FE;\n",
              "      border: none;\n",
              "      border-radius: 50%;\n",
              "      cursor: pointer;\n",
              "      display: none;\n",
              "      fill: #1967D2;\n",
              "      height: 32px;\n",
              "      padding: 0 0 0 0;\n",
              "      width: 32px;\n",
              "    }\n",
              "\n",
              "    .colab-df-convert:hover {\n",
              "      background-color: #E2EBFA;\n",
              "      box-shadow: 0px 1px 2px rgba(60, 64, 67, 0.3), 0px 1px 3px 1px rgba(60, 64, 67, 0.15);\n",
              "      fill: #174EA6;\n",
              "    }\n",
              "\n",
              "    [theme=dark] .colab-df-convert {\n",
              "      background-color: #3B4455;\n",
              "      fill: #D2E3FC;\n",
              "    }\n",
              "\n",
              "    [theme=dark] .colab-df-convert:hover {\n",
              "      background-color: #434B5C;\n",
              "      box-shadow: 0px 1px 3px 1px rgba(0, 0, 0, 0.15);\n",
              "      filter: drop-shadow(0px 1px 2px rgba(0, 0, 0, 0.3));\n",
              "      fill: #FFFFFF;\n",
              "    }\n",
              "  </style>\n",
              "\n",
              "      <script>\n",
              "        const buttonEl =\n",
              "          document.querySelector('#df-2c882e4c-7fd3-41c9-a81e-4d5acdd006e3 button.colab-df-convert');\n",
              "        buttonEl.style.display =\n",
              "          google.colab.kernel.accessAllowed ? 'block' : 'none';\n",
              "\n",
              "        async function convertToInteractive(key) {\n",
              "          const element = document.querySelector('#df-2c882e4c-7fd3-41c9-a81e-4d5acdd006e3');\n",
              "          const dataTable =\n",
              "            await google.colab.kernel.invokeFunction('convertToInteractive',\n",
              "                                                     [key], {});\n",
              "          if (!dataTable) return;\n",
              "\n",
              "          const docLinkHtml = 'Like what you see? Visit the ' +\n",
              "            '<a target=\"_blank\" href=https://colab.research.google.com/notebooks/data_table.ipynb>data table notebook</a>'\n",
              "            + ' to learn more about interactive tables.';\n",
              "          element.innerHTML = '';\n",
              "          dataTable['output_type'] = 'display_data';\n",
              "          await google.colab.output.renderOutput(dataTable, element);\n",
              "          const docLink = document.createElement('div');\n",
              "          docLink.innerHTML = docLinkHtml;\n",
              "          element.appendChild(docLink);\n",
              "        }\n",
              "      </script>\n",
              "    </div>\n",
              "  </div>\n",
              "  "
            ]
          },
          "metadata": {},
          "execution_count": 33
        }
      ],
      "source": [
        "dataset.head()"
      ]
    },
    {
      "cell_type": "markdown",
      "source": [
        "We save the dataset with the new columns to use it for the Dashboard implementation:"
      ],
      "metadata": {
        "id": "EwD_ATwyDRfu"
      }
    },
    {
      "cell_type": "code",
      "source": [
        "drive.mount('/content/drive')\n",
        "\n",
        "output_path = '/content/drive/My Drive/ColabNotebooks/MLapps/project/ModifiedDataset.pkl'\n",
        "\n",
        "with open(output_path, 'wb') as f:\n",
        "    pickle.dump(dataset, f)"
      ],
      "metadata": {
        "colab": {
          "base_uri": "https://localhost:8080/"
        },
        "id": "lDjp1WXuDQad",
        "outputId": "5423a23f-17f2-481e-8f29-cbbfbb1fb053"
      },
      "execution_count": 34,
      "outputs": [
        {
          "output_type": "stream",
          "name": "stderr",
          "text": [
            "/usr/local/lib/python3.10/dist-packages/ipykernel/ipkernel.py:283: DeprecationWarning: `should_run_async` will not call `transform_cell` automatically in the future. Please pass the result to `transformed_cell` argument and any exception that happen during thetransform in `preprocessing_exc_tuple` in IPython 7.17 and above.\n",
            "  and should_run_async(code)\n"
          ]
        },
        {
          "output_type": "stream",
          "name": "stdout",
          "text": [
            "Drive already mounted at /content/drive; to attempt to forcibly remount, call drive.mount(\"/content/drive\", force_remount=True).\n"
          ]
        }
      ]
    },
    {
      "cell_type": "markdown",
      "metadata": {
        "id": "UagfUzmBMxMB"
      },
      "source": [
        "## **2. Task 2: Machine Learning model, Classification or Regression Task**"
      ]
    },
    {
      "cell_type": "code",
      "source": [
        "results_test = {}\n",
        "results_val = {}"
      ],
      "metadata": {
        "colab": {
          "base_uri": "https://localhost:8080/"
        },
        "id": "I6VbZxHSmyck",
        "outputId": "e6c7a930-8102-4a22-ce2f-167c9c4e187d"
      },
      "execution_count": 35,
      "outputs": [
        {
          "output_type": "stream",
          "name": "stderr",
          "text": [
            "/usr/local/lib/python3.10/dist-packages/ipykernel/ipkernel.py:283: DeprecationWarning: `should_run_async` will not call `transform_cell` automatically in the future. Please pass the result to `transformed_cell` argument and any exception that happen during thetransform in `preprocessing_exc_tuple` in IPython 7.17 and above.\n",
            "  and should_run_async(code)\n"
          ]
        }
      ]
    },
    {
      "cell_type": "markdown",
      "metadata": {
        "id": "atW8yeYE37nv"
      },
      "source": [
        "### 1. Classification by testament"
      ]
    },
    {
      "cell_type": "code",
      "execution_count": 36,
      "metadata": {
        "colab": {
          "base_uri": "https://localhost:8080/"
        },
        "id": "R4GxUjACEUKx",
        "outputId": "f16e1d09-5677-431e-aa2b-a01101deaf51"
      },
      "outputs": [
        {
          "output_type": "stream",
          "name": "stderr",
          "text": [
            "/usr/local/lib/python3.10/dist-packages/ipykernel/ipkernel.py:283: DeprecationWarning: `should_run_async` will not call `transform_cell` automatically in the future. Please pass the result to `transformed_cell` argument and any exception that happen during thetransform in `preprocessing_exc_tuple` in IPython 7.17 and above.\n",
            "  and should_run_async(code)\n"
          ]
        }
      ],
      "source": [
        "def split(col,label):\n",
        "\n",
        "  #separate the feature set and label\n",
        "  df_x = np.vstack(dataset[col])\n",
        "  df_y = dataset[label].values\n",
        "\n",
        "  # split the data into training, validation, and test sets\n",
        "  x_train_val, x_test, y_train_val, y_test = train_test_split(df_x, df_y, test_size=0.2, random_state=42)\n",
        "  x_train, x_val, y_train, y_val = train_test_split(x_train_val, y_train_val, test_size=0.25, random_state=42)\n",
        "\n",
        "  return x_train, y_train, x_val, y_val, x_test, y_test"
      ]
    },
    {
      "cell_type": "code",
      "execution_count": 37,
      "metadata": {
        "colab": {
          "base_uri": "https://localhost:8080/"
        },
        "outputId": "43f07296-c8c3-4ce2-94f4-fb5ff880b76f",
        "id": "E0oxUst3YvpS"
      },
      "outputs": [
        {
          "output_type": "stream",
          "name": "stderr",
          "text": [
            "/usr/local/lib/python3.10/dist-packages/ipykernel/ipkernel.py:283: DeprecationWarning: `should_run_async` will not call `transform_cell` automatically in the future. Please pass the result to `transformed_cell` argument and any exception that happen during thetransform in `preprocessing_exc_tuple` in IPython 7.17 and above.\n",
            "  and should_run_async(code)\n"
          ]
        }
      ],
      "source": [
        "def split_topic(col,label):\n",
        "\n",
        "  #separate the feature set and label\n",
        "  df_x = dataset[col]\n",
        "  df_y = dataset[label].values\n",
        "\n",
        "  # split the data into training, validation, and test sets\n",
        "  x_train_val, x_test, y_train_val, y_test = train_test_split(df_x, df_y, test_size=0.2, random_state=42)\n",
        "  x_train, x_val, y_train, y_val = train_test_split(x_train_val, y_train_val, test_size=0.25, random_state=42)\n",
        "  \n",
        "  x_train = gensim.matutils.corpus2dense(x_train, num_terms=n).T\n",
        "  x_val = gensim.matutils.corpus2dense(x_val, num_terms=n).T\n",
        "  x_test = gensim.matutils.corpus2dense(x_test, num_terms=n).T\n",
        "\n",
        "  return x_train, y_train, x_val, y_val, x_test, y_test"
      ]
    },
    {
      "cell_type": "code",
      "execution_count": 38,
      "metadata": {
        "colab": {
          "base_uri": "https://localhost:8080/"
        },
        "id": "E2yAjxI2512W",
        "outputId": "a6499fbc-2b28-4993-baf4-99dfacc783d1"
      },
      "outputs": [
        {
          "output_type": "stream",
          "name": "stderr",
          "text": [
            "/usr/local/lib/python3.10/dist-packages/ipykernel/ipkernel.py:283: DeprecationWarning: `should_run_async` will not call `transform_cell` automatically in the future. Please pass the result to `transformed_cell` argument and any exception that happen during thetransform in `preprocessing_exc_tuple` in IPython 7.17 and above.\n",
            "  and should_run_async(code)\n"
          ]
        }
      ],
      "source": [
        "def svm_model(x_train,y_train,x_val,y_val,x_test,y_test):\n",
        "  # Use GridSearchCV to find best hyperparameters\n",
        "  svm = SVC()\n",
        "  param_grid = {'C': [0.1, 1, 10], 'kernel': ['linear', 'rbf', \"poly\"]}\n",
        "  grid_search = GridSearchCV(svm, param_grid, cv=5)\n",
        "  grid_search.fit(x_train, y_train)\n",
        "\n",
        "\n",
        "  # Train SVM classifier and evaluate its performance over validation and test sets\n",
        "  svm = SVC(C=grid_search.best_params_['C'], kernel=grid_search.best_params_['kernel'])\n",
        "  svm.fit(x_train, y_train)\n",
        "\n",
        "  val_pred = svm.predict(x_val)\n",
        "  val_accuracy = accuracy_score(y_val, val_pred)\n",
        "\n",
        "  test_pred = svm.predict(x_test)\n",
        "  test_accuracy = accuracy_score(y_test, test_pred)\n",
        "\n",
        "  return grid_search.best_params_, val_accuracy, test_accuracy\n"
      ]
    },
    {
      "cell_type": "code",
      "execution_count": 39,
      "metadata": {
        "id": "Vwsi0YPHEv2T",
        "colab": {
          "base_uri": "https://localhost:8080/"
        },
        "outputId": "929eda49-c05a-4480-8297-b7975b5d090b"
      },
      "outputs": [
        {
          "output_type": "stream",
          "name": "stderr",
          "text": [
            "/usr/local/lib/python3.10/dist-packages/ipykernel/ipkernel.py:283: DeprecationWarning: `should_run_async` will not call `transform_cell` automatically in the future. Please pass the result to `transformed_cell` argument and any exception that happen during thetransform in `preprocessing_exc_tuple` in IPython 7.17 and above.\n",
            "  and should_run_async(code)\n"
          ]
        }
      ],
      "source": [
        "def nbayes_model(x_train,y_train,x_val,y_val,x_test,y_test):\n",
        "  \n",
        "  nb = MultinomialNB()\n",
        "  nb.fit(x_train, y_train)\n",
        "\n",
        "  val_pred = nb.predict(x_val)\n",
        "  val_accuracy = accuracy_score(y_val, val_pred)\n",
        "  \n",
        "  test_pred = nb.predict(x_test)\n",
        "  test_accuracy = accuracy_score(y_test, test_pred)\n",
        "\n",
        "  return val_accuracy, test_accuracy\n"
      ]
    },
    {
      "cell_type": "code",
      "source": [
        "def logReg_model(x_train,y_train,x_val,y_val,x_test,y_test):\n",
        "  log = LogisticRegression()\n",
        "  log.fit(x_train, y_train)\n",
        "\n",
        "  val_pred = log.predict(x_val)\n",
        "  test_pred = log.predict(x_test)\n",
        "\n",
        "  val_accuracy = accuracy_score(y_val, val_pred)\n",
        "  test_accuracy = accuracy_score(y_test, test_pred)\n",
        "  \n",
        "  return val_accuracy, test_accuracy"
      ],
      "metadata": {
        "colab": {
          "base_uri": "https://localhost:8080/"
        },
        "id": "C13lCfareJ9_",
        "outputId": "d833dbe6-2da1-49f1-abea-dccf1ea82a08"
      },
      "execution_count": 40,
      "outputs": [
        {
          "output_type": "stream",
          "name": "stderr",
          "text": [
            "/usr/local/lib/python3.10/dist-packages/ipykernel/ipkernel.py:283: DeprecationWarning: `should_run_async` will not call `transform_cell` automatically in the future. Please pass the result to `transformed_cell` argument and any exception that happen during thetransform in `preprocessing_exc_tuple` in IPython 7.17 and above.\n",
            "  and should_run_async(code)\n"
          ]
        }
      ]
    },
    {
      "cell_type": "markdown",
      "source": [
        "#### Super Vector Classifier\n"
      ],
      "metadata": {
        "id": "fRF7ewR5QIGm"
      }
    },
    {
      "cell_type": "code",
      "execution_count": 41,
      "metadata": {
        "colab": {
          "base_uri": "https://localhost:8080/"
        },
        "id": "-xE4R0AhfRED",
        "outputId": "b6723bed-425d-47ce-c42b-624893762272"
      },
      "outputs": [
        {
          "output_type": "stream",
          "name": "stderr",
          "text": [
            "/usr/local/lib/python3.10/dist-packages/ipykernel/ipkernel.py:283: DeprecationWarning: `should_run_async` will not call `transform_cell` automatically in the future. Please pass the result to `transformed_cell` argument and any exception that happen during thetransform in `preprocessing_exc_tuple` in IPython 7.17 and above.\n",
            "  and should_run_async(code)\n"
          ]
        },
        {
          "output_type": "stream",
          "name": "stdout",
          "text": [
            "Accuracy for the validation set: 0.9957805907172996\n",
            "Accuracy for the test set: 1.0\n"
          ]
        }
      ],
      "source": [
        "# TF-IDF\n",
        "x_train,y_train,x_val,y_val,x_test,y_test = split('TF-IDF','Binary_testament')\n",
        "params_tfidf_testam_svc , val_acc_tfidf_testam_svc, test_acc_tfidf_testam_svc = svm_model(x_train,y_train,x_val,y_val,x_test,y_test)\n",
        "\n",
        "print('Accuracy for the validation set:',val_acc_tfidf_testam_svc)\n",
        "print('Accuracy for the test set:',test_acc_tfidf_testam_svc)\n",
        "\n",
        "results_val[\"val_acc_tfidf_testam_svc\"] = val_acc_tfidf_testam_svc\n",
        "results_test[\"test_acc_tfidf_testam_svc\"] = test_acc_tfidf_testam_svc"
      ]
    },
    {
      "cell_type": "code",
      "execution_count": 42,
      "metadata": {
        "colab": {
          "base_uri": "https://localhost:8080/"
        },
        "id": "v91e2FksgSYr",
        "outputId": "97552833-a6ea-4edd-b1c4-8fb16c2523cc"
      },
      "outputs": [
        {
          "output_type": "stream",
          "name": "stderr",
          "text": [
            "/usr/local/lib/python3.10/dist-packages/ipykernel/ipkernel.py:283: DeprecationWarning: `should_run_async` will not call `transform_cell` automatically in the future. Please pass the result to `transformed_cell` argument and any exception that happen during thetransform in `preprocessing_exc_tuple` in IPython 7.17 and above.\n",
            "  and should_run_async(code)\n"
          ]
        },
        {
          "output_type": "stream",
          "name": "stdout",
          "text": [
            "Accuracy for the validation set: 0.9915611814345991\n",
            "Accuracy for the test set: 0.9704641350210971\n"
          ]
        }
      ],
      "source": [
        "# BoW\n",
        "x_train,y_train,x_val,y_val,x_test,y_test = split('BoW','Binary_testament')\n",
        "params_bow_testam_svc , val_acc_bow_testam_svc , test_acc_bow_testam_svc  = svm_model(x_train,y_train,x_val,y_val,x_test,y_test)\n",
        "\n",
        "print('Accuracy for the validation set:',val_acc_bow_testam_svc )\n",
        "print('Accuracy for the test set:',test_acc_bow_testam_svc )\n",
        "\n",
        "results_val[\"val_acc_bow_testam_svc\"] = val_acc_bow_testam_svc\n",
        "results_test[\"test_acc_bow_testam_svc\"] = test_acc_bow_testam_svc"
      ]
    },
    {
      "cell_type": "code",
      "execution_count": 43,
      "metadata": {
        "colab": {
          "base_uri": "https://localhost:8080/"
        },
        "id": "GOjP_7ae84mL",
        "outputId": "1fa29c95-2a91-4f24-c815-964a5bf7f672"
      },
      "outputs": [
        {
          "output_type": "stream",
          "name": "stderr",
          "text": [
            "/usr/local/lib/python3.10/dist-packages/ipykernel/ipkernel.py:283: DeprecationWarning: `should_run_async` will not call `transform_cell` automatically in the future. Please pass the result to `transformed_cell` argument and any exception that happen during thetransform in `preprocessing_exc_tuple` in IPython 7.17 and above.\n",
            "  and should_run_async(code)\n"
          ]
        },
        {
          "output_type": "stream",
          "name": "stdout",
          "text": [
            "Accuracy for the validation set: 0.7679324894514767\n",
            "Accuracy for the test set: 0.8016877637130801\n"
          ]
        }
      ],
      "source": [
        "# word2vec\n",
        "x_train,y_train,x_val,y_val,x_test,y_test = split('word2vec','Binary_testament')\n",
        "params_word2vec_testam_svc , val_acc_word2vec_testam_svc , test_acc_word2vec_testam_svc  = svm_model(x_train,y_train,x_val,y_val,x_test,y_test)\n",
        "\n",
        "print('Accuracy for the validation set:',val_acc_word2vec_testam_svc)\n",
        "print('Accuracy for the test set:',test_acc_word2vec_testam_svc )\n",
        "\n",
        "results_val[\"val_acc_word2vec_testam_svc\"] = val_acc_word2vec_testam_svc\n",
        "results_test[\"test_acc_word2vec_testam_svc\"] = test_acc_word2vec_testam_svc"
      ]
    },
    {
      "cell_type": "code",
      "execution_count": 44,
      "metadata": {
        "colab": {
          "base_uri": "https://localhost:8080/"
        },
        "id": "2QQE2cGc9RXx",
        "outputId": "310ab649-c18f-4749-8904-1ca798a9efc2"
      },
      "outputs": [
        {
          "output_type": "stream",
          "name": "stderr",
          "text": [
            "/usr/local/lib/python3.10/dist-packages/ipykernel/ipkernel.py:283: DeprecationWarning: `should_run_async` will not call `transform_cell` automatically in the future. Please pass the result to `transformed_cell` argument and any exception that happen during thetransform in `preprocessing_exc_tuple` in IPython 7.17 and above.\n",
            "  and should_run_async(code)\n"
          ]
        },
        {
          "output_type": "stream",
          "name": "stdout",
          "text": [
            "Accuracy for the validation set: 0.9915611814345991\n",
            "Accuracy for the test set: 0.9957805907172996\n"
          ]
        }
      ],
      "source": [
        "# doc2vec\n",
        "x_train,y_train,x_val,y_val,x_test,y_test = split('doc2vec','Binary_testament')\n",
        "params_doc2vec_testam_svc, val_acc_doc2vec_testam_svc, test_acc_doc2vec_testam_svc = svm_model(x_train,y_train,x_val,y_val,x_test,y_test)\n",
        "\n",
        "print('Accuracy for the validation set:',val_acc_doc2vec_testam_svc)\n",
        "print('Accuracy for the test set:',test_acc_doc2vec_testam_svc)\n",
        "\n",
        "results_val[\"val_acc_doc2vec_testam_svc\"] = val_acc_doc2vec_testam_svc\n",
        "results_test[\"test_acc_doc2vec_testam_svc\"] = test_acc_doc2vec_testam_svc"
      ]
    },
    {
      "cell_type": "code",
      "source": [
        "# LDA\n",
        "x_train,y_train,x_val,y_val,x_test,y_test = split_topic('topic','Binary_testament')\n",
        "params_lda_testam_svc, val_acc_lda_testam_svc, test_acc_lda_testam_svc = svm_model(x_train,y_train,x_val,y_val,x_test,y_test)\n",
        "\n",
        "print('Accuracy for the validation set:',val_acc_lda_testam_svc)\n",
        "print('Accuracy for the test set:',test_acc_lda_testam_svc)\n",
        "\n",
        "results_val[\"val_acc_lda_testam_svc\"] = val_acc_lda_testam_svc\n",
        "results_test[\"test_acc_lda_testam_svc\"] = test_acc_lda_testam_svc"
      ],
      "metadata": {
        "id": "48Qrj1jrVlGd",
        "colab": {
          "base_uri": "https://localhost:8080/"
        },
        "outputId": "974d74c6-8393-44f8-e25b-420c59c82b17"
      },
      "execution_count": 45,
      "outputs": [
        {
          "output_type": "stream",
          "name": "stderr",
          "text": [
            "/usr/local/lib/python3.10/dist-packages/ipykernel/ipkernel.py:283: DeprecationWarning: `should_run_async` will not call `transform_cell` automatically in the future. Please pass the result to `transformed_cell` argument and any exception that happen during thetransform in `preprocessing_exc_tuple` in IPython 7.17 and above.\n",
            "  and should_run_async(code)\n"
          ]
        },
        {
          "output_type": "stream",
          "name": "stdout",
          "text": [
            "Accuracy for the validation set: 0.729957805907173\n",
            "Accuracy for the test set: 0.8059071729957806\n"
          ]
        }
      ]
    },
    {
      "cell_type": "markdown",
      "source": [
        "#### Naive Bayes"
      ],
      "metadata": {
        "id": "xIzkbd9ePmJk"
      }
    },
    {
      "cell_type": "code",
      "execution_count": 46,
      "metadata": {
        "colab": {
          "base_uri": "https://localhost:8080/"
        },
        "id": "aJ0EbqeiGAD5",
        "outputId": "388c1966-a9b8-4646-c22a-3a472995b11e"
      },
      "outputs": [
        {
          "output_type": "stream",
          "name": "stderr",
          "text": [
            "/usr/local/lib/python3.10/dist-packages/ipykernel/ipkernel.py:283: DeprecationWarning: `should_run_async` will not call `transform_cell` automatically in the future. Please pass the result to `transformed_cell` argument and any exception that happen during thetransform in `preprocessing_exc_tuple` in IPython 7.17 and above.\n",
            "  and should_run_async(code)\n"
          ]
        },
        {
          "output_type": "stream",
          "name": "stdout",
          "text": [
            "Accuracy for the validation set: 0.9029535864978903\n",
            "Accuracy for the test set: 0.890295358649789\n"
          ]
        }
      ],
      "source": [
        "# TF-IDF\n",
        "x_train,y_train,x_val,y_val,x_test,y_test = split('TF-IDF','Binary_testament')\n",
        "val_acc_tfidf_testam_nb, test_acc_tfidf_testam_nb = nbayes_model(x_train,y_train,x_val,y_val,x_test,y_test)\n",
        "\n",
        "print('Accuracy for the validation set:',val_acc_tfidf_testam_nb)\n",
        "print('Accuracy for the test set:',test_acc_tfidf_testam_nb)\n",
        "\n",
        "results_val[\"val_acc_tfidf_testam_nb\"] = val_acc_tfidf_testam_nb\n",
        "results_test[\"test_acc_tfidf_testam_nb\"] = test_acc_tfidf_testam_nb"
      ]
    },
    {
      "cell_type": "code",
      "execution_count": 47,
      "metadata": {
        "colab": {
          "base_uri": "https://localhost:8080/"
        },
        "id": "x7QjklCIGeHc",
        "outputId": "e5d77164-69a9-4151-e599-631635794c39"
      },
      "outputs": [
        {
          "output_type": "stream",
          "name": "stderr",
          "text": [
            "/usr/local/lib/python3.10/dist-packages/ipykernel/ipkernel.py:283: DeprecationWarning: `should_run_async` will not call `transform_cell` automatically in the future. Please pass the result to `transformed_cell` argument and any exception that happen during thetransform in `preprocessing_exc_tuple` in IPython 7.17 and above.\n",
            "  and should_run_async(code)\n"
          ]
        },
        {
          "output_type": "stream",
          "name": "stdout",
          "text": [
            "Accuracy for the validation set: 0.9831223628691983\n",
            "Accuracy for the test set: 0.9957805907172996\n"
          ]
        }
      ],
      "source": [
        "# BoW\n",
        "x_train,y_train,x_val,y_val,x_test,y_test = split('BoW','Binary_testament')\n",
        "val_acc_bow_testam_nb, test_acc_bow_testam_nb = nbayes_model(x_train,y_train,x_val,y_val,x_test,y_test)\n",
        "\n",
        "print('Accuracy for the validation set:',val_acc_bow_testam_nb)\n",
        "print('Accuracy for the test set:',test_acc_bow_testam_nb)\n",
        "\n",
        "results_val[\"val_acc_bow_testam_nb\"] = val_acc_bow_testam_nb\n",
        "results_test[\"test_acc_bow_testam_nb\"] = test_acc_bow_testam_nb"
      ]
    },
    {
      "cell_type": "code",
      "source": [
        "# LDA\n",
        "x_train,y_train,x_val,y_val,x_test,y_test = split_topic('topic','Binary_testament')\n",
        "val_acc_lda_testam_nb, test_acc_lda_testam_nb = nbayes_model(x_train,y_train,x_val,y_val,x_test,y_test)\n",
        "\n",
        "print('Accuracy for the validation set:',val_acc_lda_testam_nb)\n",
        "print('Accuracy for the test set:',test_acc_lda_testam_nb)\n",
        "\n",
        "\n",
        "results_val[\"val_acc_lda_testam_nb\"] = val_acc_lda_testam_nb\n",
        "results_test[\"test_acc_lda_testam_nb\"] = test_acc_lda_testam_nb"
      ],
      "metadata": {
        "colab": {
          "base_uri": "https://localhost:8080/"
        },
        "outputId": "88279063-8417-47dd-a73e-efbfe1ec24b4",
        "id": "r9CgjHNjcInN"
      },
      "execution_count": 48,
      "outputs": [
        {
          "output_type": "stream",
          "name": "stdout",
          "text": [
            "Accuracy for the validation set: 0.7679324894514767\n",
            "Accuracy for the test set: 0.8016877637130801\n"
          ]
        },
        {
          "output_type": "stream",
          "name": "stderr",
          "text": [
            "/usr/local/lib/python3.10/dist-packages/ipykernel/ipkernel.py:283: DeprecationWarning: `should_run_async` will not call `transform_cell` automatically in the future. Please pass the result to `transformed_cell` argument and any exception that happen during thetransform in `preprocessing_exc_tuple` in IPython 7.17 and above.\n",
            "  and should_run_async(code)\n"
          ]
        }
      ]
    },
    {
      "cell_type": "markdown",
      "source": [
        "#### Logistic Regression\n"
      ],
      "metadata": {
        "id": "D2dDjUm-fYeU"
      }
    },
    {
      "cell_type": "code",
      "execution_count": 49,
      "metadata": {
        "colab": {
          "base_uri": "https://localhost:8080/"
        },
        "outputId": "d71330d5-11c3-4e7b-82dc-6ca99225d643",
        "id": "mjKwyR5rfYeV"
      },
      "outputs": [
        {
          "output_type": "stream",
          "name": "stderr",
          "text": [
            "/usr/local/lib/python3.10/dist-packages/ipykernel/ipkernel.py:283: DeprecationWarning: `should_run_async` will not call `transform_cell` automatically in the future. Please pass the result to `transformed_cell` argument and any exception that happen during thetransform in `preprocessing_exc_tuple` in IPython 7.17 and above.\n",
            "  and should_run_async(code)\n"
          ]
        },
        {
          "output_type": "stream",
          "name": "stdout",
          "text": [
            "Accuracy for the validation set: 0.9240506329113924\n",
            "Accuracy for the test set: 0.919831223628692\n"
          ]
        }
      ],
      "source": [
        "# TF-IDF\n",
        "x_train,y_train,x_val,y_val,x_test,y_test = split('TF-IDF','Binary_testament')\n",
        "val_acc_tfidf_testam_lr, test_acc_tfidf_testam_lr = logReg_model(x_train,y_train,x_val,y_val,x_test,y_test)\n",
        "\n",
        "print('Accuracy for the validation set:',val_acc_tfidf_testam_lr)\n",
        "print('Accuracy for the test set:',test_acc_tfidf_testam_lr)\n",
        "\n",
        "results_val[\"val_acc_tfidf_testam_lr\"] = val_acc_tfidf_testam_lr\n",
        "results_test[\"test_acc_tfidf_testam_lr\"] = test_acc_tfidf_testam_lr"
      ]
    },
    {
      "cell_type": "code",
      "execution_count": 50,
      "metadata": {
        "colab": {
          "base_uri": "https://localhost:8080/"
        },
        "outputId": "4ea554be-0280-488b-9b15-2371ab023d75",
        "id": "2DnSDYy8fYeV"
      },
      "outputs": [
        {
          "output_type": "stream",
          "name": "stderr",
          "text": [
            "/usr/local/lib/python3.10/dist-packages/ipykernel/ipkernel.py:283: DeprecationWarning: `should_run_async` will not call `transform_cell` automatically in the future. Please pass the result to `transformed_cell` argument and any exception that happen during thetransform in `preprocessing_exc_tuple` in IPython 7.17 and above.\n",
            "  and should_run_async(code)\n"
          ]
        },
        {
          "output_type": "stream",
          "name": "stdout",
          "text": [
            "Accuracy for the validation set: 0.9915611814345991\n",
            "Accuracy for the test set: 0.9620253164556962\n"
          ]
        }
      ],
      "source": [
        "# BoW\n",
        "x_train,y_train,x_val,y_val,x_test,y_test = split('BoW','Binary_testament')\n",
        "val_acc_bow_testam_lr , test_acc_bow_testam_lr  = logReg_model(x_train,y_train,x_val,y_val,x_test,y_test)\n",
        "\n",
        "print('Accuracy for the validation set:',val_acc_bow_testam_lr)\n",
        "print('Accuracy for the test set:',test_acc_bow_testam_lr)\n",
        "\n",
        "results_val[\"val_acc_bow_testam_lr\"] = val_acc_bow_testam_lr\n",
        "results_test[\"test_acc_bow_testam_lr\"] = test_acc_bow_testam_lr"
      ]
    },
    {
      "cell_type": "code",
      "execution_count": 51,
      "metadata": {
        "colab": {
          "base_uri": "https://localhost:8080/"
        },
        "outputId": "30a0dfbe-b553-480d-eae8-189c156c2b6c",
        "id": "C10RL_A3fYeV"
      },
      "outputs": [
        {
          "output_type": "stream",
          "name": "stdout",
          "text": [
            "Accuracy for the validation set: 0.7679324894514767\n",
            "Accuracy for the test set: 0.8016877637130801\n"
          ]
        },
        {
          "output_type": "stream",
          "name": "stderr",
          "text": [
            "/usr/local/lib/python3.10/dist-packages/ipykernel/ipkernel.py:283: DeprecationWarning: `should_run_async` will not call `transform_cell` automatically in the future. Please pass the result to `transformed_cell` argument and any exception that happen during thetransform in `preprocessing_exc_tuple` in IPython 7.17 and above.\n",
            "  and should_run_async(code)\n"
          ]
        }
      ],
      "source": [
        "# word2vec\n",
        "x_train,y_train,x_val,y_val,x_test,y_test = split('word2vec','Binary_testament')\n",
        "val_acc_word2vec_testam_lr , test_acc_word2vec_testam_lr  = logReg_model(x_train,y_train,x_val,y_val,x_test,y_test)\n",
        "\n",
        "print('Accuracy for the validation set:',val_acc_word2vec_testam_lr)\n",
        "print('Accuracy for the test set:',test_acc_word2vec_testam_lr)\n",
        "\n",
        "results_val[\"val_acc_word2vec_testam_lr\"] = val_acc_word2vec_testam_lr\n",
        "results_test[\"test_acc_word2vec_testam_lr\"] = test_acc_word2vec_testam_lr"
      ]
    },
    {
      "cell_type": "code",
      "execution_count": 52,
      "metadata": {
        "colab": {
          "base_uri": "https://localhost:8080/"
        },
        "outputId": "ca1ebcfb-a46b-4640-9af7-923eec54fd4e",
        "id": "rTCWucAtfYeV"
      },
      "outputs": [
        {
          "output_type": "stream",
          "name": "stdout",
          "text": [
            "Accuracy for the validation set: 0.9873417721518988\n",
            "Accuracy for the test set: 0.9957805907172996\n"
          ]
        },
        {
          "output_type": "stream",
          "name": "stderr",
          "text": [
            "/usr/local/lib/python3.10/dist-packages/ipykernel/ipkernel.py:283: DeprecationWarning: `should_run_async` will not call `transform_cell` automatically in the future. Please pass the result to `transformed_cell` argument and any exception that happen during thetransform in `preprocessing_exc_tuple` in IPython 7.17 and above.\n",
            "  and should_run_async(code)\n"
          ]
        }
      ],
      "source": [
        "# doc2vec\n",
        "x_train,y_train,x_val,y_val,x_test,y_test = split('doc2vec','Binary_testament')\n",
        "val_acc_doc2vec_testam_lr, test_acc_doc2vec_testam_lr = logReg_model(x_train,y_train,x_val,y_val,x_test,y_test)\n",
        "\n",
        "print('Accuracy for the validation set:',val_acc_doc2vec_testam_lr)\n",
        "print('Accuracy for the test set:',test_acc_doc2vec_testam_lr)\n",
        "\n",
        "results_val[\"val_acc_doc2vec_testam_lr\"] = val_acc_doc2vec_testam_lr\n",
        "results_test[\"test_acc_doc2vec_testam_lr\"] = test_acc_doc2vec_testam_lr"
      ]
    },
    {
      "cell_type": "code",
      "source": [
        "# LDA\n",
        "x_train,y_train,x_val,y_val,x_test,y_test = split_topic('topic','Binary_testament')\n",
        "val_acc_lda_testam_lr, test_acc_lda_testam_lr = logReg_model(x_train,y_train,x_val,y_val,x_test,y_test)\n",
        "\n",
        "print('Accuracy for the validation set:',val_acc_lda_testam_lr)\n",
        "print('Accuracy for the test set:',test_acc_lda_testam_lr)\n",
        "\n",
        "results_val[\"val_acc_lda_testam_lr\"] = val_acc_lda_testam_lr\n",
        "results_test[\"test_acc_lda_testam_lr\"] = test_acc_lda_testam_lr"
      ],
      "metadata": {
        "colab": {
          "base_uri": "https://localhost:8080/"
        },
        "outputId": "939faaf0-49d5-4866-8098-4f791e9f19bc",
        "id": "csm-dEogfYeV"
      },
      "execution_count": 53,
      "outputs": [
        {
          "output_type": "stream",
          "name": "stdout",
          "text": [
            "Accuracy for the validation set: 0.759493670886076\n",
            "Accuracy for the test set: 0.8227848101265823\n"
          ]
        },
        {
          "output_type": "stream",
          "name": "stderr",
          "text": [
            "/usr/local/lib/python3.10/dist-packages/ipykernel/ipkernel.py:283: DeprecationWarning: `should_run_async` will not call `transform_cell` automatically in the future. Please pass the result to `transformed_cell` argument and any exception that happen during thetransform in `preprocessing_exc_tuple` in IPython 7.17 and above.\n",
            "  and should_run_async(code)\n"
          ]
        }
      ]
    },
    {
      "cell_type": "markdown",
      "metadata": {
        "id": "GDSe5EgFcaZj"
      },
      "source": [
        "### 2. Classification by book"
      ]
    },
    {
      "cell_type": "markdown",
      "source": [
        "#### Super Vector Classifier"
      ],
      "metadata": {
        "id": "NlIEMCsJQqV5"
      }
    },
    {
      "cell_type": "code",
      "execution_count": 54,
      "metadata": {
        "colab": {
          "base_uri": "https://localhost:8080/"
        },
        "id": "AA8AgKDn7GJ5",
        "outputId": "bdb96705-83e5-4119-c3da-0f98497646e3"
      },
      "outputs": [
        {
          "output_type": "stream",
          "name": "stderr",
          "text": [
            "/usr/local/lib/python3.10/dist-packages/ipykernel/ipkernel.py:283: DeprecationWarning: `should_run_async` will not call `transform_cell` automatically in the future. Please pass the result to `transformed_cell` argument and any exception that happen during thetransform in `preprocessing_exc_tuple` in IPython 7.17 and above.\n",
            "  and should_run_async(code)\n",
            "/usr/local/lib/python3.10/dist-packages/sklearn/model_selection/_split.py:700: UserWarning: The least populated class in y has only 1 members, which is less than n_splits=5.\n",
            "  warnings.warn(\n"
          ]
        },
        {
          "output_type": "stream",
          "name": "stdout",
          "text": [
            "Accuracy for the validation set: 0.5443037974683544\n",
            "Accuracy for the test set: 0.5864978902953587\n"
          ]
        }
      ],
      "source": [
        "# TF-IDF\n",
        "x_train,y_train,x_val,y_val,x_test,y_test = split('TF-IDF','Book')\n",
        "params_tfidf_book_svc, val_acc_tfidf_book_svc, test_acc_tfidf_book_svc = svm_model(x_train,y_train,x_val,y_val,x_test,y_test)\n",
        "\n",
        "print('Accuracy for the validation set:',val_acc_tfidf_book_svc)\n",
        "print('Accuracy for the test set:',test_acc_tfidf_book_svc)\n",
        "\n",
        "results_val[\"val_acc_tfidf_book_svc\"] = val_acc_tfidf_book_svc\n",
        "results_test[\"test_acc_tfidf_book_svc\"] = test_acc_tfidf_book_svc"
      ]
    },
    {
      "cell_type": "code",
      "execution_count": 55,
      "metadata": {
        "colab": {
          "base_uri": "https://localhost:8080/"
        },
        "id": "0Nkg-4xS55Y1",
        "outputId": "9ff71d44-6305-454f-cd38-49b02d3eae9b"
      },
      "outputs": [
        {
          "output_type": "stream",
          "name": "stderr",
          "text": [
            "/usr/local/lib/python3.10/dist-packages/ipykernel/ipkernel.py:283: DeprecationWarning: `should_run_async` will not call `transform_cell` automatically in the future. Please pass the result to `transformed_cell` argument and any exception that happen during thetransform in `preprocessing_exc_tuple` in IPython 7.17 and above.\n",
            "  and should_run_async(code)\n",
            "/usr/local/lib/python3.10/dist-packages/sklearn/model_selection/_split.py:700: UserWarning: The least populated class in y has only 1 members, which is less than n_splits=5.\n",
            "  warnings.warn(\n"
          ]
        },
        {
          "output_type": "stream",
          "name": "stdout",
          "text": [
            "Accuracy for the validation set: 0.5527426160337553\n",
            "Accuracy for the test set: 0.5485232067510548\n"
          ]
        }
      ],
      "source": [
        "# BoW\n",
        "x_train,y_train,x_val,y_val,x_test,y_test = split('BoW','Book')\n",
        "params_bow_book_svc, val_acc_bow_book_svc, test_acc_bow_book_svc = svm_model(x_train,y_train,x_val,y_val,x_test,y_test)\n",
        "\n",
        "print('Accuracy for the validation set:',val_acc_bow_book_svc)\n",
        "print('Accuracy for the test set:',test_acc_bow_book_svc)\n",
        "\n",
        "results_val[\"val_acc_bow_book_svc\"] = val_acc_bow_book_svc\n",
        "results_test[\"test_acc_bow_book_svc\"] = test_acc_bow_book_svc"
      ]
    },
    {
      "cell_type": "code",
      "execution_count": 56,
      "metadata": {
        "colab": {
          "base_uri": "https://localhost:8080/"
        },
        "id": "PhkPZalC9CP_",
        "outputId": "7fcba9a0-d680-4973-ed7a-dc3ffc8b0ddb"
      },
      "outputs": [
        {
          "output_type": "stream",
          "name": "stderr",
          "text": [
            "/usr/local/lib/python3.10/dist-packages/ipykernel/ipkernel.py:283: DeprecationWarning: `should_run_async` will not call `transform_cell` automatically in the future. Please pass the result to `transformed_cell` argument and any exception that happen during thetransform in `preprocessing_exc_tuple` in IPython 7.17 and above.\n",
            "  and should_run_async(code)\n",
            "/usr/local/lib/python3.10/dist-packages/sklearn/model_selection/_split.py:700: UserWarning: The least populated class in y has only 1 members, which is less than n_splits=5.\n",
            "  warnings.warn(\n"
          ]
        },
        {
          "output_type": "stream",
          "name": "stdout",
          "text": [
            "Accuracy for the validation set: 0.0379746835443038\n",
            "Accuracy for the test set: 0.0759493670886076\n"
          ]
        }
      ],
      "source": [
        "# word2vec\n",
        "x_train,y_train,x_val,y_val,x_test,y_test = split('word2vec','Book')\n",
        "params_word2vec_book_svc, val_acc_word2vec_book_svc, test_acc_word2vec_book_svc = svm_model(x_train,y_train,x_val,y_val,x_test,y_test)\n",
        "\n",
        "print('Accuracy for the validation set:',val_acc_word2vec_book_svc)\n",
        "print('Accuracy for the test set:',test_acc_word2vec_book_svc)\n",
        "\n",
        "results_val[\"val_acc_word2vec_book_svc\"] = val_acc_word2vec_book_svc\n",
        "results_test[\"test_acc_word2vec_book_svc\"] = test_acc_word2vec_book_svc"
      ]
    },
    {
      "cell_type": "code",
      "execution_count": 57,
      "metadata": {
        "colab": {
          "base_uri": "https://localhost:8080/"
        },
        "id": "0tdFSKHd9YnN",
        "outputId": "d2a07f19-c13a-4671-cc8e-d783f068d3a0"
      },
      "outputs": [
        {
          "output_type": "stream",
          "name": "stderr",
          "text": [
            "/usr/local/lib/python3.10/dist-packages/ipykernel/ipkernel.py:283: DeprecationWarning: `should_run_async` will not call `transform_cell` automatically in the future. Please pass the result to `transformed_cell` argument and any exception that happen during thetransform in `preprocessing_exc_tuple` in IPython 7.17 and above.\n",
            "  and should_run_async(code)\n",
            "/usr/local/lib/python3.10/dist-packages/sklearn/model_selection/_split.py:700: UserWarning: The least populated class in y has only 1 members, which is less than n_splits=5.\n",
            "  warnings.warn(\n"
          ]
        },
        {
          "output_type": "stream",
          "name": "stdout",
          "text": [
            "Accuracy for the validation set: 0.5189873417721519\n",
            "Accuracy for the test set: 0.5443037974683544\n"
          ]
        }
      ],
      "source": [
        "# doc2vec\n",
        "x_train,y_train,x_val,y_val,x_test,y_test = split('doc2vec','Book')\n",
        "params_doc2vec_book_svc, val_acc_doc2vec_book_svc, test_acc_doc2vec_book_svc = svm_model(x_train,y_train,x_val,y_val,x_test,y_test)\n",
        "\n",
        "print('Accuracy for the validation set:',val_acc_doc2vec_book_svc)\n",
        "print('Accuracy for the test set:',test_acc_doc2vec_book_svc)\n",
        "\n",
        "results_val[\"val_acc_doc2vec_book_svc\"] = val_acc_doc2vec_book_svc\n",
        "results_test[\"test_acc_doc2vec_book_svc\"] = test_acc_doc2vec_book_svc"
      ]
    },
    {
      "cell_type": "code",
      "execution_count": 58,
      "metadata": {
        "colab": {
          "base_uri": "https://localhost:8080/"
        },
        "outputId": "fed5c9fe-60c2-47a8-f6ec-faa1f5ef92ee",
        "id": "O4wEIga6dK9j"
      },
      "outputs": [
        {
          "output_type": "stream",
          "name": "stderr",
          "text": [
            "/usr/local/lib/python3.10/dist-packages/ipykernel/ipkernel.py:283: DeprecationWarning: `should_run_async` will not call `transform_cell` automatically in the future. Please pass the result to `transformed_cell` argument and any exception that happen during thetransform in `preprocessing_exc_tuple` in IPython 7.17 and above.\n",
            "  and should_run_async(code)\n",
            "/usr/local/lib/python3.10/dist-packages/sklearn/model_selection/_split.py:700: UserWarning: The least populated class in y has only 1 members, which is less than n_splits=5.\n",
            "  warnings.warn(\n"
          ]
        },
        {
          "output_type": "stream",
          "name": "stdout",
          "text": [
            "Accuracy for the validation set: 0.08016877637130802\n",
            "Accuracy for the test set: 0.10126582278481013\n"
          ]
        }
      ],
      "source": [
        "# lda\n",
        "x_train,y_train,x_val,y_val,x_test,y_test = split_topic('topic','Book')\n",
        "params_lda_book_svc, val_acc_lda_book_svc, test_acc_lda_book_svc = svm_model(x_train,y_train,x_val,y_val,x_test,y_test)\n",
        "\n",
        "print('Accuracy for the validation set:',val_acc_lda_book_svc)\n",
        "print('Accuracy for the test set:',test_acc_lda_book_svc)\n",
        "\n",
        "results_val[\"val_acc_lda_book_svc\"] = val_acc_lda_book_svc\n",
        "results_test[\"test_acc_lda_book_svc\"] = test_acc_lda_book_svc"
      ]
    },
    {
      "cell_type": "markdown",
      "metadata": {
        "id": "bZguCOivG2cj"
      },
      "source": [
        "#### Naive Bayes "
      ]
    },
    {
      "cell_type": "code",
      "execution_count": 59,
      "metadata": {
        "colab": {
          "base_uri": "https://localhost:8080/"
        },
        "id": "AkqhPBR0HBam",
        "outputId": "1f20bddf-1da8-433d-f68c-e4aa5eff5d46"
      },
      "outputs": [
        {
          "output_type": "stream",
          "name": "stderr",
          "text": [
            "/usr/local/lib/python3.10/dist-packages/ipykernel/ipkernel.py:283: DeprecationWarning: `should_run_async` will not call `transform_cell` automatically in the future. Please pass the result to `transformed_cell` argument and any exception that happen during thetransform in `preprocessing_exc_tuple` in IPython 7.17 and above.\n",
            "  and should_run_async(code)\n"
          ]
        },
        {
          "output_type": "stream",
          "name": "stdout",
          "text": [
            "Accuracy for the validation set: 0.27848101265822783\n",
            "Accuracy for the test set: 0.3333333333333333\n"
          ]
        }
      ],
      "source": [
        "# TF-IDF\n",
        "x_train,y_train,x_val,y_val,x_test,y_test = split('TF-IDF','Book')\n",
        "val_acc_tfidf_book_nb, test_acc_tfidf_book_nb = nbayes_model(x_train,y_train,x_val,y_val,x_test,y_test)\n",
        "\n",
        "print('Accuracy for the validation set:',val_acc_tfidf_book_nb)\n",
        "print('Accuracy for the test set:',test_acc_tfidf_book_nb)\n",
        "\n",
        "results_val[\"val_acc_tfidf_book_nb\"] = val_acc_tfidf_book_nb\n",
        "results_test[\"test_acc_tfidf_book_nb\"] = test_acc_tfidf_book_nb"
      ]
    },
    {
      "cell_type": "code",
      "execution_count": 60,
      "metadata": {
        "colab": {
          "base_uri": "https://localhost:8080/"
        },
        "id": "0NnF4-TaHGXN",
        "outputId": "78426abc-d62c-4bb4-b212-23701a74e75f"
      },
      "outputs": [
        {
          "output_type": "stream",
          "name": "stderr",
          "text": [
            "/usr/local/lib/python3.10/dist-packages/ipykernel/ipkernel.py:283: DeprecationWarning: `should_run_async` will not call `transform_cell` automatically in the future. Please pass the result to `transformed_cell` argument and any exception that happen during thetransform in `preprocessing_exc_tuple` in IPython 7.17 and above.\n",
            "  and should_run_async(code)\n"
          ]
        },
        {
          "output_type": "stream",
          "name": "stdout",
          "text": [
            "Accuracy for the validation set: 0.4219409282700422\n",
            "Accuracy for the test set: 0.5147679324894515\n"
          ]
        }
      ],
      "source": [
        "# BoW\n",
        "x_train,y_train,x_val,y_val,x_test,y_test = split('BoW','Book')\n",
        "val_acc_bow_book_nb, test_acc_bow_book_nb = nbayes_model(x_train,y_train,x_val,y_val,x_test,y_test)\n",
        "\n",
        "print('Accuracy for the validation set:',val_acc_bow_book_nb)\n",
        "print('Accuracy for the test set:',test_acc_bow_book_nb)\n",
        "\n",
        "results_val[\"val_acc_bow_book_nb\"] = val_acc_bow_book_nb\n",
        "results_test[\"test_acc_bow_book_nb\"] = test_acc_bow_book_nb"
      ]
    },
    {
      "cell_type": "code",
      "execution_count": 61,
      "metadata": {
        "colab": {
          "base_uri": "https://localhost:8080/"
        },
        "outputId": "79a138b5-c5cc-4ced-9461-f0fe3e3a862b",
        "id": "A8-X9oamdqvj"
      },
      "outputs": [
        {
          "output_type": "stream",
          "name": "stdout",
          "text": [
            "Accuracy for the validation set: 0.08438818565400844\n",
            "Accuracy for the test set: 0.10126582278481013\n"
          ]
        },
        {
          "output_type": "stream",
          "name": "stderr",
          "text": [
            "/usr/local/lib/python3.10/dist-packages/ipykernel/ipkernel.py:283: DeprecationWarning: `should_run_async` will not call `transform_cell` automatically in the future. Please pass the result to `transformed_cell` argument and any exception that happen during thetransform in `preprocessing_exc_tuple` in IPython 7.17 and above.\n",
            "  and should_run_async(code)\n"
          ]
        }
      ],
      "source": [
        "# lda\n",
        "x_train,y_train,x_val,y_val,x_test,y_test = split_topic('topic','Book')\n",
        "val_acc_lda_book_nb, test_acc_lda_book_nb = nbayes_model(x_train,y_train,x_val,y_val,x_test,y_test)\n",
        "\n",
        "print('Accuracy for the validation set:',val_acc_lda_book_nb)\n",
        "print('Accuracy for the test set:',test_acc_lda_book_nb)\n",
        "\n",
        "results_val[\"val_acc_lda_book_nb\"] = val_acc_lda_book_nb\n",
        "results_test[\"test_acc_lda_book_nb\"] = test_acc_lda_book_nb"
      ]
    },
    {
      "cell_type": "markdown",
      "source": [
        "### Results"
      ],
      "metadata": {
        "id": "rM-e8hv-kJpL"
      }
    },
    {
      "cell_type": "code",
      "source": [
        "test_results_df = pd.DataFrame({\"Model\":list(results_test.keys()), \"Accuracy\": list(results_test.values())})\n",
        "val_results_df = pd.DataFrame({\"Model\":list(results_val.keys()), \"Accuracy\": list(results_val.values())})\n",
        "\n",
        "# store it\n",
        "test_results_df.to_csv('/content/drive/My Drive/ColabNotebooks/MLapps/project/datos_dash/test_results.csv', index=False)\n",
        "val_results_df.to_csv('/content/drive/My Drive/ColabNotebooks/MLapps/project/datos_dash/val_results.csv', index=False)"
      ],
      "metadata": {
        "colab": {
          "base_uri": "https://localhost:8080/"
        },
        "id": "jTpDFMDw-LRU",
        "outputId": "cf282b6a-a7ff-43c0-b629-61c354df3aae"
      },
      "execution_count": 63,
      "outputs": [
        {
          "output_type": "stream",
          "name": "stderr",
          "text": [
            "/usr/local/lib/python3.10/dist-packages/ipykernel/ipkernel.py:283: DeprecationWarning: `should_run_async` will not call `transform_cell` automatically in the future. Please pass the result to `transformed_cell` argument and any exception that happen during thetransform in `preprocessing_exc_tuple` in IPython 7.17 and above.\n",
            "  and should_run_async(code)\n"
          ]
        }
      ]
    },
    {
      "cell_type": "code",
      "source": [
        "# Plot the results\n",
        "plt.figure(figsize=(17, 7))\n",
        "plt.plot(results_test.keys(), results_test.values(), label='Testing results')\n",
        "plt.plot(results_test.keys(), results_val.values(), label='Validation results')\n",
        "plt.xlabel('Models')\n",
        "plt.ylabel('Accuracy')\n",
        "plt.xticks(fontsize=6)\n",
        "plt.legend()\n",
        "plt.show()\n"
      ],
      "metadata": {
        "colab": {
          "base_uri": "https://localhost:8080/",
          "height": 545
        },
        "id": "59g9Z5ON-e14",
        "outputId": "63b251c6-fb29-4cb1-9bbe-1c03aef53454"
      },
      "execution_count": 64,
      "outputs": [
        {
          "output_type": "stream",
          "name": "stderr",
          "text": [
            "/usr/local/lib/python3.10/dist-packages/ipykernel/ipkernel.py:283: DeprecationWarning: `should_run_async` will not call `transform_cell` automatically in the future. Please pass the result to `transformed_cell` argument and any exception that happen during thetransform in `preprocessing_exc_tuple` in IPython 7.17 and above.\n",
            "  and should_run_async(code)\n"
          ]
        },
        {
          "output_type": "display_data",
          "data": {
            "text/plain": [
              "<Figure size 1700x700 with 1 Axes>"
            ],
            "image/png": "[encoded data removed]"
          },
          "metadata": {}
        }
      ]
    },
    {
      "cell_type": "markdown",
      "source": [
        "#### Datasets creation fro the Dash\n"
      ],
      "metadata": {
        "id": "vtSzBpd2izj-"
      }
    },
    {
      "cell_type": "markdown",
      "source": [
        "##### SVC"
      ],
      "metadata": {
        "id": "xEqLicLC1Ivw"
      }
    },
    {
      "cell_type": "code",
      "source": [
        "# SVC testament + book prediction,  TF-IDF\n",
        "# TESTAMENT\n",
        "df_x = np.vstack(dataset[\"TF-IDF\"])\n",
        "df_y = dataset[\"Testament\"].values\n",
        "x_train, x_test, y_train, y_test = train_test_split(df_x, df_y, test_size=0.2, random_state=42)\n",
        "\n",
        "svm = SVC()\n",
        "svm.fit(x_train, y_train)\n",
        "\n",
        "test_pred = svm.predict(x_test)\n",
        "test_accuracy = accuracy_score(y_test, test_pred)\n",
        "\n",
        "tfidf_svc = pd.DataFrame({\"Testament\": y_test, \"Testament_Prediction\": test_pred})\n",
        "\n",
        "# BOOK\n",
        "df_x = np.vstack(dataset[\"TF-IDF\"])\n",
        "df_y = dataset[\"Book\"].values\n",
        "x_train, x_test, y_train, y_test = train_test_split(df_x, df_y, test_size=0.2, random_state=42)\n",
        "\n",
        "svm = SVC()\n",
        "svm.fit(x_train, y_train)\n",
        "\n",
        "test_pred = svm.predict(x_test)\n",
        "test_accuracy = accuracy_score(y_test, test_pred)\n",
        "\n",
        "tfidf_svc[\"Book\"] = y_test\n",
        "tfidf_svc[\"Book_Prediction\"] = test_pred\n",
        "\n",
        "\n",
        "tfidf_svc.to_csv('/content/drive/My Drive/ColabNotebooks/MLapps/project/datos_dash/tfidf_svc_results.csv', index=False)\n"
      ],
      "metadata": {
        "id": "vJkfRfvGwaLD",
        "colab": {
          "base_uri": "https://localhost:8080/"
        },
        "outputId": "1d535dca-3a2b-4c3b-84fd-7f614e5c4d4d"
      },
      "execution_count": 65,
      "outputs": [
        {
          "output_type": "stream",
          "name": "stderr",
          "text": [
            "/usr/local/lib/python3.10/dist-packages/ipykernel/ipkernel.py:283: DeprecationWarning: `should_run_async` will not call `transform_cell` automatically in the future. Please pass the result to `transformed_cell` argument and any exception that happen during thetransform in `preprocessing_exc_tuple` in IPython 7.17 and above.\n",
            "  and should_run_async(code)\n"
          ]
        }
      ]
    },
    {
      "cell_type": "code",
      "source": [
        "# SVC testament + book prediction,  BoW\n",
        "# TESTAMENT\n",
        "df_x = np.vstack(dataset[\"BoW\"])\n",
        "df_y = dataset[\"Testament\"].values\n",
        "x_train, x_test, y_train, y_test = train_test_split(df_x, df_y, test_size=0.2, random_state=42)\n",
        "\n",
        "svm = SVC()\n",
        "svm.fit(x_train, y_train)\n",
        "\n",
        "test_pred = svm.predict(x_test)\n",
        "test_accuracy = accuracy_score(y_test, test_pred)\n",
        "\n",
        "bow_svc = pd.DataFrame({\"Testament\": y_test, \"Testament_Prediction\": test_pred})\n",
        "\n",
        "# BOOK\n",
        "df_x = np.vstack(dataset[\"BoW\"])\n",
        "df_y = dataset[\"Book\"].values\n",
        "x_train, x_test, y_train, y_test = train_test_split(df_x, df_y, test_size=0.2, random_state=42)\n",
        "\n",
        "svm = SVC()\n",
        "svm.fit(x_train, y_train)\n",
        "\n",
        "test_pred = svm.predict(x_test)\n",
        "test_accuracy = accuracy_score(y_test, test_pred)\n",
        "\n",
        "bow_svc[\"Book\"] = y_test\n",
        "bow_svc[\"Book_Prediction\"] = test_pred\n",
        "\n",
        "\n",
        "bow_svc.to_csv('/content/drive/My Drive/ColabNotebooks/MLapps/project/datos_dash/bow_svc_results.csv', index=False)\n"
      ],
      "metadata": {
        "id": "-k3SXvCjxMgh",
        "colab": {
          "base_uri": "https://localhost:8080/"
        },
        "outputId": "36d344b2-394a-450d-8b2e-2f25a013d015"
      },
      "execution_count": 66,
      "outputs": [
        {
          "output_type": "stream",
          "name": "stderr",
          "text": [
            "/usr/local/lib/python3.10/dist-packages/ipykernel/ipkernel.py:283: DeprecationWarning: `should_run_async` will not call `transform_cell` automatically in the future. Please pass the result to `transformed_cell` argument and any exception that happen during thetransform in `preprocessing_exc_tuple` in IPython 7.17 and above.\n",
            "  and should_run_async(code)\n"
          ]
        }
      ]
    },
    {
      "cell_type": "code",
      "source": [
        "# SVC testament + book prediction,  word2Vec\n",
        "# TESTAMENT\n",
        "df_x = np.vstack(dataset[\"word2vec\"])\n",
        "df_y = dataset[\"Testament\"].values\n",
        "x_train, x_test, y_train, y_test = train_test_split(df_x, df_y, test_size=0.2, random_state=42)\n",
        "\n",
        "svm = SVC()\n",
        "svm.fit(x_train, y_train)\n",
        "\n",
        "test_pred = svm.predict(x_test)\n",
        "test_accuracy = accuracy_score(y_test, test_pred)\n",
        "\n",
        "word2vec_svc = pd.DataFrame({\"Testament\": y_test, \"Testament_Prediction\": test_pred})\n",
        "\n",
        "# BOOK\n",
        "df_x = np.vstack(dataset[\"word2vec\"])\n",
        "df_y = dataset[\"Book\"].values\n",
        "x_train, x_test, y_train, y_test = train_test_split(df_x, df_y, test_size=0.2, random_state=42)\n",
        "\n",
        "svm = SVC()\n",
        "svm.fit(x_train, y_train)\n",
        "\n",
        "test_pred = svm.predict(x_test)\n",
        "test_accuracy = accuracy_score(y_test, test_pred)\n",
        "\n",
        "word2vec_svc[\"Book\"] = y_test\n",
        "word2vec_svc[\"Book_Prediction\"] = test_pred\n",
        "\n",
        "\n",
        "word2vec_svc.to_csv('/content/drive/My Drive/ColabNotebooks/MLapps/project/datos_dash/word2vec_svc_results.csv', index=False)\n"
      ],
      "metadata": {
        "id": "hnOFXD4PxMpa",
        "colab": {
          "base_uri": "https://localhost:8080/"
        },
        "outputId": "fa4b84c4-8977-4c81-f1ec-95a2a7cae87c"
      },
      "execution_count": 67,
      "outputs": [
        {
          "output_type": "stream",
          "name": "stderr",
          "text": [
            "/usr/local/lib/python3.10/dist-packages/ipykernel/ipkernel.py:283: DeprecationWarning: `should_run_async` will not call `transform_cell` automatically in the future. Please pass the result to `transformed_cell` argument and any exception that happen during thetransform in `preprocessing_exc_tuple` in IPython 7.17 and above.\n",
            "  and should_run_async(code)\n"
          ]
        }
      ]
    },
    {
      "cell_type": "code",
      "source": [
        "# SVC testament + book prediction,  doc2vec\n",
        "# TESTAMENT\n",
        "df_x = np.vstack(dataset[\"doc2vec\"])\n",
        "df_y = dataset[\"Testament\"].values\n",
        "x_train, x_test, y_train, y_test = train_test_split(df_x, df_y, test_size=0.2, random_state=42)\n",
        "\n",
        "svm = SVC()\n",
        "svm.fit(x_train, y_train)\n",
        "\n",
        "test_pred = svm.predict(x_test)\n",
        "test_accuracy = accuracy_score(y_test, test_pred)\n",
        "\n",
        "doc2vec_svc = pd.DataFrame({\"Testament\": y_test, \"Testament_Prediction\": test_pred})\n",
        "\n",
        "# BOOK\n",
        "df_x = np.vstack(dataset[\"doc2vec\"])\n",
        "df_y = dataset[\"Book\"].values\n",
        "x_train, x_test, y_train, y_test = train_test_split(df_x, df_y, test_size=0.2, random_state=42)\n",
        "\n",
        "svm = SVC()\n",
        "svm.fit(x_train, y_train)\n",
        "\n",
        "test_pred = svm.predict(x_test)\n",
        "test_accuracy = accuracy_score(y_test, test_pred)\n",
        "\n",
        "doc2vec_svc[\"Book\"] = y_test\n",
        "doc2vec_svc[\"Book_Prediction\"] = test_pred\n",
        "\n",
        "\n",
        "doc2vec_svc.to_csv('/content/drive/My Drive/ColabNotebooks/MLapps/project/datos_dash/doc2vec_svc_results.csv', index=False)\n"
      ],
      "metadata": {
        "id": "xOj3zSG0xMyp",
        "colab": {
          "base_uri": "https://localhost:8080/"
        },
        "outputId": "c951a529-49cd-4185-8292-f489d7cc5c1a"
      },
      "execution_count": 68,
      "outputs": [
        {
          "output_type": "stream",
          "name": "stderr",
          "text": [
            "/usr/local/lib/python3.10/dist-packages/ipykernel/ipkernel.py:283: DeprecationWarning: `should_run_async` will not call `transform_cell` automatically in the future. Please pass the result to `transformed_cell` argument and any exception that happen during thetransform in `preprocessing_exc_tuple` in IPython 7.17 and above.\n",
            "  and should_run_async(code)\n"
          ]
        }
      ]
    },
    {
      "cell_type": "code",
      "source": [
        "# SVC testament + book prediction,  topic\n",
        "# TESTAMENT\n",
        "df_x = (dataset[\"topic\"])\n",
        "df_y = dataset[\"Testament\"].values\n",
        "x_train, x_test, y_train, y_test = train_test_split(df_x, df_y, test_size=0.2, random_state=42)\n",
        "x_train = gensim.matutils.corpus2dense(x_train, num_terms=n).T\n",
        "x_test = gensim.matutils.corpus2dense(x_test, num_terms=n).T\n",
        "\n",
        "svm = SVC()\n",
        "svm.fit(x_train, y_train)\n",
        "\n",
        "test_pred = svm.predict(x_test)\n",
        "test_accuracy = accuracy_score(y_test, test_pred)\n",
        "\n",
        "topic_svc = pd.DataFrame({\"Testament\": y_test, \"Testament_Prediction\": test_pred})\n",
        "\n",
        "# BOOK\n",
        "df_x = (dataset[\"topic\"])\n",
        "df_y = dataset[\"Book\"].values\n",
        "x_train, x_test, y_train, y_test = train_test_split(df_x, df_y, test_size=0.2, random_state=42)\n",
        "x_train = gensim.matutils.corpus2dense(x_train, num_terms=n).T\n",
        "x_test = gensim.matutils.corpus2dense(x_test, num_terms=n).T\n",
        "\n",
        "svm = SVC()\n",
        "svm.fit(x_train, y_train)\n",
        "\n",
        "test_pred = svm.predict(x_test)\n",
        "test_accuracy = accuracy_score(y_test, test_pred)\n",
        "\n",
        "topic_svc[\"Book\"] = y_test\n",
        "topic_svc[\"Book_Prediction\"] = test_pred\n",
        "\n",
        "\n",
        "topic_svc.to_csv('/content/drive/My Drive/ColabNotebooks/MLapps/project/datos_dash/topic_svc_results.csv', index=False)\n"
      ],
      "metadata": {
        "id": "CA9NWuNh0f5V",
        "colab": {
          "base_uri": "https://localhost:8080/"
        },
        "outputId": "bee8e9fa-efb0-45de-c2e9-7ad4d8d2c922"
      },
      "execution_count": 69,
      "outputs": [
        {
          "output_type": "stream",
          "name": "stderr",
          "text": [
            "/usr/local/lib/python3.10/dist-packages/ipykernel/ipkernel.py:283: DeprecationWarning: `should_run_async` will not call `transform_cell` automatically in the future. Please pass the result to `transformed_cell` argument and any exception that happen during thetransform in `preprocessing_exc_tuple` in IPython 7.17 and above.\n",
            "  and should_run_async(code)\n"
          ]
        }
      ]
    },
    {
      "cell_type": "markdown",
      "source": [
        "##### Naive Bayes"
      ],
      "metadata": {
        "id": "75xtktNK1N2j"
      }
    },
    {
      "cell_type": "code",
      "source": [
        "# NB testament + book prediction,  TF-IDF\n",
        "# TESTAMENT\n",
        "df_x = np.vstack(dataset[\"TF-IDF\"])\n",
        "df_y = dataset[\"Testament\"].values\n",
        "x_train, x_test, y_train, y_test = train_test_split(df_x, df_y, test_size=0.2, random_state=42)\n",
        "\n",
        "nb = MultinomialNB()\n",
        "nb.fit(x_train, y_train)\n",
        "\n",
        "test_pred = nb.predict(x_test)\n",
        "test_accuracy = accuracy_score(y_test, test_pred)\n",
        "\n",
        "tfidf_nb = pd.DataFrame({\"Testament\": y_test, \"Testament_Prediction\": test_pred})\n",
        "\n",
        "# BOOK\n",
        "df_x = np.vstack(dataset[\"TF-IDF\"])\n",
        "df_y = dataset[\"Book\"].values\n",
        "x_train, x_test, y_train, y_test = train_test_split(df_x, df_y, test_size=0.2, random_state=42)\n",
        "\n",
        "nb = MultinomialNB()\n",
        "nb.fit(x_train, y_train)\n",
        "\n",
        "test_pred = nb.predict(x_test)\n",
        "test_accuracy = accuracy_score(y_test, test_pred)\n",
        "\n",
        "tfidf_nb[\"Book\"] = y_test\n",
        "tfidf_nb[\"Book_Prediction\"] = test_pred\n",
        "\n",
        "\n",
        "tfidf_nb.to_csv('/content/drive/My Drive/ColabNotebooks/MLapps/project/datos_dash/tfidf_nb_results.csv', index=False)\n"
      ],
      "metadata": {
        "id": "Db2N7PGZ1PsE",
        "colab": {
          "base_uri": "https://localhost:8080/"
        },
        "outputId": "bebee1ce-e2a4-4ed7-cc07-fc213f3cbb7b"
      },
      "execution_count": 70,
      "outputs": [
        {
          "output_type": "stream",
          "name": "stderr",
          "text": [
            "/usr/local/lib/python3.10/dist-packages/ipykernel/ipkernel.py:283: DeprecationWarning: `should_run_async` will not call `transform_cell` automatically in the future. Please pass the result to `transformed_cell` argument and any exception that happen during thetransform in `preprocessing_exc_tuple` in IPython 7.17 and above.\n",
            "  and should_run_async(code)\n"
          ]
        }
      ]
    },
    {
      "cell_type": "code",
      "source": [
        "# NB testament + book prediction,  BoW\n",
        "# TESTAMENT\n",
        "df_x = np.vstack(dataset[\"BoW\"])\n",
        "df_y = dataset[\"Testament\"].values\n",
        "x_train, x_test, y_train, y_test = train_test_split(df_x, df_y, test_size=0.2, random_state=42)\n",
        "\n",
        "nb = MultinomialNB()\n",
        "nb.fit(x_train, y_train)\n",
        "\n",
        "test_pred = nb.predict(x_test)\n",
        "test_accuracy = accuracy_score(y_test, test_pred)\n",
        "\n",
        "bow_nb = pd.DataFrame({\"Testament\": y_test, \"Testament_Prediction\": test_pred})\n",
        "\n",
        "# BOOK\n",
        "df_x = np.vstack(dataset[\"BoW\"])\n",
        "df_y = dataset[\"Book\"].values\n",
        "x_train, x_test, y_train, y_test = train_test_split(df_x, df_y, test_size=0.2, random_state=42)\n",
        "\n",
        "nb = MultinomialNB()\n",
        "nb.fit(x_train, y_train)\n",
        "\n",
        "test_pred = nb.predict(x_test)\n",
        "test_accuracy = accuracy_score(y_test, test_pred)\n",
        "\n",
        "bow_nb[\"Book\"] = y_test\n",
        "bow_nb[\"Book_Prediction\"] = test_pred\n",
        "\n",
        "\n",
        "bow_nb.to_csv('/content/drive/My Drive/ColabNotebooks/MLapps/project/datos_dash/bow_nb_results.csv', index=False)\n"
      ],
      "metadata": {
        "id": "zyhDYpW_1PsF",
        "colab": {
          "base_uri": "https://localhost:8080/"
        },
        "outputId": "fb94c183-c343-4cdf-8ce7-086bda5d0c05"
      },
      "execution_count": 71,
      "outputs": [
        {
          "output_type": "stream",
          "name": "stderr",
          "text": [
            "/usr/local/lib/python3.10/dist-packages/ipykernel/ipkernel.py:283: DeprecationWarning: `should_run_async` will not call `transform_cell` automatically in the future. Please pass the result to `transformed_cell` argument and any exception that happen during thetransform in `preprocessing_exc_tuple` in IPython 7.17 and above.\n",
            "  and should_run_async(code)\n"
          ]
        }
      ]
    },
    {
      "cell_type": "code",
      "source": [
        "# NB testament + book prediction,  topic\n",
        "# TESTAMENT\n",
        "df_x = (dataset[\"topic\"])\n",
        "df_y = dataset[\"Testament\"].values\n",
        "x_train, x_test, y_train, y_test = train_test_split(df_x, df_y, test_size=0.2, random_state=42)\n",
        "x_train = gensim.matutils.corpus2dense(x_train, num_terms=n).T\n",
        "x_test = gensim.matutils.corpus2dense(x_test, num_terms=n).T\n",
        "\n",
        "nb = MultinomialNB()\n",
        "nb.fit(x_train, y_train)\n",
        "\n",
        "test_pred = nb.predict(x_test)\n",
        "test_accuracy = accuracy_score(y_test, test_pred)\n",
        "\n",
        "topic_nb = pd.DataFrame({\"Testament\": y_test, \"Testament_Prediction\": test_pred})\n",
        "\n",
        "# BOOK\n",
        "df_x = (dataset[\"topic\"])\n",
        "df_y = dataset[\"Book\"].values\n",
        "x_train, x_test, y_train, y_test = train_test_split(df_x, df_y, test_size=0.2, random_state=42)\n",
        "x_train = gensim.matutils.corpus2dense(x_train, num_terms=n).T\n",
        "x_test = gensim.matutils.corpus2dense(x_test, num_terms=n).T\n",
        "\n",
        "nb = MultinomialNB()\n",
        "nb.fit(x_train, y_train)\n",
        "\n",
        "test_pred = nb.predict(x_test)\n",
        "test_accuracy = accuracy_score(y_test, test_pred)\n",
        "\n",
        "topic_nb[\"Book\"] = y_test\n",
        "topic_nb[\"Book_Prediction\"] = test_pred\n",
        "\n",
        "\n",
        "topic_nb.to_csv('/content/drive/My Drive/ColabNotebooks/MLapps/project/datos_dash/topic_nb_results.csv', index=False)\n"
      ],
      "metadata": {
        "id": "0THG5IZg1PsG",
        "colab": {
          "base_uri": "https://localhost:8080/"
        },
        "outputId": "0d7bde13-9661-43c8-efe9-42705e9d0184"
      },
      "execution_count": 72,
      "outputs": [
        {
          "output_type": "stream",
          "name": "stderr",
          "text": [
            "/usr/local/lib/python3.10/dist-packages/ipykernel/ipkernel.py:283: DeprecationWarning: `should_run_async` will not call `transform_cell` automatically in the future. Please pass the result to `transformed_cell` argument and any exception that happen during thetransform in `preprocessing_exc_tuple` in IPython 7.17 and above.\n",
            "  and should_run_async(code)\n"
          ]
        }
      ]
    }
  ],
  "metadata": {
    "colab": {
      "provenance": [],
      "toc_visible": true
    },
    "kernelspec": {
      "display_name": "Python 3",
      "name": "python3"
    },
    "language_info": {
      "name": "python"
    }
  },
  "nbformat": 4,
  "nbformat_minor": 0
}