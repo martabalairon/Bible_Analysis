{
  "nbformat": 4,
  "nbformat_minor": 0,
  "metadata": {
    "colab": {
      "provenance": []
    },
    "kernelspec": {
      "name": "python3",
      "display_name": "Python 3"
    },
    "language_info": {
      "name": "python"
    }
  },
  "cells": [
    {
      "cell_type": "markdown",
      "source": [
        "# **Dashboard implementation**\n",
        "# Final project\n",
        "### Machine Learning Applications\n",
        "\n",
        "---\n",
        "\n",
        "**Marta Balairón García 100451724**\n",
        "\n",
        "**Gracia Estrán Buyo 100452014**\n",
        "\n",
        "**Marta Almagro Fuello 100451979**\n",
        "\n",
        "\n",
        "---"
      ],
      "metadata": {
        "id": "OmkYt4DMDLY4"
      }
    },
    {
      "cell_type": "markdown",
      "source": [
        "First we install the necessary packages and import some libraries"
      ],
      "metadata": {
        "id": "3GxhimMoECGs"
      }
    },
    {
      "cell_type": "code",
      "execution_count": 3,
      "metadata": {
        "colab": {
          "base_uri": "https://localhost:8080/"
        },
        "id": "OxpijqN-_GsZ",
        "outputId": "adf78044-6dde-421c-8f32-9be1c4b55aef"
      },
      "outputs": [
        {
          "output_type": "stream",
          "name": "stdout",
          "text": [
            "Looking in indexes: https://pypi.org/simple, https://us-python.pkg.dev/colab-wheels/public/simple/\n",
            "Collecting jupyter-dash\n",
            "  Downloading jupyter_dash-0.4.2-py3-none-any.whl (23 kB)\n",
            "Requirement already satisfied: flask in /usr/local/lib/python3.10/dist-packages (from jupyter-dash) (2.2.4)\n",
            "Collecting retrying\n",
            "  Downloading retrying-1.3.4-py3-none-any.whl (11 kB)\n",
            "Requirement already satisfied: ipykernel in /usr/local/lib/python3.10/dist-packages (from jupyter-dash) (5.5.6)\n",
            "Collecting ansi2html\n",
            "  Downloading ansi2html-1.8.0-py3-none-any.whl (16 kB)\n",
            "Requirement already satisfied: ipython in /usr/local/lib/python3.10/dist-packages (from jupyter-dash) (7.34.0)\n",
            "Collecting dash\n",
            "  Downloading dash-2.9.3-py3-none-any.whl (10.2 MB)\n",
            "\u001b[2K     \u001b[90m━━━━━━━━━━━━━━━━━━━━━━━━━━━━━━━━━━━━━━━━\u001b[0m \u001b[32m10.2/10.2 MB\u001b[0m \u001b[31m80.5 MB/s\u001b[0m eta \u001b[36m0:00:00\u001b[0m\n",
            "\u001b[?25hRequirement already satisfied: nest-asyncio in /usr/local/lib/python3.10/dist-packages (from jupyter-dash) (1.5.6)\n",
            "Requirement already satisfied: requests in /usr/local/lib/python3.10/dist-packages (from jupyter-dash) (2.27.1)\n",
            "Collecting dash-core-components==2.0.0\n",
            "  Downloading dash_core_components-2.0.0-py3-none-any.whl (3.8 kB)\n",
            "Collecting dash-table==5.0.0\n",
            "  Downloading dash_table-5.0.0-py3-none-any.whl (3.9 kB)\n",
            "Requirement already satisfied: plotly>=5.0.0 in /usr/local/lib/python3.10/dist-packages (from dash->jupyter-dash) (5.13.1)\n",
            "Collecting dash-html-components==2.0.0\n",
            "  Downloading dash_html_components-2.0.0-py3-none-any.whl (4.1 kB)\n",
            "Requirement already satisfied: Werkzeug>=2.2.2 in /usr/local/lib/python3.10/dist-packages (from flask->jupyter-dash) (2.3.0)\n",
            "Requirement already satisfied: Jinja2>=3.0 in /usr/local/lib/python3.10/dist-packages (from flask->jupyter-dash) (3.1.2)\n",
            "Requirement already satisfied: click>=8.0 in /usr/local/lib/python3.10/dist-packages (from flask->jupyter-dash) (8.1.3)\n",
            "Requirement already satisfied: itsdangerous>=2.0 in /usr/local/lib/python3.10/dist-packages (from flask->jupyter-dash) (2.1.2)\n",
            "Requirement already satisfied: jupyter-client in /usr/local/lib/python3.10/dist-packages (from ipykernel->jupyter-dash) (6.1.12)\n",
            "Requirement already satisfied: ipython-genutils in /usr/local/lib/python3.10/dist-packages (from ipykernel->jupyter-dash) (0.2.0)\n",
            "Requirement already satisfied: traitlets>=4.1.0 in /usr/local/lib/python3.10/dist-packages (from ipykernel->jupyter-dash) (5.7.1)\n",
            "Requirement already satisfied: tornado>=4.2 in /usr/local/lib/python3.10/dist-packages (from ipykernel->jupyter-dash) (6.2)\n",
            "Requirement already satisfied: pygments in /usr/local/lib/python3.10/dist-packages (from ipython->jupyter-dash) (2.14.0)\n",
            "Collecting jedi>=0.16\n",
            "  Downloading jedi-0.18.2-py2.py3-none-any.whl (1.6 MB)\n",
            "\u001b[2K     \u001b[90m━━━━━━━━━━━━━━━━━━━━━━━━━━━━━━━━━━━━━━━━\u001b[0m \u001b[32m1.6/1.6 MB\u001b[0m \u001b[31m68.9 MB/s\u001b[0m eta \u001b[36m0:00:00\u001b[0m\n",
            "\u001b[?25hRequirement already satisfied: pickleshare in /usr/local/lib/python3.10/dist-packages (from ipython->jupyter-dash) (0.7.5)\n",
            "Requirement already satisfied: decorator in /usr/local/lib/python3.10/dist-packages (from ipython->jupyter-dash) (4.4.2)\n",
            "Requirement already satisfied: matplotlib-inline in /usr/local/lib/python3.10/dist-packages (from ipython->jupyter-dash) (0.1.6)\n",
            "Requirement already satisfied: backcall in /usr/local/lib/python3.10/dist-packages (from ipython->jupyter-dash) (0.2.0)\n",
            "Requirement already satisfied: pexpect>4.3 in /usr/local/lib/python3.10/dist-packages (from ipython->jupyter-dash) (4.8.0)\n",
            "Requirement already satisfied: prompt-toolkit!=3.0.0,!=3.0.1,<3.1.0,>=2.0.0 in /usr/local/lib/python3.10/dist-packages (from ipython->jupyter-dash) (3.0.38)\n",
            "Requirement already satisfied: setuptools>=18.5 in /usr/local/lib/python3.10/dist-packages (from ipython->jupyter-dash) (67.7.2)\n",
            "Requirement already satisfied: charset-normalizer~=2.0.0 in /usr/local/lib/python3.10/dist-packages (from requests->jupyter-dash) (2.0.12)\n",
            "Requirement already satisfied: urllib3<1.27,>=1.21.1 in /usr/local/lib/python3.10/dist-packages (from requests->jupyter-dash) (1.26.15)\n",
            "Requirement already satisfied: certifi>=2017.4.17 in /usr/local/lib/python3.10/dist-packages (from requests->jupyter-dash) (2022.12.7)\n",
            "Requirement already satisfied: idna<4,>=2.5 in /usr/local/lib/python3.10/dist-packages (from requests->jupyter-dash) (3.4)\n",
            "Requirement already satisfied: six>=1.7.0 in /usr/local/lib/python3.10/dist-packages (from retrying->jupyter-dash) (1.16.0)\n",
            "Requirement already satisfied: parso<0.9.0,>=0.8.0 in /usr/local/lib/python3.10/dist-packages (from jedi>=0.16->ipython->jupyter-dash) (0.8.3)\n",
            "Requirement already satisfied: MarkupSafe>=2.0 in /usr/local/lib/python3.10/dist-packages (from Jinja2>=3.0->flask->jupyter-dash) (2.1.2)\n",
            "Requirement already satisfied: ptyprocess>=0.5 in /usr/local/lib/python3.10/dist-packages (from pexpect>4.3->ipython->jupyter-dash) (0.7.0)\n",
            "Requirement already satisfied: tenacity>=6.2.0 in /usr/local/lib/python3.10/dist-packages (from plotly>=5.0.0->dash->jupyter-dash) (8.2.2)\n",
            "Requirement already satisfied: wcwidth in /usr/local/lib/python3.10/dist-packages (from prompt-toolkit!=3.0.0,!=3.0.1,<3.1.0,>=2.0.0->ipython->jupyter-dash) (0.2.6)\n",
            "Requirement already satisfied: pyzmq>=13 in /usr/local/lib/python3.10/dist-packages (from jupyter-client->ipykernel->jupyter-dash) (23.2.1)\n",
            "Requirement already satisfied: python-dateutil>=2.1 in /usr/local/lib/python3.10/dist-packages (from jupyter-client->ipykernel->jupyter-dash) (2.8.2)\n",
            "Requirement already satisfied: jupyter-core>=4.6.0 in /usr/local/lib/python3.10/dist-packages (from jupyter-client->ipykernel->jupyter-dash) (5.3.0)\n",
            "Requirement already satisfied: platformdirs>=2.5 in /usr/local/lib/python3.10/dist-packages (from jupyter-core>=4.6.0->jupyter-client->ipykernel->jupyter-dash) (3.3.0)\n",
            "Installing collected packages: dash-table, dash-html-components, dash-core-components, retrying, jedi, ansi2html, dash, jupyter-dash\n",
            "Successfully installed ansi2html-1.8.0 dash-2.9.3 dash-core-components-2.0.0 dash-html-components-2.0.0 dash-table-5.0.0 jedi-0.18.2 jupyter-dash-0.4.2 retrying-1.3.4\n"
          ]
        }
      ],
      "source": [
        "!pip install jupyter-dash"
      ]
    },
    {
      "cell_type": "code",
      "source": [
        "from dash import Dash, html, dcc, callback, Output, Input\n",
        "import plotly.express as px\n",
        "import pandas as pd\n",
        "import pickle\n",
        "from google.colab import drive\n",
        "from jupyter_dash import JupyterDash"
      ],
      "metadata": {
        "id": "tixDQU3u_V2W"
      },
      "execution_count": 4,
      "outputs": []
    },
    {
      "cell_type": "markdown",
      "source": [
        "##Visualization of the distribution of the predominant LDA topic of each document"
      ],
      "metadata": {
        "id": "WR9Gtk-vCjHj"
      }
    },
    {
      "cell_type": "markdown",
      "source": [
        "We upload the dataset from Google Drive which contains the LDA representation and a column previously added with the predominant topic for each document"
      ],
      "metadata": {
        "id": "Bcsyaw4JELHh"
      }
    },
    {
      "cell_type": "code",
      "source": [
        "drive.mount('/content/drive')\n",
        "path = '/content/drive/My Drive/ColabNotebooks/MLapps/project/datos_dash/ModifiedDataset.pkl'\n",
        "with open(path, 'rb') as f:\n",
        "    df = pickle.load(f)"
      ],
      "metadata": {
        "colab": {
          "base_uri": "https://localhost:8080/"
        },
        "id": "oIhniLStObRF",
        "outputId": "50c800c0-9de2-4169-fee4-5367ef16d079"
      },
      "execution_count": 5,
      "outputs": [
        {
          "output_type": "stream",
          "name": "stdout",
          "text": [
            "Mounted at /content/drive\n"
          ]
        }
      ]
    },
    {
      "cell_type": "code",
      "source": [
        "df.head()"
      ],
      "metadata": {
        "colab": {
          "base_uri": "https://localhost:8080/",
          "height": 1000
        },
        "id": "CLccaRurFTGC",
        "outputId": "2f0df0bf-7318-4ced-ae41-76b9f99da368"
      },
      "execution_count": 6,
      "outputs": [
        {
          "output_type": "execute_result",
          "data": {
            "text/plain": [
              "      Chapter   Book Testament  \\\n",
              "0  Capítulo 1  exodo       Old   \n",
              "1  Capítulo 2  exodo       Old   \n",
              "2  Capítulo 3  exodo       Old   \n",
              "3  Capítulo 4  exodo       Old   \n",
              "4  Capítulo 5  exodo       Old   \n",
              "\n",
              "                                                Text  \\\n",
              "0   Aflicción de los israelitas en Egipto 1:1 Est...   \n",
              "1   Nacimiento de Moisés é2:1 Un varón de la fami...   \n",
              "2   Llamamiento de Moisésé3:1 Apacentando Moisés ...   \n",
              "3    é4:1 Entonces Moisés respondió diciendo: He ...   \n",
              "4   Moisés y Aarón ante Faraón é5:1 Después Moisé...   \n",
              "\n",
              "                                          Clean_text  \\\n",
              "0  aflicción israelita egipto nombre israel entra...   \n",
              "1  nacimiento moisés varón familia leví tomar muj...   \n",
              "2  llamamiento moisésé moisés oveja jetro_suegro ...   \n",
              "3  moisés responder creer oier_voz aparecer tener...   \n",
              "4  moisés_aarón faraón moisés_aarón entrar presen...   \n",
              "\n",
              "                                            Entities  \\\n",
              "0  Egipto Israel Egipto Jacob Rubén Simeón Leví J...   \n",
              "1  Nacimiento de Moisés é Un varón de la familia ...   \n",
              "2  Llamamiento de Moisésé Apacentando Moisés Jetr...   \n",
              "3  Moisés Jehová Jehová Una vara.  El Echala Mois...   \n",
              "4  Moisés Aarón Faraón Moisés Aarón Faraón Jehová...   \n",
              "\n",
              "                                       Entities_labs  \\\n",
              "0  LOC LOC LOC PER PER PER MISC ORG PER PER LOC P...   \n",
              "1  MISC PER PER PER LOC PER PER PER PER PER MISC ...   \n",
              "2  ORG PER PER LOC LOC PER PER LOC LOC PER MISC M...   \n",
              "3  PER LOC LOC MISC PER PER PER PER MISC MISC MIS...   \n",
              "4  MISC LOC LOC MISC MISC PER MISC LOC PER LOC LO...   \n",
              "\n",
              "                                            Pos_tags  Binary_testament  \\\n",
              "0  PROPN NOUN PROPN NOUN NOUN PROPN VERB PROPN PR...                 0   \n",
              "1  NOUN PROPN CCONJ NOUN NOUN PROPN VERB NOUN NOU...                 0   \n",
              "2  NOUN PROPN NUM PROPN NOUN PROPN NOUN NOUN PROP...                 0   \n",
              "3  CCONJ PROPN VERB VERB VERB VERB NOUN VERB VERB...                 0   \n",
              "4  PROPN PROPN PROPN CCONJ PROPN PROPN VERB NOUN ...                 0   \n",
              "\n",
              "                                              TF-IDF  \\\n",
              "0  [0.03611773378849263, 0.052319994336570294, 0....   \n",
              "1  [0.06341435350321382, 0.0, 0.0, 0.0, 0.0, 0.0,...   \n",
              "2  [0.0, 0.09712090059455612, 0.0, 0.0, 0.0, 0.0,...   \n",
              "3  [0.03082591152021846, 0.04465428328372308, 0.0...   \n",
              "4  [0.0, 0.04149096468105849, 0.0, 0.0, 0.0, 0.0,...   \n",
              "\n",
              "                                                 BoW  \\\n",
              "0  [1, 1, 1, 1, 1, 1, 1, 1, 1, 1, 1, 1, 1, 1, 1, ...   \n",
              "1  [2, 0, 0, 0, 0, 0, 0, 0, 0, 0, 0, 0, 0, 0, 0, ...   \n",
              "2  [0, 2, 0, 0, 0, 0, 0, 0, 0, 1, 0, 0, 0, 0, 0, ...   \n",
              "3  [1, 1, 0, 0, 0, 0, 0, 0, 0, 1, 0, 0, 0, 0, 0, ...   \n",
              "4  [0, 1, 0, 0, 0, 0, 0, 0, 0, 1, 0, 0, 0, 0, 0, ...   \n",
              "\n",
              "                                            word2vec  \\\n",
              "0  [0.018037518, 0.02719311, -0.1245205, 0.076239...   \n",
              "1  [0.016624952, 0.022959266, -0.11875475, 0.0755...   \n",
              "2  [0.017864525, 0.02667462, -0.123814374, 0.0761...   \n",
              "3  [0.01789204, 0.02675709, -0.123926714, 0.07616...   \n",
              "4  [0.016928172, 0.023868112, -0.11999246, 0.0756...   \n",
              "\n",
              "                                             doc2vec  \\\n",
              "0  [-0.8133634, -0.7473378, -0.043331787, 0.08226...   \n",
              "1  [-1.8962456, -0.2924397, -0.019668395, 0.43755...   \n",
              "2  [-1.06886, -0.7010317, 0.096719846, 0.01295441...   \n",
              "3  [-0.5231014, -0.50527245, -0.18128572, 0.73393...   \n",
              "4  [-0.24245714, -0.052771512, -0.12692145, 0.176...   \n",
              "\n",
              "                                               topic  dominant_topic  \n",
              "0                   [(0, 0.514916), (4, 0.48024315)]               0  \n",
              "1                 [(3, 0.9463995), (4, 0.048396915)]               3  \n",
              "2                   [(0, 0.545416), (3, 0.45108894)]               0  \n",
              "3  [(0, 0.88371956), (3, 0.09127518), (4, 0.02317...               0  \n",
              "4                  [(0, 0.11961269), (3, 0.8761827)]               3  "
            ],
            "text/html": [
              "\n",
              "  <div id=\"df-9df4446c-14e2-4ce2-9d96-456e40f7996a\">\n",
              "    <div class=\"colab-df-container\">\n",
              "      <div>\n",
              "<style scoped>\n",
              "    .dataframe tbody tr th:only-of-type {\n",
              "        vertical-align: middle;\n",
              "    }\n",
              "\n",
              "    .dataframe tbody tr th {\n",
              "        vertical-align: top;\n",
              "    }\n",
              "\n",
              "    .dataframe thead th {\n",
              "        text-align: right;\n",
              "    }\n",
              "</style>\n",
              "<table border=\"1\" class=\"dataframe\">\n",
              "  <thead>\n",
              "    <tr style=\"text-align: right;\">\n",
              "      <th></th>\n",
              "      <th>Chapter</th>\n",
              "      <th>Book</th>\n",
              "      <th>Testament</th>\n",
              "      <th>Text</th>\n",
              "      <th>Clean_text</th>\n",
              "      <th>Entities</th>\n",
              "      <th>Entities_labs</th>\n",
              "      <th>Pos_tags</th>\n",
              "      <th>Binary_testament</th>\n",
              "      <th>TF-IDF</th>\n",
              "      <th>BoW</th>\n",
              "      <th>word2vec</th>\n",
              "      <th>doc2vec</th>\n",
              "      <th>topic</th>\n",
              "      <th>dominant_topic</th>\n",
              "    </tr>\n",
              "  </thead>\n",
              "  <tbody>\n",
              "    <tr>\n",
              "      <th>0</th>\n",
              "      <td>Capítulo 1</td>\n",
              "      <td>exodo</td>\n",
              "      <td>Old</td>\n",
              "      <td>Aflicción de los israelitas en Egipto 1:1 Est...</td>\n",
              "      <td>aflicción israelita egipto nombre israel entra...</td>\n",
              "      <td>Egipto Israel Egipto Jacob Rubén Simeón Leví J...</td>\n",
              "      <td>LOC LOC LOC PER PER PER MISC ORG PER PER LOC P...</td>\n",
              "      <td>PROPN NOUN PROPN NOUN NOUN PROPN VERB PROPN PR...</td>\n",
              "      <td>0</td>\n",
              "      <td>[0.03611773378849263, 0.052319994336570294, 0....</td>\n",
              "      <td>[1, 1, 1, 1, 1, 1, 1, 1, 1, 1, 1, 1, 1, 1, 1, ...</td>\n",
              "      <td>[0.018037518, 0.02719311, -0.1245205, 0.076239...</td>\n",
              "      <td>[-0.8133634, -0.7473378, -0.043331787, 0.08226...</td>\n",
              "      <td>[(0, 0.514916), (4, 0.48024315)]</td>\n",
              "      <td>0</td>\n",
              "    </tr>\n",
              "    <tr>\n",
              "      <th>1</th>\n",
              "      <td>Capítulo 2</td>\n",
              "      <td>exodo</td>\n",
              "      <td>Old</td>\n",
              "      <td>Nacimiento de Moisés é2:1 Un varón de la fami...</td>\n",
              "      <td>nacimiento moisés varón familia leví tomar muj...</td>\n",
              "      <td>Nacimiento de Moisés é Un varón de la familia ...</td>\n",
              "      <td>MISC PER PER PER LOC PER PER PER PER PER MISC ...</td>\n",
              "      <td>NOUN PROPN CCONJ NOUN NOUN PROPN VERB NOUN NOU...</td>\n",
              "      <td>0</td>\n",
              "      <td>[0.06341435350321382, 0.0, 0.0, 0.0, 0.0, 0.0,...</td>\n",
              "      <td>[2, 0, 0, 0, 0, 0, 0, 0, 0, 0, 0, 0, 0, 0, 0, ...</td>\n",
              "      <td>[0.016624952, 0.022959266, -0.11875475, 0.0755...</td>\n",
              "      <td>[-1.8962456, -0.2924397, -0.019668395, 0.43755...</td>\n",
              "      <td>[(3, 0.9463995), (4, 0.048396915)]</td>\n",
              "      <td>3</td>\n",
              "    </tr>\n",
              "    <tr>\n",
              "      <th>2</th>\n",
              "      <td>Capítulo 3</td>\n",
              "      <td>exodo</td>\n",
              "      <td>Old</td>\n",
              "      <td>Llamamiento de Moisésé3:1 Apacentando Moisés ...</td>\n",
              "      <td>llamamiento moisésé moisés oveja jetro_suegro ...</td>\n",
              "      <td>Llamamiento de Moisésé Apacentando Moisés Jetr...</td>\n",
              "      <td>ORG PER PER LOC LOC PER PER LOC LOC PER MISC M...</td>\n",
              "      <td>NOUN PROPN NUM PROPN NOUN PROPN NOUN NOUN PROP...</td>\n",
              "      <td>0</td>\n",
              "      <td>[0.0, 0.09712090059455612, 0.0, 0.0, 0.0, 0.0,...</td>\n",
              "      <td>[0, 2, 0, 0, 0, 0, 0, 0, 0, 1, 0, 0, 0, 0, 0, ...</td>\n",
              "      <td>[0.017864525, 0.02667462, -0.123814374, 0.0761...</td>\n",
              "      <td>[-1.06886, -0.7010317, 0.096719846, 0.01295441...</td>\n",
              "      <td>[(0, 0.545416), (3, 0.45108894)]</td>\n",
              "      <td>0</td>\n",
              "    </tr>\n",
              "    <tr>\n",
              "      <th>3</th>\n",
              "      <td>Capítulo 4</td>\n",
              "      <td>exodo</td>\n",
              "      <td>Old</td>\n",
              "      <td>é4:1 Entonces Moisés respondió diciendo: He ...</td>\n",
              "      <td>moisés responder creer oier_voz aparecer tener...</td>\n",
              "      <td>Moisés Jehová Jehová Una vara.  El Echala Mois...</td>\n",
              "      <td>PER LOC LOC MISC PER PER PER PER MISC MISC MIS...</td>\n",
              "      <td>CCONJ PROPN VERB VERB VERB VERB NOUN VERB VERB...</td>\n",
              "      <td>0</td>\n",
              "      <td>[0.03082591152021846, 0.04465428328372308, 0.0...</td>\n",
              "      <td>[1, 1, 0, 0, 0, 0, 0, 0, 0, 1, 0, 0, 0, 0, 0, ...</td>\n",
              "      <td>[0.01789204, 0.02675709, -0.123926714, 0.07616...</td>\n",
              "      <td>[-0.5231014, -0.50527245, -0.18128572, 0.73393...</td>\n",
              "      <td>[(0, 0.88371956), (3, 0.09127518), (4, 0.02317...</td>\n",
              "      <td>0</td>\n",
              "    </tr>\n",
              "    <tr>\n",
              "      <th>4</th>\n",
              "      <td>Capítulo 5</td>\n",
              "      <td>exodo</td>\n",
              "      <td>Old</td>\n",
              "      <td>Moisés y Aarón ante Faraón é5:1 Después Moisé...</td>\n",
              "      <td>moisés_aarón faraón moisés_aarón entrar presen...</td>\n",
              "      <td>Moisés Aarón Faraón Moisés Aarón Faraón Jehová...</td>\n",
              "      <td>MISC LOC LOC MISC MISC PER MISC LOC PER LOC LO...</td>\n",
              "      <td>PROPN PROPN PROPN CCONJ PROPN PROPN VERB NOUN ...</td>\n",
              "      <td>0</td>\n",
              "      <td>[0.0, 0.04149096468105849, 0.0, 0.0, 0.0, 0.0,...</td>\n",
              "      <td>[0, 1, 0, 0, 0, 0, 0, 0, 0, 1, 0, 0, 0, 0, 0, ...</td>\n",
              "      <td>[0.016928172, 0.023868112, -0.11999246, 0.0756...</td>\n",
              "      <td>[-0.24245714, -0.052771512, -0.12692145, 0.176...</td>\n",
              "      <td>[(0, 0.11961269), (3, 0.8761827)]</td>\n",
              "      <td>3</td>\n",
              "    </tr>\n",
              "  </tbody>\n",
              "</table>\n",
              "</div>\n",
              "      <button class=\"colab-df-convert\" onclick=\"convertToInteractive('df-9df4446c-14e2-4ce2-9d96-456e40f7996a')\"\n",
              "              title=\"Convert this dataframe to an interactive table.\"\n",
              "              style=\"display:none;\">\n",
              "        \n",
              "  <svg xmlns=\"http://www.w3.org/2000/svg\" height=\"24px\"viewBox=\"0 0 24 24\"\n",
              "       width=\"24px\">\n",
              "    <path d=\"M0 0h24v24H0V0z\" fill=\"none\"/>\n",
              "    <path d=\"M18.56 5.44l.94 2.06.94-2.06 2.06-.94-2.06-.94-.94-2.06-.94 2.06-2.06.94zm-11 1L8.5 8.5l.94-2.06 2.06-.94-2.06-.94L8.5 2.5l-.94 2.06-2.06.94zm10 10l.94 2.06.94-2.06 2.06-.94-2.06-.94-.94-2.06-.94 2.06-2.06.94z\"/><path d=\"M17.41 7.96l-1.37-1.37c-.4-.4-.92-.59-1.43-.59-.52 0-1.04.2-1.43.59L10.3 9.45l-7.72 7.72c-.78.78-.78 2.05 0 2.83L4 21.41c.39.39.9.59 1.41.59.51 0 1.02-.2 1.41-.59l7.78-7.78 2.81-2.81c.8-.78.8-2.07 0-2.86zM5.41 20L4 18.59l7.72-7.72 1.47 1.35L5.41 20z\"/>\n",
              "  </svg>\n",
              "      </button>\n",
              "      \n",
              "  <style>\n",
              "    .colab-df-container {\n",
              "      display:flex;\n",
              "      flex-wrap:wrap;\n",
              "      gap: 12px;\n",
              "    }\n",
              "\n",
              "    .colab-df-convert {\n",
              "      background-color: #E8F0FE;\n",
              "      border: none;\n",
              "      border-radius: 50%;\n",
              "      cursor: pointer;\n",
              "      display: none;\n",
              "      fill: #1967D2;\n",
              "      height: 32px;\n",
              "      padding: 0 0 0 0;\n",
              "      width: 32px;\n",
              "    }\n",
              "\n",
              "    .colab-df-convert:hover {\n",
              "      background-color: #E2EBFA;\n",
              "      box-shadow: 0px 1px 2px rgba(60, 64, 67, 0.3), 0px 1px 3px 1px rgba(60, 64, 67, 0.15);\n",
              "      fill: #174EA6;\n",
              "    }\n",
              "\n",
              "    [theme=dark] .colab-df-convert {\n",
              "      background-color: #3B4455;\n",
              "      fill: #D2E3FC;\n",
              "    }\n",
              "\n",
              "    [theme=dark] .colab-df-convert:hover {\n",
              "      background-color: #434B5C;\n",
              "      box-shadow: 0px 1px 3px 1px rgba(0, 0, 0, 0.15);\n",
              "      filter: drop-shadow(0px 1px 2px rgba(0, 0, 0, 0.3));\n",
              "      fill: #FFFFFF;\n",
              "    }\n",
              "  </style>\n",
              "\n",
              "      <script>\n",
              "        const buttonEl =\n",
              "          document.querySelector('#df-9df4446c-14e2-4ce2-9d96-456e40f7996a button.colab-df-convert');\n",
              "        buttonEl.style.display =\n",
              "          google.colab.kernel.accessAllowed ? 'block' : 'none';\n",
              "\n",
              "        async function convertToInteractive(key) {\n",
              "          const element = document.querySelector('#df-9df4446c-14e2-4ce2-9d96-456e40f7996a');\n",
              "          const dataTable =\n",
              "            await google.colab.kernel.invokeFunction('convertToInteractive',\n",
              "                                                     [key], {});\n",
              "          if (!dataTable) return;\n",
              "\n",
              "          const docLinkHtml = 'Like what you see? Visit the ' +\n",
              "            '<a target=\"_blank\" href=https://colab.research.google.com/notebooks/data_table.ipynb>data table notebook</a>'\n",
              "            + ' to learn more about interactive tables.';\n",
              "          element.innerHTML = '';\n",
              "          dataTable['output_type'] = 'display_data';\n",
              "          await google.colab.output.renderOutput(dataTable, element);\n",
              "          const docLink = document.createElement('div');\n",
              "          docLink.innerHTML = docLinkHtml;\n",
              "          element.appendChild(docLink);\n",
              "        }\n",
              "      </script>\n",
              "    </div>\n",
              "  </div>\n",
              "  "
            ]
          },
          "metadata": {},
          "execution_count": 6
        }
      ]
    },
    {
      "cell_type": "markdown",
      "source": [
        "We are going to create an interactive plot of the distribution of the most dominant topic from the LDA vectorization. We are going to use some Dash tools so that we can visualize the distribution of each topic with respect to the books and to the testament."
      ],
      "metadata": {
        "id": "ycTZ_Cj1EpXv"
      }
    },
    {
      "cell_type": "code",
      "source": [
        "external_stylesheets = ['https://codepen.io/chriddyp/pen/bWLwgP.css']\n",
        "\n",
        "app = JupyterDash(__name__, external_stylesheets=external_stylesheets)\n",
        "\n",
        "app.layout = html.Div(children=[\n",
        "    html.Div(children=[\n",
        "        html.H2(children='Distribution of Predominant Topic', \n",
        "            style={'textAlign': 'center', 'paddingBottom': 30, 'paddingTop': 30}),\n",
        "        html.H6(children='See the distribution by book or by testament for each topic', \n",
        "            style={'textAlign': 'center', 'paddingBottom': 10}),\n",
        "    dcc.Dropdown(id='dropdown', options=[ #Dropdown selector to choose the topic\n",
        "        {'label': 'Topic 1', 'value': 0},\n",
        "        {'label': 'Topic 2', 'value': 1},\n",
        "        {'label': 'Topic 3', 'value': 2},\n",
        "        {'label': 'Topic 4', 'value': 3},\n",
        "        {'label': 'Topic 5', 'value': 4}],\n",
        "        value=0, style={'width': '50%', 'margin': '0 auto', 'marginBottom': '20px'},\n",
        "    ),\n",
        "    dcc.RadioItems(id='radio', options=[ #Radio buttons to choose the label (book or testament)\n",
        "        {'label': 'Book', 'value': 'Book'},\n",
        "        {'label': 'Testament', 'value': 'Testament'}],\n",
        "        value='Book', style={'margin':'0 auto','display':'flex','flexDirection':'row','justifyContent':'center'})],\n",
        "        style={'width':'80%','margin':'0 auto'}),\n",
        "\n",
        "    dcc.Graph(id='performance_plot', style={'height': '500px', 'width': '80%', 'margin': '0 auto'})\n",
        "])\n",
        "\n",
        "@app.callback(\n",
        "    Output(component_id='performance_plot', component_property='figure'),\n",
        "    [Input(component_id='dropdown', component_property='value'),\n",
        "     Input(component_id='radio', component_property='value')])\n",
        "\n",
        "def update_graph(prev_topic,x):\n",
        "    data = df[df['dominant_topic'] == prev_topic]\n",
        "    fig = px.histogram(data, x=x, histfunc='count')\n",
        "    fig.update_layout(title='Distribution by {}'.format(x),\n",
        "        xaxis_title=x, yaxis_title='Count')\n",
        "    return fig"
      ],
      "metadata": {
        "id": "FY2R18wwmWUn"
      },
      "execution_count": 7,
      "outputs": []
    },
    {
      "cell_type": "code",
      "source": [
        "app.run_server(mode=\"inline\")"
      ],
      "metadata": {
        "colab": {
          "base_uri": "https://localhost:8080/",
          "height": 746
        },
        "id": "Y_zr4Hebp0rb",
        "outputId": "efba0cdb-0c95-415f-95df-31cffefecd65"
      },
      "execution_count": 8,
      "outputs": [
        {
          "output_type": "stream",
          "name": "stdout",
          "text": [
            "Dash is running on http://127.0.0.1:8050/\n",
            "\n"
          ]
        },
        {
          "output_type": "stream",
          "name": "stderr",
          "text": [
            "INFO:dash.dash:Dash is running on http://127.0.0.1:8050/\n",
            "\n"
          ]
        },
        {
          "output_type": "display_data",
          "data": {
            "text/plain": [
              "<IPython.core.display.Javascript object>"
            ],
            "application/javascript": [
              "(async (port, path, width, height, cache, element) => {\n",
              "    if (!google.colab.kernel.accessAllowed && !cache) {\n",
              "      return;\n",
              "    }\n",
              "    element.appendChild(document.createTextNode(''));\n",
              "    const url = await google.colab.kernel.proxyPort(port, {cache});\n",
              "    const iframe = document.createElement('iframe');\n",
              "    iframe.src = new URL(path, url).toString();\n",
              "    iframe.height = height;\n",
              "    iframe.width = width;\n",
              "    iframe.style.border = 0;\n",
              "    iframe.allow = [\n",
              "        'accelerometer',\n",
              "        'autoplay',\n",
              "        'camera',\n",
              "        'clipboard-read',\n",
              "        'clipboard-write',\n",
              "        'gyroscope',\n",
              "        'magnetometer',\n",
              "        'microphone',\n",
              "        'serial',\n",
              "        'usb',\n",
              "        'xr-spatial-tracking',\n",
              "    ].join('; ');\n",
              "    element.appendChild(iframe);\n",
              "  })(8050, \"/\", \"100%\", 650, false, window.element)"
            ]
          },
          "metadata": {}
        }
      ]
    },
    {
      "cell_type": "markdown",
      "source": [
        "##Scatterplot of the classifiers results"
      ],
      "metadata": {
        "id": "XZT7Ajs7Xn3g"
      }
    },
    {
      "cell_type": "markdown",
      "source": [
        "We import the datasets we created with the test and validation results for each model"
      ],
      "metadata": {
        "id": "kv1Tq1kZ757l"
      }
    },
    {
      "cell_type": "code",
      "source": [
        "test = pd.read_csv(r'/content/drive/My Drive/ColabNotebooks/MLapps/project/datos/test_results.csv')\n",
        "val = pd.read_csv(r'/content/drive/My Drive/ColabNotebooks/MLapps/project/datos/val_results.csv')\n",
        "print(test)"
      ],
      "metadata": {
        "colab": {
          "base_uri": "https://localhost:8080/"
        },
        "id": "nOa5q_naZtFF",
        "outputId": "5b0d0001-505e-4a1a-9d2b-abedbbae7e32"
      },
      "execution_count": 9,
      "outputs": [
        {
          "output_type": "stream",
          "name": "stdout",
          "text": [
            "                           Model  Accuracy\n",
            "0      test_acc_tfidf_testam_svc  1.000000\n",
            "1        test_acc_bow_testam_svc  0.970464\n",
            "2   test_acc_word2vec_testam_svc  0.801688\n",
            "3    test_acc_doc2vec_testam_svc  0.995781\n",
            "4        test_acc_lda_testam_svc  0.801688\n",
            "5       test_acc_tfidf_testam_nb  0.890295\n",
            "6         test_acc_bow_testam_nb  0.995781\n",
            "7         test_acc_lda_testam_nb  0.801688\n",
            "8       test_acc_tfidf_testam_lr  0.919831\n",
            "9         test_acc_bow_testam_lr  0.962025\n",
            "10   test_acc_word2vec_testam_lr  0.801688\n",
            "11    test_acc_doc2vec_testam_lr  0.995781\n",
            "12        test_acc_lda_testam_lr  0.801688\n",
            "13       test_acc_tfidf_book_svc  0.586498\n",
            "14         test_acc_bow_book_svc  0.548523\n",
            "15    test_acc_word2vec_book_svc  0.080169\n",
            "16     test_acc_doc2vec_book_svc  0.548523\n",
            "17         test_acc_lda_book_svc  0.130802\n",
            "18        test_acc_tfidf_book_nb  0.333333\n",
            "19          test_acc_bow_book_nb  0.514768\n",
            "20          test_acc_lda_book_nb  0.118143\n"
          ]
        }
      ]
    },
    {
      "cell_type": "markdown",
      "source": [
        "As we know the first 13th models are for testament prediction and the others are for book prediction, we change the name of the models to display them later."
      ],
      "metadata": {
        "id": "elmdpLYX8POK"
      }
    },
    {
      "cell_type": "code",
      "source": [
        "test['Model']=['TF-IDF SVC','BoW SVC','Word2Vec SVC','Doc2Vec SVC','LDA SVC','TF-IDF NB',\n",
        "    'BoW NB','LDA NB','TF-IDF LR','BoW LR','Word2Vec LR','Doc2Vec LR','LDA LR','TF-IDF SVC',\n",
        "    'BoW SVC','Word2Vec SVC','Doc2Vec SVC','LDA SVC','TF-IDF NB','BoW NB','LDA NB']\n",
        "\n",
        "val['Model']=['TF-IDF SVC','BoW SVC','Word2Vec SVC','Doc2Vec SVC','LDA SVC','TF-IDF NB',\n",
        "    'BoW NB','LDA NB','TF-IDF LR','BoW LR','Word2Vec LR','Doc2Vec LR','LDA LR','TF-IDF SVC',\n",
        "    'BoW SVC','Word2Vec SVC','Doc2Vec SVC','LDA SVC','TF-IDF NB','BoW NB','LDA NB']"
      ],
      "metadata": {
        "id": "KdFSyvc78Od2"
      },
      "execution_count": 10,
      "outputs": []
    },
    {
      "cell_type": "markdown",
      "source": [
        "This code creates an interactive scatter plot which shows the accuracy of the different classifiers we have used in the prediction task. The plot can be filtered based on whether the classifiers were trained on Testament or Book data. The color the points represent the accuracy score. The user can choose to see either the test or the validation classifications."
      ],
      "metadata": {
        "id": "UGzM_ls0FbrD"
      }
    },
    {
      "cell_type": "code",
      "source": [
        "from dash.html.Data import Data\n",
        "import plotly.graph_objs as go\n",
        "\n",
        "app = JupyterDash(__name__, external_stylesheets=external_stylesheets)\n",
        "\n",
        "app.layout = html.Div([\n",
        "    html.Div([\n",
        "        dcc.RadioItems(\n",
        "            id='label_radio',\n",
        "            options=[\n",
        "                {'label': 'Testament classifiers', 'value': 'testament'},\n",
        "                {'label': 'Book classifiers', 'value': 'book'}\n",
        "            ],\n",
        "            value='testament',\n",
        "            labelStyle={'display': 'inline-block'})]),\n",
        "\n",
        "    html.Div([\n",
        "        dcc.RadioItems(\n",
        "            id='data_radio',\n",
        "            options=[\n",
        "                {'label': 'Test', 'value': 'test'},\n",
        "                {'label': 'Validation', 'value': 'val'}\n",
        "            ],\n",
        "            value='test',\n",
        "            labelStyle={'display': 'inline-block'})]),\n",
        "\n",
        "    dcc.Graph(id='scatterplot')\n",
        "])\n",
        "\n",
        "@app.callback(\n",
        "    Output('scatterplot', 'figure'),\n",
        "    Input('label_radio', 'value'),\n",
        "    Input('data_radio', 'value'))\n",
        "\n",
        "def update_figure(label, data):\n",
        "    if label == 'testament' and data == 'test':\n",
        "        df = test.iloc[0:13, :] #testament classifiers\n",
        "    elif label == 'testament' and data == 'val':\n",
        "        df = val.iloc[0:13, :] #testament classifiers\n",
        "    elif label == 'book' and data == 'test':\n",
        "        df = test.iloc[13:21, :]\n",
        "    else:\n",
        "        df = val.iloc[13:21, :]\n",
        "    \n",
        "    trace = go.Scatter(x=df['Model'], y=df['Accuracy'], mode='markers',\n",
        "        marker=dict(size=20,color=df['Accuracy'], colorscale='Viridis', showscale=True))\n",
        "    \n",
        "    layout = go.Layout(title='Accuracy of Classifiers', xaxis={'title': 'Model'}, yaxis={'title': 'Accuracy'})\n",
        "    fig = go.Figure(data=[trace], layout=layout)\n",
        "    return fig\n"
      ],
      "metadata": {
        "id": "6OUEpu8vhr3s"
      },
      "execution_count": 11,
      "outputs": []
    },
    {
      "cell_type": "code",
      "source": [
        "app.run_server(mode=\"inline\")"
      ],
      "metadata": {
        "colab": {
          "base_uri": "https://localhost:8080/",
          "height": 746
        },
        "id": "WZ05LxkD3Tht",
        "outputId": "73144b40-be7a-4c5c-97b8-fc35da4171bf"
      },
      "execution_count": 12,
      "outputs": [
        {
          "output_type": "stream",
          "name": "stdout",
          "text": [
            "Dash is running on http://127.0.0.1:8050/\n",
            "\n"
          ]
        },
        {
          "output_type": "stream",
          "name": "stderr",
          "text": [
            "INFO:dash.dash:Dash is running on http://127.0.0.1:8050/\n",
            "\n"
          ]
        },
        {
          "output_type": "display_data",
          "data": {
            "text/plain": [
              "<IPython.core.display.Javascript object>"
            ],
            "application/javascript": [
              "(async (port, path, width, height, cache, element) => {\n",
              "    if (!google.colab.kernel.accessAllowed && !cache) {\n",
              "      return;\n",
              "    }\n",
              "    element.appendChild(document.createTextNode(''));\n",
              "    const url = await google.colab.kernel.proxyPort(port, {cache});\n",
              "    const iframe = document.createElement('iframe');\n",
              "    iframe.src = new URL(path, url).toString();\n",
              "    iframe.height = height;\n",
              "    iframe.width = width;\n",
              "    iframe.style.border = 0;\n",
              "    iframe.allow = [\n",
              "        'accelerometer',\n",
              "        'autoplay',\n",
              "        'camera',\n",
              "        'clipboard-read',\n",
              "        'clipboard-write',\n",
              "        'gyroscope',\n",
              "        'magnetometer',\n",
              "        'microphone',\n",
              "        'serial',\n",
              "        'usb',\n",
              "        'xr-spatial-tracking',\n",
              "    ].join('; ');\n",
              "    element.appendChild(iframe);\n",
              "  })(8050, \"/\", \"100%\", 650, false, window.element)"
            ]
          },
          "metadata": {}
        }
      ]
    },
    {
      "cell_type": "markdown",
      "source": [
        "##WordCloud for the model predictions"
      ],
      "metadata": {
        "id": "ugX-8wkAvnPD"
      }
    },
    {
      "cell_type": "markdown",
      "source": [
        "We import the datasets which have all the same structure and the same columns' names."
      ],
      "metadata": {
        "id": "e1e6Ct77BUaO"
      }
    },
    {
      "cell_type": "code",
      "source": [
        "bow_svc = pd.read_csv(r'/content/drive/My Drive/ColabNotebooks/MLapps/project/datos_dash/bow_svc_results.csv')\n",
        "doc2vec_svc = pd.read_csv(r'/content/drive/My Drive/ColabNotebooks/MLapps/project/datos_dash/doc2vec_svc_results.csv')\n",
        "word2vec_svc = pd.read_csv(r'/content/drive/My Drive/ColabNotebooks/MLapps/project/datos_dash/word2vec_svc_results.csv')\n",
        "topic_svc = pd.read_csv(r'/content/drive/My Drive/ColabNotebooks/MLapps/project/datos_dash/topic_svc_results.csv')\n",
        "tfidf_nb = pd.read_csv(r'/content/drive/My Drive/ColabNotebooks/MLapps/project/datos_dash/tfidf_nb_results.csv')\n",
        "bow_nb = pd.read_csv(r'/content/drive/My Drive/ColabNotebooks/MLapps/project/datos_dash/bow_nb_results.csv')\n",
        "topic_nb = pd.read_csv(r'/content/drive/My Drive/ColabNotebooks/MLapps/project/datos_dash/topic_nb_results.csv')\n",
        "print(bow_svc)"
      ],
      "metadata": {
        "colab": {
          "base_uri": "https://localhost:8080/"
        },
        "id": "7sZ64nYBEYB5",
        "outputId": "1d6d2557-796f-4c02-edc8-0946ae53f625"
      },
      "execution_count": 13,
      "outputs": [
        {
          "output_type": "stream",
          "name": "stdout",
          "text": [
            "    Testament Testament_Prediction          Book Book_Prediction\n",
            "0         Old                  Old        isaias          isaias\n",
            "1         New                  New         lucas           lucas\n",
            "2         New                  New   apocalipsis     apocalipsis\n",
            "3         Old                  Old  salmoslibro1    salmoslibro5\n",
            "4         New                  New    filipenses          isaias\n",
            "..        ...                  ...           ...             ...\n",
            "232       Old                  Old     1cronicas         genesis\n",
            "233       New                  Old       romanos         ezequie\n",
            "234       New                  New      santiago          isaias\n",
            "235       Old                  Old      levitico         numeros\n",
            "236       Old                  Old         oseas          isaias\n",
            "\n",
            "[237 rows x 4 columns]\n"
          ]
        }
      ]
    },
    {
      "cell_type": "markdown",
      "source": [
        "We are going to build a wordcloud based on the predicted books that are correctly classified by the previous models. The model to be displayed can be selected with a radio button."
      ],
      "metadata": {
        "id": "U60PIAzZG9h-"
      }
    },
    {
      "cell_type": "code",
      "source": [
        "from wordcloud import WordCloud\n",
        "\n",
        "app = JupyterDash(__name__, external_stylesheets=external_stylesheets)\n",
        "\n",
        "app.layout = html.Div(children=[\n",
        "    html.H1(children='Wordcloud'),\n",
        "    html.H5(children=\"Best predicted books for each model\"),\n",
        "\n",
        "    dcc.RadioItems(id='dataset_selector', options=[\n",
        "            {'label': 'Bag of Words SVC', 'value': 'bow_svc'},\n",
        "            {'label': 'Doc2vec SVC', 'value': 'doc2vec_svc'},\n",
        "            {'label': 'Word2vec SVC', 'value': 'word2vec_svc'},\n",
        "            {'label': 'Topic SVC', 'value': 'topic_svc'},\n",
        "            {'label': 'TF-IDF Naive Bayes', 'value': 'tfidf_nb'},\n",
        "            {'label': 'Bag of Words Naive Bayes', 'value': 'bow_nb'},\n",
        "            {'label': 'Topic Naive Bayes', 'value': 'topic_nb'}],\n",
        "            value='bow_svc'),\n",
        "\n",
        "    dcc.Graph(id='wordcloud', figure={})\n",
        "])\n",
        "\n",
        "@app.callback(\n",
        "    Output('wordcloud', 'figure'),\n",
        "    Input('dataset_selector', 'value'))\n",
        "\n",
        "def update_wordcloud(dataset):\n",
        "    # Choose the dataset\n",
        "    if dataset == 'bow_svc':\n",
        "        data = bow_svc\n",
        "    elif dataset == 'doc2vec_svc':\n",
        "        data = doc2vec_svc\n",
        "    elif dataset == 'word2vec_svc':\n",
        "        data = word2vec_svc\n",
        "    elif dataset == 'topic_svc':\n",
        "        data = topic_svc\n",
        "    elif dataset == 'tfidf_nb':\n",
        "        data = tfidf_nb\n",
        "    elif dataset == 'bow_nb':\n",
        "        data = bow_nb\n",
        "    elif dataset == 'topic_nb':\n",
        "        data = topic_nb\n",
        "    \n",
        "    predicted_correct = data[data['Book'] == data['Book_Prediction']]['Book']\n",
        "    word_freq = {} # dictionary of word frequencies\n",
        "    for book in predicted_correct:\n",
        "        if book in word_freq:\n",
        "            word_freq[book] += 1\n",
        "        else:\n",
        "            word_freq[book] = 1\n",
        "\n",
        "    wordcloud = WordCloud(width=800, height=400, background_color='white').generate_from_frequencies(word_freq)\n",
        "    fig = px.imshow(wordcloud.to_image(), binary_string=True)\n",
        "    fig.update_layout(xaxis=dict(visible=False),yaxis=dict(visible=False))\n",
        "    return fig"
      ],
      "metadata": {
        "id": "DJiykmfEoEfh"
      },
      "execution_count": 15,
      "outputs": []
    },
    {
      "cell_type": "code",
      "source": [
        "app.run_server(mode=\"inline\")"
      ],
      "metadata": {
        "colab": {
          "base_uri": "https://localhost:8080/",
          "height": 746
        },
        "id": "h7Ve8Z9qoc1U",
        "outputId": "2b643dfe-c20a-4196-a4bc-e7adb21d1d97"
      },
      "execution_count": 16,
      "outputs": [
        {
          "output_type": "stream",
          "name": "stdout",
          "text": [
            "Dash is running on http://127.0.0.1:8050/\n",
            "\n"
          ]
        },
        {
          "output_type": "stream",
          "name": "stderr",
          "text": [
            "INFO:dash.dash:Dash is running on http://127.0.0.1:8050/\n",
            "\n"
          ]
        },
        {
          "output_type": "display_data",
          "data": {
            "text/plain": [
              "<IPython.core.display.Javascript object>"
            ],
            "application/javascript": [
              "(async (port, path, width, height, cache, element) => {\n",
              "    if (!google.colab.kernel.accessAllowed && !cache) {\n",
              "      return;\n",
              "    }\n",
              "    element.appendChild(document.createTextNode(''));\n",
              "    const url = await google.colab.kernel.proxyPort(port, {cache});\n",
              "    const iframe = document.createElement('iframe');\n",
              "    iframe.src = new URL(path, url).toString();\n",
              "    iframe.height = height;\n",
              "    iframe.width = width;\n",
              "    iframe.style.border = 0;\n",
              "    iframe.allow = [\n",
              "        'accelerometer',\n",
              "        'autoplay',\n",
              "        'camera',\n",
              "        'clipboard-read',\n",
              "        'clipboard-write',\n",
              "        'gyroscope',\n",
              "        'magnetometer',\n",
              "        'microphone',\n",
              "        'serial',\n",
              "        'usb',\n",
              "        'xr-spatial-tracking',\n",
              "    ].join('; ');\n",
              "    element.appendChild(iframe);\n",
              "  })(8050, \"/\", \"100%\", 650, false, window.element)"
            ]
          },
          "metadata": {}
        }
      ]
    }
  ]
}